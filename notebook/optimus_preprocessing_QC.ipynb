{
 "cells": [
  {
   "cell_type": "markdown",
   "metadata": {},
   "source": [
    "### Analyses of output files from the pipeline optimus v6.0.0\n",
    "#### Aim of this part of analysis is to check if the output file from the pipeline is correct by realizing some preprocessing and visualization"
   ]
  },
  {
   "cell_type": "markdown",
   "metadata": {},
   "source": [
    "#### Load necessary libraries and useful functions"
   ]
  },
  {
   "cell_type": "code",
   "execution_count": 1,
   "metadata": {},
   "outputs": [],
   "source": [
    "%load_ext autoreload\n",
    "%autoreload 2"
   ]
  },
  {
   "cell_type": "code",
   "execution_count": 84,
   "metadata": {},
   "outputs": [],
   "source": [
    "from typing import Union\n",
    "import fsspec\n",
    "import anndata\n",
    "import pandas as pd\n",
    "import scanpy as sc\n",
    "import seaborn as sns\n",
    "import numpy as np\n",
    "from cellbender.remove_background.downstream import anndata_from_h5\n",
    "from upsetplot import from_contents\n",
    "from upsetplot import UpSet\n",
    "from scipy.stats import median_abs_deviation\n",
    "import dalmatian as dm\n",
    "import collections"
   ]
  },
  {
   "cell_type": "code",
   "execution_count": 4,
   "metadata": {},
   "outputs": [],
   "source": [
    "def read_file_from_url(url: str) -> Union[anndata.AnnData, pd.DataFrame]:\n",
    "    \"\"\"Read a file from a URL and return the appropriate data structure.\n",
    "\n",
    "    Parameters\n",
    "    ----------\n",
    "    url : str\n",
    "        The URL of the file to read.\n",
    "\n",
    "    Returns\n",
    "    -------\n",
    "    output : Union[anndata.AnnData, pd.DataFrame]\n",
    "        The data read from the file, which can be either an AnnData object (if \".h5ad\" in url)\n",
    "        or a Pandas DataFrame (if \".csv\" in url).\n",
    "    \"\"\"\n",
    "\n",
    "    with fsspec.open(url) as f:\n",
    "        if \".h5ad\" in url:\n",
    "            output = anndata.read_h5ad(f)\n",
    "        elif \"Summary.csv\" in url:\n",
    "            output = pd.read_csv(f, header=None) #Read the CSV file with the first row as data\n",
    "        elif \".csv\" in url:\n",
    "            output = pd.read_csv(f)\n",
    "        else:\n",
    "            raise ValueError(\"Unsupported file format. Supported formats are .h5ad and .csv.\")\n",
    "    \n",
    "    return output"
   ]
  },
  {
   "cell_type": "code",
   "execution_count": 6,
   "metadata": {},
   "outputs": [],
   "source": [
    "def human_mt_genes_ident(in_adata: anndata.AnnData) -> None:\n",
    "    \"\"\"Identify human mitochondrial genes, add the boolean column \"mt\" to adata.var \n",
    "    This function also check if the adata contains mouse mt genes\n",
    "    NB mitochondrial genes MT- for human data and mt- for mouse data\n",
    "    \n",
    "    Parameters\n",
    "    ----------\n",
    "    in_adata : AnnData\n",
    "        The AnnData object to check.\n",
    "    \n",
    "    Returns\n",
    "    -------\n",
    "    output : None\n",
    "    \"\"\"\n",
    "    \n",
    "    count_true = (in_adata.var_names.str.startswith(\"mt-\")).sum()\n",
    "    \n",
    "    if count_true > 0:\n",
    "        print(\"Mouse mt number\", count_true)\n",
    "    else:\n",
    "        print(\"No mouse mt genes\")\n",
    "        print(\"Adding human mt genes to adat.var\")\n",
    "        in_adata.var[\"mt\"] = in_adata.var_names.str.startswith(\"MT-\")"
   ]
  },
  {
   "cell_type": "markdown",
   "metadata": {},
   "source": [
    "#### Data Loading"
   ]
  },
  {
   "cell_type": "markdown",
   "metadata": {},
   "source": [
    "In this analysis, we load the data from the output file of job (submission ID 94e3d5584-ac31-456a-b046-4c8554108b7d)"
   ]
  },
  {
   "cell_type": "code",
   "execution_count": 7,
   "metadata": {},
   "outputs": [
    {
     "data": {
      "text/html": [
       "<div>\n",
       "<style scoped>\n",
       "    .dataframe tbody tr th:only-of-type {\n",
       "        vertical-align: middle;\n",
       "    }\n",
       "\n",
       "    .dataframe tbody tr th {\n",
       "        vertical-align: top;\n",
       "    }\n",
       "\n",
       "    .dataframe thead th {\n",
       "        text-align: right;\n",
       "    }\n",
       "</style>\n",
       "<table border=\"1\" class=\"dataframe\">\n",
       "  <thead>\n",
       "    <tr style=\"text-align: right;\">\n",
       "      <th></th>\n",
       "      <th>aligner_metrics</th>\n",
       "      <th>bam</th>\n",
       "      <th>cell_calls</th>\n",
       "      <th>cell_metrics</th>\n",
       "      <th>cellbender_cell_barcodes_csv</th>\n",
       "      <th>cellbender_h5_array</th>\n",
       "      <th>cellbender_html_report_array</th>\n",
       "      <th>cellbender_metrics_csv_array</th>\n",
       "      <th>cellbender_summary_pdf</th>\n",
       "      <th>gene_metrics</th>\n",
       "      <th>genomic_reference_version</th>\n",
       "      <th>h5ad_output_file</th>\n",
       "      <th>matrix</th>\n",
       "      <th>matrix_col_index</th>\n",
       "      <th>matrix_row_index</th>\n",
       "      <th>samples</th>\n",
       "    </tr>\n",
       "    <tr>\n",
       "      <th>sample_set_id</th>\n",
       "      <th></th>\n",
       "      <th></th>\n",
       "      <th></th>\n",
       "      <th></th>\n",
       "      <th></th>\n",
       "      <th></th>\n",
       "      <th></th>\n",
       "      <th></th>\n",
       "      <th></th>\n",
       "      <th></th>\n",
       "      <th></th>\n",
       "      <th></th>\n",
       "      <th></th>\n",
       "      <th></th>\n",
       "      <th></th>\n",
       "      <th></th>\n",
       "    </tr>\n",
       "  </thead>\n",
       "  <tbody>\n",
       "    <tr>\n",
       "      <th>optimus_workflow_2023-10-27</th>\n",
       "      <td>gs://fc-447aee29-8362-4c0b-b8d0-b3b10eb9e2a6/s...</td>\n",
       "      <td>gs://fc-447aee29-8362-4c0b-b8d0-b3b10eb9e2a6/s...</td>\n",
       "      <td>gs://fc-447aee29-8362-4c0b-b8d0-b3b10eb9e2a6/s...</td>\n",
       "      <td>gs://fc-447aee29-8362-4c0b-b8d0-b3b10eb9e2a6/s...</td>\n",
       "      <td>gs://fc-447aee29-8362-4c0b-b8d0-b3b10eb9e2a6/s...</td>\n",
       "      <td>[gs://fc-447aee29-8362-4c0b-b8d0-b3b10eb9e2a6/...</td>\n",
       "      <td>[gs://fc-447aee29-8362-4c0b-b8d0-b3b10eb9e2a6/...</td>\n",
       "      <td>[gs://fc-447aee29-8362-4c0b-b8d0-b3b10eb9e2a6/...</td>\n",
       "      <td>gs://fc-447aee29-8362-4c0b-b8d0-b3b10eb9e2a6/s...</td>\n",
       "      <td>gs://fc-447aee29-8362-4c0b-b8d0-b3b10eb9e2a6/s...</td>\n",
       "      <td>gs://fc-447aee29-8362-4c0b-b8d0-b3b10eb9e2a6/s...</td>\n",
       "      <td>gs://fc-447aee29-8362-4c0b-b8d0-b3b10eb9e2a6/s...</td>\n",
       "      <td>gs://fc-447aee29-8362-4c0b-b8d0-b3b10eb9e2a6/s...</td>\n",
       "      <td>gs://fc-447aee29-8362-4c0b-b8d0-b3b10eb9e2a6/s...</td>\n",
       "      <td>gs://fc-447aee29-8362-4c0b-b8d0-b3b10eb9e2a6/s...</td>\n",
       "      <td>[pbmc_10k_v3_S1_L001, pbmc_10k_v3_S1_L002]</td>\n",
       "    </tr>\n",
       "  </tbody>\n",
       "</table>\n",
       "</div>"
      ],
      "text/plain": [
       "                                                               aligner_metrics  \\\n",
       "sample_set_id                                                                    \n",
       "optimus_workflow_2023-10-27  gs://fc-447aee29-8362-4c0b-b8d0-b3b10eb9e2a6/s...   \n",
       "\n",
       "                                                                           bam  \\\n",
       "sample_set_id                                                                    \n",
       "optimus_workflow_2023-10-27  gs://fc-447aee29-8362-4c0b-b8d0-b3b10eb9e2a6/s...   \n",
       "\n",
       "                                                                    cell_calls  \\\n",
       "sample_set_id                                                                    \n",
       "optimus_workflow_2023-10-27  gs://fc-447aee29-8362-4c0b-b8d0-b3b10eb9e2a6/s...   \n",
       "\n",
       "                                                                  cell_metrics  \\\n",
       "sample_set_id                                                                    \n",
       "optimus_workflow_2023-10-27  gs://fc-447aee29-8362-4c0b-b8d0-b3b10eb9e2a6/s...   \n",
       "\n",
       "                                                  cellbender_cell_barcodes_csv  \\\n",
       "sample_set_id                                                                    \n",
       "optimus_workflow_2023-10-27  gs://fc-447aee29-8362-4c0b-b8d0-b3b10eb9e2a6/s...   \n",
       "\n",
       "                                                           cellbender_h5_array  \\\n",
       "sample_set_id                                                                    \n",
       "optimus_workflow_2023-10-27  [gs://fc-447aee29-8362-4c0b-b8d0-b3b10eb9e2a6/...   \n",
       "\n",
       "                                                  cellbender_html_report_array  \\\n",
       "sample_set_id                                                                    \n",
       "optimus_workflow_2023-10-27  [gs://fc-447aee29-8362-4c0b-b8d0-b3b10eb9e2a6/...   \n",
       "\n",
       "                                                  cellbender_metrics_csv_array  \\\n",
       "sample_set_id                                                                    \n",
       "optimus_workflow_2023-10-27  [gs://fc-447aee29-8362-4c0b-b8d0-b3b10eb9e2a6/...   \n",
       "\n",
       "                                                        cellbender_summary_pdf  \\\n",
       "sample_set_id                                                                    \n",
       "optimus_workflow_2023-10-27  gs://fc-447aee29-8362-4c0b-b8d0-b3b10eb9e2a6/s...   \n",
       "\n",
       "                                                                  gene_metrics  \\\n",
       "sample_set_id                                                                    \n",
       "optimus_workflow_2023-10-27  gs://fc-447aee29-8362-4c0b-b8d0-b3b10eb9e2a6/s...   \n",
       "\n",
       "                                                     genomic_reference_version  \\\n",
       "sample_set_id                                                                    \n",
       "optimus_workflow_2023-10-27  gs://fc-447aee29-8362-4c0b-b8d0-b3b10eb9e2a6/s...   \n",
       "\n",
       "                                                              h5ad_output_file  \\\n",
       "sample_set_id                                                                    \n",
       "optimus_workflow_2023-10-27  gs://fc-447aee29-8362-4c0b-b8d0-b3b10eb9e2a6/s...   \n",
       "\n",
       "                                                                        matrix  \\\n",
       "sample_set_id                                                                    \n",
       "optimus_workflow_2023-10-27  gs://fc-447aee29-8362-4c0b-b8d0-b3b10eb9e2a6/s...   \n",
       "\n",
       "                                                              matrix_col_index  \\\n",
       "sample_set_id                                                                    \n",
       "optimus_workflow_2023-10-27  gs://fc-447aee29-8362-4c0b-b8d0-b3b10eb9e2a6/s...   \n",
       "\n",
       "                                                              matrix_row_index  \\\n",
       "sample_set_id                                                                    \n",
       "optimus_workflow_2023-10-27  gs://fc-447aee29-8362-4c0b-b8d0-b3b10eb9e2a6/s...   \n",
       "\n",
       "                                                                samples  \n",
       "sample_set_id                                                            \n",
       "optimus_workflow_2023-10-27  [pbmc_10k_v3_S1_L001, pbmc_10k_v3_S1_L002]  "
      ]
     },
     "metadata": {},
     "output_type": "display_data"
    },
    {
     "data": {
      "text/plain": [
       "Index(['aligner_metrics', 'bam', 'cell_calls', 'cell_metrics',\n",
       "       'cellbender_cell_barcodes_csv', 'cellbender_h5_array',\n",
       "       'cellbender_html_report_array', 'cellbender_metrics_csv_array',\n",
       "       'cellbender_summary_pdf', 'gene_metrics', 'genomic_reference_version',\n",
       "       'h5ad_output_file', 'matrix', 'matrix_col_index', 'matrix_row_index',\n",
       "       'samples'],\n",
       "      dtype='object')"
      ]
     },
     "metadata": {},
     "output_type": "display_data"
    }
   ],
   "source": [
    "TERRA_WS = \"whitelabgx/scRNAseq\"\n",
    "wm = dm.WorkspaceManager(TERRA_WS)\n",
    "output_df = wm.get_sample_sets()\n",
    "display(output_df)\n",
    "display(output_df.columns)"
   ]
  },
  {
   "cell_type": "markdown",
   "metadata": {},
   "source": [
    "h5ad file of optimus (without cellbender correction)"
   ]
  },
  {
   "cell_type": "markdown",
   "metadata": {},
   "source": [
    "###### You can load the h5ad directly form the bucket, or you can download it from the bucket and load it locally."
   ]
  },
  {
   "cell_type": "code",
   "execution_count": null,
   "metadata": {},
   "outputs": [],
   "source": [
    "### Load h5ad file\n",
    "\"\"\"\n",
    "h5ad_url = output_df.loc[output_df.index[0], 'h5ad_output_file']\n",
    "#h5ad_url = output_df.loc['optimus_workflow_2023-10-27', 'h5ad_output_file']\n",
    "adata = read_file_from_url(h5ad_url)\n",
    "\"\"\""
   ]
  },
  {
   "cell_type": "code",
   "execution_count": 8,
   "metadata": {},
   "outputs": [
    {
     "name": "stderr",
     "output_type": "stream",
     "text": [
      "/opt/homebrew/Caskroom/miniconda/base/envs/bulk/lib/python3.9/site-packages/anndata/_core/anndata.py:1899: UserWarning: Variable names are not unique. To make them unique, call `.var_names_make_unique`.\n",
      "  utils.warn_names_duplicates(\"var\")\n"
     ]
    }
   ],
   "source": [
    "### Load the data locally, more quickly\n",
    "input_h5ad = \"../scAtlas/tmp/10k_pbmc_v3.h5ad\"\n",
    "adata = sc.read_h5ad(input_h5ad)"
   ]
  },
  {
   "cell_type": "code",
   "execution_count": 9,
   "metadata": {},
   "outputs": [
    {
     "data": {
      "text/plain": [
       "AnnData object with n_obs × n_vars = 1136912 × 58347\n",
       "    obs: 'cell_names', 'CellID', 'emptydrops_Limited', 'emptydrops_IsCell', 'n_reads', 'noise_reads', 'perfect_molecule_barcodes', 'reads_mapped_exonic', 'reads_mapped_exonic_as', 'reads_mapped_intronic', 'reads_mapped_intronic_as', 'reads_mapped_uniquely', 'reads_mapped_multiple', 'duplicate_reads', 'spliced_reads', 'antisense_reads', 'n_molecules', 'n_fragments', 'fragments_with_single_read_evidence', 'molecules_with_single_read_evidence', 'perfect_cell_barcodes', 'reads_mapped_intergenic', 'reads_unmapped', 'reads_mapped_too_many_loci', 'n_genes', 'genes_detected_multiple_observations', 'emptydrops_Total', 'molecule_barcode_fraction_bases_above_30_mean', 'molecule_barcode_fraction_bases_above_30_variance', 'genomic_reads_fraction_bases_quality_above_30_mean', 'genomic_reads_fraction_bases_quality_above_30_variance', 'genomic_read_quality_mean', 'genomic_read_quality_variance', 'reads_per_molecule', 'reads_per_fragment', 'fragments_per_molecule', 'cell_barcode_fraction_bases_above_30_mean', 'cell_barcode_fraction_bases_above_30_variance', 'n_mitochondrial_genes', 'n_mitochondrial_molecules', 'pct_mitochondrial_molecules', 'emptydrops_LogProb', 'emptydrops_PValue', 'emptydrops_FDR', 'input_id'\n",
       "    var: 'gene_names', 'ensembl_ids', 'Gene', 'n_reads', 'noise_reads', 'perfect_molecule_barcodes', 'reads_mapped_exonic', 'reads_mapped_exonic_as', 'reads_mapped_intronic', 'reads_mapped_intronic_as', 'reads_mapped_uniquely', 'reads_mapped_multiple', 'duplicate_reads', 'spliced_reads', 'antisense_reads', 'molecule_barcode_fraction_bases_above_30_mean', 'molecule_barcode_fraction_bases_above_30_variance', 'genomic_reads_fraction_bases_quality_above_30_mean', 'genomic_reads_fraction_bases_quality_above_30_variance', 'genomic_read_quality_mean', 'genomic_read_quality_variance', 'n_molecules', 'n_fragments', 'reads_per_molecule', 'reads_per_fragment', 'fragments_per_molecule', 'fragments_with_single_read_evidence', 'molecules_with_single_read_evidence', 'number_cells_detected_multiple', 'number_cells_expressing'\n",
       "    uns: 'expression_data_type', 'input_id', 'optimus_output_schema_version', 'pipeline_version'"
      ]
     },
     "execution_count": 9,
     "metadata": {},
     "output_type": "execute_result"
    }
   ],
   "source": [
    "adata"
   ]
  },
  {
   "cell_type": "markdown",
   "metadata": {},
   "source": [
    "###### check barcode and gene names"
   ]
  },
  {
   "cell_type": "code",
   "execution_count": 10,
   "metadata": {},
   "outputs": [
    {
     "data": {
      "text/plain": [
       "Index(['DDX11L1', 'WASH7P', 'MIR6859-1', 'MIR1302-2HG', 'MIR1302-2', 'FAM138A',\n",
       "       'AL627309.6', 'OR4G11P', 'OR4F5', 'AL627309.1',\n",
       "       ...\n",
       "       'pRNA', 'RNA5-8S5', 'pRNA', 'RNA5-8SN2', 'AC007325.3', 'AC007325.1',\n",
       "       'AC007325.4', 'AC007325.2', 'U6', 'U1'],\n",
       "      dtype='object', length=58347)"
      ]
     },
     "execution_count": 10,
     "metadata": {},
     "output_type": "execute_result"
    }
   ],
   "source": [
    "adata.var_names"
   ]
  },
  {
   "cell_type": "code",
   "execution_count": 11,
   "metadata": {},
   "outputs": [
    {
     "data": {
      "text/plain": [
       "Index(['AAACCCAAGAAACACT', 'AAACCCAAGAAACCAT', 'AAACCCAAGAAACTAC',\n",
       "       'AAACCCAAGAAACTCA', 'AAACCCAAGAAACTGT', 'AAACCCAAGAAAGCGA',\n",
       "       'AAACCCAAGAAAGTCT', 'AAACCCAAGAAATCCA', 'AAACCCAAGAACGCGT',\n",
       "       'AAACCCAAGAAGCCAC',\n",
       "       ...\n",
       "       'TTTGTTGTCTTCTAAC', 'TTTGTTGTCTTCTCTT', 'TTTGTTGTCTTCTTCC',\n",
       "       'TTTGTTGTCTTGATTC', 'TTTGTTGTCTTGCGCT', 'TTTGTTGTCTTGGTCC',\n",
       "       'TTTGTTGTCTTGTACC', 'TTTGTTGTCTTTACAC', 'TTTGTTGTCTTTGCGC',\n",
       "       'TTTGTTGTCTTTGCTA'],\n",
       "      dtype='object', length=1136912)"
      ]
     },
     "execution_count": 11,
     "metadata": {},
     "output_type": "execute_result"
    }
   ],
   "source": [
    "adata.obs_names"
   ]
  },
  {
   "cell_type": "code",
   "execution_count": 11,
   "metadata": {},
   "outputs": [
    {
     "name": "stdout",
     "output_type": "stream",
     "text": [
      "0 genes without gene names\n"
     ]
    }
   ],
   "source": [
    "### check if there are no annotated genes (without gene names)\n",
    "no_name_gene = adata.var[adata.var['Gene'] == \"\"]\n",
    "print(f\"{no_name_gene.shape[0]} genes without gene names\")"
   ]
  },
  {
   "cell_type": "code",
   "execution_count": 12,
   "metadata": {},
   "outputs": [
    {
     "name": "stdout",
     "output_type": "stream",
     "text": [
      "Duplicate variable names: ['U6', 'TP73-AS1', 'Y_RNA', 'SNORA77', 'SCARNA16', 'SNORA70', 'SCARNA11', 'SCARNA17', 'SCARNA18', 'snoU13', 'SNORA44', 'SNORA16A', 'SCARNA24', 'Metazoa_SRP', 'uc_338', 'SNORA62', 'SNORA63', 'SNORD46', 'SNORD38B', 'SNORA26', 'SNORA58', 'DLEU2_6', 'DLEU2_5', 'DLEU2_4', 'DLEU2_3', 'DLEU2_2', 'DLEU2_1', 'SNORA31', 'SNORA2', 'SNORD81', 'SNORA51', 'SNORA25', 'SNORA42', 'U3', 'SNORA40', '7SK', 'U1', 'U2', '5S_rRNA', 'U6atac', 'U4', 'SNORD59', 'SCARNA4', 'SNORD64', 'ACA64', 'RGS5', 'SCARNA20', 'U7', 'SNORA67', 'SNORA72', 'SNORD60', 'SNORD116', 'U8', 'LINC01115', 'SNORD18', 'SCARNA21', 'SNORA36', 'SNORD75', 'TMEM247', 'STPG4', 'SNORA75', 'SNORA12', 'SNORD78', 'ACA59', 'SNORA74', 'snoU109', 'SNORA19', 'ACTR3BP2', 'DAOA-AS1_2', 'SCARNA15', 'SNORA48', 'SNORD56', 'PDE11A', 'SNORA43', 'SNORA17', 'PCGEM1', 'SNORA4', 'SNORD70', 'SNORD11', 'SNORA1', 'Vault', 'SNORD51', 'SCARNA6', 'SNORD39', 'LINC01238', 'GHRLOS', 'SNORD5', 'SNORA64', 'SNORD77', 'PRSS50', 'CYB561D2', 'SNORD19B', 'SNORD19', 'SNORD63', 'PRICKLE2-AS1', 'Clostridiales-1', 'TUSC7', 'LINC00901', 'TXNRD3NB', 'SNORA24', 'SNORA33', 'PISRT1', 'CLRN1-AS1', 'SNORA18', 'SNORA81', 'SNORD66', 'SNORD2', 'SNORD74', 'SNORA3', 'SNORD50', 'SNORD42', 'snoU2_19', 'SNORA11', 'SNORD65', 'SNORA57', 'SNORA76', 'SNORA50D', 'ARL14EPL', 'snoZ6', 'MATR3', 'SNORD45', 'SNORA27', 'SNORA68', 'SNORD95', 'HULC', 'HIST1H3D', 'ZNRD1-AS1_2', 'SNORA38', 'SNORA8', 'SNORA73', 'SOGA3', 'HYMAI', 'RAET1E-AS1', 'SNORA20', 'POLR2J4', 'SNORA9', 'SNORA15', 'SNORA22', 'RABGEF1', 'POLR2J2', 'KBTBD11-OT1', 'SNORD38', 'SNORD112', 'pRNA', 'SNORA7', 'MAL2', 'SNORA32', 'LYNX1', 'RMRP', 'LINC00484', 'LINC01505', 'MIR219A2', 'SNORA17B', 'SNORD115', 'CTSLP2', 'DNAJC9-AS1', 'BMS1P4', 'SNORA71', 'FAS-AS1', 'H19_1', 'H19_2', 'snoMBII-202', 'SNORD67', 'SNORD22', 'SNORD30', 'SNORD27', 'mascRNA-menRNA', 'MALAT1', 'ALG1L9P', 'H19_3', 'snoU2-30', 'SDHD', 'ITFG2-AS1', 'EMG1', 'OR7E47P', 'LINC01598', 'LINC01481', 'snoMe28S-Am2634', 'SPATA13', 'SNORA16', 'SNORD37', '5_8S_rRNA', 'LINC01297', 'SNORD41', 'SFTA3', 'SNORA46', 'SNORD113', 'GOLGA8M', 'GABARAPL3', 'SNORA30', 'SNORA50A', 'COG8', 'SNORD111', 'SNORD33', 'SNORA69', 'SNORD3D', 'SNORD23', 'UCA1', 'HAR1A', 'RNA5-8SN5', 'DUXAP8', 'DGCR5', 'MIR130B', 'LINC01422', 'RFPL3-AS1_1', 'SNORA50B', 'ELFN2', 'SCO2', 'AL954722.1', 'PLCXD1', 'GTPBP6', 'LINC00685', 'PPP2R3B', 'AL732314.6', 'AL732314.4', 'FABP5P13', 'KRT18P53', 'SHOX', 'AL672277.1', 'RPL14P5', 'CRLF2', 'CSF2RA', 'MIR3690', 'RNA5SP498', 'IL3RA', 'SLC25A6', 'LINC00106', 'ASMTL-AS1', 'ASMTL', 'P2RY8', 'AKAP17A', 'ASMT', 'AL683807.1', 'AL683807.2', 'DHRSX', 'DHRSX-IT1', 'ZBED1', 'MIR6089', 'CD99P1', 'LINC00102', 'CD99', 'SNORD3E', 'TMSB15B', 'SNORA35', 'CDR1', 'SPRY3', 'AMD1P2', 'DPH3P2', 'VAMP7', 'ELOCP24', 'TRPC6P', 'IL9R', 'AJ271736.1', 'WASIR1', 'WASH6P', 'DDX11L16']\n",
      "Number of duplicate variable: 256\n"
     ]
    }
   ],
   "source": [
    "### Find duplicate variable (gene) names\n",
    "var_names = adata.var_names\n",
    "duplicates = [item for item, count in collections.Counter(var_names).items() if count > 1]\n",
    "\n",
    "print(\"Duplicate variable names:\", duplicates)\n",
    "print(\"Number of duplicate variable:\", len(duplicates))"
   ]
  },
  {
   "cell_type": "markdown",
   "metadata": {},
   "source": [
    "###### Not all variable names are unique: This indicates that some variables (=genes) appear more than once which can lead to errors or unintended behavior for downstream analysis tasks. We execute the proposed function var_names_make_unique() which makes the variable name unique by appending a number string to each duplicate index element: ‘1’, ‘2’, etc."
   ]
  },
  {
   "cell_type": "code",
   "execution_count": 13,
   "metadata": {},
   "outputs": [
    {
     "name": "stderr",
     "output_type": "stream",
     "text": [
      "/opt/homebrew/Caskroom/miniconda/base/envs/bulk/lib/python3.9/site-packages/anndata/utils.py:260: UserWarning: Suffix used (-[0-9]+) to deduplicate index values may make index values difficult to interpret. There values with a similar suffixes in the index. Consider using a different delimiter by passing `join={delimiter}`Example key collisions generated by the make_index_unique algorithm: ['SNORD116-1', 'SNORD116-2', 'SNORD116-3', 'SNORD116-4', 'SNORD116-5']\n",
      "  warnings.warn(\n"
     ]
    }
   ],
   "source": [
    "### Variable names are not unique. To make them unique\n",
    "adata.var_names_make_unique()"
   ]
  },
  {
   "cell_type": "markdown",
   "metadata": {},
   "source": [
    "Duplicate reads is zero for each cell: Optimus dev team will investigate that issue and create a GitHub issue for it."
   ]
  },
  {
   "cell_type": "code",
   "execution_count": 14,
   "metadata": {},
   "outputs": [
    {
     "data": {
      "text/plain": [
       "0"
      ]
     },
     "metadata": {},
     "output_type": "display_data"
    }
   ],
   "source": [
    "display(adata.obs['duplicate_reads'].sum())"
   ]
  },
  {
   "cell_type": "markdown",
   "metadata": {},
   "source": [
    "The following metrics are zero for each cell: check in bam file"
   ]
  },
  {
   "cell_type": "code",
   "execution_count": 38,
   "metadata": {},
   "outputs": [
    {
     "data": {
      "text/plain": [
       "0"
      ]
     },
     "metadata": {},
     "output_type": "display_data"
    },
    {
     "data": {
      "text/plain": [
       "0"
      ]
     },
     "metadata": {},
     "output_type": "display_data"
    },
    {
     "data": {
      "text/plain": [
       "0"
      ]
     },
     "metadata": {},
     "output_type": "display_data"
    },
    {
     "data": {
      "text/plain": [
       "0"
      ]
     },
     "metadata": {},
     "output_type": "display_data"
    },
    {
     "data": {
      "text/plain": [
       "0"
      ]
     },
     "metadata": {},
     "output_type": "display_data"
    },
    {
     "data": {
      "text/plain": [
       "0"
      ]
     },
     "metadata": {},
     "output_type": "display_data"
    },
    {
     "data": {
      "text/plain": [
       "AAACCCAAGAAACACT     1\n",
       "AAACCCAAGAAACCAT     1\n",
       "AAACCCAAGAAACTAC     3\n",
       "AAACCCAAGAAACTCA    76\n",
       "AAACCCAAGAAACTGT     2\n",
       "                    ..\n",
       "TTTGTTGTCTTGGTCC     1\n",
       "TTTGTTGTCTTGTACC     1\n",
       "TTTGTTGTCTTTACAC     1\n",
       "TTTGTTGTCTTTGCGC    27\n",
       "TTTGTTGTCTTTGCTA     3\n",
       "Name: reads_mapped_exonic, Length: 1136912, dtype: int64"
      ]
     },
     "metadata": {},
     "output_type": "display_data"
    }
   ],
   "source": [
    "#display(adata.obs['reads_mapped_exonic_as'].describe())\n",
    "display(adata.obs['reads_mapped_intronic'].sum())\n",
    "display(adata.obs['reads_mapped_intronic_as'].sum())\n",
    "display(adata.obs['reads_mapped_exonic_as'].sum())\n",
    "display(adata.obs['noise_reads'].sum())\n",
    "display(adata.obs['antisense_reads'].sum())\n",
    "display(adata.obs['reads_mapped_intergenic'].sum())\n",
    "\n",
    "display(adata.obs['reads_mapped_exonic'])"
   ]
  },
  {
   "cell_type": "code",
   "execution_count": null,
   "metadata": {
    "vscode": {
     "languageId": "shellscript"
    }
   },
   "outputs": [],
   "source": [
    "# ! brew install samtools"
   ]
  },
  {
   "cell_type": "markdown",
   "metadata": {},
   "source": [
    "###### Check the sF tag to understand why the metrics in above is zero"
   ]
  },
  {
   "cell_type": "code",
   "execution_count": 37,
   "metadata": {
    "vscode": {
     "languageId": "shellscript"
    }
   },
   "outputs": [
    {
     "name": "stdout",
     "output_type": "stream",
     "text": [
      "sF:B:i,-1,-1\n",
      "sF:B:i,0,0\n",
      "sF:B:i,1,1\n",
      "sF:B:i,1,10\n",
      "sF:B:i,1,11\n",
      "sF:B:i,1,12\n",
      "sF:B:i,1,2\n",
      "sF:B:i,1,22\n",
      "sF:B:i,1,3\n",
      "sF:B:i,1,4\n",
      "sF:B:i,1,5\n",
      "sF:B:i,1,6\n",
      "sF:B:i,1,7\n",
      "sF:B:i,1,8\n",
      "sF:B:i,1,9\n"
     ]
    }
   ],
   "source": [
    "# ! samtools view -h /Users/xiliu/Documents/analysis/terraPipelines/scAtlas/tmp/Optimus_MergeBam_10k_pbmc_v3.bam | grep \"sF:\" | cut -f 19 | sort | uniq "
   ]
  },
  {
   "cell_type": "markdown",
   "metadata": {},
   "source": [
    "#### STARsolo summary"
   ]
  },
  {
   "cell_type": "code",
   "execution_count": 12,
   "metadata": {},
   "outputs": [
    {
     "data": {
      "text/html": [
       "<div>\n",
       "<style scoped>\n",
       "    .dataframe tbody tr th:only-of-type {\n",
       "        vertical-align: middle;\n",
       "    }\n",
       "\n",
       "    .dataframe tbody tr th {\n",
       "        vertical-align: top;\n",
       "    }\n",
       "\n",
       "    .dataframe thead th {\n",
       "        text-align: right;\n",
       "    }\n",
       "</style>\n",
       "<table border=\"1\" class=\"dataframe\">\n",
       "  <thead>\n",
       "    <tr style=\"text-align: right;\">\n",
       "      <th></th>\n",
       "      <th>0</th>\n",
       "      <th>1</th>\n",
       "    </tr>\n",
       "  </thead>\n",
       "  <tbody>\n",
       "    <tr>\n",
       "      <th>0</th>\n",
       "      <td>Number of Reads</td>\n",
       "      <td>319930655</td>\n",
       "    </tr>\n",
       "    <tr>\n",
       "      <th>1</th>\n",
       "      <td>Reads With Valid Barcodes</td>\n",
       "      <td>0.973214</td>\n",
       "    </tr>\n",
       "    <tr>\n",
       "      <th>2</th>\n",
       "      <td>Sequencing Saturation</td>\n",
       "      <td>0.667937</td>\n",
       "    </tr>\n",
       "    <tr>\n",
       "      <th>3</th>\n",
       "      <td>Q30 Bases in CB+UMI</td>\n",
       "      <td>0.931203</td>\n",
       "    </tr>\n",
       "    <tr>\n",
       "      <th>4</th>\n",
       "      <td>Q30 Bases in RNA read</td>\n",
       "      <td>0.901736</td>\n",
       "    </tr>\n",
       "    <tr>\n",
       "      <th>5</th>\n",
       "      <td>Reads Mapped to Genome: Unique+Multiple</td>\n",
       "      <td>0.961733</td>\n",
       "    </tr>\n",
       "    <tr>\n",
       "      <th>6</th>\n",
       "      <td>Reads Mapped to Genome: Unique</td>\n",
       "      <td>0.889793</td>\n",
       "    </tr>\n",
       "    <tr>\n",
       "      <th>7</th>\n",
       "      <td>Reads Mapped to Gene: Unique+Multiple Gene</td>\n",
       "      <td>NoMulti</td>\n",
       "    </tr>\n",
       "    <tr>\n",
       "      <th>8</th>\n",
       "      <td>Reads Mapped to Gene: Unique Gene</td>\n",
       "      <td>0.47964</td>\n",
       "    </tr>\n",
       "    <tr>\n",
       "      <th>9</th>\n",
       "      <td>Estimated Number of Cells</td>\n",
       "      <td>5356</td>\n",
       "    </tr>\n",
       "    <tr>\n",
       "      <th>10</th>\n",
       "      <td>Unique Reads in Cells Mapped to Gene</td>\n",
       "      <td>142926839</td>\n",
       "    </tr>\n",
       "    <tr>\n",
       "      <th>11</th>\n",
       "      <td>Fraction of Unique Reads in Cells</td>\n",
       "      <td>0.931413</td>\n",
       "    </tr>\n",
       "    <tr>\n",
       "      <th>12</th>\n",
       "      <td>Mean Reads per Cell</td>\n",
       "      <td>26685</td>\n",
       "    </tr>\n",
       "    <tr>\n",
       "      <th>13</th>\n",
       "      <td>Median Reads per Cell</td>\n",
       "      <td>22374</td>\n",
       "    </tr>\n",
       "    <tr>\n",
       "      <th>14</th>\n",
       "      <td>UMIs in Cells</td>\n",
       "      <td>45321020</td>\n",
       "    </tr>\n",
       "    <tr>\n",
       "      <th>15</th>\n",
       "      <td>Mean UMI per Cell</td>\n",
       "      <td>8461</td>\n",
       "    </tr>\n",
       "    <tr>\n",
       "      <th>16</th>\n",
       "      <td>Median UMI per Cell</td>\n",
       "      <td>6979</td>\n",
       "    </tr>\n",
       "    <tr>\n",
       "      <th>17</th>\n",
       "      <td>Mean Gene per Cell</td>\n",
       "      <td>2371</td>\n",
       "    </tr>\n",
       "    <tr>\n",
       "      <th>18</th>\n",
       "      <td>Median Gene per Cell</td>\n",
       "      <td>2065</td>\n",
       "    </tr>\n",
       "    <tr>\n",
       "      <th>19</th>\n",
       "      <td>Total Gene Detected</td>\n",
       "      <td>29469</td>\n",
       "    </tr>\n",
       "  </tbody>\n",
       "</table>\n",
       "</div>"
      ],
      "text/plain": [
       "                                             0          1\n",
       "0                              Number of Reads  319930655\n",
       "1                    Reads With Valid Barcodes   0.973214\n",
       "2                        Sequencing Saturation   0.667937\n",
       "3                          Q30 Bases in CB+UMI   0.931203\n",
       "4                        Q30 Bases in RNA read   0.901736\n",
       "5      Reads Mapped to Genome: Unique+Multiple   0.961733\n",
       "6               Reads Mapped to Genome: Unique   0.889793\n",
       "7   Reads Mapped to Gene: Unique+Multiple Gene    NoMulti\n",
       "8            Reads Mapped to Gene: Unique Gene    0.47964\n",
       "9                    Estimated Number of Cells       5356\n",
       "10        Unique Reads in Cells Mapped to Gene  142926839\n",
       "11           Fraction of Unique Reads in Cells   0.931413\n",
       "12                         Mean Reads per Cell      26685\n",
       "13                       Median Reads per Cell      22374\n",
       "14                               UMIs in Cells   45321020\n",
       "15                           Mean UMI per Cell       8461\n",
       "16                         Median UMI per Cell       6979\n",
       "17                          Mean Gene per Cell       2371\n",
       "18                        Median Gene per Cell       2065\n",
       "19                         Total Gene Detected      29469"
      ]
     },
     "metadata": {},
     "output_type": "display_data"
    }
   ],
   "source": [
    "### Load STARsolo summary file\n",
    "star_summary_url = \"gs://fc-447aee29-8362-4c0b-b8d0-b3b10eb9e2a6/submissions/96ae8c73-2b91-4a30-b188-2a25a341a459/Optimus/be8bc5cc-dfaf-4e7f-905c-e92735750bb5/call-STARsoloFastq/shard-1/cacheCopy/Summary.csv\"\n",
    "star_summary = read_file_from_url(star_summary_url)\n",
    "display(star_summary)"
   ]
  },
  {
   "cell_type": "markdown",
   "metadata": {},
   "source": [
    "#### Check if we have zero counts droplets"
   ]
  },
  {
   "cell_type": "code",
   "execution_count": 13,
   "metadata": {},
   "outputs": [
    {
     "name": "stdout",
     "output_type": "stream",
     "text": [
      "0 zero count cell\n"
     ]
    }
   ],
   "source": [
    "print(f\"{adata.obs.loc[adata.obs.n_reads == 0, :].shape[0]} zero count cell\")"
   ]
  },
  {
   "cell_type": "code",
   "execution_count": null,
   "metadata": {},
   "outputs": [],
   "source": [
    "\"\"\"\n",
    "# the same as above\n",
    "no_0count_cell = adata.obs.loc[adata.obs.n_reads != 0, :]\n",
    "no_0count_cell\n",
    "\"\"\""
   ]
  },
  {
   "cell_type": "markdown",
   "metadata": {},
   "source": [
    "#### Ambient RNA detection comparison"
   ]
  },
  {
   "cell_type": "markdown",
   "metadata": {},
   "source": [
    "EmptyDrop results and filtering"
   ]
  },
  {
   "cell_type": "code",
   "execution_count": 16,
   "metadata": {},
   "outputs": [],
   "source": [
    "# Fetch the total number of barcodes\n",
    "total_nb_barcodes = adata.n_obs"
   ]
  },
  {
   "cell_type": "code",
   "execution_count": 15,
   "metadata": {},
   "outputs": [
    {
     "name": "stdout",
     "output_type": "stream",
     "text": [
      "11031 barcodes are identified as cells by emptydrops with FDR < 0.01\n",
      "10710 barcodes are identified as cells by emptydrops with FDR < 0.001\n"
     ]
    }
   ],
   "source": [
    "### fetch the rows where the column emptydrops_IsCell is True\n",
    "emptydrops_IsCell_true = adata.obs.loc[adata.obs.emptydrops_IsCell, :]\n",
    "#emptydrops_IsCell_true= adata.obs[adata.obs['emptydrops_IsCell'] == True]\n",
    "emptydrops_IsCell_true_FDR001 = emptydrops_IsCell_true.loc[emptydrops_IsCell_true.emptydrops_FDR < 0.001, :]\n",
    "\n",
    "print(f\"{emptydrops_IsCell_true.shape[0]} barcodes are identified as cells by emptydrops with FDR < 0.01\")\n",
    "print(f\"{emptydrops_IsCell_true_FDR001.shape[0]} barcodes are identified as cells by emptydrops with FDR < 0.001\")"
   ]
  },
  {
   "cell_type": "code",
   "execution_count": 17,
   "metadata": {},
   "outputs": [
    {
     "name": "stdout",
     "output_type": "stream",
     "text": [
      "0.97 % of barcodes survived after emptydrops filtering with FDR < 0.01\n"
     ]
    }
   ],
   "source": [
    "# Calculate the barcode surviving pct\n",
    "cell_contain_cb_pct = emptydrops_IsCell_true.shape[0] * 100 / total_nb_barcodes\n",
    "print(f\"{cell_contain_cb_pct:.2f} % of barcodes survived after emptydrops filtering with FDR < 0.01\")\n"
   ]
  },
  {
   "cell_type": "markdown",
   "metadata": {},
   "source": [
    "Hard thresholding and emptyDrops comparison"
   ]
  },
  {
   "cell_type": "code",
   "execution_count": 18,
   "metadata": {},
   "outputs": [
    {
     "name": "stdout",
     "output_type": "stream",
     "text": [
      "1136912 barcodes in this dataset\n",
      "12283 barcodes have at least 500 reads\n",
      "10757 barcodes have at least 500 reads and identified as cells by emptydrops with FDR < 0.01\n",
      "10590 barcodes have at least 500 reads and identified as cells by emptydrops with FDR < 0.001\n"
     ]
    }
   ],
   "source": [
    "barcodes_sup500, _ = sc.pp.filter_cells(adata, min_counts=500, inplace=False)\n",
    "adata_BCsup500 = adata[barcodes_sup500, :]\n",
    "\n",
    "adata_BCsup500_emptydrops_IsCell_true = adata_BCsup500 .obs.loc[adata_BCsup500.obs.emptydrops_IsCell, :]\n",
    "\n",
    "adata_BCsup500_emptydrops_IsCell_true_FDR001 = adata_BCsup500_emptydrops_IsCell_true.loc[\n",
    "    adata_BCsup500_emptydrops_IsCell_true.emptydrops_FDR < 0.001, :\n",
    "    ]\n",
    "\n",
    "print(f\"{total_nb_barcodes} barcodes in this dataset\")\n",
    "print(f\"{adata_BCsup500.shape[0]} barcodes have at least 500 reads\")\n",
    "print(f\"{adata_BCsup500_emptydrops_IsCell_true.shape[0]} barcodes have at least 500 reads and identified as cells by emptydrops with FDR < 0.01\")\n",
    "print(f\"{adata_BCsup500_emptydrops_IsCell_true_FDR001.shape[0]} barcodes have at least 500 reads and identified as cells by emptydrops with FDR < 0.001\")"
   ]
  },
  {
   "cell_type": "markdown",
   "metadata": {},
   "source": [
    "Cellbender results"
   ]
  },
  {
   "cell_type": "code",
   "execution_count": 19,
   "metadata": {},
   "outputs": [
    {
     "data": {
      "text/plain": [
       "['gs://fc-447aee29-8362-4c0b-b8d0-b3b10eb9e2a6/submissions/4e3d5584-ac31-456a-b046-4c8554108b7d/Optimus/61a7a407-6620-4a45-b7e9-25f5c2a9bf21/call-cellbender_remove_background/cacheCopy/glob-a06ff40aeb9faf0d800aaf11b27f640c/10k_pbmc_v3_out.h5',\n",
       " 'gs://fc-447aee29-8362-4c0b-b8d0-b3b10eb9e2a6/submissions/4e3d5584-ac31-456a-b046-4c8554108b7d/Optimus/61a7a407-6620-4a45-b7e9-25f5c2a9bf21/call-cellbender_remove_background/cacheCopy/glob-a06ff40aeb9faf0d800aaf11b27f640c/10k_pbmc_v3_out_filtered.h5',\n",
       " 'gs://fc-447aee29-8362-4c0b-b8d0-b3b10eb9e2a6/submissions/4e3d5584-ac31-456a-b046-4c8554108b7d/Optimus/61a7a407-6620-4a45-b7e9-25f5c2a9bf21/call-cellbender_remove_background/cacheCopy/glob-a06ff40aeb9faf0d800aaf11b27f640c/10k_pbmc_v3_out_posterior.h5']"
      ]
     },
     "execution_count": 19,
     "metadata": {},
     "output_type": "execute_result"
    }
   ],
   "source": [
    "### Fetch the links of CellBender h5 files from Terra\n",
    "h5_url = output_df.loc[output_df.index[0], 'cellbender_h5_array']h5_url"
   ]
  },
  {
   "cell_type": "code",
   "execution_count": 42,
   "metadata": {},
   "outputs": [
    {
     "name": "stdout",
     "output_type": "stream",
     "text": [
      "Assuming we are loading a \"filtered\" file that contains only cells.\n"
     ]
    },
    {
     "name": "stderr",
     "output_type": "stream",
     "text": [
      "/opt/homebrew/Caskroom/miniconda/base/envs/bulk/lib/python3.9/site-packages/anndata/_core/anndata.py:522: FutureWarning: The dtype argument is deprecated and will be removed in late 2024.\n",
      "  warnings.warn(\n",
      "/opt/homebrew/Caskroom/miniconda/base/envs/bulk/lib/python3.9/site-packages/anndata/_core/anndata.py:522: FutureWarning: The dtype argument is deprecated and will be removed in late 2024.\n",
      "  warnings.warn(\n"
     ]
    },
    {
     "data": {
      "text/plain": [
       "AnnData object with n_obs × n_vars = 3605 × 58347\n",
       "    obs: 'background_fraction', 'cell_probability', 'cell_size', 'droplet_efficiency'\n",
       "    var: 'ambient_expression', 'feature_type', 'genome', 'gene_id', 'cellbender_analyzed'\n",
       "    uns: 'barcode_indices_for_latents', 'cell_size_lognormal_std', 'empty_droplet_size_lognormal_loc', 'empty_droplet_size_lognormal_scale', 'swapping_fraction_dist_params', 'barcodes_analyzed', 'barcodes_analyzed_inds', 'estimator', 'features_analyzed_inds', 'fraction_data_used_for_testing', 'learning_curve_learning_rate_epoch', 'learning_curve_learning_rate_value', 'learning_curve_test_elbo', 'learning_curve_test_epoch', 'learning_curve_train_elbo', 'learning_curve_train_epoch', 'target_false_positive_rate'\n",
       "    obsm: 'gene_expression_encoding'"
      ]
     },
     "metadata": {},
     "output_type": "display_data"
    },
    {
     "data": {
      "text/plain": [
       "AnnData object with n_obs × n_vars = 4118 × 58347\n",
       "    obs: 'background_fraction', 'cell_probability', 'cell_size', 'droplet_efficiency'\n",
       "    var: 'ambient_expression', 'feature_type', 'genome', 'gene_id', 'cellbender_analyzed'\n",
       "    uns: 'cell_size_lognormal_std', 'empty_droplet_size_lognormal_loc', 'empty_droplet_size_lognormal_scale', 'swapping_fraction_dist_params', 'estimator', 'features_analyzed_inds', 'fraction_data_used_for_testing', 'learning_curve_learning_rate_epoch', 'learning_curve_learning_rate_value', 'learning_curve_test_elbo', 'learning_curve_test_epoch', 'learning_curve_train_elbo', 'learning_curve_train_epoch', 'target_false_positive_rate'\n",
       "    obsm: 'gene_expression_encoding'"
      ]
     },
     "metadata": {},
     "output_type": "display_data"
    }
   ],
   "source": [
    "# Load data\n",
    "adata_cellbender_out_filtered = anndata_from_h5('/Users/xiliu/Documents/analysis/terraPipelines/scAtlas/tmp/10k_pbmc_v3_out_filtered.h5')\n",
    "adata_cellbender_out = anndata_from_h5('/Users/xiliu/Documents/analysis/terraPipelines/scAtlas/tmp/10k_pbmc_v3_out.h5')\n",
    "#adata_cellbender_out_posterior = anndata_from_h5('/Users/xiliu/Documents/analysis/terraPipelines/scAtlas/tmp/10k_pbmc_v3_out_posterior.h5')\n",
    "\n",
    "display(adata_cellbender_out_filtered)\n",
    "display(adata_cellbender_out)\n",
    "#display(adata_cellbender_out_posterior)\n"
   ]
  },
  {
   "cell_type": "code",
   "execution_count": 43,
   "metadata": {},
   "outputs": [
    {
     "data": {
      "text/html": [
       "<div>\n",
       "<style scoped>\n",
       "    .dataframe tbody tr th:only-of-type {\n",
       "        vertical-align: middle;\n",
       "    }\n",
       "\n",
       "    .dataframe tbody tr th {\n",
       "        vertical-align: top;\n",
       "    }\n",
       "\n",
       "    .dataframe thead th {\n",
       "        text-align: right;\n",
       "    }\n",
       "</style>\n",
       "<table border=\"1\" class=\"dataframe\">\n",
       "  <thead>\n",
       "    <tr style=\"text-align: right;\">\n",
       "      <th></th>\n",
       "      <th>ambient_expression</th>\n",
       "      <th>feature_type</th>\n",
       "      <th>genome</th>\n",
       "      <th>gene_id</th>\n",
       "      <th>cellbender_analyzed</th>\n",
       "    </tr>\n",
       "    <tr>\n",
       "      <th>gene_name</th>\n",
       "      <th></th>\n",
       "      <th></th>\n",
       "      <th></th>\n",
       "      <th></th>\n",
       "      <th></th>\n",
       "    </tr>\n",
       "  </thead>\n",
       "  <tbody>\n",
       "    <tr>\n",
       "      <th>DDX11L1</th>\n",
       "      <td>0.000000</td>\n",
       "      <td>NA</td>\n",
       "      <td>NA</td>\n",
       "      <td>ENSG00000223972.5</td>\n",
       "      <td>False</td>\n",
       "    </tr>\n",
       "    <tr>\n",
       "      <th>WASH7P</th>\n",
       "      <td>0.000000</td>\n",
       "      <td>NA</td>\n",
       "      <td>NA</td>\n",
       "      <td>ENSG00000227232.5</td>\n",
       "      <td>False</td>\n",
       "    </tr>\n",
       "    <tr>\n",
       "      <th>MIR6859-1</th>\n",
       "      <td>0.000000</td>\n",
       "      <td>NA</td>\n",
       "      <td>NA</td>\n",
       "      <td>ENSG00000278267.1</td>\n",
       "      <td>False</td>\n",
       "    </tr>\n",
       "    <tr>\n",
       "      <th>MIR1302-2HG</th>\n",
       "      <td>0.000000</td>\n",
       "      <td>NA</td>\n",
       "      <td>NA</td>\n",
       "      <td>ENSG00000243485.5</td>\n",
       "      <td>False</td>\n",
       "    </tr>\n",
       "    <tr>\n",
       "      <th>MIR1302-2</th>\n",
       "      <td>0.000000</td>\n",
       "      <td>NA</td>\n",
       "      <td>NA</td>\n",
       "      <td>ENSG00000284332.1</td>\n",
       "      <td>False</td>\n",
       "    </tr>\n",
       "    <tr>\n",
       "      <th>...</th>\n",
       "      <td>...</td>\n",
       "      <td>...</td>\n",
       "      <td>...</td>\n",
       "      <td>...</td>\n",
       "      <td>...</td>\n",
       "    </tr>\n",
       "    <tr>\n",
       "      <th>AC007325.1</th>\n",
       "      <td>0.000000</td>\n",
       "      <td>NA</td>\n",
       "      <td>NA</td>\n",
       "      <td>ENSG00000276017.1</td>\n",
       "      <td>False</td>\n",
       "    </tr>\n",
       "    <tr>\n",
       "      <th>AC007325.4</th>\n",
       "      <td>0.000002</td>\n",
       "      <td>NA</td>\n",
       "      <td>NA</td>\n",
       "      <td>ENSG00000278817.1</td>\n",
       "      <td>True</td>\n",
       "    </tr>\n",
       "    <tr>\n",
       "      <th>AC007325.2</th>\n",
       "      <td>0.000000</td>\n",
       "      <td>NA</td>\n",
       "      <td>NA</td>\n",
       "      <td>ENSG00000277196.4</td>\n",
       "      <td>False</td>\n",
       "    </tr>\n",
       "    <tr>\n",
       "      <th>U6</th>\n",
       "      <td>0.000000</td>\n",
       "      <td>NA</td>\n",
       "      <td>NA</td>\n",
       "      <td>ENSG00000278625.1</td>\n",
       "      <td>False</td>\n",
       "    </tr>\n",
       "    <tr>\n",
       "      <th>U1</th>\n",
       "      <td>0.000000</td>\n",
       "      <td>NA</td>\n",
       "      <td>NA</td>\n",
       "      <td>ENSG00000277374.1</td>\n",
       "      <td>False</td>\n",
       "    </tr>\n",
       "  </tbody>\n",
       "</table>\n",
       "<p>58347 rows × 5 columns</p>\n",
       "</div>"
      ],
      "text/plain": [
       "             ambient_expression feature_type genome            gene_id  \\\n",
       "gene_name                                                                \n",
       "DDX11L1                0.000000           NA     NA  ENSG00000223972.5   \n",
       "WASH7P                 0.000000           NA     NA  ENSG00000227232.5   \n",
       "MIR6859-1              0.000000           NA     NA  ENSG00000278267.1   \n",
       "MIR1302-2HG            0.000000           NA     NA  ENSG00000243485.5   \n",
       "MIR1302-2              0.000000           NA     NA  ENSG00000284332.1   \n",
       "...                         ...          ...    ...                ...   \n",
       "AC007325.1             0.000000           NA     NA  ENSG00000276017.1   \n",
       "AC007325.4             0.000002           NA     NA  ENSG00000278817.1   \n",
       "AC007325.2             0.000000           NA     NA  ENSG00000277196.4   \n",
       "U6                     0.000000           NA     NA  ENSG00000278625.1   \n",
       "U1                     0.000000           NA     NA  ENSG00000277374.1   \n",
       "\n",
       "             cellbender_analyzed  \n",
       "gene_name                         \n",
       "DDX11L1                    False  \n",
       "WASH7P                     False  \n",
       "MIR6859-1                  False  \n",
       "MIR1302-2HG                False  \n",
       "MIR1302-2                  False  \n",
       "...                          ...  \n",
       "AC007325.1                 False  \n",
       "AC007325.4                  True  \n",
       "AC007325.2                 False  \n",
       "U6                         False  \n",
       "U1                         False  \n",
       "\n",
       "[58347 rows x 5 columns]"
      ]
     },
     "execution_count": 43,
     "metadata": {},
     "output_type": "execute_result"
    }
   ],
   "source": [
    "adata_cellbender_out.var"
   ]
  },
  {
   "cell_type": "code",
   "execution_count": 59,
   "metadata": {},
   "outputs": [
    {
     "data": {
      "text/html": [
       "<div>\n",
       "<style scoped>\n",
       "    .dataframe tbody tr th:only-of-type {\n",
       "        vertical-align: middle;\n",
       "    }\n",
       "\n",
       "    .dataframe tbody tr th {\n",
       "        vertical-align: top;\n",
       "    }\n",
       "\n",
       "    .dataframe thead th {\n",
       "        text-align: right;\n",
       "    }\n",
       "</style>\n",
       "<table border=\"1\" class=\"dataframe\">\n",
       "  <thead>\n",
       "    <tr style=\"text-align: right;\">\n",
       "      <th></th>\n",
       "      <th>background_fraction</th>\n",
       "      <th>cell_probability</th>\n",
       "      <th>cell_size</th>\n",
       "      <th>droplet_efficiency</th>\n",
       "    </tr>\n",
       "    <tr>\n",
       "      <th>barcode</th>\n",
       "      <th></th>\n",
       "      <th></th>\n",
       "      <th></th>\n",
       "      <th></th>\n",
       "    </tr>\n",
       "  </thead>\n",
       "  <tbody>\n",
       "    <tr>\n",
       "      <th>TGCTTGCTCTAAGCCA</th>\n",
       "      <td>0.066727</td>\n",
       "      <td>0.999955</td>\n",
       "      <td>36923.042969</td>\n",
       "      <td>2.498647</td>\n",
       "    </tr>\n",
       "    <tr>\n",
       "      <th>AATCACGTCCCGATCT</th>\n",
       "      <td>0.130501</td>\n",
       "      <td>0.999955</td>\n",
       "      <td>26296.291016</td>\n",
       "      <td>2.491069</td>\n",
       "    </tr>\n",
       "    <tr>\n",
       "      <th>TTCCTTCAGTCTCCTC</th>\n",
       "      <td>0.109683</td>\n",
       "      <td>0.999955</td>\n",
       "      <td>25463.599609</td>\n",
       "      <td>2.469484</td>\n",
       "    </tr>\n",
       "    <tr>\n",
       "      <th>CTTGAGATCCATGCAA</th>\n",
       "      <td>0.115368</td>\n",
       "      <td>0.999955</td>\n",
       "      <td>25576.208984</td>\n",
       "      <td>2.452932</td>\n",
       "    </tr>\n",
       "    <tr>\n",
       "      <th>TCATTACCAGCTCATA</th>\n",
       "      <td>0.134150</td>\n",
       "      <td>0.999955</td>\n",
       "      <td>22964.462891</td>\n",
       "      <td>2.399945</td>\n",
       "    </tr>\n",
       "    <tr>\n",
       "      <th>...</th>\n",
       "      <td>...</td>\n",
       "      <td>...</td>\n",
       "      <td>...</td>\n",
       "      <td>...</td>\n",
       "    </tr>\n",
       "    <tr>\n",
       "      <th>CTGATCCCAGTCAGCC</th>\n",
       "      <td>0.000000</td>\n",
       "      <td>0.012916</td>\n",
       "      <td>11271.076172</td>\n",
       "      <td>1.048951</td>\n",
       "    </tr>\n",
       "    <tr>\n",
       "      <th>GGTGTCGAGCGGGTTA</th>\n",
       "      <td>0.701669</td>\n",
       "      <td>0.992517</td>\n",
       "      <td>17560.492188</td>\n",
       "      <td>0.568851</td>\n",
       "    </tr>\n",
       "    <tr>\n",
       "      <th>CTCAAGACAGTGCCTG</th>\n",
       "      <td>0.000000</td>\n",
       "      <td>0.028803</td>\n",
       "      <td>10847.955078</td>\n",
       "      <td>1.148832</td>\n",
       "    </tr>\n",
       "    <tr>\n",
       "      <th>ATTTCTGAGGGTACAC</th>\n",
       "      <td>0.679003</td>\n",
       "      <td>0.991908</td>\n",
       "      <td>17556.357422</td>\n",
       "      <td>0.568808</td>\n",
       "    </tr>\n",
       "    <tr>\n",
       "      <th>GAGGCAATCAGCTGTA</th>\n",
       "      <td>0.000000</td>\n",
       "      <td>0.004743</td>\n",
       "      <td>11107.812500</td>\n",
       "      <td>1.071578</td>\n",
       "    </tr>\n",
       "  </tbody>\n",
       "</table>\n",
       "<p>4118 rows × 4 columns</p>\n",
       "</div>"
      ],
      "text/plain": [
       "                  background_fraction  cell_probability     cell_size  \\\n",
       "barcode                                                                 \n",
       "TGCTTGCTCTAAGCCA             0.066727          0.999955  36923.042969   \n",
       "AATCACGTCCCGATCT             0.130501          0.999955  26296.291016   \n",
       "TTCCTTCAGTCTCCTC             0.109683          0.999955  25463.599609   \n",
       "CTTGAGATCCATGCAA             0.115368          0.999955  25576.208984   \n",
       "TCATTACCAGCTCATA             0.134150          0.999955  22964.462891   \n",
       "...                               ...               ...           ...   \n",
       "CTGATCCCAGTCAGCC             0.000000          0.012916  11271.076172   \n",
       "GGTGTCGAGCGGGTTA             0.701669          0.992517  17560.492188   \n",
       "CTCAAGACAGTGCCTG             0.000000          0.028803  10847.955078   \n",
       "ATTTCTGAGGGTACAC             0.679003          0.991908  17556.357422   \n",
       "GAGGCAATCAGCTGTA             0.000000          0.004743  11107.812500   \n",
       "\n",
       "                  droplet_efficiency  \n",
       "barcode                               \n",
       "TGCTTGCTCTAAGCCA            2.498647  \n",
       "AATCACGTCCCGATCT            2.491069  \n",
       "TTCCTTCAGTCTCCTC            2.469484  \n",
       "CTTGAGATCCATGCAA            2.452932  \n",
       "TCATTACCAGCTCATA            2.399945  \n",
       "...                              ...  \n",
       "CTGATCCCAGTCAGCC            1.048951  \n",
       "GGTGTCGAGCGGGTTA            0.568851  \n",
       "CTCAAGACAGTGCCTG            1.148832  \n",
       "ATTTCTGAGGGTACAC            0.568808  \n",
       "GAGGCAATCAGCTGTA            1.071578  \n",
       "\n",
       "[4118 rows x 4 columns]"
      ]
     },
     "execution_count": 59,
     "metadata": {},
     "output_type": "execute_result"
    }
   ],
   "source": [
    "adata_cellbender_out.obs"
   ]
  },
  {
   "cell_type": "markdown",
   "metadata": {},
   "source": [
    "comparison between 3 methods and their 5 results"
   ]
  },
  {
   "cell_type": "code",
   "execution_count": 91,
   "metadata": {},
   "outputs": [
    {
     "data": {
      "text/plain": [
       "{'matrix': <Axes: >,\n",
       " 'shading': <Axes: >,\n",
       " 'totals': <Axes: >,\n",
       " 'intersections': <Axes: ylabel='Intersection size'>}"
      ]
     },
     "execution_count": 91,
     "metadata": {},
     "output_type": "execute_result"
    },
    {
     "data": {
      "image/png": "[encoded data removed]",
      "text/plain": [
       "<Figure size 622.222x488.889 with 4 Axes>"
      ]
     },
     "metadata": {},
     "output_type": "display_data"
    }
   ],
   "source": [
    "emptydrops_FDR01 = emptydrops_IsCell_true.index.to_list()\n",
    "emptydrops_FDR001 = emptydrops_IsCell_true_FDR001.index.to_list()\n",
    "cellSize_sup500 = adata_BCsup500.obs.index.to_list()\n",
    "cellbender = adata_cellbender_out.obs.index.to_list()\n",
    "cellbender_postProb = adata_cellbender_out_filtered.obs.index.to_list()\n",
    "(emptydrops_FDR01, emptydrops_FDR001, cellSize_sup500, cellbender, cellbender_postProb)\n",
    "\n",
    "\n",
    "IsCell = from_contents({'emptydrops_FDR01': emptydrops_FDR01,\n",
    "                             'emptydrops_FDR001': emptydrops_FDR001,\n",
    "                             'cellSize_sup500': cellSize_sup500,\n",
    "                             'cellbender': cellbender,\n",
    "                             'cellbender_postProb': cellbender_postProb})\n",
    "\n",
    "UpSet(IsCell, subset_size='count', show_counts=True).plot()"
   ]
  },
  {
   "cell_type": "code",
   "execution_count": null,
   "metadata": {},
   "outputs": [],
   "source": [
    "emptydrops_FDR01 = emptydrops_IsCell_true.index.to_list()\n",
    "cellSize_sup500 = adata_BCsup500.obs.index.to_list()\n",
    "cellbender = adata_cellbender_out.obs.index.to_list()\n",
    "(emptydrops_FDR01, cellSize_sup500, cellbender,)\n",
    "\n",
    "\n",
    "IsCell_lax = from_contents({'emptydrops_FDR01': emptydrops_FDR01,\n",
    "                             'cellSize_sup500': cellSize_sup500,\n",
    "                             'cellbender': cellbender,})\n",
    "\n",
    "UpSet(IsCell_lax, subset_size='count', show_counts=True).plot()"
   ]
  },
  {
   "cell_type": "markdown",
   "metadata": {},
   "source": [
    "#### Mitochondrial RNA detection comparison"
   ]
  },
  {
   "cell_type": "code",
   "execution_count": 44,
   "metadata": {},
   "outputs": [
    {
     "name": "stdout",
     "output_type": "stream",
     "text": [
      "No mouse mt genes\n",
      "Adding human mt genes to adat.var\n"
     ]
    }
   ],
   "source": [
    "# Create variable of mithocondrial genes in adata.var\n",
    "human_mt_genes_ident(adata)"
   ]
  },
  {
   "cell_type": "code",
   "execution_count": 45,
   "metadata": {},
   "outputs": [
    {
     "name": "stdout",
     "output_type": "stream",
     "text": [
      "37 mt genes in this dataset\n"
     ]
    }
   ],
   "source": [
    "# Fetch rows where \"mt\" is True\n",
    "mt_genes_by_prefix = adata.var[adata.var['mt']]\n",
    "print(f\"{mt_genes_by_prefix.shape[0]} mt genes in this dataset\")"
   ]
  },
  {
   "cell_type": "markdown",
   "metadata": {},
   "source": [
    "###### Pourcentage of Mitochondrial RNA using scanpy"
   ]
  },
  {
   "cell_type": "code",
   "execution_count": 46,
   "metadata": {},
   "outputs": [
    {
     "data": {
      "text/plain": [
       "AnnData object with n_obs × n_vars = 1136912 × 58347\n",
       "    obs: 'cell_names', 'CellID', 'emptydrops_Limited', 'emptydrops_IsCell', 'n_reads', 'noise_reads', 'perfect_molecule_barcodes', 'reads_mapped_exonic', 'reads_mapped_exonic_as', 'reads_mapped_intronic', 'reads_mapped_intronic_as', 'reads_mapped_uniquely', 'reads_mapped_multiple', 'duplicate_reads', 'spliced_reads', 'antisense_reads', 'n_molecules', 'n_fragments', 'fragments_with_single_read_evidence', 'molecules_with_single_read_evidence', 'perfect_cell_barcodes', 'reads_mapped_intergenic', 'reads_unmapped', 'reads_mapped_too_many_loci', 'n_genes', 'genes_detected_multiple_observations', 'emptydrops_Total', 'molecule_barcode_fraction_bases_above_30_mean', 'molecule_barcode_fraction_bases_above_30_variance', 'genomic_reads_fraction_bases_quality_above_30_mean', 'genomic_reads_fraction_bases_quality_above_30_variance', 'genomic_read_quality_mean', 'genomic_read_quality_variance', 'reads_per_molecule', 'reads_per_fragment', 'fragments_per_molecule', 'cell_barcode_fraction_bases_above_30_mean', 'cell_barcode_fraction_bases_above_30_variance', 'n_mitochondrial_genes', 'n_mitochondrial_molecules', 'pct_mitochondrial_molecules', 'emptydrops_LogProb', 'emptydrops_PValue', 'emptydrops_FDR', 'input_id', 'n_genes_by_counts', 'log1p_n_genes_by_counts', 'total_counts', 'log1p_total_counts', 'total_counts_mt', 'log1p_total_counts_mt', 'pct_counts_mt'\n",
       "    var: 'gene_names', 'ensembl_ids', 'Gene', 'n_reads', 'noise_reads', 'perfect_molecule_barcodes', 'reads_mapped_exonic', 'reads_mapped_exonic_as', 'reads_mapped_intronic', 'reads_mapped_intronic_as', 'reads_mapped_uniquely', 'reads_mapped_multiple', 'duplicate_reads', 'spliced_reads', 'antisense_reads', 'molecule_barcode_fraction_bases_above_30_mean', 'molecule_barcode_fraction_bases_above_30_variance', 'genomic_reads_fraction_bases_quality_above_30_mean', 'genomic_reads_fraction_bases_quality_above_30_variance', 'genomic_read_quality_mean', 'genomic_read_quality_variance', 'n_molecules', 'n_fragments', 'reads_per_molecule', 'reads_per_fragment', 'fragments_per_molecule', 'fragments_with_single_read_evidence', 'molecules_with_single_read_evidence', 'number_cells_detected_multiple', 'number_cells_expressing', 'mt', 'n_cells_by_counts', 'mean_counts', 'log1p_mean_counts', 'pct_dropout_by_counts', 'total_counts', 'log1p_total_counts'\n",
       "    uns: 'expression_data_type', 'input_id', 'optimus_output_schema_version', 'pipeline_version'"
      ]
     },
     "execution_count": 46,
     "metadata": {},
     "output_type": "execute_result"
    }
   ],
   "source": [
    "sc.pp.calculate_qc_metrics(\n",
    "    adata, qc_vars=[\"mt\"], inplace=True, percent_top=None, log1p=True\n",
    ")\n",
    "adata"
   ]
  },
  {
   "cell_type": "markdown",
   "metadata": {},
   "source": [
    "###### Comparison between scanpy and optimus: Number of no mitochondrial molecules cells are the same => Mt genes identification should be the same"
   ]
  },
  {
   "cell_type": "code",
   "execution_count": 47,
   "metadata": {},
   "outputs": [
    {
     "name": "stdout",
     "output_type": "stream",
     "text": [
      "778221 cell with 0% mitochondrial molecules using optimus pct_mitochondrial_molecules attribute\n",
      "778221 cell with 0% mitochondrial molecules using scanpy pct_counts_mt attribute\n"
     ]
    }
   ],
   "source": [
    "zero_pct_mt_cellNB_optimus = adata.obs[adata.obs[\"pct_mitochondrial_molecules\"] == 0]\n",
    "print(f\"{zero_pct_mt_cellNB_optimus.shape[0]} cell with 0% mitochondrial molecules using optimus pct_mitochondrial_molecules attribute\")\n",
    "\n",
    "zero_pct_mt_cellNB_sc = adata.obs[adata.obs[\"pct_counts_mt\"] == 0]\n",
    "print(f\"{zero_pct_mt_cellNB_sc.shape[0]} cell with 0% mitochondrial molecules using scanpy pct_counts_mt attribute\")"
   ]
  },
  {
   "cell_type": "markdown",
   "metadata": {},
   "source": [
    "Comparison between scanpy and optimus: Number of mitochondrial molecules in cells"
   ]
  },
  {
   "cell_type": "code",
   "execution_count": 48,
   "metadata": {},
   "outputs": [
    {
     "name": "stdout",
     "output_type": "stream",
     "text": [
      "238400 cells with different number of mitochondrial molecules using optimus and scanpy attribute\n"
     ]
    }
   ],
   "source": [
    "# Create a boolean mask to check if A and B are different\n",
    "mask = adata.obs['n_mitochondrial_molecules'] != adata.obs['total_counts_mt']\n",
    "\n",
    "# Use the boolean mask to filter the rows where A and B are different\n",
    "diff_mt_nb = adata.obs[mask]\n",
    "print(f\"{diff_mt_nb.shape[0]} cells with different number of mitochondrial molecules using optimus and scanpy attribute\")"
   ]
  },
  {
   "cell_type": "code",
   "execution_count": 49,
   "metadata": {},
   "outputs": [
    {
     "data": {
      "text/html": [
       "<div>\n",
       "<style scoped>\n",
       "    .dataframe tbody tr th:only-of-type {\n",
       "        vertical-align: middle;\n",
       "    }\n",
       "\n",
       "    .dataframe tbody tr th {\n",
       "        vertical-align: top;\n",
       "    }\n",
       "\n",
       "    .dataframe thead th {\n",
       "        text-align: right;\n",
       "    }\n",
       "</style>\n",
       "<table border=\"1\" class=\"dataframe\">\n",
       "  <thead>\n",
       "    <tr style=\"text-align: right;\">\n",
       "      <th></th>\n",
       "      <th>total_counts</th>\n",
       "      <th>total_counts_mt</th>\n",
       "      <th>pct_counts_mt</th>\n",
       "      <th>n_reads</th>\n",
       "      <th>n_mitochondrial_molecules</th>\n",
       "      <th>pct_mitochondrial_molecules</th>\n",
       "    </tr>\n",
       "  </thead>\n",
       "  <tbody>\n",
       "    <tr>\n",
       "      <th>AAACCCAAGAAGTCTA</th>\n",
       "      <td>23.0</td>\n",
       "      <td>3.0</td>\n",
       "      <td>13.043478</td>\n",
       "      <td>73</td>\n",
       "      <td>6</td>\n",
       "      <td>8.219178</td>\n",
       "    </tr>\n",
       "    <tr>\n",
       "      <th>AAACCCAAGAATCTAG</th>\n",
       "      <td>3.0</td>\n",
       "      <td>1.0</td>\n",
       "      <td>33.333336</td>\n",
       "      <td>17</td>\n",
       "      <td>4</td>\n",
       "      <td>23.529411</td>\n",
       "    </tr>\n",
       "    <tr>\n",
       "      <th>AAACCCAAGACAACAT</th>\n",
       "      <td>97.0</td>\n",
       "      <td>5.0</td>\n",
       "      <td>5.154639</td>\n",
       "      <td>270</td>\n",
       "      <td>8</td>\n",
       "      <td>2.962963</td>\n",
       "    </tr>\n",
       "    <tr>\n",
       "      <th>AAACCCAAGACAACTA</th>\n",
       "      <td>2.0</td>\n",
       "      <td>1.0</td>\n",
       "      <td>50.000000</td>\n",
       "      <td>19</td>\n",
       "      <td>3</td>\n",
       "      <td>15.789473</td>\n",
       "    </tr>\n",
       "    <tr>\n",
       "      <th>AAACCCAAGACCACGA</th>\n",
       "      <td>89.0</td>\n",
       "      <td>5.0</td>\n",
       "      <td>5.617978</td>\n",
       "      <td>264</td>\n",
       "      <td>6</td>\n",
       "      <td>2.272727</td>\n",
       "    </tr>\n",
       "    <tr>\n",
       "      <th>...</th>\n",
       "      <td>...</td>\n",
       "      <td>...</td>\n",
       "      <td>...</td>\n",
       "      <td>...</td>\n",
       "      <td>...</td>\n",
       "      <td>...</td>\n",
       "    </tr>\n",
       "    <tr>\n",
       "      <th>TTTGTTGTCTGTCAGA</th>\n",
       "      <td>1.0</td>\n",
       "      <td>1.0</td>\n",
       "      <td>100.000000</td>\n",
       "      <td>2</td>\n",
       "      <td>2</td>\n",
       "      <td>100.000000</td>\n",
       "    </tr>\n",
       "    <tr>\n",
       "      <th>TTTGTTGTCTGTGCGG</th>\n",
       "      <td>2.0</td>\n",
       "      <td>1.0</td>\n",
       "      <td>50.000000</td>\n",
       "      <td>3</td>\n",
       "      <td>2</td>\n",
       "      <td>66.666672</td>\n",
       "    </tr>\n",
       "    <tr>\n",
       "      <th>TTTGTTGTCTTACTGT</th>\n",
       "      <td>6827.0</td>\n",
       "      <td>541.0</td>\n",
       "      <td>7.924417</td>\n",
       "      <td>54064</td>\n",
       "      <td>1671</td>\n",
       "      <td>3.090781</td>\n",
       "    </tr>\n",
       "    <tr>\n",
       "      <th>TTTGTTGTCTTCTAAC</th>\n",
       "      <td>1759.0</td>\n",
       "      <td>511.0</td>\n",
       "      <td>29.050598</td>\n",
       "      <td>29895</td>\n",
       "      <td>1604</td>\n",
       "      <td>5.365446</td>\n",
       "    </tr>\n",
       "    <tr>\n",
       "      <th>TTTGTTGTCTTGATTC</th>\n",
       "      <td>1.0</td>\n",
       "      <td>1.0</td>\n",
       "      <td>100.000000</td>\n",
       "      <td>9</td>\n",
       "      <td>4</td>\n",
       "      <td>44.444447</td>\n",
       "    </tr>\n",
       "  </tbody>\n",
       "</table>\n",
       "<p>238400 rows × 6 columns</p>\n",
       "</div>"
      ],
      "text/plain": [
       "                  total_counts  total_counts_mt  pct_counts_mt  n_reads  \\\n",
       "AAACCCAAGAAGTCTA          23.0              3.0      13.043478       73   \n",
       "AAACCCAAGAATCTAG           3.0              1.0      33.333336       17   \n",
       "AAACCCAAGACAACAT          97.0              5.0       5.154639      270   \n",
       "AAACCCAAGACAACTA           2.0              1.0      50.000000       19   \n",
       "AAACCCAAGACCACGA          89.0              5.0       5.617978      264   \n",
       "...                        ...              ...            ...      ...   \n",
       "TTTGTTGTCTGTCAGA           1.0              1.0     100.000000        2   \n",
       "TTTGTTGTCTGTGCGG           2.0              1.0      50.000000        3   \n",
       "TTTGTTGTCTTACTGT        6827.0            541.0       7.924417    54064   \n",
       "TTTGTTGTCTTCTAAC        1759.0            511.0      29.050598    29895   \n",
       "TTTGTTGTCTTGATTC           1.0              1.0     100.000000        9   \n",
       "\n",
       "                  n_mitochondrial_molecules  pct_mitochondrial_molecules  \n",
       "AAACCCAAGAAGTCTA                          6                     8.219178  \n",
       "AAACCCAAGAATCTAG                          4                    23.529411  \n",
       "AAACCCAAGACAACAT                          8                     2.962963  \n",
       "AAACCCAAGACAACTA                          3                    15.789473  \n",
       "AAACCCAAGACCACGA                          6                     2.272727  \n",
       "...                                     ...                          ...  \n",
       "TTTGTTGTCTGTCAGA                          2                   100.000000  \n",
       "TTTGTTGTCTGTGCGG                          2                    66.666672  \n",
       "TTTGTTGTCTTACTGT                       1671                     3.090781  \n",
       "TTTGTTGTCTTCTAAC                       1604                     5.365446  \n",
       "TTTGTTGTCTTGATTC                          4                    44.444447  \n",
       "\n",
       "[238400 rows x 6 columns]"
      ]
     },
     "execution_count": 49,
     "metadata": {},
     "output_type": "execute_result"
    }
   ],
   "source": [
    "# scanpy - optimus metrics\n",
    "diff_mt_nb[[ 'total_counts', 'total_counts_mt',\"pct_counts_mt\",\n",
    "             'n_reads','n_mitochondrial_molecules','pct_mitochondrial_molecules']]"
   ]
  },
  {
   "cell_type": "markdown",
   "metadata": {},
   "source": [
    "###### n_reads is always greater than total_counts"
   ]
  },
  {
   "cell_type": "code",
   "execution_count": 50,
   "metadata": {},
   "outputs": [
    {
     "data": {
      "text/plain": [
       "1136905"
      ]
     },
     "metadata": {},
     "output_type": "display_data"
    }
   ],
   "source": [
    "CB_index = adata.obs.index\n",
    "target_CB = \"TTTGTTGTCTTGATTC\"\n",
    "\n",
    "# Use numpy.where to find the positions where the condition is True\n",
    "positions = np.where(CB_index == target_CB)[0][0]\n",
    "display(positions)\n"
   ]
  },
  {
   "cell_type": "code",
   "execution_count": 51,
   "metadata": {},
   "outputs": [
    {
     "data": {
      "text/plain": [
       "1.0"
      ]
     },
     "metadata": {},
     "output_type": "display_data"
    },
    {
     "data": {
      "text/plain": [
       "58273"
      ]
     },
     "metadata": {},
     "output_type": "display_data"
    },
    {
     "data": {
      "text/plain": [
       "'MT-CO3'"
      ]
     },
     "execution_count": 51,
     "metadata": {},
     "output_type": "execute_result"
    }
   ],
   "source": [
    "# check if cell size is 1\n",
    "total_sum = np.sum(adata.X[positions, : ])\n",
    "display(total_sum)\n",
    "\n",
    "# get the mt gene name\n",
    "nonzero_positions = np.nonzero(adata.X[positions, :].toarray() != 0)[1][0]\n",
    "display(nonzero_positions)\n",
    "adata.var.index[nonzero_positions]"
   ]
  },
  {
   "cell_type": "code",
   "execution_count": 52,
   "metadata": {},
   "outputs": [
    {
     "data": {
      "text/plain": [
       "Series([], dtype: float64)"
      ]
     },
     "execution_count": 52,
     "metadata": {},
     "output_type": "execute_result"
    }
   ],
   "source": [
    "difference = adata.obs['n_reads'] - adata.obs['total_counts']\n",
    "negative_values = difference[difference < 0]\n",
    "negative_values"
   ]
  },
  {
   "cell_type": "markdown",
   "metadata": {},
   "source": [
    "###### total_counts of Scanpy is the same as emptydrops_Total"
   ]
  },
  {
   "cell_type": "code",
   "execution_count": 53,
   "metadata": {},
   "outputs": [
    {
     "name": "stdout",
     "output_type": "stream",
     "text": [
      "0 differences between total_counts and emptydrops_Total\n"
     ]
    }
   ],
   "source": [
    "mask = adata.obs['total_counts'] != adata.obs['emptydrops_Total']\n",
    "print(f\"{adata.obs[mask].shape[0]} differences between total_counts and emptydrops_Total\")"
   ]
  },
  {
   "cell_type": "markdown",
   "metadata": {},
   "source": [
    "###### compare total_counts of Scanpy and cell size by summing up the counts of each column by row in adata.X"
   ]
  },
  {
   "cell_type": "code",
   "execution_count": 54,
   "metadata": {},
   "outputs": [
    {
     "name": "stdout",
     "output_type": "stream",
     "text": [
      "0 differences between total_counts and cell size\n"
     ]
    }
   ],
   "source": [
    "cell_total_count_in_adataX = np.ravel(adata.X.sum(axis=1))\n",
    "\n",
    "# Convert the pandas Series to a NumPy array\n",
    "total_count_np = adata.obs['total_counts'].values\n",
    "\n",
    "mask = total_count_np != cell_total_count_in_adataX\n",
    "print(f\"{adata.obs[mask].shape[0]} differences between total_counts and cell size\")"
   ]
  },
  {
   "cell_type": "markdown",
   "metadata": {},
   "source": [
    "#### Mitochondrial RNA detection comparison"
   ]
  },
  {
   "cell_type": "markdown",
   "metadata": {},
   "source": [
    "without emptydrops filtering"
   ]
  },
  {
   "cell_type": "code",
   "execution_count": 55,
   "metadata": {},
   "outputs": [
    {
     "data": {
      "image/png": "[encoded data removed]",
      "text/plain": [
       "<Figure size 500x500 with 1 Axes>"
      ]
     },
     "metadata": {},
     "output_type": "display_data"
    },
    {
     "data": {
      "image/png": "[encoded data removed]",
      "text/plain": [
       "<Figure size 804.6x480 with 1 Axes>"
      ]
     },
     "metadata": {},
     "output_type": "display_data"
    },
    {
     "data": {
      "image/png": "[encoded data removed]",
      "text/plain": [
       "<Figure size 810.02x480 with 2 Axes>"
      ]
     },
     "metadata": {},
     "output_type": "display_data"
    }
   ],
   "source": [
    "p1 = sns.displot(adata.obs[\"total_counts\"], bins=100, kde=False)\n",
    "# sc.pl.violin(adata, 'total_counts')\n",
    "p2 = sc.pl.violin(adata, \"pct_counts_mt\")\n",
    "p3 = sc.pl.scatter(adata, \"total_counts\", \"n_genes_by_counts\", color=\"pct_counts_mt\")"
   ]
  },
  {
   "cell_type": "code",
   "execution_count": 56,
   "metadata": {},
   "outputs": [],
   "source": [
    "# TODO: need to remove the %mt: see p2"
   ]
  },
  {
   "cell_type": "code",
   "execution_count": 57,
   "metadata": {},
   "outputs": [],
   "source": [
    "def is_outlier(adata, metric: str, nmads: int):\n",
    "    M = adata.obs[metric]\n",
    "    outlier = (M < np.median(M) - nmads * median_abs_deviation(M)) | (\n",
    "        np.median(M) + nmads * median_abs_deviation(M) < M\n",
    "    )\n",
    "    return outlier"
   ]
  },
  {
   "cell_type": "code",
   "execution_count": 58,
   "metadata": {},
   "outputs": [
    {
     "ename": "KeyError",
     "evalue": "'pct_counts_in_top_20_genes'",
     "output_type": "error",
     "traceback": [
      "\u001b[0;31m---------------------------------------------------------------------------\u001b[0m",
      "\u001b[0;31mKeyError\u001b[0m                                  Traceback (most recent call last)",
      "File \u001b[0;32m/opt/homebrew/Caskroom/miniconda/base/envs/bulk/lib/python3.9/site-packages/pandas/core/indexes/base.py:3802\u001b[0m, in \u001b[0;36mIndex.get_loc\u001b[0;34m(self, key, method, tolerance)\u001b[0m\n\u001b[1;32m   3801\u001b[0m \u001b[39mtry\u001b[39;00m:\n\u001b[0;32m-> 3802\u001b[0m     \u001b[39mreturn\u001b[39;00m \u001b[39mself\u001b[39;49m\u001b[39m.\u001b[39;49m_engine\u001b[39m.\u001b[39;49mget_loc(casted_key)\n\u001b[1;32m   3803\u001b[0m \u001b[39mexcept\u001b[39;00m \u001b[39mKeyError\u001b[39;00m \u001b[39mas\u001b[39;00m err:\n",
      "File \u001b[0;32m/opt/homebrew/Caskroom/miniconda/base/envs/bulk/lib/python3.9/site-packages/pandas/_libs/index.pyx:138\u001b[0m, in \u001b[0;36mpandas._libs.index.IndexEngine.get_loc\u001b[0;34m()\u001b[0m\n",
      "File \u001b[0;32m/opt/homebrew/Caskroom/miniconda/base/envs/bulk/lib/python3.9/site-packages/pandas/_libs/index.pyx:165\u001b[0m, in \u001b[0;36mpandas._libs.index.IndexEngine.get_loc\u001b[0;34m()\u001b[0m\n",
      "File \u001b[0;32mpandas/_libs/hashtable_class_helper.pxi:5745\u001b[0m, in \u001b[0;36mpandas._libs.hashtable.PyObjectHashTable.get_item\u001b[0;34m()\u001b[0m\n",
      "File \u001b[0;32mpandas/_libs/hashtable_class_helper.pxi:5753\u001b[0m, in \u001b[0;36mpandas._libs.hashtable.PyObjectHashTable.get_item\u001b[0;34m()\u001b[0m\n",
      "\u001b[0;31mKeyError\u001b[0m: 'pct_counts_in_top_20_genes'",
      "\nThe above exception was the direct cause of the following exception:\n",
      "\u001b[0;31mKeyError\u001b[0m                                  Traceback (most recent call last)",
      "\u001b[1;32m/Users/xiliu/Documents/analysis/terraPipelines/notebook/optimus_preprocessing_QC.ipynb Cell 68\u001b[0m line \u001b[0;36m6\n\u001b[1;32m      <a href='vscode-notebook-cell:/Users/xiliu/Documents/analysis/terraPipelines/notebook/optimus_preprocessing_QC.ipynb#Y115sZmlsZQ%3D%3D?line=0'>1</a>\u001b[0m \u001b[39m# We now apply this function to the log1p_total_counts, log1p_n_genes_by_counts \u001b[39;00m\n\u001b[1;32m      <a href='vscode-notebook-cell:/Users/xiliu/Documents/analysis/terraPipelines/notebook/optimus_preprocessing_QC.ipynb#Y115sZmlsZQ%3D%3D?line=1'>2</a>\u001b[0m \u001b[39m# and pct_counts_in_top_20_genes QC covariates each with a threshold of 5 MADs.\u001b[39;00m\n\u001b[1;32m      <a href='vscode-notebook-cell:/Users/xiliu/Documents/analysis/terraPipelines/notebook/optimus_preprocessing_QC.ipynb#Y115sZmlsZQ%3D%3D?line=2'>3</a>\u001b[0m adata\u001b[39m.\u001b[39mobs[\u001b[39m\"\u001b[39m\u001b[39moutlier\u001b[39m\u001b[39m\"\u001b[39m] \u001b[39m=\u001b[39m (\n\u001b[1;32m      <a href='vscode-notebook-cell:/Users/xiliu/Documents/analysis/terraPipelines/notebook/optimus_preprocessing_QC.ipynb#Y115sZmlsZQ%3D%3D?line=3'>4</a>\u001b[0m     is_outlier(adata, \u001b[39m\"\u001b[39m\u001b[39mlog1p_total_counts\u001b[39m\u001b[39m\"\u001b[39m, \u001b[39m5\u001b[39m)\n\u001b[1;32m      <a href='vscode-notebook-cell:/Users/xiliu/Documents/analysis/terraPipelines/notebook/optimus_preprocessing_QC.ipynb#Y115sZmlsZQ%3D%3D?line=4'>5</a>\u001b[0m     \u001b[39m|\u001b[39m is_outlier(adata, \u001b[39m\"\u001b[39m\u001b[39mlog1p_n_genes_by_counts\u001b[39m\u001b[39m\"\u001b[39m, \u001b[39m5\u001b[39m)\n\u001b[0;32m----> <a href='vscode-notebook-cell:/Users/xiliu/Documents/analysis/terraPipelines/notebook/optimus_preprocessing_QC.ipynb#Y115sZmlsZQ%3D%3D?line=5'>6</a>\u001b[0m     \u001b[39m|\u001b[39m is_outlier(adata, \u001b[39m\"\u001b[39;49m\u001b[39mpct_counts_in_top_20_genes\u001b[39;49m\u001b[39m\"\u001b[39;49m, \u001b[39m5\u001b[39;49m)\n\u001b[1;32m      <a href='vscode-notebook-cell:/Users/xiliu/Documents/analysis/terraPipelines/notebook/optimus_preprocessing_QC.ipynb#Y115sZmlsZQ%3D%3D?line=6'>7</a>\u001b[0m )\n\u001b[1;32m      <a href='vscode-notebook-cell:/Users/xiliu/Documents/analysis/terraPipelines/notebook/optimus_preprocessing_QC.ipynb#Y115sZmlsZQ%3D%3D?line=7'>8</a>\u001b[0m adata\u001b[39m.\u001b[39mobs\u001b[39m.\u001b[39moutlier\u001b[39m.\u001b[39mvalue_counts()\n",
      "\u001b[1;32m/Users/xiliu/Documents/analysis/terraPipelines/notebook/optimus_preprocessing_QC.ipynb Cell 68\u001b[0m line \u001b[0;36m2\n\u001b[1;32m      <a href='vscode-notebook-cell:/Users/xiliu/Documents/analysis/terraPipelines/notebook/optimus_preprocessing_QC.ipynb#Y115sZmlsZQ%3D%3D?line=0'>1</a>\u001b[0m \u001b[39mdef\u001b[39;00m \u001b[39mis_outlier\u001b[39m(adata, metric: \u001b[39mstr\u001b[39m, nmads: \u001b[39mint\u001b[39m):\n\u001b[0;32m----> <a href='vscode-notebook-cell:/Users/xiliu/Documents/analysis/terraPipelines/notebook/optimus_preprocessing_QC.ipynb#Y115sZmlsZQ%3D%3D?line=1'>2</a>\u001b[0m     M \u001b[39m=\u001b[39m adata\u001b[39m.\u001b[39;49mobs[metric]\n\u001b[1;32m      <a href='vscode-notebook-cell:/Users/xiliu/Documents/analysis/terraPipelines/notebook/optimus_preprocessing_QC.ipynb#Y115sZmlsZQ%3D%3D?line=2'>3</a>\u001b[0m     outlier \u001b[39m=\u001b[39m (M \u001b[39m<\u001b[39m np\u001b[39m.\u001b[39mmedian(M) \u001b[39m-\u001b[39m nmads \u001b[39m*\u001b[39m median_abs_deviation(M)) \u001b[39m|\u001b[39m (\n\u001b[1;32m      <a href='vscode-notebook-cell:/Users/xiliu/Documents/analysis/terraPipelines/notebook/optimus_preprocessing_QC.ipynb#Y115sZmlsZQ%3D%3D?line=3'>4</a>\u001b[0m         np\u001b[39m.\u001b[39mmedian(M) \u001b[39m+\u001b[39m nmads \u001b[39m*\u001b[39m median_abs_deviation(M) \u001b[39m<\u001b[39m M\n\u001b[1;32m      <a href='vscode-notebook-cell:/Users/xiliu/Documents/analysis/terraPipelines/notebook/optimus_preprocessing_QC.ipynb#Y115sZmlsZQ%3D%3D?line=4'>5</a>\u001b[0m     )\n\u001b[1;32m      <a href='vscode-notebook-cell:/Users/xiliu/Documents/analysis/terraPipelines/notebook/optimus_preprocessing_QC.ipynb#Y115sZmlsZQ%3D%3D?line=5'>6</a>\u001b[0m     \u001b[39mreturn\u001b[39;00m outlier\n",
      "File \u001b[0;32m/opt/homebrew/Caskroom/miniconda/base/envs/bulk/lib/python3.9/site-packages/pandas/core/frame.py:3807\u001b[0m, in \u001b[0;36mDataFrame.__getitem__\u001b[0;34m(self, key)\u001b[0m\n\u001b[1;32m   3805\u001b[0m \u001b[39mif\u001b[39;00m \u001b[39mself\u001b[39m\u001b[39m.\u001b[39mcolumns\u001b[39m.\u001b[39mnlevels \u001b[39m>\u001b[39m \u001b[39m1\u001b[39m:\n\u001b[1;32m   3806\u001b[0m     \u001b[39mreturn\u001b[39;00m \u001b[39mself\u001b[39m\u001b[39m.\u001b[39m_getitem_multilevel(key)\n\u001b[0;32m-> 3807\u001b[0m indexer \u001b[39m=\u001b[39m \u001b[39mself\u001b[39;49m\u001b[39m.\u001b[39;49mcolumns\u001b[39m.\u001b[39;49mget_loc(key)\n\u001b[1;32m   3808\u001b[0m \u001b[39mif\u001b[39;00m is_integer(indexer):\n\u001b[1;32m   3809\u001b[0m     indexer \u001b[39m=\u001b[39m [indexer]\n",
      "File \u001b[0;32m/opt/homebrew/Caskroom/miniconda/base/envs/bulk/lib/python3.9/site-packages/pandas/core/indexes/base.py:3804\u001b[0m, in \u001b[0;36mIndex.get_loc\u001b[0;34m(self, key, method, tolerance)\u001b[0m\n\u001b[1;32m   3802\u001b[0m     \u001b[39mreturn\u001b[39;00m \u001b[39mself\u001b[39m\u001b[39m.\u001b[39m_engine\u001b[39m.\u001b[39mget_loc(casted_key)\n\u001b[1;32m   3803\u001b[0m \u001b[39mexcept\u001b[39;00m \u001b[39mKeyError\u001b[39;00m \u001b[39mas\u001b[39;00m err:\n\u001b[0;32m-> 3804\u001b[0m     \u001b[39mraise\u001b[39;00m \u001b[39mKeyError\u001b[39;00m(key) \u001b[39mfrom\u001b[39;00m \u001b[39merr\u001b[39;00m\n\u001b[1;32m   3805\u001b[0m \u001b[39mexcept\u001b[39;00m \u001b[39mTypeError\u001b[39;00m:\n\u001b[1;32m   3806\u001b[0m     \u001b[39m# If we have a listlike key, _check_indexing_error will raise\u001b[39;00m\n\u001b[1;32m   3807\u001b[0m     \u001b[39m#  InvalidIndexError. Otherwise we fall through and re-raise\u001b[39;00m\n\u001b[1;32m   3808\u001b[0m     \u001b[39m#  the TypeError.\u001b[39;00m\n\u001b[1;32m   3809\u001b[0m     \u001b[39mself\u001b[39m\u001b[39m.\u001b[39m_check_indexing_error(key)\n",
      "\u001b[0;31mKeyError\u001b[0m: 'pct_counts_in_top_20_genes'"
     ]
    }
   ],
   "source": [
    "# We now apply this function to the log1p_total_counts, log1p_n_genes_by_counts \n",
    "# and pct_counts_in_top_20_genes QC covariates each with a threshold of 5 MADs.\n",
    "adata.obs[\"outlier\"] = (\n",
    "    is_outlier(adata, \"log1p_total_counts\", 5)\n",
    "    | is_outlier(adata, \"log1p_n_genes_by_counts\", 5)\n",
    "    | is_outlier(adata, \"pct_counts_in_top_20_genes\", 5)\n",
    ")\n",
    "adata.obs.outlier.value_counts()"
   ]
  },
  {
   "cell_type": "code",
   "execution_count": null,
   "metadata": {},
   "outputs": [
    {
     "data": {
      "text/plain": [
       "True     9993\n",
       "False    2290\n",
       "Name: mt_outlier, dtype: int64"
      ]
     },
     "execution_count": 95,
     "metadata": {},
     "output_type": "execute_result"
    }
   ],
   "source": [
    "#pct_counts_Mt is filtered with 3 MADs. Additionally, cells with \n",
    "#a percentage of mitochondrial counts exceeding 8 % are filtered out\n",
    "adata.obs[\"mt_outlier\"] = is_outlier(adata, \"pct_counts_mt\", 3) | (\n",
    "    adata.obs[\"pct_counts_mt\"] > 8\n",
    ")\n",
    "adata.obs.mt_outlier.value_counts()"
   ]
  },
  {
   "cell_type": "code",
   "execution_count": null,
   "metadata": {},
   "outputs": [
    {
     "name": "stdout",
     "output_type": "stream",
     "text": [
      "Total number of cells: 12283\n",
      "Number of cells after filtering of low quality cells: 2237\n"
     ]
    }
   ],
   "source": [
    "#We now filter our AnnData object based on these two additional columns.\n",
    "print(f\"Total number of cells: {adata.n_obs}\")\n",
    "adata = adata[(~adata.obs.outlier) & (~adata.obs.mt_outlier)].copy()\n",
    "\n",
    "print(f\"Number of cells after filtering of low quality cells: {adata.n_obs}\")"
   ]
  },
  {
   "cell_type": "code",
   "execution_count": null,
   "metadata": {},
   "outputs": [
    {
     "data": {
      "image/png": "[encoded data removed]",
      "text/plain": [
       "<Figure size 810.02x480 with 2 Axes>"
      ]
     },
     "metadata": {},
     "output_type": "display_data"
    }
   ],
   "source": [
    "p1 = sc.pl.scatter(adata, \"total_counts\", \"n_genes_by_counts\", color=\"pct_counts_mt\")"
   ]
  },
  {
   "cell_type": "markdown",
   "metadata": {},
   "source": [
    "#### 4. Correction of ambient RNA"
   ]
  },
  {
   "cell_type": "code",
   "execution_count": null,
   "metadata": {},
   "outputs": [],
   "source": []
  },
  {
   "cell_type": "code",
   "execution_count": null,
   "metadata": {},
   "outputs": [],
   "source": [
    "adata.layers[\"log_transformed\"] = np.log1p(adata.X)\n",
    "adata.to_df(layer=\"log_transformed\")\n"
   ]
  },
  {
   "cell_type": "code",
   "execution_count": null,
   "metadata": {},
   "outputs": [],
   "source": [
    "#faire QC, %mh,..., après umap\n",
    "#cellbender prendre .h5 comme input\n",
    "# read -> cell ranger -> raw count matrix + matrix retiré les barces peu reads/les empty droplet"
   ]
  },
  {
   "cell_type": "markdown",
   "metadata": {},
   "source": [
    "#### Draft **********"
   ]
  },
  {
   "cell_type": "code",
   "execution_count": null,
   "metadata": {},
   "outputs": [],
   "source": [
    "#import warnings\n",
    "#warnings.filterwarnings(\"ignore\")  # suppress warnings"
   ]
  },
  {
   "cell_type": "markdown",
   "metadata": {},
   "source": [
    "raw data understanding"
   ]
  },
  {
   "cell_type": "code",
   "execution_count": null,
   "metadata": {},
   "outputs": [],
   "source": [
    "### duplicate reads is always 0\n",
    "display(adata.obs[adata.obs['duplicate_reads']== 0])\n",
    "#display(adata.obs['duplicate_reads'].value_counts())"
   ]
  },
  {
   "cell_type": "code",
   "execution_count": null,
   "metadata": {},
   "outputs": [],
   "source": [
    "### Fetch the data where the variable names are empty: they are probably absent in the reference annotation\n",
    "\n",
    "# Access the 'var' attribute to work with variable information\n",
    "var_df = adata.var\n",
    "# Filter the data where the variable names are empty\n",
    "empty_var_names = var_df[var_df.index == '']\n",
    "#data_with_empty_var_names = adata[:, empty_var_names]\n",
    "display(empty_var_names.head())\n",
    "\n",
    "### check double variable names in the data with empty variable names\n",
    "# Remove the variables with empty names from the 'adata' object\n",
    "no_empty_varName_adata = adata[:, ~adata.var.index.isin(empty_var_names.index)]\n",
    "no_empty_varName_adata"
   ]
  },
  {
   "cell_type": "code",
   "execution_count": null,
   "metadata": {},
   "outputs": [
    {
     "data": {
      "text/plain": [
       "OverloadedDict, wrapping:\n",
       "\t{'expression_data_type': 'exonic', 'input_id': '10k_pbmc_v3', 'optimus_output_schema_version': '1.0.1', 'pipeline_version': 'Optimus_v6.0.0'}\n",
       "With overloaded keys:\n",
       "\t['neighbors']."
      ]
     },
     "metadata": {},
     "output_type": "display_data"
    }
   ],
   "source": [
    "display(adata.uns)"
   ]
  },
  {
   "cell_type": "code",
   "execution_count": null,
   "metadata": {},
   "outputs": [],
   "source": [
    "import numpy as np\n",
    "\n",
    "# sparse matrix is named 'sparse_matrix'\n",
    "sparse_matrix = adata.X\n",
    "\n",
    "# Convert the sparse matrix to a dense NumPy array\n",
    "dense_matrix = sparse_matrix.toarray()\n",
    "\n",
    "# use regular NumPy indexing to see the head\n",
    "head = dense_matrix[:5, :]  # Assuming you want to see the first 5 rows\n",
    "print(head)"
   ]
  },
  {
   "cell_type": "code",
   "execution_count": null,
   "metadata": {},
   "outputs": [],
   "source": [
    "result = adata.obs[[\"reads_mapped_exonic\", \"reads_mapped_intergenic\"]].sum(axis=1)"
   ]
  },
  {
   "cell_type": "code",
   "execution_count": null,
   "metadata": {},
   "outputs": [],
   "source": [
    "### find the calculation of pct_mitochondrial_molecules\n",
    "pct_mt=adata.obs[\"n_mitochondrial_molecules\"]/adata.obs[\"n_reads\"]*100\n",
    "\n",
    "# Compare the two Series\n",
    "if pct_mt.equals(adata.obs[\"pct_mitochondrial_molecules\"]):\n",
    "    print(\"The two Series are the same.\")\n",
    "else:\n",
    "    print(\"The two Series are different.\")\n",
    "\n",
    "# output the different between 2 Series\n",
    "for idx, (val1, val2) in enumerate(zip(pct_mt, adata.obs[\"pct_mitochondrial_molecules\"])):\n",
    "    if val1 != val2:\n",
    "        print(f\"Difference at index {idx}:\")\n",
    "        print(f\"Difference at index {adata.obs['CellID'].iloc[idx]}:\")\n",
    "        \n",
    "        print(f\"pct_mt: {val1}\")\n",
    "        print(f\"pct_mt_in_h5ad: {val2}\")\n",
    "# the 2 results are almost the same"
   ]
  },
  {
   "cell_type": "code",
   "execution_count": null,
   "metadata": {},
   "outputs": [],
   "source": [
    "# remove a variable from adata.var\n",
    "adata.var.drop(variable_name, axis=1, inplace=True)"
   ]
  },
  {
   "cell_type": "code",
   "execution_count": null,
   "metadata": {},
   "outputs": [],
   "source": [
    "# Read the compressed CSV file into a DataFrame using a url\n",
    "import pandas as pd\n",
    "\n",
    "with fsspec.open(gene_metrics, 'rb') as f:\n",
    "    df = pd.read_csv(f, compression='gzip')"
   ]
  },
  {
   "cell_type": "code",
   "execution_count": null,
   "metadata": {},
   "outputs": [],
   "source": [
    "# read a csv.gz file on local\n",
    "mport gzip\n",
    "\n",
    "file_path = '../scAtlas/tmp/cell-metrics.csv'\n",
    "\n",
    "# Open the compressed file and read it using pandas\n",
    "with gzip.open(file_path, 'rt', encoding='utf-8') as file:\n",
    "    cell_metrics = pd.read_csv(file)"
   ]
  },
  {
   "cell_type": "code",
   "execution_count": null,
   "metadata": {},
   "outputs": [],
   "source": [
    "# compare the difference from 2 Series\n",
    "for idx, (val1, val2) in enumerate(zip(pct_mt_optimus, pct_mt_theis)):\n",
    "    if val1 != val2:\n",
    "        print(f\"Difference at index {idx}:\")\n",
    "        print(f\"Difference at index {adata.obs['CellID'].iloc[idx]}:\")\n",
    "        \n",
    "        print(f\"pct_mt_optimus: {val1}\")\n",
    "        print(f\"pct_mt_theis: {val2}\")"
   ]
  },
  {
   "cell_type": "code",
   "execution_count": null,
   "metadata": {},
   "outputs": [
    {
     "name": "stdout",
     "output_type": "stream",
     "text": [
      "1047915 cells with different number of n_reads and perfect_molecule_barcodes\n"
     ]
    }
   ],
   "source": [
    "# Check difference between n_reads and perfect_molecule_barcodes\n",
    "mask = adata.obs['n_mitochondrial_molecules'] != adata.obs['perfect_molecule_barcodes']\n",
    "\n",
    "diff_nb = adata.obs[mask]\n",
    "print(f\"{diff_nb.shape[0]} cells with different number of n_reads and perfect_molecule_barcodes\")"
   ]
  }
 ],
 "metadata": {
  "kernelspec": {
   "display_name": "bulk",
   "language": "python",
   "name": "python3"
  },
  "language_info": {
   "codemirror_mode": {
    "name": "ipython",
    "version": 3
   },
   "file_extension": ".py",
   "mimetype": "text/x-python",
   "name": "python",
   "nbconvert_exporter": "python",
   "pygments_lexer": "ipython3",
   "version": "3.9.17"
  },
  "orig_nbformat": 4
 },
 "nbformat": 4,
 "nbformat_minor": 2
}
