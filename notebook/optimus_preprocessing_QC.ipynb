{
 "cells": [
  {
   "cell_type": "markdown",
   "metadata": {},
   "source": [
    "### Analyses of output files from the pipeline optimus v6.0.0\n",
    "#### Aim of this part of analysis is to realize QC filtering of the output files from the pipeline optimus"
   ]
  },
  {
   "cell_type": "markdown",
   "metadata": {},
   "source": [
    "#### Load necessary libraries and useful functions"
   ]
  },
  {
   "cell_type": "code",
   "execution_count": 1,
   "metadata": {},
   "outputs": [],
   "source": [
    "%load_ext autoreload\n",
    "%autoreload 2"
   ]
  },
  {
   "cell_type": "code",
   "execution_count": 84,
   "metadata": {},
   "outputs": [],
   "source": [
    "from typing import Union\n",
    "import fsspec\n",
    "import anndata\n",
    "import pandas as pd\n",
    "import scanpy as sc\n",
    "import seaborn as sns\n",
    "import numpy as np\n",
    "from cellbender.remove_background.downstream import anndata_from_h5\n",
    "from upsetplot import from_contents\n",
    "from upsetplot import UpSet\n",
    "from scipy.stats import median_abs_deviation\n",
    "import dalmatian as dm\n",
    "import collections"
   ]
  },
  {
   "cell_type": "code",
   "execution_count": 4,
   "metadata": {},
   "outputs": [],
   "source": [
    "def read_file_from_url(url: str) -> Union[anndata.AnnData, pd.DataFrame]:\n",
    "    \"\"\"Read a file from a URL and return the appropriate data structure.\n",
    "\n",
    "    Parameters\n",
    "    ----------\n",
    "    url : str\n",
    "        The URL of the file to read.\n",
    "\n",
    "    Returns\n",
    "    -------\n",
    "    output : Union[anndata.AnnData, pd.DataFrame]\n",
    "        The data read from the file, which can be either an AnnData object (if \".h5ad\" in url)\n",
    "        or a Pandas DataFrame (if \".csv\" in url).\n",
    "    \"\"\"\n",
    "\n",
    "    with fsspec.open(url) as f:\n",
    "        if \".h5ad\" in url:\n",
    "            output = anndata.read_h5ad(f)\n",
    "        elif \"Summary.csv\" in url:\n",
    "            output = pd.read_csv(f, header=None) #Read the CSV file with the first row as data\n",
    "        elif \".csv\" in url:\n",
    "            output = pd.read_csv(f)\n",
    "        else:\n",
    "            raise ValueError(\"Unsupported file format. Supported formats are .h5ad and .csv.\")\n",
    "    \n",
    "    return output"
   ]
  },
  {
   "cell_type": "code",
   "execution_count": 6,
   "metadata": {},
   "outputs": [],
   "source": [
    "def human_mt_genes_ident(in_adata: anndata.AnnData) -> None:\n",
    "    \"\"\"Identify human mitochondrial genes, add the boolean column \"mt\" to adata.var \n",
    "    This function also check if the adata contains mouse mt genes\n",
    "    NB mitochondrial genes MT- for human data and mt- for mouse data\n",
    "    \n",
    "    Parameters\n",
    "    ----------\n",
    "    in_adata : AnnData\n",
    "        The AnnData object to check.\n",
    "    \n",
    "    Returns\n",
    "    -------\n",
    "    output : None\n",
    "    \"\"\"\n",
    "    \n",
    "    count_true = (in_adata.var_names.str.startswith(\"mt-\")).sum()\n",
    "    \n",
    "    if count_true > 0:\n",
    "        print(\"Mouse mt number\", count_true)\n",
    "    else:\n",
    "        print(\"No mouse mt genes\")\n",
    "        print(\"Adding human mt genes to adat.var\")\n",
    "        in_adata.var[\"mt\"] = in_adata.var_names.str.startswith(\"MT-\")"
   ]
  },
  {
   "cell_type": "markdown",
   "metadata": {},
   "source": [
    "#### STARsolo summary"
   ]
  },
  {
   "cell_type": "code",
   "execution_count": 12,
   "metadata": {},
   "outputs": [
    {
     "data": {
      "text/html": [
       "<div>\n",
       "<style scoped>\n",
       "    .dataframe tbody tr th:only-of-type {\n",
       "        vertical-align: middle;\n",
       "    }\n",
       "\n",
       "    .dataframe tbody tr th {\n",
       "        vertical-align: top;\n",
       "    }\n",
       "\n",
       "    .dataframe thead th {\n",
       "        text-align: right;\n",
       "    }\n",
       "</style>\n",
       "<table border=\"1\" class=\"dataframe\">\n",
       "  <thead>\n",
       "    <tr style=\"text-align: right;\">\n",
       "      <th></th>\n",
       "      <th>0</th>\n",
       "      <th>1</th>\n",
       "    </tr>\n",
       "  </thead>\n",
       "  <tbody>\n",
       "    <tr>\n",
       "      <th>0</th>\n",
       "      <td>Number of Reads</td>\n",
       "      <td>319930655</td>\n",
       "    </tr>\n",
       "    <tr>\n",
       "      <th>1</th>\n",
       "      <td>Reads With Valid Barcodes</td>\n",
       "      <td>0.973214</td>\n",
       "    </tr>\n",
       "    <tr>\n",
       "      <th>2</th>\n",
       "      <td>Sequencing Saturation</td>\n",
       "      <td>0.667937</td>\n",
       "    </tr>\n",
       "    <tr>\n",
       "      <th>3</th>\n",
       "      <td>Q30 Bases in CB+UMI</td>\n",
       "      <td>0.931203</td>\n",
       "    </tr>\n",
       "    <tr>\n",
       "      <th>4</th>\n",
       "      <td>Q30 Bases in RNA read</td>\n",
       "      <td>0.901736</td>\n",
       "    </tr>\n",
       "    <tr>\n",
       "      <th>5</th>\n",
       "      <td>Reads Mapped to Genome: Unique+Multiple</td>\n",
       "      <td>0.961733</td>\n",
       "    </tr>\n",
       "    <tr>\n",
       "      <th>6</th>\n",
       "      <td>Reads Mapped to Genome: Unique</td>\n",
       "      <td>0.889793</td>\n",
       "    </tr>\n",
       "    <tr>\n",
       "      <th>7</th>\n",
       "      <td>Reads Mapped to Gene: Unique+Multiple Gene</td>\n",
       "      <td>NoMulti</td>\n",
       "    </tr>\n",
       "    <tr>\n",
       "      <th>8</th>\n",
       "      <td>Reads Mapped to Gene: Unique Gene</td>\n",
       "      <td>0.47964</td>\n",
       "    </tr>\n",
       "    <tr>\n",
       "      <th>9</th>\n",
       "      <td>Estimated Number of Cells</td>\n",
       "      <td>5356</td>\n",
       "    </tr>\n",
       "    <tr>\n",
       "      <th>10</th>\n",
       "      <td>Unique Reads in Cells Mapped to Gene</td>\n",
       "      <td>142926839</td>\n",
       "    </tr>\n",
       "    <tr>\n",
       "      <th>11</th>\n",
       "      <td>Fraction of Unique Reads in Cells</td>\n",
       "      <td>0.931413</td>\n",
       "    </tr>\n",
       "    <tr>\n",
       "      <th>12</th>\n",
       "      <td>Mean Reads per Cell</td>\n",
       "      <td>26685</td>\n",
       "    </tr>\n",
       "    <tr>\n",
       "      <th>13</th>\n",
       "      <td>Median Reads per Cell</td>\n",
       "      <td>22374</td>\n",
       "    </tr>\n",
       "    <tr>\n",
       "      <th>14</th>\n",
       "      <td>UMIs in Cells</td>\n",
       "      <td>45321020</td>\n",
       "    </tr>\n",
       "    <tr>\n",
       "      <th>15</th>\n",
       "      <td>Mean UMI per Cell</td>\n",
       "      <td>8461</td>\n",
       "    </tr>\n",
       "    <tr>\n",
       "      <th>16</th>\n",
       "      <td>Median UMI per Cell</td>\n",
       "      <td>6979</td>\n",
       "    </tr>\n",
       "    <tr>\n",
       "      <th>17</th>\n",
       "      <td>Mean Gene per Cell</td>\n",
       "      <td>2371</td>\n",
       "    </tr>\n",
       "    <tr>\n",
       "      <th>18</th>\n",
       "      <td>Median Gene per Cell</td>\n",
       "      <td>2065</td>\n",
       "    </tr>\n",
       "    <tr>\n",
       "      <th>19</th>\n",
       "      <td>Total Gene Detected</td>\n",
       "      <td>29469</td>\n",
       "    </tr>\n",
       "  </tbody>\n",
       "</table>\n",
       "</div>"
      ],
      "text/plain": [
       "                                             0          1\n",
       "0                              Number of Reads  319930655\n",
       "1                    Reads With Valid Barcodes   0.973214\n",
       "2                        Sequencing Saturation   0.667937\n",
       "3                          Q30 Bases in CB+UMI   0.931203\n",
       "4                        Q30 Bases in RNA read   0.901736\n",
       "5      Reads Mapped to Genome: Unique+Multiple   0.961733\n",
       "6               Reads Mapped to Genome: Unique   0.889793\n",
       "7   Reads Mapped to Gene: Unique+Multiple Gene    NoMulti\n",
       "8            Reads Mapped to Gene: Unique Gene    0.47964\n",
       "9                    Estimated Number of Cells       5356\n",
       "10        Unique Reads in Cells Mapped to Gene  142926839\n",
       "11           Fraction of Unique Reads in Cells   0.931413\n",
       "12                         Mean Reads per Cell      26685\n",
       "13                       Median Reads per Cell      22374\n",
       "14                               UMIs in Cells   45321020\n",
       "15                           Mean UMI per Cell       8461\n",
       "16                         Median UMI per Cell       6979\n",
       "17                          Mean Gene per Cell       2371\n",
       "18                        Median Gene per Cell       2065\n",
       "19                         Total Gene Detected      29469"
      ]
     },
     "metadata": {},
     "output_type": "display_data"
    }
   ],
   "source": [
    "### Load STARsolo summary file\n",
    "star_summary_url = \"gs://fc-447aee29-8362-4c0b-b8d0-b3b10eb9e2a6/submissions/96ae8c73-2b91-4a30-b188-2a25a341a459/Optimus/be8bc5cc-dfaf-4e7f-905c-e92735750bb5/call-STARsoloFastq/shard-1/cacheCopy/Summary.csv\"\n",
    "star_summary = read_file_from_url(star_summary_url)\n",
    "display(star_summary)"
   ]
  },
  {
   "cell_type": "markdown",
   "metadata": {},
   "source": [
    "#### Data Loading"
   ]
  },
  {
   "cell_type": "markdown",
   "metadata": {},
   "source": [
    "In this analysis, we load the data from the output file of job (submission ID 94e3d5584-ac31-456a-b046-4c8554108b7d)"
   ]
  },
  {
   "cell_type": "code",
   "execution_count": 7,
   "metadata": {},
   "outputs": [
    {
     "data": {
      "text/html": [
       "<div>\n",
       "<style scoped>\n",
       "    .dataframe tbody tr th:only-of-type {\n",
       "        vertical-align: middle;\n",
       "    }\n",
       "\n",
       "    .dataframe tbody tr th {\n",
       "        vertical-align: top;\n",
       "    }\n",
       "\n",
       "    .dataframe thead th {\n",
       "        text-align: right;\n",
       "    }\n",
       "</style>\n",
       "<table border=\"1\" class=\"dataframe\">\n",
       "  <thead>\n",
       "    <tr style=\"text-align: right;\">\n",
       "      <th></th>\n",
       "      <th>aligner_metrics</th>\n",
       "      <th>bam</th>\n",
       "      <th>cell_calls</th>\n",
       "      <th>cell_metrics</th>\n",
       "      <th>cellbender_cell_barcodes_csv</th>\n",
       "      <th>cellbender_h5_array</th>\n",
       "      <th>cellbender_html_report_array</th>\n",
       "      <th>cellbender_metrics_csv_array</th>\n",
       "      <th>cellbender_summary_pdf</th>\n",
       "      <th>gene_metrics</th>\n",
       "      <th>genomic_reference_version</th>\n",
       "      <th>h5ad_output_file</th>\n",
       "      <th>matrix</th>\n",
       "      <th>matrix_col_index</th>\n",
       "      <th>matrix_row_index</th>\n",
       "      <th>samples</th>\n",
       "    </tr>\n",
       "    <tr>\n",
       "      <th>sample_set_id</th>\n",
       "      <th></th>\n",
       "      <th></th>\n",
       "      <th></th>\n",
       "      <th></th>\n",
       "      <th></th>\n",
       "      <th></th>\n",
       "      <th></th>\n",
       "      <th></th>\n",
       "      <th></th>\n",
       "      <th></th>\n",
       "      <th></th>\n",
       "      <th></th>\n",
       "      <th></th>\n",
       "      <th></th>\n",
       "      <th></th>\n",
       "      <th></th>\n",
       "    </tr>\n",
       "  </thead>\n",
       "  <tbody>\n",
       "    <tr>\n",
       "      <th>optimus_workflow_2023-10-27</th>\n",
       "      <td>gs://fc-447aee29-8362-4c0b-b8d0-b3b10eb9e2a6/s...</td>\n",
       "      <td>gs://fc-447aee29-8362-4c0b-b8d0-b3b10eb9e2a6/s...</td>\n",
       "      <td>gs://fc-447aee29-8362-4c0b-b8d0-b3b10eb9e2a6/s...</td>\n",
       "      <td>gs://fc-447aee29-8362-4c0b-b8d0-b3b10eb9e2a6/s...</td>\n",
       "      <td>gs://fc-447aee29-8362-4c0b-b8d0-b3b10eb9e2a6/s...</td>\n",
       "      <td>[gs://fc-447aee29-8362-4c0b-b8d0-b3b10eb9e2a6/...</td>\n",
       "      <td>[gs://fc-447aee29-8362-4c0b-b8d0-b3b10eb9e2a6/...</td>\n",
       "      <td>[gs://fc-447aee29-8362-4c0b-b8d0-b3b10eb9e2a6/...</td>\n",
       "      <td>gs://fc-447aee29-8362-4c0b-b8d0-b3b10eb9e2a6/s...</td>\n",
       "      <td>gs://fc-447aee29-8362-4c0b-b8d0-b3b10eb9e2a6/s...</td>\n",
       "      <td>gs://fc-447aee29-8362-4c0b-b8d0-b3b10eb9e2a6/s...</td>\n",
       "      <td>gs://fc-447aee29-8362-4c0b-b8d0-b3b10eb9e2a6/s...</td>\n",
       "      <td>gs://fc-447aee29-8362-4c0b-b8d0-b3b10eb9e2a6/s...</td>\n",
       "      <td>gs://fc-447aee29-8362-4c0b-b8d0-b3b10eb9e2a6/s...</td>\n",
       "      <td>gs://fc-447aee29-8362-4c0b-b8d0-b3b10eb9e2a6/s...</td>\n",
       "      <td>[pbmc_10k_v3_S1_L001, pbmc_10k_v3_S1_L002]</td>\n",
       "    </tr>\n",
       "  </tbody>\n",
       "</table>\n",
       "</div>"
      ],
      "text/plain": [
       "                                                               aligner_metrics  \\\n",
       "sample_set_id                                                                    \n",
       "optimus_workflow_2023-10-27  gs://fc-447aee29-8362-4c0b-b8d0-b3b10eb9e2a6/s...   \n",
       "\n",
       "                                                                           bam  \\\n",
       "sample_set_id                                                                    \n",
       "optimus_workflow_2023-10-27  gs://fc-447aee29-8362-4c0b-b8d0-b3b10eb9e2a6/s...   \n",
       "\n",
       "                                                                    cell_calls  \\\n",
       "sample_set_id                                                                    \n",
       "optimus_workflow_2023-10-27  gs://fc-447aee29-8362-4c0b-b8d0-b3b10eb9e2a6/s...   \n",
       "\n",
       "                                                                  cell_metrics  \\\n",
       "sample_set_id                                                                    \n",
       "optimus_workflow_2023-10-27  gs://fc-447aee29-8362-4c0b-b8d0-b3b10eb9e2a6/s...   \n",
       "\n",
       "                                                  cellbender_cell_barcodes_csv  \\\n",
       "sample_set_id                                                                    \n",
       "optimus_workflow_2023-10-27  gs://fc-447aee29-8362-4c0b-b8d0-b3b10eb9e2a6/s...   \n",
       "\n",
       "                                                           cellbender_h5_array  \\\n",
       "sample_set_id                                                                    \n",
       "optimus_workflow_2023-10-27  [gs://fc-447aee29-8362-4c0b-b8d0-b3b10eb9e2a6/...   \n",
       "\n",
       "                                                  cellbender_html_report_array  \\\n",
       "sample_set_id                                                                    \n",
       "optimus_workflow_2023-10-27  [gs://fc-447aee29-8362-4c0b-b8d0-b3b10eb9e2a6/...   \n",
       "\n",
       "                                                  cellbender_metrics_csv_array  \\\n",
       "sample_set_id                                                                    \n",
       "optimus_workflow_2023-10-27  [gs://fc-447aee29-8362-4c0b-b8d0-b3b10eb9e2a6/...   \n",
       "\n",
       "                                                        cellbender_summary_pdf  \\\n",
       "sample_set_id                                                                    \n",
       "optimus_workflow_2023-10-27  gs://fc-447aee29-8362-4c0b-b8d0-b3b10eb9e2a6/s...   \n",
       "\n",
       "                                                                  gene_metrics  \\\n",
       "sample_set_id                                                                    \n",
       "optimus_workflow_2023-10-27  gs://fc-447aee29-8362-4c0b-b8d0-b3b10eb9e2a6/s...   \n",
       "\n",
       "                                                     genomic_reference_version  \\\n",
       "sample_set_id                                                                    \n",
       "optimus_workflow_2023-10-27  gs://fc-447aee29-8362-4c0b-b8d0-b3b10eb9e2a6/s...   \n",
       "\n",
       "                                                              h5ad_output_file  \\\n",
       "sample_set_id                                                                    \n",
       "optimus_workflow_2023-10-27  gs://fc-447aee29-8362-4c0b-b8d0-b3b10eb9e2a6/s...   \n",
       "\n",
       "                                                                        matrix  \\\n",
       "sample_set_id                                                                    \n",
       "optimus_workflow_2023-10-27  gs://fc-447aee29-8362-4c0b-b8d0-b3b10eb9e2a6/s...   \n",
       "\n",
       "                                                              matrix_col_index  \\\n",
       "sample_set_id                                                                    \n",
       "optimus_workflow_2023-10-27  gs://fc-447aee29-8362-4c0b-b8d0-b3b10eb9e2a6/s...   \n",
       "\n",
       "                                                              matrix_row_index  \\\n",
       "sample_set_id                                                                    \n",
       "optimus_workflow_2023-10-27  gs://fc-447aee29-8362-4c0b-b8d0-b3b10eb9e2a6/s...   \n",
       "\n",
       "                                                                samples  \n",
       "sample_set_id                                                            \n",
       "optimus_workflow_2023-10-27  [pbmc_10k_v3_S1_L001, pbmc_10k_v3_S1_L002]  "
      ]
     },
     "metadata": {},
     "output_type": "display_data"
    },
    {
     "data": {
      "text/plain": [
       "Index(['aligner_metrics', 'bam', 'cell_calls', 'cell_metrics',\n",
       "       'cellbender_cell_barcodes_csv', 'cellbender_h5_array',\n",
       "       'cellbender_html_report_array', 'cellbender_metrics_csv_array',\n",
       "       'cellbender_summary_pdf', 'gene_metrics', 'genomic_reference_version',\n",
       "       'h5ad_output_file', 'matrix', 'matrix_col_index', 'matrix_row_index',\n",
       "       'samples'],\n",
       "      dtype='object')"
      ]
     },
     "metadata": {},
     "output_type": "display_data"
    }
   ],
   "source": [
    "TERRA_WS = \"whitelabgx/scRNAseq\"\n",
    "wm = dm.WorkspaceManager(TERRA_WS)\n",
    "output_df = wm.get_sample_sets()\n",
    "display(output_df)\n",
    "display(output_df.columns)"
   ]
  },
  {
   "cell_type": "markdown",
   "metadata": {},
   "source": [
    "h5ad file of optimus (without cellbender correction)"
   ]
  },
  {
   "cell_type": "markdown",
   "metadata": {},
   "source": [
    "###### You can load the h5ad directly form the bucket, or you can download it from the bucket and load it locally."
   ]
  },
  {
   "cell_type": "code",
   "execution_count": null,
   "metadata": {},
   "outputs": [],
   "source": [
    "### Load h5ad file\n",
    "\"\"\"\n",
    "h5ad_url = output_df.loc[output_df.index[0], 'h5ad_output_file']\n",
    "#h5ad_url = output_df.loc['optimus_workflow_2023-10-27', 'h5ad_output_file']\n",
    "adata = read_file_from_url(h5ad_url)\n",
    "\"\"\""
   ]
  },
  {
   "cell_type": "code",
   "execution_count": 8,
   "metadata": {},
   "outputs": [
    {
     "name": "stderr",
     "output_type": "stream",
     "text": [
      "/opt/homebrew/Caskroom/miniconda/base/envs/bulk/lib/python3.9/site-packages/anndata/_core/anndata.py:1899: UserWarning: Variable names are not unique. To make them unique, call `.var_names_make_unique`.\n",
      "  utils.warn_names_duplicates(\"var\")\n"
     ]
    }
   ],
   "source": [
    "### Load the data locally, more quickly\n",
    "input_h5ad = \"../scAtlas/tmp/10k_pbmc_v3.h5ad\"\n",
    "adata = sc.read_h5ad(input_h5ad)"
   ]
  },
  {
   "cell_type": "code",
   "execution_count": 9,
   "metadata": {},
   "outputs": [
    {
     "data": {
      "text/plain": [
       "AnnData object with n_obs × n_vars = 1136912 × 58347\n",
       "    obs: 'cell_names', 'CellID', 'emptydrops_Limited', 'emptydrops_IsCell', 'n_reads', 'noise_reads', 'perfect_molecule_barcodes', 'reads_mapped_exonic', 'reads_mapped_exonic_as', 'reads_mapped_intronic', 'reads_mapped_intronic_as', 'reads_mapped_uniquely', 'reads_mapped_multiple', 'duplicate_reads', 'spliced_reads', 'antisense_reads', 'n_molecules', 'n_fragments', 'fragments_with_single_read_evidence', 'molecules_with_single_read_evidence', 'perfect_cell_barcodes', 'reads_mapped_intergenic', 'reads_unmapped', 'reads_mapped_too_many_loci', 'n_genes', 'genes_detected_multiple_observations', 'emptydrops_Total', 'molecule_barcode_fraction_bases_above_30_mean', 'molecule_barcode_fraction_bases_above_30_variance', 'genomic_reads_fraction_bases_quality_above_30_mean', 'genomic_reads_fraction_bases_quality_above_30_variance', 'genomic_read_quality_mean', 'genomic_read_quality_variance', 'reads_per_molecule', 'reads_per_fragment', 'fragments_per_molecule', 'cell_barcode_fraction_bases_above_30_mean', 'cell_barcode_fraction_bases_above_30_variance', 'n_mitochondrial_genes', 'n_mitochondrial_molecules', 'pct_mitochondrial_molecules', 'emptydrops_LogProb', 'emptydrops_PValue', 'emptydrops_FDR', 'input_id'\n",
       "    var: 'gene_names', 'ensembl_ids', 'Gene', 'n_reads', 'noise_reads', 'perfect_molecule_barcodes', 'reads_mapped_exonic', 'reads_mapped_exonic_as', 'reads_mapped_intronic', 'reads_mapped_intronic_as', 'reads_mapped_uniquely', 'reads_mapped_multiple', 'duplicate_reads', 'spliced_reads', 'antisense_reads', 'molecule_barcode_fraction_bases_above_30_mean', 'molecule_barcode_fraction_bases_above_30_variance', 'genomic_reads_fraction_bases_quality_above_30_mean', 'genomic_reads_fraction_bases_quality_above_30_variance', 'genomic_read_quality_mean', 'genomic_read_quality_variance', 'n_molecules', 'n_fragments', 'reads_per_molecule', 'reads_per_fragment', 'fragments_per_molecule', 'fragments_with_single_read_evidence', 'molecules_with_single_read_evidence', 'number_cells_detected_multiple', 'number_cells_expressing'\n",
       "    uns: 'expression_data_type', 'input_id', 'optimus_output_schema_version', 'pipeline_version'"
      ]
     },
     "execution_count": 9,
     "metadata": {},
     "output_type": "execute_result"
    }
   ],
   "source": [
    "adata"
   ]
  },
  {
   "cell_type": "markdown",
   "metadata": {},
   "source": [
    "###### check barcode and gene names"
   ]
  },
  {
   "cell_type": "code",
   "execution_count": 10,
   "metadata": {},
   "outputs": [
    {
     "data": {
      "text/plain": [
       "Index(['DDX11L1', 'WASH7P', 'MIR6859-1', 'MIR1302-2HG', 'MIR1302-2', 'FAM138A',\n",
       "       'AL627309.6', 'OR4G11P', 'OR4F5', 'AL627309.1',\n",
       "       ...\n",
       "       'pRNA', 'RNA5-8S5', 'pRNA', 'RNA5-8SN2', 'AC007325.3', 'AC007325.1',\n",
       "       'AC007325.4', 'AC007325.2', 'U6', 'U1'],\n",
       "      dtype='object', length=58347)"
      ]
     },
     "execution_count": 10,
     "metadata": {},
     "output_type": "execute_result"
    }
   ],
   "source": [
    "adata.var_names"
   ]
  },
  {
   "cell_type": "code",
   "execution_count": 11,
   "metadata": {},
   "outputs": [
    {
     "data": {
      "text/plain": [
       "Index(['AAACCCAAGAAACACT', 'AAACCCAAGAAACCAT', 'AAACCCAAGAAACTAC',\n",
       "       'AAACCCAAGAAACTCA', 'AAACCCAAGAAACTGT', 'AAACCCAAGAAAGCGA',\n",
       "       'AAACCCAAGAAAGTCT', 'AAACCCAAGAAATCCA', 'AAACCCAAGAACGCGT',\n",
       "       'AAACCCAAGAAGCCAC',\n",
       "       ...\n",
       "       'TTTGTTGTCTTCTAAC', 'TTTGTTGTCTTCTCTT', 'TTTGTTGTCTTCTTCC',\n",
       "       'TTTGTTGTCTTGATTC', 'TTTGTTGTCTTGCGCT', 'TTTGTTGTCTTGGTCC',\n",
       "       'TTTGTTGTCTTGTACC', 'TTTGTTGTCTTTACAC', 'TTTGTTGTCTTTGCGC',\n",
       "       'TTTGTTGTCTTTGCTA'],\n",
       "      dtype='object', length=1136912)"
      ]
     },
     "execution_count": 11,
     "metadata": {},
     "output_type": "execute_result"
    }
   ],
   "source": [
    "adata.obs_names"
   ]
  },
  {
   "cell_type": "markdown",
   "metadata": {},
   "source": [
    "Check if there are no annotated genes (without gene names)"
   ]
  },
  {
   "cell_type": "code",
   "execution_count": 11,
   "metadata": {},
   "outputs": [
    {
     "name": "stdout",
     "output_type": "stream",
     "text": [
      "0 genes without gene names\n"
     ]
    }
   ],
   "source": [
    "no_name_gene = adata.var[adata.var['Gene'] == \"\"]\n",
    "print(f\"{no_name_gene.shape[0]} genes without gene names\")"
   ]
  },
  {
   "cell_type": "markdown",
   "metadata": {},
   "source": [
    "Find duplicate variable (gene) names"
   ]
  },
  {
   "cell_type": "code",
   "execution_count": 12,
   "metadata": {},
   "outputs": [
    {
     "name": "stdout",
     "output_type": "stream",
     "text": [
      "Duplicate variable names: ['U6', 'TP73-AS1', 'Y_RNA', 'SNORA77', 'SCARNA16', 'SNORA70', 'SCARNA11', 'SCARNA17', 'SCARNA18', 'snoU13', 'SNORA44', 'SNORA16A', 'SCARNA24', 'Metazoa_SRP', 'uc_338', 'SNORA62', 'SNORA63', 'SNORD46', 'SNORD38B', 'SNORA26', 'SNORA58', 'DLEU2_6', 'DLEU2_5', 'DLEU2_4', 'DLEU2_3', 'DLEU2_2', 'DLEU2_1', 'SNORA31', 'SNORA2', 'SNORD81', 'SNORA51', 'SNORA25', 'SNORA42', 'U3', 'SNORA40', '7SK', 'U1', 'U2', '5S_rRNA', 'U6atac', 'U4', 'SNORD59', 'SCARNA4', 'SNORD64', 'ACA64', 'RGS5', 'SCARNA20', 'U7', 'SNORA67', 'SNORA72', 'SNORD60', 'SNORD116', 'U8', 'LINC01115', 'SNORD18', 'SCARNA21', 'SNORA36', 'SNORD75', 'TMEM247', 'STPG4', 'SNORA75', 'SNORA12', 'SNORD78', 'ACA59', 'SNORA74', 'snoU109', 'SNORA19', 'ACTR3BP2', 'DAOA-AS1_2', 'SCARNA15', 'SNORA48', 'SNORD56', 'PDE11A', 'SNORA43', 'SNORA17', 'PCGEM1', 'SNORA4', 'SNORD70', 'SNORD11', 'SNORA1', 'Vault', 'SNORD51', 'SCARNA6', 'SNORD39', 'LINC01238', 'GHRLOS', 'SNORD5', 'SNORA64', 'SNORD77', 'PRSS50', 'CYB561D2', 'SNORD19B', 'SNORD19', 'SNORD63', 'PRICKLE2-AS1', 'Clostridiales-1', 'TUSC7', 'LINC00901', 'TXNRD3NB', 'SNORA24', 'SNORA33', 'PISRT1', 'CLRN1-AS1', 'SNORA18', 'SNORA81', 'SNORD66', 'SNORD2', 'SNORD74', 'SNORA3', 'SNORD50', 'SNORD42', 'snoU2_19', 'SNORA11', 'SNORD65', 'SNORA57', 'SNORA76', 'SNORA50D', 'ARL14EPL', 'snoZ6', 'MATR3', 'SNORD45', 'SNORA27', 'SNORA68', 'SNORD95', 'HULC', 'HIST1H3D', 'ZNRD1-AS1_2', 'SNORA38', 'SNORA8', 'SNORA73', 'SOGA3', 'HYMAI', 'RAET1E-AS1', 'SNORA20', 'POLR2J4', 'SNORA9', 'SNORA15', 'SNORA22', 'RABGEF1', 'POLR2J2', 'KBTBD11-OT1', 'SNORD38', 'SNORD112', 'pRNA', 'SNORA7', 'MAL2', 'SNORA32', 'LYNX1', 'RMRP', 'LINC00484', 'LINC01505', 'MIR219A2', 'SNORA17B', 'SNORD115', 'CTSLP2', 'DNAJC9-AS1', 'BMS1P4', 'SNORA71', 'FAS-AS1', 'H19_1', 'H19_2', 'snoMBII-202', 'SNORD67', 'SNORD22', 'SNORD30', 'SNORD27', 'mascRNA-menRNA', 'MALAT1', 'ALG1L9P', 'H19_3', 'snoU2-30', 'SDHD', 'ITFG2-AS1', 'EMG1', 'OR7E47P', 'LINC01598', 'LINC01481', 'snoMe28S-Am2634', 'SPATA13', 'SNORA16', 'SNORD37', '5_8S_rRNA', 'LINC01297', 'SNORD41', 'SFTA3', 'SNORA46', 'SNORD113', 'GOLGA8M', 'GABARAPL3', 'SNORA30', 'SNORA50A', 'COG8', 'SNORD111', 'SNORD33', 'SNORA69', 'SNORD3D', 'SNORD23', 'UCA1', 'HAR1A', 'RNA5-8SN5', 'DUXAP8', 'DGCR5', 'MIR130B', 'LINC01422', 'RFPL3-AS1_1', 'SNORA50B', 'ELFN2', 'SCO2', 'AL954722.1', 'PLCXD1', 'GTPBP6', 'LINC00685', 'PPP2R3B', 'AL732314.6', 'AL732314.4', 'FABP5P13', 'KRT18P53', 'SHOX', 'AL672277.1', 'RPL14P5', 'CRLF2', 'CSF2RA', 'MIR3690', 'RNA5SP498', 'IL3RA', 'SLC25A6', 'LINC00106', 'ASMTL-AS1', 'ASMTL', 'P2RY8', 'AKAP17A', 'ASMT', 'AL683807.1', 'AL683807.2', 'DHRSX', 'DHRSX-IT1', 'ZBED1', 'MIR6089', 'CD99P1', 'LINC00102', 'CD99', 'SNORD3E', 'TMSB15B', 'SNORA35', 'CDR1', 'SPRY3', 'AMD1P2', 'DPH3P2', 'VAMP7', 'ELOCP24', 'TRPC6P', 'IL9R', 'AJ271736.1', 'WASIR1', 'WASH6P', 'DDX11L16']\n",
      "Number of duplicate variable: 256\n"
     ]
    }
   ],
   "source": [
    "var_names = adata.var_names\n",
    "duplicates = [item for item, count in collections.Counter(var_names).items() if count > 1]\n",
    "\n",
    "print(\"Duplicate variable names:\", duplicates)\n",
    "print(\"Number of duplicate variable:\", len(duplicates))"
   ]
  },
  {
   "cell_type": "markdown",
   "metadata": {},
   "source": [
    "Make variable names unique"
   ]
  },
  {
   "cell_type": "markdown",
   "metadata": {},
   "source": [
    "###### Not all variable names are unique: This indicates that some variables (=genes) appear more than once which can lead to errors or unintended behavior for downstream analysis tasks. We execute the proposed function var_names_make_unique() which makes the variable name unique by appending a number string to each duplicate index element: ‘1’, ‘2’, etc."
   ]
  },
  {
   "cell_type": "code",
   "execution_count": 13,
   "metadata": {},
   "outputs": [
    {
     "name": "stderr",
     "output_type": "stream",
     "text": [
      "/opt/homebrew/Caskroom/miniconda/base/envs/bulk/lib/python3.9/site-packages/anndata/utils.py:260: UserWarning: Suffix used (-[0-9]+) to deduplicate index values may make index values difficult to interpret. There values with a similar suffixes in the index. Consider using a different delimiter by passing `join={delimiter}`Example key collisions generated by the make_index_unique algorithm: ['SNORD116-1', 'SNORD116-2', 'SNORD116-3', 'SNORD116-4', 'SNORD116-5']\n",
      "  warnings.warn(\n"
     ]
    }
   ],
   "source": [
    "adata.var_names_make_unique()"
   ]
  },
  {
   "cell_type": "markdown",
   "metadata": {},
   "source": [
    "Check if we have zero counts droplets"
   ]
  },
  {
   "cell_type": "code",
   "execution_count": 13,
   "metadata": {},
   "outputs": [
    {
     "name": "stdout",
     "output_type": "stream",
     "text": [
      "0 zero count cell\n"
     ]
    }
   ],
   "source": [
    "print(f\"{adata.obs.loc[adata.obs.n_reads == 0, :].shape[0]} zero count cell\")"
   ]
  },
  {
   "cell_type": "code",
   "execution_count": null,
   "metadata": {},
   "outputs": [],
   "source": [
    "\"\"\"\n",
    "# the same as above\n",
    "no_0count_cell = adata.obs.loc[adata.obs.n_reads != 0, :]\n",
    "no_0count_cell\n",
    "\"\"\""
   ]
  }
 ],
 "metadata": {
  "kernelspec": {
   "display_name": "bulk",
   "language": "python",
   "name": "bulk"
  },
  "language_info": {
   "codemirror_mode": {
    "name": "ipython",
    "version": 3
   },
   "file_extension": ".py",
   "mimetype": "text/x-python",
   "name": "python",
   "nbconvert_exporter": "python",
   "pygments_lexer": "ipython3",
   "version": "3.9.17"
  },
  "orig_nbformat": 4
 },
 "nbformat": 4,
 "nbformat_minor": 2
}
