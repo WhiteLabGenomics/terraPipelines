{
 "cells": [
  {
   "cell_type": "markdown",
   "metadata": {},
   "source": [
    "### Comparison of the Optimus pipeline results from wlg (V6.0.0) and broad institute (V5.8.4)\n",
    "#### Aim of this part of analysis is identify the strength of the differences between the two version of Optimus pipelines and to understand the reasons for the differences"
   ]
  },
  {
   "cell_type": "markdown",
   "metadata": {},
   "source": [
    "#### 1. Load necessary libraries and useful functions"
   ]
  },
  {
   "cell_type": "code",
   "execution_count": 1,
   "metadata": {},
   "outputs": [],
   "source": [
    "%load_ext autoreload\n",
    "%autoreload 2"
   ]
  },
  {
   "cell_type": "code",
   "execution_count": 2,
   "metadata": {},
   "outputs": [],
   "source": [
    "import os\n",
    "from basicAtlas import terra\n",
    "import dalmatian as dm\n",
    "import collections\n",
    "import numpy as np"
   ]
  },
  {
   "cell_type": "code",
   "execution_count": 3,
   "metadata": {},
   "outputs": [],
   "source": [
    "import fsspec\n",
    "import anndata\n",
    "import pandas as pd\n",
    "from typing import Union\n",
    "\n",
    "def read_file_from_url(url: str) -> Union[anndata.AnnData, pd.DataFrame]:\n",
    "    \"\"\"Read a file from a URL and return the appropriate data structure.\n",
    "\n",
    "    Parameters\n",
    "    ----------\n",
    "    url : str\n",
    "        The URL of the file to read.\n",
    "\n",
    "    Returns\n",
    "    -------\n",
    "    output : Union[anndata.AnnData, pd.DataFrame]\n",
    "        The data read from the file, which can be either an AnnData object (if \".h5ad\" in url)\n",
    "        or a Pandas DataFrame (if \".csv\" in url).\n",
    "    \"\"\"\n",
    "\n",
    "    with fsspec.open(url) as f:\n",
    "        if \".h5ad\" in url:\n",
    "            output = anndata.read_h5ad(f)\n",
    "        elif \"Summary.csv\" in url:\n",
    "            output = pd.read_csv(f, header=None) #Read the CSV file with the first row as data\n",
    "        elif \".csv\" in url:\n",
    "            output = pd.read_csv(f)\n",
    "        else:\n",
    "            raise ValueError(\"Unsupported file format. Supported formats are .h5ad and .csv.\")\n",
    "    \n",
    "    return output"
   ]
  },
  {
   "cell_type": "code",
   "execution_count": 34,
   "metadata": {},
   "outputs": [],
   "source": [
    "def compare_2_df(df1: pd.DataFrame, df2: pd.DataFrame) -> None:\n",
    "    \"\"\"Compare two Pandas DataFrames and print the differences.\n",
    "\n",
    "    Parameters\n",
    "    ----------\n",
    "    df1 : pd.DataFrame\n",
    "        The first DataFrame to compare.\n",
    "    df2 : pd.DataFrame\n",
    "        The second DataFrame to compare.\n",
    "\n",
    "    Returns\n",
    "    -------\n",
    "    None\n",
    "    \"\"\"\n",
    "\n",
    "    # Identify common columns\n",
    "    common_columns = df1.columns.intersection(df2.columns)\n",
    "\n",
    "    # Select common columns from each DataFrame\n",
    "    common_df1 = df1[common_columns]\n",
    "    common_df2 = df2[common_columns]\n",
    "\n",
    "    # Compare the selected subsets and store the differences\n",
    "    differences = common_df1.compare(common_df2)\n",
    "    print(differences)\n",
    "\n",
    "    # Check if there are differences\n",
    "    if differences.empty:\n",
    "        print(\"The common parts of the DataFrames are identical.\")\n",
    "    else:\n",
    "        print(\"Differences in the common parts of the DataFrames:\")\n",
    "        print(differences)"
   ]
  },
  {
   "cell_type": "markdown",
   "metadata": {},
   "source": [
    "#### 2. Data uploading to WLG bucket"
   ]
  },
  {
   "cell_type": "code",
   "execution_count": 4,
   "metadata": {},
   "outputs": [
    {
     "name": "stdout",
     "output_type": "stream",
     "text": [
      "/Users/xiliu/Documents/analysis/terraPipelines/notebook\n"
     ]
    }
   ],
   "source": [
    "# current directory\n",
    "current_directory = os.getcwd()\n",
    "print(current_directory)"
   ]
  },
  {
   "cell_type": "code",
   "execution_count": 8,
   "metadata": {
    "vscode": {
     "languageId": "shellscript"
    }
   },
   "outputs": [
    {
     "name": "stdout",
     "output_type": "stream",
     "text": [
      "Copying file://../scAtlas/tmp/gencode.v27.primary_assembly.annotation.gtf [Content-Type=application/octet-stream]...\n",
      "==> NOTE: You are uploading one or more large file(s), which would run          \n",
      "significantly faster if you enable parallel composite uploads. This\n",
      "feature can be enabled by editing the\n",
      "\"parallel_composite_upload_threshold\" value in your .boto\n",
      "configuration file. However, note that if you do this large files will\n",
      "be uploaded as `composite objects\n",
      "<https://cloud.google.com/storage/docs/composite-objects>`_,which\n",
      "means that any user who downloads such objects will need to have a\n",
      "compiled crcmod installed (see \"gsutil help crcmod\"). This is because\n",
      "without a compiled crcmod, computing checksums on composite objects is\n",
      "so slow that gsutil disables downloads of composite objects.\n",
      "\n",
      "/ [1 files][  1.1 GiB/  1.1 GiB]   31.9 MiB/s                                   \n",
      "Operation completed over 1 objects/1.1 GiB.                                      \n"
     ]
    }
   ],
   "source": [
    "# Upload the primary annotation to WLG bucket\n",
    "#!gsutil cp ../scAtlas/tmp/gencode.v27.primary_assembly.annotation.gtf \"gs://whitelabgx-references/hg38/gencode.v27.primary_assembly.annotation.gtf\""
   ]
  },
  {
   "cell_type": "markdown",
   "metadata": {},
   "source": [
    "#### 3. Comparison of the STARsolo summary"
   ]
  },
  {
   "cell_type": "code",
   "execution_count": 4,
   "metadata": {},
   "outputs": [],
   "source": [
    "# WLG's summary file\n",
    "wlg_star_url = \"gs://fc-447aee29-8362-4c0b-b8d0-b3b10eb9e2a6/submissions/07e6d89b-3db8-436e-bc50-fef6b40cdd04/Optimus/934d7faa-21e2-452d-a624-ea8896142b81/call-STARsoloFastq/shard-1/cacheCopy/Summary.csv\"\n",
    "wlg_star_summary = read_file_from_url(wlg_star_url)"
   ]
  },
  {
   "cell_type": "code",
   "execution_count": 27,
   "metadata": {},
   "outputs": [],
   "source": [
    "# HCA's summary file\n",
    "hca_star_url =\"gs://fc-447aee29-8362-4c0b-b8d0-b3b10eb9e2a6/submissions/ca3a5a8d-3a78-4a10-8ea6-4f4f8eb26c5d/Optimus/600fabcf-7af4-45e4-9ada-c759ed1d6d5f/call-STARsoloFastq/shard-1/Summary.csv\"\n",
    "hca_star_summary = read_file_from_url(hca_star_url)"
   ]
  },
  {
   "cell_type": "code",
   "execution_count": 30,
   "metadata": {},
   "outputs": [
    {
     "data": {
      "text/html": [
       "<div>\n",
       "<style scoped>\n",
       "    .dataframe tbody tr th:only-of-type {\n",
       "        vertical-align: middle;\n",
       "    }\n",
       "\n",
       "    .dataframe tbody tr th {\n",
       "        vertical-align: top;\n",
       "    }\n",
       "\n",
       "    .dataframe thead th {\n",
       "        text-align: right;\n",
       "    }\n",
       "</style>\n",
       "<table border=\"1\" class=\"dataframe\">\n",
       "  <thead>\n",
       "    <tr style=\"text-align: right;\">\n",
       "      <th></th>\n",
       "      <th>0</th>\n",
       "      <th>1</th>\n",
       "    </tr>\n",
       "  </thead>\n",
       "  <tbody>\n",
       "    <tr>\n",
       "      <th>0</th>\n",
       "      <td>Number of Reads</td>\n",
       "      <td>319930655</td>\n",
       "    </tr>\n",
       "    <tr>\n",
       "      <th>1</th>\n",
       "      <td>Reads With Valid Barcodes</td>\n",
       "      <td>0.973214</td>\n",
       "    </tr>\n",
       "    <tr>\n",
       "      <th>2</th>\n",
       "      <td>Sequencing Saturation</td>\n",
       "      <td>0.667937</td>\n",
       "    </tr>\n",
       "    <tr>\n",
       "      <th>3</th>\n",
       "      <td>Q30 Bases in CB+UMI</td>\n",
       "      <td>0.931203</td>\n",
       "    </tr>\n",
       "    <tr>\n",
       "      <th>4</th>\n",
       "      <td>Q30 Bases in RNA read</td>\n",
       "      <td>0.901736</td>\n",
       "    </tr>\n",
       "    <tr>\n",
       "      <th>5</th>\n",
       "      <td>Reads Mapped to Genome: Unique+Multiple</td>\n",
       "      <td>0.961733</td>\n",
       "    </tr>\n",
       "    <tr>\n",
       "      <th>6</th>\n",
       "      <td>Reads Mapped to Genome: Unique</td>\n",
       "      <td>0.889793</td>\n",
       "    </tr>\n",
       "    <tr>\n",
       "      <th>7</th>\n",
       "      <td>Reads Mapped to Gene: Unique+Multiple Gene</td>\n",
       "      <td>NoMulti</td>\n",
       "    </tr>\n",
       "    <tr>\n",
       "      <th>8</th>\n",
       "      <td>Reads Mapped to Gene: Unique Gene</td>\n",
       "      <td>0.47964</td>\n",
       "    </tr>\n",
       "    <tr>\n",
       "      <th>9</th>\n",
       "      <td>Estimated Number of Cells</td>\n",
       "      <td>5356</td>\n",
       "    </tr>\n",
       "    <tr>\n",
       "      <th>10</th>\n",
       "      <td>Unique Reads in Cells Mapped to Gene</td>\n",
       "      <td>142926839</td>\n",
       "    </tr>\n",
       "    <tr>\n",
       "      <th>11</th>\n",
       "      <td>Fraction of Unique Reads in Cells</td>\n",
       "      <td>0.931413</td>\n",
       "    </tr>\n",
       "    <tr>\n",
       "      <th>12</th>\n",
       "      <td>Mean Reads per Cell</td>\n",
       "      <td>26685</td>\n",
       "    </tr>\n",
       "    <tr>\n",
       "      <th>13</th>\n",
       "      <td>Median Reads per Cell</td>\n",
       "      <td>22374</td>\n",
       "    </tr>\n",
       "    <tr>\n",
       "      <th>14</th>\n",
       "      <td>UMIs in Cells</td>\n",
       "      <td>45321020</td>\n",
       "    </tr>\n",
       "    <tr>\n",
       "      <th>15</th>\n",
       "      <td>Mean UMI per Cell</td>\n",
       "      <td>8461</td>\n",
       "    </tr>\n",
       "    <tr>\n",
       "      <th>16</th>\n",
       "      <td>Median UMI per Cell</td>\n",
       "      <td>6979</td>\n",
       "    </tr>\n",
       "    <tr>\n",
       "      <th>17</th>\n",
       "      <td>Mean Gene per Cell</td>\n",
       "      <td>2371</td>\n",
       "    </tr>\n",
       "    <tr>\n",
       "      <th>18</th>\n",
       "      <td>Median Gene per Cell</td>\n",
       "      <td>2065</td>\n",
       "    </tr>\n",
       "    <tr>\n",
       "      <th>19</th>\n",
       "      <td>Total Gene Detected</td>\n",
       "      <td>29469</td>\n",
       "    </tr>\n",
       "  </tbody>\n",
       "</table>\n",
       "</div>"
      ],
      "text/plain": [
       "                                             0          1\n",
       "0                              Number of Reads  319930655\n",
       "1                    Reads With Valid Barcodes   0.973214\n",
       "2                        Sequencing Saturation   0.667937\n",
       "3                          Q30 Bases in CB+UMI   0.931203\n",
       "4                        Q30 Bases in RNA read   0.901736\n",
       "5      Reads Mapped to Genome: Unique+Multiple   0.961733\n",
       "6               Reads Mapped to Genome: Unique   0.889793\n",
       "7   Reads Mapped to Gene: Unique+Multiple Gene    NoMulti\n",
       "8            Reads Mapped to Gene: Unique Gene    0.47964\n",
       "9                    Estimated Number of Cells       5356\n",
       "10        Unique Reads in Cells Mapped to Gene  142926839\n",
       "11           Fraction of Unique Reads in Cells   0.931413\n",
       "12                         Mean Reads per Cell      26685\n",
       "13                       Median Reads per Cell      22374\n",
       "14                               UMIs in Cells   45321020\n",
       "15                           Mean UMI per Cell       8461\n",
       "16                         Median UMI per Cell       6979\n",
       "17                          Mean Gene per Cell       2371\n",
       "18                        Median Gene per Cell       2065\n",
       "19                         Total Gene Detected      29469"
      ]
     },
     "metadata": {},
     "output_type": "display_data"
    },
    {
     "data": {
      "text/html": [
       "<div>\n",
       "<style scoped>\n",
       "    .dataframe tbody tr th:only-of-type {\n",
       "        vertical-align: middle;\n",
       "    }\n",
       "\n",
       "    .dataframe tbody tr th {\n",
       "        vertical-align: top;\n",
       "    }\n",
       "\n",
       "    .dataframe thead th {\n",
       "        text-align: right;\n",
       "    }\n",
       "</style>\n",
       "<table border=\"1\" class=\"dataframe\">\n",
       "  <thead>\n",
       "    <tr style=\"text-align: right;\">\n",
       "      <th></th>\n",
       "      <th>0</th>\n",
       "      <th>1</th>\n",
       "    </tr>\n",
       "  </thead>\n",
       "  <tbody>\n",
       "    <tr>\n",
       "      <th>0</th>\n",
       "      <td>Number of Reads</td>\n",
       "      <td>319930655</td>\n",
       "    </tr>\n",
       "    <tr>\n",
       "      <th>1</th>\n",
       "      <td>Reads With Valid Barcodes</td>\n",
       "      <td>0.973214</td>\n",
       "    </tr>\n",
       "    <tr>\n",
       "      <th>2</th>\n",
       "      <td>Sequencing Saturation</td>\n",
       "      <td>0.667937</td>\n",
       "    </tr>\n",
       "    <tr>\n",
       "      <th>3</th>\n",
       "      <td>Q30 Bases in CB+UMI</td>\n",
       "      <td>0.931203</td>\n",
       "    </tr>\n",
       "    <tr>\n",
       "      <th>4</th>\n",
       "      <td>Q30 Bases in RNA read</td>\n",
       "      <td>0.901736</td>\n",
       "    </tr>\n",
       "    <tr>\n",
       "      <th>5</th>\n",
       "      <td>Reads Mapped to Genome: Unique+Multiple</td>\n",
       "      <td>0.961733</td>\n",
       "    </tr>\n",
       "    <tr>\n",
       "      <th>6</th>\n",
       "      <td>Reads Mapped to Genome: Unique</td>\n",
       "      <td>0.889793</td>\n",
       "    </tr>\n",
       "    <tr>\n",
       "      <th>7</th>\n",
       "      <td>Reads Mapped to Gene: Unique+Multiple Gene</td>\n",
       "      <td>NoMulti</td>\n",
       "    </tr>\n",
       "    <tr>\n",
       "      <th>8</th>\n",
       "      <td>Reads Mapped to Gene: Unique Gene</td>\n",
       "      <td>0.47964</td>\n",
       "    </tr>\n",
       "    <tr>\n",
       "      <th>9</th>\n",
       "      <td>Estimated Number of Cells</td>\n",
       "      <td>5356</td>\n",
       "    </tr>\n",
       "    <tr>\n",
       "      <th>10</th>\n",
       "      <td>Unique Reads in Cells Mapped to Gene</td>\n",
       "      <td>142926839</td>\n",
       "    </tr>\n",
       "    <tr>\n",
       "      <th>11</th>\n",
       "      <td>Fraction of Unique Reads in Cells</td>\n",
       "      <td>0.931413</td>\n",
       "    </tr>\n",
       "    <tr>\n",
       "      <th>12</th>\n",
       "      <td>Mean Reads per Cell</td>\n",
       "      <td>26685</td>\n",
       "    </tr>\n",
       "    <tr>\n",
       "      <th>13</th>\n",
       "      <td>Median Reads per Cell</td>\n",
       "      <td>22374</td>\n",
       "    </tr>\n",
       "    <tr>\n",
       "      <th>14</th>\n",
       "      <td>UMIs in Cells</td>\n",
       "      <td>45321020</td>\n",
       "    </tr>\n",
       "    <tr>\n",
       "      <th>15</th>\n",
       "      <td>Mean UMI per Cell</td>\n",
       "      <td>8461</td>\n",
       "    </tr>\n",
       "    <tr>\n",
       "      <th>16</th>\n",
       "      <td>Median UMI per Cell</td>\n",
       "      <td>6979</td>\n",
       "    </tr>\n",
       "    <tr>\n",
       "      <th>17</th>\n",
       "      <td>Mean Gene per Cell</td>\n",
       "      <td>2371</td>\n",
       "    </tr>\n",
       "    <tr>\n",
       "      <th>18</th>\n",
       "      <td>Median Gene per Cell</td>\n",
       "      <td>2065</td>\n",
       "    </tr>\n",
       "    <tr>\n",
       "      <th>19</th>\n",
       "      <td>Total Gene Detected</td>\n",
       "      <td>29469</td>\n",
       "    </tr>\n",
       "  </tbody>\n",
       "</table>\n",
       "</div>"
      ],
      "text/plain": [
       "                                             0          1\n",
       "0                              Number of Reads  319930655\n",
       "1                    Reads With Valid Barcodes   0.973214\n",
       "2                        Sequencing Saturation   0.667937\n",
       "3                          Q30 Bases in CB+UMI   0.931203\n",
       "4                        Q30 Bases in RNA read   0.901736\n",
       "5      Reads Mapped to Genome: Unique+Multiple   0.961733\n",
       "6               Reads Mapped to Genome: Unique   0.889793\n",
       "7   Reads Mapped to Gene: Unique+Multiple Gene    NoMulti\n",
       "8            Reads Mapped to Gene: Unique Gene    0.47964\n",
       "9                    Estimated Number of Cells       5356\n",
       "10        Unique Reads in Cells Mapped to Gene  142926839\n",
       "11           Fraction of Unique Reads in Cells   0.931413\n",
       "12                         Mean Reads per Cell      26685\n",
       "13                       Median Reads per Cell      22374\n",
       "14                               UMIs in Cells   45321020\n",
       "15                           Mean UMI per Cell       8461\n",
       "16                         Median UMI per Cell       6979\n",
       "17                          Mean Gene per Cell       2371\n",
       "18                        Median Gene per Cell       2065\n",
       "19                         Total Gene Detected      29469"
      ]
     },
     "metadata": {},
     "output_type": "display_data"
    }
   ],
   "source": [
    "display(wlg_star_summary)\n",
    "display(hca_star_summary)"
   ]
  },
  {
   "cell_type": "code",
   "execution_count": 31,
   "metadata": {},
   "outputs": [
    {
     "data": {
      "text/html": [
       "<div>\n",
       "<style scoped>\n",
       "    .dataframe tbody tr th:only-of-type {\n",
       "        vertical-align: middle;\n",
       "    }\n",
       "\n",
       "    .dataframe tbody tr th {\n",
       "        vertical-align: top;\n",
       "    }\n",
       "\n",
       "    .dataframe thead th {\n",
       "        text-align: right;\n",
       "    }\n",
       "</style>\n",
       "<table border=\"1\" class=\"dataframe\">\n",
       "  <thead>\n",
       "    <tr style=\"text-align: right;\">\n",
       "      <th></th>\n",
       "      <th>0</th>\n",
       "      <th>1</th>\n",
       "    </tr>\n",
       "  </thead>\n",
       "  <tbody>\n",
       "    <tr>\n",
       "      <th>0</th>\n",
       "      <td>False</td>\n",
       "      <td>False</td>\n",
       "    </tr>\n",
       "    <tr>\n",
       "      <th>1</th>\n",
       "      <td>False</td>\n",
       "      <td>False</td>\n",
       "    </tr>\n",
       "    <tr>\n",
       "      <th>2</th>\n",
       "      <td>False</td>\n",
       "      <td>False</td>\n",
       "    </tr>\n",
       "    <tr>\n",
       "      <th>3</th>\n",
       "      <td>False</td>\n",
       "      <td>False</td>\n",
       "    </tr>\n",
       "    <tr>\n",
       "      <th>4</th>\n",
       "      <td>False</td>\n",
       "      <td>False</td>\n",
       "    </tr>\n",
       "    <tr>\n",
       "      <th>5</th>\n",
       "      <td>False</td>\n",
       "      <td>False</td>\n",
       "    </tr>\n",
       "    <tr>\n",
       "      <th>6</th>\n",
       "      <td>False</td>\n",
       "      <td>False</td>\n",
       "    </tr>\n",
       "    <tr>\n",
       "      <th>7</th>\n",
       "      <td>False</td>\n",
       "      <td>False</td>\n",
       "    </tr>\n",
       "    <tr>\n",
       "      <th>8</th>\n",
       "      <td>False</td>\n",
       "      <td>False</td>\n",
       "    </tr>\n",
       "    <tr>\n",
       "      <th>9</th>\n",
       "      <td>False</td>\n",
       "      <td>False</td>\n",
       "    </tr>\n",
       "    <tr>\n",
       "      <th>10</th>\n",
       "      <td>False</td>\n",
       "      <td>False</td>\n",
       "    </tr>\n",
       "    <tr>\n",
       "      <th>11</th>\n",
       "      <td>False</td>\n",
       "      <td>False</td>\n",
       "    </tr>\n",
       "    <tr>\n",
       "      <th>12</th>\n",
       "      <td>False</td>\n",
       "      <td>False</td>\n",
       "    </tr>\n",
       "    <tr>\n",
       "      <th>13</th>\n",
       "      <td>False</td>\n",
       "      <td>False</td>\n",
       "    </tr>\n",
       "    <tr>\n",
       "      <th>14</th>\n",
       "      <td>False</td>\n",
       "      <td>False</td>\n",
       "    </tr>\n",
       "    <tr>\n",
       "      <th>15</th>\n",
       "      <td>False</td>\n",
       "      <td>False</td>\n",
       "    </tr>\n",
       "    <tr>\n",
       "      <th>16</th>\n",
       "      <td>False</td>\n",
       "      <td>False</td>\n",
       "    </tr>\n",
       "    <tr>\n",
       "      <th>17</th>\n",
       "      <td>False</td>\n",
       "      <td>False</td>\n",
       "    </tr>\n",
       "    <tr>\n",
       "      <th>18</th>\n",
       "      <td>False</td>\n",
       "      <td>False</td>\n",
       "    </tr>\n",
       "    <tr>\n",
       "      <th>19</th>\n",
       "      <td>False</td>\n",
       "      <td>False</td>\n",
       "    </tr>\n",
       "  </tbody>\n",
       "</table>\n",
       "</div>"
      ],
      "text/plain": [
       "        0      1\n",
       "0   False  False\n",
       "1   False  False\n",
       "2   False  False\n",
       "3   False  False\n",
       "4   False  False\n",
       "5   False  False\n",
       "6   False  False\n",
       "7   False  False\n",
       "8   False  False\n",
       "9   False  False\n",
       "10  False  False\n",
       "11  False  False\n",
       "12  False  False\n",
       "13  False  False\n",
       "14  False  False\n",
       "15  False  False\n",
       "16  False  False\n",
       "17  False  False\n",
       "18  False  False\n",
       "19  False  False"
      ]
     },
     "execution_count": 31,
     "metadata": {},
     "output_type": "execute_result"
    }
   ],
   "source": [
    "# Compare the two summary files\n",
    "differences = hca_star_summary.ne(wlg_star_summary)\n",
    "differences"
   ]
  },
  {
   "cell_type": "markdown",
   "metadata": {},
   "source": [
    "#### 4. Load and compare the results (h5ad) from the two pipelines"
   ]
  },
  {
   "cell_type": "markdown",
   "metadata": {},
   "source": [
    "##### 4.1. Fetch results using broad institute HCA_Optimus_Pipeline: pbmc human 10k v3 S1"
   ]
  },
  {
   "cell_type": "code",
   "execution_count": 5,
   "metadata": {},
   "outputs": [
    {
     "name": "stderr",
     "output_type": "stream",
     "text": [
      "/opt/homebrew/Caskroom/miniconda/base/envs/bulk/lib/python3.9/site-packages/anndata/_core/anndata.py:1830: UserWarning: Variable names are not unique. To make them unique, call `.var_names_make_unique`.\n",
      "  utils.warn_names_duplicates(\"var\")\n"
     ]
    }
   ],
   "source": [
    "hca_h5ad_url = \"gs://fc-447aee29-8362-4c0b-b8d0-b3b10eb9e2a6/submissions/ca3a5a8d-3a78-4a10-8ea6-4f4f8eb26c5d/Optimus/600fabcf-7af4-45e4-9ada-c759ed1d6d5f/call-OptimusH5adGeneration/pbmc_human_v3.h5ad\"\n",
    "hca_adata = read_file_from_url(hca_h5ad_url)"
   ]
  },
  {
   "cell_type": "code",
   "execution_count": 6,
   "metadata": {},
   "outputs": [
    {
     "data": {
      "text/plain": [
       "AnnData object with n_obs × n_vars = 1136912 × 58347\n",
       "    obs: 'cell_names', 'CellID', 'emptydrops_Limited', 'emptydrops_IsCell', 'n_reads', 'noise_reads', 'perfect_molecule_barcodes', 'reads_mapped_uniquely', 'reads_mapped_multiple', 'spliced_reads', 'antisense_reads', 'n_molecules', 'n_fragments', 'fragments_with_single_read_evidence', 'molecules_with_single_read_evidence', 'perfect_cell_barcodes', 'reads_mapped_too_many_loci', 'n_genes', 'genes_detected_multiple_observations', 'emptydrops_Total', 'molecule_barcode_fraction_bases_above_30_mean', 'molecule_barcode_fraction_bases_above_30_variance', 'genomic_reads_fraction_bases_quality_above_30_mean', 'genomic_reads_fraction_bases_quality_above_30_variance', 'genomic_read_quality_mean', 'genomic_read_quality_variance', 'reads_per_fragment', 'fragments_per_molecule', 'cell_barcode_fraction_bases_above_30_mean', 'cell_barcode_fraction_bases_above_30_variance', 'n_mitochondrial_genes', 'n_mitochondrial_molecules', 'pct_mitochondrial_molecules', 'emptydrops_LogProb', 'emptydrops_PValue', 'emptydrops_FDR', 'input_id'\n",
       "    var: 'gene_names', 'ensembl_ids', 'Gene', 'n_reads', 'noise_reads', 'perfect_molecule_barcodes', 'reads_mapped_uniquely', 'reads_mapped_multiple', 'spliced_reads', 'antisense_reads', 'molecule_barcode_fraction_bases_above_30_mean', 'molecule_barcode_fraction_bases_above_30_variance', 'genomic_reads_fraction_bases_quality_above_30_mean', 'genomic_reads_fraction_bases_quality_above_30_variance', 'genomic_read_quality_mean', 'genomic_read_quality_variance', 'n_molecules', 'n_fragments', 'reads_per_molecule', 'reads_per_fragment', 'fragments_per_molecule', 'fragments_with_single_read_evidence', 'molecules_with_single_read_evidence', 'number_cells_detected_multiple', 'number_cells_expressing'\n",
       "    uns: 'expression_data_type', 'input_id', 'optimus_output_schema_version', 'pipeline_version'"
      ]
     },
     "execution_count": 6,
     "metadata": {},
     "output_type": "execute_result"
    }
   ],
   "source": [
    "hca_adata\n",
    "#display(hca_adata.obs)\n",
    "#display(hca_adata.var.tail(10))"
   ]
  },
  {
   "cell_type": "code",
   "execution_count": 32,
   "metadata": {},
   "outputs": [
    {
     "name": "stdout",
     "output_type": "stream",
     "text": [
      "Duplicate variable names: ['U6', 'TP73-AS1', 'Y_RNA', 'SNORA77', 'SCARNA16', 'SNORA70', 'SCARNA11', 'SCARNA17', 'SCARNA18', 'snoU13', 'SNORA44', 'SNORA16A', 'SCARNA24', 'Metazoa_SRP', 'uc_338', 'SNORA62', 'SNORA63', 'SNORD46', 'SNORD38B', 'SNORA26', 'SNORA58', 'DLEU2_6', 'DLEU2_5', 'DLEU2_4', 'DLEU2_3', 'DLEU2_2', 'DLEU2_1', 'SNORA31', 'SNORA2', 'SNORD81', 'SNORA51', 'SNORA25', 'SNORA42', 'U3', 'SNORA40', '7SK', 'U1', 'U2', '5S_rRNA', 'U6atac', 'U4', 'SNORD59', 'SCARNA4', 'SNORD64', 'ACA64', 'RGS5', 'SCARNA20', 'U7', 'SNORA67', 'SNORA72', 'SNORD60', 'SNORD116', 'U8', 'LINC01115', 'SNORD18', 'SCARNA21', 'SNORA36', 'SNORD75', 'TMEM247', 'STPG4', 'SNORA75', 'SNORA12', 'SNORD78', 'ACA59', 'SNORA74', 'snoU109', 'SNORA19', 'ACTR3BP2', 'DAOA-AS1_2', 'SCARNA15', 'SNORA48', 'SNORD56', 'PDE11A', 'SNORA43', 'SNORA17', 'PCGEM1', 'SNORA4', 'SNORD70', 'SNORD11', 'SNORA1', 'Vault', 'SNORD51', 'SCARNA6', 'SNORD39', 'LINC01238', 'GHRLOS', 'SNORD5', 'SNORA64', 'SNORD77', 'PRSS50', 'CYB561D2', 'SNORD19B', 'SNORD19', 'SNORD63', 'PRICKLE2-AS1', 'Clostridiales-1', 'TUSC7', 'LINC00901', 'TXNRD3NB', 'SNORA24', 'SNORA33', 'PISRT1', 'CLRN1-AS1', 'SNORA18', 'SNORA81', 'SNORD66', 'SNORD2', 'SNORD74', 'SNORA3', 'SNORD50', 'SNORD42', 'snoU2_19', 'SNORA11', 'SNORD65', 'SNORA57', 'SNORA76', 'SNORA50D', 'ARL14EPL', 'snoZ6', 'MATR3', 'SNORD45', 'SNORA27', 'SNORA68', 'SNORD95', 'HULC', 'HIST1H3D', 'ZNRD1-AS1_2', 'SNORA38', 'SNORA8', 'SNORA73', 'SOGA3', 'HYMAI', 'RAET1E-AS1', 'SNORA20', 'POLR2J4', 'SNORA9', 'SNORA15', 'SNORA22', 'RABGEF1', 'POLR2J2', 'KBTBD11-OT1', 'SNORD38', 'SNORD112', 'pRNA', 'SNORA7', 'MAL2', 'SNORA32', 'LYNX1', 'RMRP', 'LINC00484', 'LINC01505', 'MIR219A2', 'SNORA17B', 'SNORD115', 'CTSLP2', 'DNAJC9-AS1', 'BMS1P4', 'SNORA71', 'FAS-AS1', 'H19_1', 'H19_2', 'snoMBII-202', 'SNORD67', 'SNORD22', 'SNORD30', 'SNORD27', 'mascRNA-menRNA', 'MALAT1', 'ALG1L9P', 'H19_3', 'snoU2-30', 'SDHD', 'ITFG2-AS1', 'EMG1', 'OR7E47P', 'LINC01598', 'LINC01481', 'snoMe28S-Am2634', 'SPATA13', 'SNORA16', 'SNORD37', '5_8S_rRNA', 'LINC01297', 'SNORD41', 'SFTA3', 'SNORA46', 'SNORD113', 'GOLGA8M', 'GABARAPL3', 'SNORA30', 'SNORA50A', 'COG8', 'SNORD111', 'SNORD33', 'SNORA69', 'SNORD3D', 'SNORD23', 'UCA1', 'HAR1A', 'RNA5-8SN5', 'DUXAP8', 'DGCR5', 'MIR130B', 'LINC01422', 'RFPL3-AS1_1', 'SNORA50B', 'ELFN2', 'SCO2', 'AL954722.1', 'PLCXD1', 'GTPBP6', 'LINC00685', 'PPP2R3B', 'AL732314.6', 'AL732314.4', 'FABP5P13', 'KRT18P53', 'SHOX', 'AL672277.1', 'RPL14P5', 'CRLF2', 'CSF2RA', 'MIR3690', 'RNA5SP498', 'IL3RA', 'SLC25A6', 'LINC00106', 'ASMTL-AS1', 'ASMTL', 'P2RY8', 'AKAP17A', 'ASMT', 'AL683807.1', 'AL683807.2', 'DHRSX', 'DHRSX-IT1', 'ZBED1', 'MIR6089', 'CD99P1', 'LINC00102', 'CD99', 'SNORD3E', 'TMSB15B', 'SNORA35', 'CDR1', 'SPRY3', 'AMD1P2', 'DPH3P2', 'VAMP7', 'ELOCP24', 'TRPC6P', 'IL9R', 'AJ271736.1', 'WASIR1', 'WASH6P', 'DDX11L16']\n",
      "Number of duplicate variable: 256\n"
     ]
    }
   ],
   "source": [
    "# Find duplicate variable (gene) names\n",
    "hca_var_names = hca_adata.var_names\n",
    "hca_duplicates = [item for item, count in collections.Counter(hca_var_names).items() if count > 1]\n",
    "\n",
    "print(\"Duplicate variable names:\", hca_duplicates)\n",
    "print(\"Number of duplicate variable:\", len(hca_duplicates))"
   ]
  },
  {
   "cell_type": "code",
   "execution_count": null,
   "metadata": {},
   "outputs": [],
   "source": [
    "# Subset the AnnData var to only include the duplicated variables\n",
    "for target_var_name in hca_duplicates:\n",
    "    print(\"Variable name:\", target_var_name)\n",
    "    print(\"Duplication quantity:\", hca_adata.var[hca_adata.var_names == target_var_name].shape[0])\n",
    "    print(\"Variable:\", hca_adata.var[hca_adata.var_names == target_var_name])"
   ]
  },
  {
   "cell_type": "code",
   "execution_count": 33,
   "metadata": {},
   "outputs": [
    {
     "name": "stderr",
     "output_type": "stream",
     "text": [
      "/opt/homebrew/Caskroom/miniconda/base/envs/bulk/lib/python3.9/site-packages/anndata/utils.py:111: UserWarning: Suffix used (-[0-9]+) to deduplicate index values may make index values difficult to interpret. There values with a similar suffixes in the index. Consider using a different delimiter by passing `join={delimiter}`Example key collisions generated by the make_index_unique algorithm: ['SNORD116-1', 'SNORD116-2', 'SNORD116-3', 'SNORD116-4', 'SNORD116-5']\n",
      "  warnings.warn(\n"
     ]
    }
   ],
   "source": [
    "# Variable names are not unique. To make them unique\n",
    "hca_adata.var_names_make_unique()"
   ]
  },
  {
   "cell_type": "markdown",
   "metadata": {},
   "source": [
    "##### 4.2. Fetch results from WLG pipeline"
   ]
  },
  {
   "cell_type": "code",
   "execution_count": 8,
   "metadata": {},
   "outputs": [
    {
     "data": {
      "text/html": [
       "<div>\n",
       "<style scoped>\n",
       "    .dataframe tbody tr th:only-of-type {\n",
       "        vertical-align: middle;\n",
       "    }\n",
       "\n",
       "    .dataframe tbody tr th {\n",
       "        vertical-align: top;\n",
       "    }\n",
       "\n",
       "    .dataframe thead th {\n",
       "        text-align: right;\n",
       "    }\n",
       "</style>\n",
       "<table border=\"1\" class=\"dataframe\">\n",
       "  <thead>\n",
       "    <tr style=\"text-align: right;\">\n",
       "      <th></th>\n",
       "      <th>aligner_metrics</th>\n",
       "      <th>bam</th>\n",
       "      <th>cell_barcodes_csv</th>\n",
       "      <th>cell_calls</th>\n",
       "      <th>cell_metrics</th>\n",
       "      <th>gene_metrics</th>\n",
       "      <th>genomic_reference_version</th>\n",
       "      <th>h5ad_output_file</th>\n",
       "      <th>html_report_array</th>\n",
       "      <th>matrix</th>\n",
       "      <th>matrix_col_index</th>\n",
       "      <th>matrix_row_index</th>\n",
       "      <th>metrics_csv_array</th>\n",
       "      <th>samples</th>\n",
       "      <th>summary_pdf</th>\n",
       "    </tr>\n",
       "    <tr>\n",
       "      <th>sample_set_id</th>\n",
       "      <th></th>\n",
       "      <th></th>\n",
       "      <th></th>\n",
       "      <th></th>\n",
       "      <th></th>\n",
       "      <th></th>\n",
       "      <th></th>\n",
       "      <th></th>\n",
       "      <th></th>\n",
       "      <th></th>\n",
       "      <th></th>\n",
       "      <th></th>\n",
       "      <th></th>\n",
       "      <th></th>\n",
       "      <th></th>\n",
       "    </tr>\n",
       "  </thead>\n",
       "  <tbody>\n",
       "    <tr>\n",
       "      <th>optimus_V6.0.0_wlg</th>\n",
       "      <td>gs://fc-447aee29-8362-4c0b-b8d0-b3b10eb9e2a6/s...</td>\n",
       "      <td>gs://fc-447aee29-8362-4c0b-b8d0-b3b10eb9e2a6/s...</td>\n",
       "      <td>gs://fc-447aee29-8362-4c0b-b8d0-b3b10eb9e2a6/s...</td>\n",
       "      <td>gs://fc-447aee29-8362-4c0b-b8d0-b3b10eb9e2a6/s...</td>\n",
       "      <td>gs://fc-447aee29-8362-4c0b-b8d0-b3b10eb9e2a6/s...</td>\n",
       "      <td>gs://fc-447aee29-8362-4c0b-b8d0-b3b10eb9e2a6/s...</td>\n",
       "      <td>gs://fc-447aee29-8362-4c0b-b8d0-b3b10eb9e2a6/s...</td>\n",
       "      <td>gs://fc-447aee29-8362-4c0b-b8d0-b3b10eb9e2a6/s...</td>\n",
       "      <td>[gs://fc-447aee29-8362-4c0b-b8d0-b3b10eb9e2a6/...</td>\n",
       "      <td>gs://fc-447aee29-8362-4c0b-b8d0-b3b10eb9e2a6/s...</td>\n",
       "      <td>gs://fc-447aee29-8362-4c0b-b8d0-b3b10eb9e2a6/s...</td>\n",
       "      <td>gs://fc-447aee29-8362-4c0b-b8d0-b3b10eb9e2a6/s...</td>\n",
       "      <td>[gs://fc-447aee29-8362-4c0b-b8d0-b3b10eb9e2a6/...</td>\n",
       "      <td>[pbmc_10k_v3_S1_L001, pbmc_10k_v3_S1_L002]</td>\n",
       "      <td>gs://fc-447aee29-8362-4c0b-b8d0-b3b10eb9e2a6/s...</td>\n",
       "    </tr>\n",
       "  </tbody>\n",
       "</table>\n",
       "</div>"
      ],
      "text/plain": [
       "                                                      aligner_metrics  \\\n",
       "sample_set_id                                                           \n",
       "optimus_V6.0.0_wlg  gs://fc-447aee29-8362-4c0b-b8d0-b3b10eb9e2a6/s...   \n",
       "\n",
       "                                                                  bam  \\\n",
       "sample_set_id                                                           \n",
       "optimus_V6.0.0_wlg  gs://fc-447aee29-8362-4c0b-b8d0-b3b10eb9e2a6/s...   \n",
       "\n",
       "                                                    cell_barcodes_csv  \\\n",
       "sample_set_id                                                           \n",
       "optimus_V6.0.0_wlg  gs://fc-447aee29-8362-4c0b-b8d0-b3b10eb9e2a6/s...   \n",
       "\n",
       "                                                           cell_calls  \\\n",
       "sample_set_id                                                           \n",
       "optimus_V6.0.0_wlg  gs://fc-447aee29-8362-4c0b-b8d0-b3b10eb9e2a6/s...   \n",
       "\n",
       "                                                         cell_metrics  \\\n",
       "sample_set_id                                                           \n",
       "optimus_V6.0.0_wlg  gs://fc-447aee29-8362-4c0b-b8d0-b3b10eb9e2a6/s...   \n",
       "\n",
       "                                                         gene_metrics  \\\n",
       "sample_set_id                                                           \n",
       "optimus_V6.0.0_wlg  gs://fc-447aee29-8362-4c0b-b8d0-b3b10eb9e2a6/s...   \n",
       "\n",
       "                                            genomic_reference_version  \\\n",
       "sample_set_id                                                           \n",
       "optimus_V6.0.0_wlg  gs://fc-447aee29-8362-4c0b-b8d0-b3b10eb9e2a6/s...   \n",
       "\n",
       "                                                     h5ad_output_file  \\\n",
       "sample_set_id                                                           \n",
       "optimus_V6.0.0_wlg  gs://fc-447aee29-8362-4c0b-b8d0-b3b10eb9e2a6/s...   \n",
       "\n",
       "                                                    html_report_array  \\\n",
       "sample_set_id                                                           \n",
       "optimus_V6.0.0_wlg  [gs://fc-447aee29-8362-4c0b-b8d0-b3b10eb9e2a6/...   \n",
       "\n",
       "                                                               matrix  \\\n",
       "sample_set_id                                                           \n",
       "optimus_V6.0.0_wlg  gs://fc-447aee29-8362-4c0b-b8d0-b3b10eb9e2a6/s...   \n",
       "\n",
       "                                                     matrix_col_index  \\\n",
       "sample_set_id                                                           \n",
       "optimus_V6.0.0_wlg  gs://fc-447aee29-8362-4c0b-b8d0-b3b10eb9e2a6/s...   \n",
       "\n",
       "                                                     matrix_row_index  \\\n",
       "sample_set_id                                                           \n",
       "optimus_V6.0.0_wlg  gs://fc-447aee29-8362-4c0b-b8d0-b3b10eb9e2a6/s...   \n",
       "\n",
       "                                                    metrics_csv_array  \\\n",
       "sample_set_id                                                           \n",
       "optimus_V6.0.0_wlg  [gs://fc-447aee29-8362-4c0b-b8d0-b3b10eb9e2a6/...   \n",
       "\n",
       "                                                       samples  \\\n",
       "sample_set_id                                                    \n",
       "optimus_V6.0.0_wlg  [pbmc_10k_v3_S1_L001, pbmc_10k_v3_S1_L002]   \n",
       "\n",
       "                                                          summary_pdf  \n",
       "sample_set_id                                                          \n",
       "optimus_V6.0.0_wlg  gs://fc-447aee29-8362-4c0b-b8d0-b3b10eb9e2a6/s...  "
      ]
     },
     "metadata": {},
     "output_type": "display_data"
    }
   ],
   "source": [
    "wm = dm.WorkspaceManager(TERRA_WS)\n",
    "output_df = wm.get_sample_sets()\n",
    "display(output_df)\n",
    "#display(output_df.columns)\n",
    "\n",
    "#wlg_h5ad_url = output_df.loc['optimus_V6.0.0_wlg', 'h5ad_output_file']\n",
    "#wlg_adata = read_file_from_url(wlg_h5ad_url)"
   ]
  },
  {
   "cell_type": "markdown",
   "metadata": {},
   "source": [
    "##### For this part of analysis, we use te code of chunk below to read the data, \n",
    "##### because the results of this job used the same parameters as the broad institute pipeline"
   ]
  },
  {
   "cell_type": "code",
   "execution_count": 6,
   "metadata": {},
   "outputs": [
    {
     "name": "stderr",
     "output_type": "stream",
     "text": [
      "/opt/homebrew/Caskroom/miniconda/base/envs/bulk/lib/python3.9/site-packages/anndata/_core/anndata.py:1830: UserWarning: Variable names are not unique. To make them unique, call `.var_names_make_unique`.\n",
      "  utils.warn_names_duplicates(\"var\")\n"
     ]
    }
   ],
   "source": [
    "wlg_h5ad_url = \"gs://fc-447aee29-8362-4c0b-b8d0-b3b10eb9e2a6/submissions/07e6d89b-3db8-436e-bc50-fef6b40cdd04/Optimus/934d7faa-21e2-452d-a624-ea8896142b81/call-OptimusH5adGeneration/10k_pbmc_v3.h5ad\"\n",
    "wlg_adata = read_file_from_url(wlg_h5ad_url)"
   ]
  },
  {
   "cell_type": "code",
   "execution_count": 9,
   "metadata": {},
   "outputs": [
    {
     "data": {
      "text/plain": [
       "AnnData object with n_obs × n_vars = 1136912 × 58347\n",
       "    obs: 'cell_names', 'CellID', 'emptydrops_Limited', 'emptydrops_IsCell', 'n_reads', 'noise_reads', 'perfect_molecule_barcodes', 'reads_mapped_exonic', 'reads_mapped_exonic_as', 'reads_mapped_intronic', 'reads_mapped_intronic_as', 'reads_mapped_uniquely', 'reads_mapped_multiple', 'duplicate_reads', 'spliced_reads', 'antisense_reads', 'n_molecules', 'n_fragments', 'fragments_with_single_read_evidence', 'molecules_with_single_read_evidence', 'perfect_cell_barcodes', 'reads_mapped_intergenic', 'reads_unmapped', 'reads_mapped_too_many_loci', 'n_genes', 'genes_detected_multiple_observations', 'emptydrops_Total', 'molecule_barcode_fraction_bases_above_30_mean', 'molecule_barcode_fraction_bases_above_30_variance', 'genomic_reads_fraction_bases_quality_above_30_mean', 'genomic_reads_fraction_bases_quality_above_30_variance', 'genomic_read_quality_mean', 'genomic_read_quality_variance', 'reads_per_molecule', 'reads_per_fragment', 'fragments_per_molecule', 'cell_barcode_fraction_bases_above_30_mean', 'cell_barcode_fraction_bases_above_30_variance', 'n_mitochondrial_genes', 'n_mitochondrial_molecules', 'pct_mitochondrial_molecules', 'emptydrops_LogProb', 'emptydrops_PValue', 'emptydrops_FDR', 'input_id'\n",
       "    var: 'gene_names', 'ensembl_ids', 'Gene', 'n_reads', 'noise_reads', 'perfect_molecule_barcodes', 'reads_mapped_exonic', 'reads_mapped_exonic_as', 'reads_mapped_intronic', 'reads_mapped_intronic_as', 'reads_mapped_uniquely', 'reads_mapped_multiple', 'duplicate_reads', 'spliced_reads', 'antisense_reads', 'molecule_barcode_fraction_bases_above_30_mean', 'molecule_barcode_fraction_bases_above_30_variance', 'genomic_reads_fraction_bases_quality_above_30_mean', 'genomic_reads_fraction_bases_quality_above_30_variance', 'genomic_read_quality_mean', 'genomic_read_quality_variance', 'n_molecules', 'n_fragments', 'reads_per_molecule', 'reads_per_fragment', 'fragments_per_molecule', 'fragments_with_single_read_evidence', 'molecules_with_single_read_evidence', 'number_cells_detected_multiple', 'number_cells_expressing'\n",
       "    uns: 'expression_data_type', 'input_id', 'optimus_output_schema_version', 'pipeline_version'"
      ]
     },
     "execution_count": 9,
     "metadata": {},
     "output_type": "execute_result"
    }
   ],
   "source": [
    "wlg_adata\n",
    "#display(wlg_adata.obs)\n",
    "#display(wlg_adata.var)"
   ]
  },
  {
   "cell_type": "markdown",
   "metadata": {},
   "source": [
    "##### 4.3. comparison of h5ad results from the two pipelines"
   ]
  },
  {
   "cell_type": "markdown",
   "metadata": {},
   "source": [
    "##### 4.3.1. comparison of selection features from the two pipelines"
   ]
  },
  {
   "cell_type": "code",
   "execution_count": 36,
   "metadata": {},
   "outputs": [
    {
     "name": "stdout",
     "output_type": "stream",
     "text": [
      "Empty DataFrame\n",
      "Columns: []\n",
      "Index: []\n",
      "The common parts of the DataFrames are identical.\n"
     ]
    }
   ],
   "source": [
    "# Compare some important columns in the obs\n",
    "wlg_obs_df = wlg_adata.obs[['n_reads',\n",
    "               'perfect_molecule_barcodes',\n",
    "               'perfect_cell_barcodes',\n",
    "               'molecule_barcode_fraction_bases_above_30_mean',\n",
    "               'emptydrops_FDR',\n",
    "               'emptydrops_Total']]\n",
    "\n",
    "hca_obs_df = hca_adata.obs[['n_reads',\n",
    "               'perfect_molecule_barcodes',\n",
    "               'perfect_cell_barcodes',\n",
    "               'molecule_barcode_fraction_bases_above_30_mean',\n",
    "               'emptydrops_FDR',\n",
    "               'emptydrops_Total']]\n",
    "\n",
    "compare_2_df(wlg_obs_df, hca_obs_df) "
   ]
  },
  {
   "cell_type": "code",
   "execution_count": 37,
   "metadata": {},
   "outputs": [
    {
     "name": "stdout",
     "output_type": "stream",
     "text": [
      "Empty DataFrame\n",
      "Columns: []\n",
      "Index: []\n",
      "The common parts of the DataFrames are identical.\n"
     ]
    }
   ],
   "source": [
    "# Compare some important columns in the var\n",
    "wlg_var_df = wlg_adata.var[['n_reads',\n",
    "                'perfect_molecule_barcodes',\n",
    "                'molecule_barcode_fraction_bases_above_30_mean',\n",
    "                'reads_per_molecule',\n",
    "                'molecule_barcode_fraction_bases_above_30_variance']]\n",
    "\n",
    "hca_var_df = hca_adata.var[['n_reads',\n",
    "                'perfect_molecule_barcodes',\n",
    "                'molecule_barcode_fraction_bases_above_30_mean',\n",
    "                'reads_per_molecule',\n",
    "                'molecule_barcode_fraction_bases_above_30_variance']]\n",
    "\n",
    "compare_2_df(wlg_var_df, hca_var_df) "
   ]
  },
  {
   "cell_type": "markdown",
   "metadata": {},
   "source": [
    "##### Optional: comparison of adata.X from the two pipelines"
   ]
  },
  {
   "cell_type": "markdown",
   "metadata": {},
   "source": [
    "###### doesn't work in local machine, because of the memory limitation"
   ]
  },
  {
   "cell_type": "code",
   "execution_count": 10,
   "metadata": {},
   "outputs": [
    {
     "name": "stderr",
     "output_type": "stream",
     "text": [
      "<__array_function__ internals>:200: SparseEfficiencyWarning: Comparing sparse matrices using == is inefficient, try using != instead.\n"
     ]
    },
    {
     "ename": "",
     "evalue": "",
     "output_type": "error",
     "traceback": [
      "\u001b[1;31mThe Kernel crashed while executing code in the the current cell or a previous cell. Please review the code in the cell(s) to identify a possible cause of the failure. Click <a href='https://aka.ms/vscodeJupyterKernelCrash'>here</a> for more info. View Jupyter <a href='command:jupyter.viewOutput'>log</a> for further details."
     ]
    }
   ],
   "source": [
    "# Compare the .X matrices element-wise\n",
    "x_equal = np.array_equal(wlg_adata.X, hca_adata.X)\n",
    "\n",
    "if x_equal:\n",
    "    print(\"The .X matrices are equal.\")\n",
    "else:\n",
    "    print(\"The .X matrices are not equal.\")\n"
   ]
  },
  {
   "cell_type": "markdown",
   "metadata": {},
   "source": [
    "##### Optional: comparison of sparse matrix from the two pipelines"
   ]
  },
  {
   "cell_type": "markdown",
   "metadata": {},
   "source": [
    "###### doesn't work in local machine, because of the memory limitation"
   ]
  },
  {
   "cell_type": "code",
   "execution_count": 35,
   "metadata": {},
   "outputs": [
    {
     "ename": "",
     "evalue": "",
     "output_type": "error",
     "traceback": [
      "\u001b[1;31mThe Kernel crashed while executing code in the the current cell or a previous cell. Please review the code in the cell(s) to identify a possible cause of the failure. Click <a href='https://aka.ms/vscodeJupyterKernelCrash'>here</a> for more info. View Jupyter <a href='command:jupyter.viewOutput'>log</a> for further details."
     ]
    }
   ],
   "source": [
    "# sparse matrix is named 'sparse_matrix'\n",
    "wlg_sparse_matrix = wlg_adata.X\n",
    "\n",
    "# Convert the sparse matrix to a dense NumPy array\n",
    "wlg_dense_matrix = wlg_sparse_matrix.toarray()\n",
    "\n",
    "# use regular NumPy indexing to see the head\n",
    "#head = wlg_dense_matrix[:5, :]  # Assuming you want to see the first 5 rows\n",
    "\n",
    "# Split the first 300000 rows\n",
    "split_wlg_dense_matrix = wlg_dense_matrix[:300000, :]"
   ]
  },
  {
   "cell_type": "code",
   "execution_count": null,
   "metadata": {},
   "outputs": [],
   "source": [
    "hca_sparse_matrix = hca_adata.X\n",
    "split_hca_dense_matrix = hca_sparse_matrix.toarray()[:300000, :]"
   ]
  },
  {
   "cell_type": "markdown",
   "metadata": {},
   "source": [
    "##### draft"
   ]
  },
  {
   "cell_type": "code",
   "execution_count": null,
   "metadata": {},
   "outputs": [],
   "source": [
    "# Find elements in hca_duplicates that are not in wlg_duplicates\n",
    "difference1 = [item for item in hca_duplicates if item not in wlg_duplicates]\n",
    "\n",
    "# Find elements in wlg_duplicates that are not in hca_duplicates\n",
    "difference2 = [item for item in wlg_duplicates if item not in hca_duplicates]\n",
    "\n",
    "# Print the differences\n",
    "print(\"Elements in hca_duplicates that are not in wlg_duplicates:\", difference1)\n",
    "print(\"Elements in wlg_duplicates that are not in hca_duplicates:\", difference2)"
   ]
  }
 ],
 "metadata": {
  "kernelspec": {
   "display_name": "bulk",
   "language": "python",
   "name": "python3"
  },
  "language_info": {
   "codemirror_mode": {
    "name": "ipython",
    "version": 3
   },
   "file_extension": ".py",
   "mimetype": "text/x-python",
   "name": "python",
   "nbconvert_exporter": "python",
   "pygments_lexer": "ipython3",
   "version": "3.9.17"
  },
  "orig_nbformat": 4
 },
 "nbformat": 4,
 "nbformat_minor": 2
}
