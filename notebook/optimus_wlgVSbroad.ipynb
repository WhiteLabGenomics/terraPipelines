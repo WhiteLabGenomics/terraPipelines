{
 "cells": [
  {
   "cell_type": "markdown",
   "metadata": {},
   "source": [
    "### Comparison of the Optimus pipeline results from wlg (V6.0.0) and broad institute (V5.8.4)\n",
    "#### Aim of this part of analysis is identify the strength of the differences between the two pipelines and to understand the reasons for the differences"
   ]
  },
  {
   "cell_type": "markdown",
   "metadata": {},
   "source": [
    "#### 1. Load necessary libraries"
   ]
  },
  {
   "cell_type": "code",
   "execution_count": 1,
   "metadata": {},
   "outputs": [],
   "source": [
    "%load_ext autoreload\n",
    "%autoreload 2"
   ]
  },
  {
   "cell_type": "code",
   "execution_count": 2,
   "metadata": {},
   "outputs": [],
   "source": [
    "import os\n",
    "from basicAtlas import terra\n",
    "import dalmatian as dm\n",
    "import anndata\n",
    "import fsspec\n",
    "import collections\n",
    "import scanpy as sc\n",
    "import seaborn as sns\n",
    "import numpy as np\n",
    "from scipy.stats import median_abs_deviation"
   ]
  },
  {
   "cell_type": "markdown",
   "metadata": {},
   "source": [
    "#### 2. Data Loading and checking"
   ]
  },
  {
   "cell_type": "code",
   "execution_count": 3,
   "metadata": {},
   "outputs": [
    {
     "name": "stdout",
     "output_type": "stream",
     "text": [
      "/Users/xiliu/Documents/analysis/terraPipelines/notebook\n"
     ]
    }
   ],
   "source": [
    "# current directory\n",
    "current_directory = os.getcwd()\n",
    "print(current_directory)"
   ]
  },
  {
   "cell_type": "code",
   "execution_count": 8,
   "metadata": {
    "vscode": {
     "languageId": "shellscript"
    }
   },
   "outputs": [
    {
     "name": "stdout",
     "output_type": "stream",
     "text": [
      "Copying file://../scAtlas/tmp/gencode.v27.primary_assembly.annotation.gtf [Content-Type=application/octet-stream]...\n",
      "==> NOTE: You are uploading one or more large file(s), which would run          \n",
      "significantly faster if you enable parallel composite uploads. This\n",
      "feature can be enabled by editing the\n",
      "\"parallel_composite_upload_threshold\" value in your .boto\n",
      "configuration file. However, note that if you do this large files will\n",
      "be uploaded as `composite objects\n",
      "<https://cloud.google.com/storage/docs/composite-objects>`_,which\n",
      "means that any user who downloads such objects will need to have a\n",
      "compiled crcmod installed (see \"gsutil help crcmod\"). This is because\n",
      "without a compiled crcmod, computing checksums on composite objects is\n",
      "so slow that gsutil disables downloads of composite objects.\n",
      "\n",
      "/ [1 files][  1.1 GiB/  1.1 GiB]   31.9 MiB/s                                   \n",
      "Operation completed over 1 objects/1.1 GiB.                                      \n"
     ]
    }
   ],
   "source": [
    "# Upload the primary annotation to WLG bucket\n",
    "#!gsutil cp ../scAtlas/tmp/gencode.v27.primary_assembly.annotation.gtf \"gs://whitelabgx-references/hg38/gencode.v27.primary_assembly.annotation.gtf\""
   ]
  },
  {
   "cell_type": "code",
   "execution_count": 168,
   "metadata": {},
   "outputs": [
    {
     "name": "stdout",
     "output_type": "stream",
     "text": [
      "please be sure you gave access to your terra email account access to this bucket\n",
      "Successfully imported 1 participants.\n",
      "Successfully imported 2 samples.\n",
      "Sample set \"optimus_V6.0.0_wlg\" (2 samples) successfully updated.\n"
     ]
    },
    {
     "data": {
      "text/html": [
       "<div>\n",
       "<style scoped>\n",
       "    .dataframe tbody tr th:only-of-type {\n",
       "        vertical-align: middle;\n",
       "    }\n",
       "\n",
       "    .dataframe tbody tr th {\n",
       "        vertical-align: top;\n",
       "    }\n",
       "\n",
       "    .dataframe thead th {\n",
       "        text-align: right;\n",
       "    }\n",
       "</style>\n",
       "<table border=\"1\" class=\"dataframe\">\n",
       "  <thead>\n",
       "    <tr style=\"text-align: right;\">\n",
       "      <th></th>\n",
       "      <th>r1_fastq</th>\n",
       "      <th>r2_fastq</th>\n",
       "      <th>i1_fastq</th>\n",
       "      <th>Source</th>\n",
       "      <th>participant</th>\n",
       "    </tr>\n",
       "    <tr>\n",
       "      <th>sample_id</th>\n",
       "      <th></th>\n",
       "      <th></th>\n",
       "      <th></th>\n",
       "      <th></th>\n",
       "      <th></th>\n",
       "    </tr>\n",
       "  </thead>\n",
       "  <tbody>\n",
       "    <tr>\n",
       "      <th>pbmc_10k_v3_S1_L001</th>\n",
       "      <td>gs://gs://whitelabgx-references/resources/pbmc...</td>\n",
       "      <td>gs://gs://whitelabgx-references/resources/pbmc...</td>\n",
       "      <td>gs://gs://whitelabgx-references/resources/pbmc...</td>\n",
       "      <td>U</td>\n",
       "      <td>pbmc_10k_v3_S1</td>\n",
       "    </tr>\n",
       "    <tr>\n",
       "      <th>pbmc_10k_v3_S1_L002</th>\n",
       "      <td>gs://gs://whitelabgx-references/resources/pbmc...</td>\n",
       "      <td>gs://gs://whitelabgx-references/resources/pbmc...</td>\n",
       "      <td>gs://gs://whitelabgx-references/resources/pbmc...</td>\n",
       "      <td>U</td>\n",
       "      <td>pbmc_10k_v3_S1</td>\n",
       "    </tr>\n",
       "  </tbody>\n",
       "</table>\n",
       "</div>"
      ],
      "text/plain": [
       "                                                              r1_fastq  \\\n",
       "sample_id                                                                \n",
       "pbmc_10k_v3_S1_L001  gs://gs://whitelabgx-references/resources/pbmc...   \n",
       "pbmc_10k_v3_S1_L002  gs://gs://whitelabgx-references/resources/pbmc...   \n",
       "\n",
       "                                                              r2_fastq  \\\n",
       "sample_id                                                                \n",
       "pbmc_10k_v3_S1_L001  gs://gs://whitelabgx-references/resources/pbmc...   \n",
       "pbmc_10k_v3_S1_L002  gs://gs://whitelabgx-references/resources/pbmc...   \n",
       "\n",
       "                                                              i1_fastq Source  \\\n",
       "sample_id                                                                       \n",
       "pbmc_10k_v3_S1_L001  gs://gs://whitelabgx-references/resources/pbmc...      U   \n",
       "pbmc_10k_v3_S1_L002  gs://gs://whitelabgx-references/resources/pbmc...      U   \n",
       "\n",
       "                        participant  \n",
       "sample_id                            \n",
       "pbmc_10k_v3_S1_L001  pbmc_10k_v3_S1  \n",
       "pbmc_10k_v3_S1_L002  pbmc_10k_v3_S1  "
      ]
     },
     "execution_count": 168,
     "metadata": {},
     "output_type": "execute_result"
    }
   ],
   "source": [
    "### Variables definition ###\n",
    "GCP_BUCKET=\"gs://whitelabgx-references\"\n",
    "GCP_FOLDER_NAME=\"resources/pbmc_10k_10X_v3\"\n",
    "TERRA_WS = 'whitelabgx/scRNAseq'\n",
    "PROJECT=\"optimus_V6.0.0_wlg\"\n",
    "\n",
    "### Uploaded samples in google storage ###\n",
    "terra.uploadFromFolder_10x(GCP_BUCKET + '/' + GCP_FOLDER_NAME + '/', TERRA_WS,\\\n",
    "                      samplesetname=PROJECT, fformat=\"fastqR1R2\", sep='_00|_00', loc =0, test=False)"
   ]
  },
  {
   "cell_type": "code",
   "execution_count": null,
   "metadata": {},
   "outputs": [],
   "source": [
    "gs://gs://whitelabgx-references/resources/pbmc_10k_10X_v3//resources/pbmc_10k_10X_v3/pbmc_10k_v3_S1_L001_I1_001.fastq.gz"
   ]
  },
  {
   "cell_type": "markdown",
   "metadata": {},
   "source": [
    "#### 3. Fetch data from Terra.bio"
   ]
  },
  {
   "cell_type": "markdown",
   "metadata": {},
   "source": [
    "##### 3.1. Fetch results from broad institute pipeline: HCA_Optimus_Pipeline: pbmc human 10k v3 S1"
   ]
  },
  {
   "cell_type": "code",
   "execution_count": null,
   "metadata": {},
   "outputs": [],
   "source": [
    "### Optional: Fetch results via data table, don't use this method for this study\n",
    "\n",
    "# Fetch the workspace output information\n",
    "wm = dm.WorkspaceManager('featured-workspaces-hca/HCA_Optimus_Pipeline')\n",
    "output_df = wm.get_sample_sets()\n",
    "display(output_df)\n",
    "display(output_df.columns)\n",
    "\n",
    "hca_h5ad_url = output_df.loc['pbmc_human_v3', 'h5ad_output_file']\n",
    "\n",
    "# Use fsspec to open the GCS file and read it into an AnnData object\n",
    "with fsspec.open(hca_h5ad_url) as f:\n",
    "    hca_adata = anndata.read_h5ad(f)"
   ]
  },
  {
   "cell_type": "code",
   "execution_count": null,
   "metadata": {},
   "outputs": [],
   "source": [
    "hca_h5ad_url = \"\"\n",
    "\n",
    "with fsspec.open(hca_h5ad_url) as f:\n",
    "    hca_adata = anndata.read_h5ad(f)"
   ]
  },
  {
   "cell_type": "code",
   "execution_count": null,
   "metadata": {},
   "outputs": [],
   "source": [
    "hca_adata"
   ]
  },
  {
   "cell_type": "code",
   "execution_count": null,
   "metadata": {},
   "outputs": [],
   "source": [
    "hca_adata.obs"
   ]
  },
  {
   "cell_type": "code",
   "execution_count": null,
   "metadata": {},
   "outputs": [],
   "source": [
    "hca_adata.var.tail(10)"
   ]
  },
  {
   "cell_type": "code",
   "execution_count": null,
   "metadata": {},
   "outputs": [],
   "source": [
    "# Find duplicate variable (gene) names\n",
    "hca_var_names = hca_adata.var_names\n",
    "\n",
    "hca_duplicates = [item for item, count in collections.Counter(hca_var_names).items() if count > 1]\n",
    "\n",
    "print(\"Duplicate variable names:\", hca_duplicates)\n",
    "print(\"Number of duplicate variable:\", len(hca_duplicates))"
   ]
  },
  {
   "cell_type": "code",
   "execution_count": null,
   "metadata": {},
   "outputs": [],
   "source": [
    "# Subset the AnnData var to only include the duplicated variables\n",
    "for target_var_name in duplicates:\n",
    "    print(\"Variable name:\", target_var_name)\n",
    "    print(\"Duplication quantity:\", hca_adata.var[hca_adata.var_names == target_var_name].shape[0])\n",
    "    print(\"Variable:\", hca_adata.var[hca_adata.var_names == target_var_name])"
   ]
  },
  {
   "cell_type": "code",
   "execution_count": null,
   "metadata": {},
   "outputs": [],
   "source": [
    "# Variable names are not unique. To make them unique\n",
    "hca_adata.var_names_make_unique()"
   ]
  },
  {
   "cell_type": "markdown",
   "metadata": {},
   "source": [
    "##### 3.2. Fetch results from WLG pipeline"
   ]
  },
  {
   "cell_type": "code",
   "execution_count": 4,
   "metadata": {},
   "outputs": [
    {
     "name": "stderr",
     "output_type": "stream",
     "text": [
      "/opt/homebrew/Caskroom/miniconda/base/envs/bulk/lib/python3.9/site-packages/anndata/_core/anndata.py:1830: UserWarning: Variable names are not unique. To make them unique, call `.var_names_make_unique`.\n",
      "  utils.warn_names_duplicates(\"var\")\n"
     ]
    }
   ],
   "source": [
    "wlg_h5ad_url = \"gs://fc-447aee29-8362-4c0b-b8d0-b3b10eb9e2a6/submissions/07e6d89b-3db8-436e-bc50-fef6b40cdd04/Optimus/934d7faa-21e2-452d-a624-ea8896142b81/call-OptimusH5adGeneration/10k_pbmc_v3.h5ad\"\n",
    "with fsspec.open(wlg_h5ad_url) as f:\n",
    "    wlg_adata = anndata.read_h5ad(f)"
   ]
  },
  {
   "cell_type": "code",
   "execution_count": 5,
   "metadata": {},
   "outputs": [
    {
     "data": {
      "text/plain": [
       "AnnData object with n_obs × n_vars = 1136912 × 58347\n",
       "    obs: 'cell_names', 'CellID', 'emptydrops_Limited', 'emptydrops_IsCell', 'n_reads', 'noise_reads', 'perfect_molecule_barcodes', 'reads_mapped_exonic', 'reads_mapped_exonic_as', 'reads_mapped_intronic', 'reads_mapped_intronic_as', 'reads_mapped_uniquely', 'reads_mapped_multiple', 'duplicate_reads', 'spliced_reads', 'antisense_reads', 'n_molecules', 'n_fragments', 'fragments_with_single_read_evidence', 'molecules_with_single_read_evidence', 'perfect_cell_barcodes', 'reads_mapped_intergenic', 'reads_unmapped', 'reads_mapped_too_many_loci', 'n_genes', 'genes_detected_multiple_observations', 'emptydrops_Total', 'molecule_barcode_fraction_bases_above_30_mean', 'molecule_barcode_fraction_bases_above_30_variance', 'genomic_reads_fraction_bases_quality_above_30_mean', 'genomic_reads_fraction_bases_quality_above_30_variance', 'genomic_read_quality_mean', 'genomic_read_quality_variance', 'reads_per_molecule', 'reads_per_fragment', 'fragments_per_molecule', 'cell_barcode_fraction_bases_above_30_mean', 'cell_barcode_fraction_bases_above_30_variance', 'n_mitochondrial_genes', 'n_mitochondrial_molecules', 'pct_mitochondrial_molecules', 'emptydrops_LogProb', 'emptydrops_PValue', 'emptydrops_FDR', 'input_id'\n",
       "    var: 'gene_names', 'ensembl_ids', 'Gene', 'n_reads', 'noise_reads', 'perfect_molecule_barcodes', 'reads_mapped_exonic', 'reads_mapped_exonic_as', 'reads_mapped_intronic', 'reads_mapped_intronic_as', 'reads_mapped_uniquely', 'reads_mapped_multiple', 'duplicate_reads', 'spliced_reads', 'antisense_reads', 'molecule_barcode_fraction_bases_above_30_mean', 'molecule_barcode_fraction_bases_above_30_variance', 'genomic_reads_fraction_bases_quality_above_30_mean', 'genomic_reads_fraction_bases_quality_above_30_variance', 'genomic_read_quality_mean', 'genomic_read_quality_variance', 'n_molecules', 'n_fragments', 'reads_per_molecule', 'reads_per_fragment', 'fragments_per_molecule', 'fragments_with_single_read_evidence', 'molecules_with_single_read_evidence', 'number_cells_detected_multiple', 'number_cells_expressing'\n",
       "    uns: 'expression_data_type', 'input_id', 'optimus_output_schema_version', 'pipeline_version'"
      ]
     },
     "execution_count": 5,
     "metadata": {},
     "output_type": "execute_result"
    }
   ],
   "source": [
    "wlg_adata"
   ]
  },
  {
   "cell_type": "code",
   "execution_count": 6,
   "metadata": {},
   "outputs": [
    {
     "name": "stdout",
     "output_type": "stream",
     "text": [
      "Duplicate variable names: ['U6', 'TP73-AS1', 'Y_RNA', 'SNORA77', 'SCARNA16', 'SNORA70', 'SCARNA11', 'SCARNA17', 'SCARNA18', 'snoU13', 'SNORA44', 'SNORA16A', 'SCARNA24', 'Metazoa_SRP', 'uc_338', 'SNORA62', 'SNORA63', 'SNORD46', 'SNORD38B', 'SNORA26', 'SNORA58', 'DLEU2_6', 'DLEU2_5', 'DLEU2_4', 'DLEU2_3', 'DLEU2_2', 'DLEU2_1', 'SNORA31', 'SNORA2', 'SNORD81', 'SNORA51', 'SNORA25', 'SNORA42', 'U3', 'SNORA40', '7SK', 'U1', 'U2', '5S_rRNA', 'U6atac', 'U4', 'SNORD59', 'SCARNA4', 'SNORD64', 'ACA64', 'RGS5', 'SCARNA20', 'U7', 'SNORA67', 'SNORA72', 'SNORD60', 'SNORD116', 'U8', 'LINC01115', 'SNORD18', 'SCARNA21', 'SNORA36', 'SNORD75', 'TMEM247', 'STPG4', 'SNORA75', 'SNORA12', 'SNORD78', 'ACA59', 'SNORA74', 'snoU109', 'SNORA19', 'ACTR3BP2', 'DAOA-AS1_2', 'SCARNA15', 'SNORA48', 'SNORD56', 'PDE11A', 'SNORA43', 'SNORA17', 'PCGEM1', 'SNORA4', 'SNORD70', 'SNORD11', 'SNORA1', 'Vault', 'SNORD51', 'SCARNA6', 'SNORD39', 'LINC01238', 'GHRLOS', 'SNORD5', 'SNORA64', 'SNORD77', 'PRSS50', 'CYB561D2', 'SNORD19B', 'SNORD19', 'SNORD63', 'PRICKLE2-AS1', 'Clostridiales-1', 'TUSC7', 'LINC00901', 'TXNRD3NB', 'SNORA24', 'SNORA33', 'PISRT1', 'CLRN1-AS1', 'SNORA18', 'SNORA81', 'SNORD66', 'SNORD2', 'SNORD74', 'SNORA3', 'SNORD50', 'SNORD42', 'snoU2_19', 'SNORA11', 'SNORD65', 'SNORA57', 'SNORA76', 'SNORA50D', 'ARL14EPL', 'snoZ6', 'MATR3', 'SNORD45', 'SNORA27', 'SNORA68', 'SNORD95', 'HULC', 'HIST1H3D', 'ZNRD1-AS1_2', 'SNORA38', 'SNORA8', 'SNORA73', 'SOGA3', 'HYMAI', 'RAET1E-AS1', 'SNORA20', 'POLR2J4', 'SNORA9', 'SNORA15', 'SNORA22', 'RABGEF1', 'POLR2J2', 'KBTBD11-OT1', 'SNORD38', 'SNORD112', 'pRNA', 'SNORA7', 'MAL2', 'SNORA32', 'LYNX1', 'RMRP', 'LINC00484', 'LINC01505', 'MIR219A2', 'SNORA17B', 'SNORD115', 'CTSLP2', 'DNAJC9-AS1', 'BMS1P4', 'SNORA71', 'FAS-AS1', 'H19_1', 'H19_2', 'snoMBII-202', 'SNORD67', 'SNORD22', 'SNORD30', 'SNORD27', 'mascRNA-menRNA', 'MALAT1', 'ALG1L9P', 'H19_3', 'snoU2-30', 'SDHD', 'ITFG2-AS1', 'EMG1', 'OR7E47P', 'LINC01598', 'LINC01481', 'snoMe28S-Am2634', 'SPATA13', 'SNORA16', 'SNORD37', '5_8S_rRNA', 'LINC01297', 'SNORD41', 'SFTA3', 'SNORA46', 'SNORD113', 'GOLGA8M', 'GABARAPL3', 'SNORA30', 'SNORA50A', 'COG8', 'SNORD111', 'SNORD33', 'SNORA69', 'SNORD3D', 'SNORD23', 'UCA1', 'HAR1A', 'RNA5-8SN5', 'DUXAP8', 'DGCR5', 'MIR130B', 'LINC01422', 'RFPL3-AS1_1', 'SNORA50B', 'ELFN2', 'SCO2', 'AL954722.1', 'PLCXD1', 'GTPBP6', 'LINC00685', 'PPP2R3B', 'AL732314.6', 'AL732314.4', 'FABP5P13', 'KRT18P53', 'SHOX', 'AL672277.1', 'RPL14P5', 'CRLF2', 'CSF2RA', 'MIR3690', 'RNA5SP498', 'IL3RA', 'SLC25A6', 'LINC00106', 'ASMTL-AS1', 'ASMTL', 'P2RY8', 'AKAP17A', 'ASMT', 'AL683807.1', 'AL683807.2', 'DHRSX', 'DHRSX-IT1', 'ZBED1', 'MIR6089', 'CD99P1', 'LINC00102', 'CD99', 'SNORD3E', 'TMSB15B', 'SNORA35', 'CDR1', 'SPRY3', 'AMD1P2', 'DPH3P2', 'VAMP7', 'ELOCP24', 'TRPC6P', 'IL9R', 'AJ271736.1', 'WASIR1', 'WASH6P', 'DDX11L16']\n",
      "Number of duplicate variable: 256\n"
     ]
    }
   ],
   "source": [
    "# Find duplicate variable (gene) names\n",
    "wlg_var_names = wlg_adata.var_names\n",
    "\n",
    "wlg_duplicates = [item for item, count in collections.Counter(wlg_var_names).items() if count > 1]\n",
    "\n",
    "print(\"Duplicate variable names:\", wlg_duplicates)\n",
    "print(\"Number of duplicate variable:\", len(wlg_duplicates))"
   ]
  },
  {
   "cell_type": "code",
   "execution_count": 12,
   "metadata": {},
   "outputs": [
    {
     "data": {
      "text/html": [
       "<div>\n",
       "<style scoped>\n",
       "    .dataframe tbody tr th:only-of-type {\n",
       "        vertical-align: middle;\n",
       "    }\n",
       "\n",
       "    .dataframe tbody tr th {\n",
       "        vertical-align: top;\n",
       "    }\n",
       "\n",
       "    .dataframe thead th {\n",
       "        text-align: right;\n",
       "    }\n",
       "</style>\n",
       "<table border=\"1\" class=\"dataframe\">\n",
       "  <thead>\n",
       "    <tr style=\"text-align: right;\">\n",
       "      <th></th>\n",
       "      <th>cell_names</th>\n",
       "      <th>CellID</th>\n",
       "      <th>emptydrops_Limited</th>\n",
       "      <th>emptydrops_IsCell</th>\n",
       "      <th>n_reads</th>\n",
       "      <th>noise_reads</th>\n",
       "      <th>perfect_molecule_barcodes</th>\n",
       "      <th>reads_mapped_exonic</th>\n",
       "      <th>reads_mapped_exonic_as</th>\n",
       "      <th>reads_mapped_intronic</th>\n",
       "      <th>...</th>\n",
       "      <th>fragments_per_molecule</th>\n",
       "      <th>cell_barcode_fraction_bases_above_30_mean</th>\n",
       "      <th>cell_barcode_fraction_bases_above_30_variance</th>\n",
       "      <th>n_mitochondrial_genes</th>\n",
       "      <th>n_mitochondrial_molecules</th>\n",
       "      <th>pct_mitochondrial_molecules</th>\n",
       "      <th>emptydrops_LogProb</th>\n",
       "      <th>emptydrops_PValue</th>\n",
       "      <th>emptydrops_FDR</th>\n",
       "      <th>input_id</th>\n",
       "    </tr>\n",
       "  </thead>\n",
       "  <tbody>\n",
       "    <tr>\n",
       "      <th>AAACCCAAGAAACACT</th>\n",
       "      <td>AAACCCAAGAAACACT</td>\n",
       "      <td>AAACCCAAGAAACACT</td>\n",
       "      <td>True</td>\n",
       "      <td>False</td>\n",
       "      <td>1</td>\n",
       "      <td>0</td>\n",
       "      <td>1</td>\n",
       "      <td>1</td>\n",
       "      <td>0</td>\n",
       "      <td>0</td>\n",
       "      <td>...</td>\n",
       "      <td>1.000000</td>\n",
       "      <td>0.937500</td>\n",
       "      <td>NaN</td>\n",
       "      <td>0</td>\n",
       "      <td>0</td>\n",
       "      <td>0.000000</td>\n",
       "      <td>NaN</td>\n",
       "      <td>NaN</td>\n",
       "      <td>NaN</td>\n",
       "      <td>10k_pbmc_v3</td>\n",
       "    </tr>\n",
       "    <tr>\n",
       "      <th>AAACCCAAGAAACCAT</th>\n",
       "      <td>AAACCCAAGAAACCAT</td>\n",
       "      <td>AAACCCAAGAAACCAT</td>\n",
       "      <td>True</td>\n",
       "      <td>False</td>\n",
       "      <td>1</td>\n",
       "      <td>0</td>\n",
       "      <td>1</td>\n",
       "      <td>1</td>\n",
       "      <td>0</td>\n",
       "      <td>0</td>\n",
       "      <td>...</td>\n",
       "      <td>1.000000</td>\n",
       "      <td>1.000000</td>\n",
       "      <td>NaN</td>\n",
       "      <td>0</td>\n",
       "      <td>0</td>\n",
       "      <td>0.000000</td>\n",
       "      <td>NaN</td>\n",
       "      <td>NaN</td>\n",
       "      <td>NaN</td>\n",
       "      <td>10k_pbmc_v3</td>\n",
       "    </tr>\n",
       "    <tr>\n",
       "      <th>AAACCCAAGAAACTAC</th>\n",
       "      <td>AAACCCAAGAAACTAC</td>\n",
       "      <td>AAACCCAAGAAACTAC</td>\n",
       "      <td>True</td>\n",
       "      <td>False</td>\n",
       "      <td>3</td>\n",
       "      <td>0</td>\n",
       "      <td>3</td>\n",
       "      <td>3</td>\n",
       "      <td>0</td>\n",
       "      <td>0</td>\n",
       "      <td>...</td>\n",
       "      <td>2.000000</td>\n",
       "      <td>1.000000</td>\n",
       "      <td>0.000000</td>\n",
       "      <td>0</td>\n",
       "      <td>0</td>\n",
       "      <td>0.000000</td>\n",
       "      <td>NaN</td>\n",
       "      <td>NaN</td>\n",
       "      <td>NaN</td>\n",
       "      <td>10k_pbmc_v3</td>\n",
       "    </tr>\n",
       "    <tr>\n",
       "      <th>AAACCCAAGAAACTCA</th>\n",
       "      <td>AAACCCAAGAAACTCA</td>\n",
       "      <td>AAACCCAAGAAACTCA</td>\n",
       "      <td>False</td>\n",
       "      <td>False</td>\n",
       "      <td>120</td>\n",
       "      <td>0</td>\n",
       "      <td>120</td>\n",
       "      <td>76</td>\n",
       "      <td>0</td>\n",
       "      <td>0</td>\n",
       "      <td>...</td>\n",
       "      <td>1.066038</td>\n",
       "      <td>0.953646</td>\n",
       "      <td>0.004956</td>\n",
       "      <td>3</td>\n",
       "      <td>4</td>\n",
       "      <td>3.333333</td>\n",
       "      <td>-248.763872</td>\n",
       "      <td>0.524048</td>\n",
       "      <td>0.831353</td>\n",
       "      <td>10k_pbmc_v3</td>\n",
       "    </tr>\n",
       "    <tr>\n",
       "      <th>AAACCCAAGAAACTGT</th>\n",
       "      <td>AAACCCAAGAAACTGT</td>\n",
       "      <td>AAACCCAAGAAACTGT</td>\n",
       "      <td>True</td>\n",
       "      <td>False</td>\n",
       "      <td>3</td>\n",
       "      <td>0</td>\n",
       "      <td>3</td>\n",
       "      <td>2</td>\n",
       "      <td>0</td>\n",
       "      <td>0</td>\n",
       "      <td>...</td>\n",
       "      <td>1.000000</td>\n",
       "      <td>0.958333</td>\n",
       "      <td>0.005208</td>\n",
       "      <td>0</td>\n",
       "      <td>0</td>\n",
       "      <td>0.000000</td>\n",
       "      <td>NaN</td>\n",
       "      <td>NaN</td>\n",
       "      <td>NaN</td>\n",
       "      <td>10k_pbmc_v3</td>\n",
       "    </tr>\n",
       "    <tr>\n",
       "      <th>...</th>\n",
       "      <td>...</td>\n",
       "      <td>...</td>\n",
       "      <td>...</td>\n",
       "      <td>...</td>\n",
       "      <td>...</td>\n",
       "      <td>...</td>\n",
       "      <td>...</td>\n",
       "      <td>...</td>\n",
       "      <td>...</td>\n",
       "      <td>...</td>\n",
       "      <td>...</td>\n",
       "      <td>...</td>\n",
       "      <td>...</td>\n",
       "      <td>...</td>\n",
       "      <td>...</td>\n",
       "      <td>...</td>\n",
       "      <td>...</td>\n",
       "      <td>...</td>\n",
       "      <td>...</td>\n",
       "      <td>...</td>\n",
       "      <td>...</td>\n",
       "    </tr>\n",
       "    <tr>\n",
       "      <th>TTTGTTGTCTTGGTCC</th>\n",
       "      <td>TTTGTTGTCTTGGTCC</td>\n",
       "      <td>TTTGTTGTCTTGGTCC</td>\n",
       "      <td>True</td>\n",
       "      <td>False</td>\n",
       "      <td>1</td>\n",
       "      <td>0</td>\n",
       "      <td>1</td>\n",
       "      <td>1</td>\n",
       "      <td>0</td>\n",
       "      <td>0</td>\n",
       "      <td>...</td>\n",
       "      <td>1.000000</td>\n",
       "      <td>0.937500</td>\n",
       "      <td>NaN</td>\n",
       "      <td>0</td>\n",
       "      <td>0</td>\n",
       "      <td>0.000000</td>\n",
       "      <td>NaN</td>\n",
       "      <td>NaN</td>\n",
       "      <td>NaN</td>\n",
       "      <td>10k_pbmc_v3</td>\n",
       "    </tr>\n",
       "    <tr>\n",
       "      <th>TTTGTTGTCTTGTACC</th>\n",
       "      <td>TTTGTTGTCTTGTACC</td>\n",
       "      <td>TTTGTTGTCTTGTACC</td>\n",
       "      <td>True</td>\n",
       "      <td>False</td>\n",
       "      <td>1</td>\n",
       "      <td>0</td>\n",
       "      <td>1</td>\n",
       "      <td>1</td>\n",
       "      <td>0</td>\n",
       "      <td>0</td>\n",
       "      <td>...</td>\n",
       "      <td>1.000000</td>\n",
       "      <td>0.562500</td>\n",
       "      <td>NaN</td>\n",
       "      <td>0</td>\n",
       "      <td>0</td>\n",
       "      <td>0.000000</td>\n",
       "      <td>NaN</td>\n",
       "      <td>NaN</td>\n",
       "      <td>NaN</td>\n",
       "      <td>10k_pbmc_v3</td>\n",
       "    </tr>\n",
       "    <tr>\n",
       "      <th>TTTGTTGTCTTTACAC</th>\n",
       "      <td>TTTGTTGTCTTTACAC</td>\n",
       "      <td>TTTGTTGTCTTTACAC</td>\n",
       "      <td>True</td>\n",
       "      <td>False</td>\n",
       "      <td>1</td>\n",
       "      <td>0</td>\n",
       "      <td>1</td>\n",
       "      <td>1</td>\n",
       "      <td>0</td>\n",
       "      <td>0</td>\n",
       "      <td>...</td>\n",
       "      <td>1.000000</td>\n",
       "      <td>0.937500</td>\n",
       "      <td>NaN</td>\n",
       "      <td>0</td>\n",
       "      <td>0</td>\n",
       "      <td>0.000000</td>\n",
       "      <td>NaN</td>\n",
       "      <td>NaN</td>\n",
       "      <td>NaN</td>\n",
       "      <td>10k_pbmc_v3</td>\n",
       "    </tr>\n",
       "    <tr>\n",
       "      <th>TTTGTTGTCTTTGCGC</th>\n",
       "      <td>TTTGTTGTCTTTGCGC</td>\n",
       "      <td>TTTGTTGTCTTTGCGC</td>\n",
       "      <td>False</td>\n",
       "      <td>False</td>\n",
       "      <td>52</td>\n",
       "      <td>0</td>\n",
       "      <td>52</td>\n",
       "      <td>27</td>\n",
       "      <td>0</td>\n",
       "      <td>0</td>\n",
       "      <td>...</td>\n",
       "      <td>1.181818</td>\n",
       "      <td>0.888221</td>\n",
       "      <td>0.020885</td>\n",
       "      <td>3</td>\n",
       "      <td>3</td>\n",
       "      <td>5.769231</td>\n",
       "      <td>-109.992657</td>\n",
       "      <td>0.145485</td>\n",
       "      <td>0.464155</td>\n",
       "      <td>10k_pbmc_v3</td>\n",
       "    </tr>\n",
       "    <tr>\n",
       "      <th>TTTGTTGTCTTTGCTA</th>\n",
       "      <td>TTTGTTGTCTTTGCTA</td>\n",
       "      <td>TTTGTTGTCTTTGCTA</td>\n",
       "      <td>True</td>\n",
       "      <td>False</td>\n",
       "      <td>3</td>\n",
       "      <td>0</td>\n",
       "      <td>3</td>\n",
       "      <td>3</td>\n",
       "      <td>0</td>\n",
       "      <td>0</td>\n",
       "      <td>...</td>\n",
       "      <td>3.000000</td>\n",
       "      <td>0.854167</td>\n",
       "      <td>0.005208</td>\n",
       "      <td>0</td>\n",
       "      <td>0</td>\n",
       "      <td>0.000000</td>\n",
       "      <td>NaN</td>\n",
       "      <td>NaN</td>\n",
       "      <td>NaN</td>\n",
       "      <td>10k_pbmc_v3</td>\n",
       "    </tr>\n",
       "  </tbody>\n",
       "</table>\n",
       "<p>1136912 rows × 45 columns</p>\n",
       "</div>"
      ],
      "text/plain": [
       "                        cell_names            CellID  emptydrops_Limited  \\\n",
       "AAACCCAAGAAACACT  AAACCCAAGAAACACT  AAACCCAAGAAACACT                True   \n",
       "AAACCCAAGAAACCAT  AAACCCAAGAAACCAT  AAACCCAAGAAACCAT                True   \n",
       "AAACCCAAGAAACTAC  AAACCCAAGAAACTAC  AAACCCAAGAAACTAC                True   \n",
       "AAACCCAAGAAACTCA  AAACCCAAGAAACTCA  AAACCCAAGAAACTCA               False   \n",
       "AAACCCAAGAAACTGT  AAACCCAAGAAACTGT  AAACCCAAGAAACTGT                True   \n",
       "...                            ...               ...                 ...   \n",
       "TTTGTTGTCTTGGTCC  TTTGTTGTCTTGGTCC  TTTGTTGTCTTGGTCC                True   \n",
       "TTTGTTGTCTTGTACC  TTTGTTGTCTTGTACC  TTTGTTGTCTTGTACC                True   \n",
       "TTTGTTGTCTTTACAC  TTTGTTGTCTTTACAC  TTTGTTGTCTTTACAC                True   \n",
       "TTTGTTGTCTTTGCGC  TTTGTTGTCTTTGCGC  TTTGTTGTCTTTGCGC               False   \n",
       "TTTGTTGTCTTTGCTA  TTTGTTGTCTTTGCTA  TTTGTTGTCTTTGCTA                True   \n",
       "\n",
       "                  emptydrops_IsCell  n_reads  noise_reads  \\\n",
       "AAACCCAAGAAACACT              False        1            0   \n",
       "AAACCCAAGAAACCAT              False        1            0   \n",
       "AAACCCAAGAAACTAC              False        3            0   \n",
       "AAACCCAAGAAACTCA              False      120            0   \n",
       "AAACCCAAGAAACTGT              False        3            0   \n",
       "...                             ...      ...          ...   \n",
       "TTTGTTGTCTTGGTCC              False        1            0   \n",
       "TTTGTTGTCTTGTACC              False        1            0   \n",
       "TTTGTTGTCTTTACAC              False        1            0   \n",
       "TTTGTTGTCTTTGCGC              False       52            0   \n",
       "TTTGTTGTCTTTGCTA              False        3            0   \n",
       "\n",
       "                  perfect_molecule_barcodes  reads_mapped_exonic  \\\n",
       "AAACCCAAGAAACACT                          1                    1   \n",
       "AAACCCAAGAAACCAT                          1                    1   \n",
       "AAACCCAAGAAACTAC                          3                    3   \n",
       "AAACCCAAGAAACTCA                        120                   76   \n",
       "AAACCCAAGAAACTGT                          3                    2   \n",
       "...                                     ...                  ...   \n",
       "TTTGTTGTCTTGGTCC                          1                    1   \n",
       "TTTGTTGTCTTGTACC                          1                    1   \n",
       "TTTGTTGTCTTTACAC                          1                    1   \n",
       "TTTGTTGTCTTTGCGC                         52                   27   \n",
       "TTTGTTGTCTTTGCTA                          3                    3   \n",
       "\n",
       "                  reads_mapped_exonic_as  reads_mapped_intronic  ...  \\\n",
       "AAACCCAAGAAACACT                       0                      0  ...   \n",
       "AAACCCAAGAAACCAT                       0                      0  ...   \n",
       "AAACCCAAGAAACTAC                       0                      0  ...   \n",
       "AAACCCAAGAAACTCA                       0                      0  ...   \n",
       "AAACCCAAGAAACTGT                       0                      0  ...   \n",
       "...                                  ...                    ...  ...   \n",
       "TTTGTTGTCTTGGTCC                       0                      0  ...   \n",
       "TTTGTTGTCTTGTACC                       0                      0  ...   \n",
       "TTTGTTGTCTTTACAC                       0                      0  ...   \n",
       "TTTGTTGTCTTTGCGC                       0                      0  ...   \n",
       "TTTGTTGTCTTTGCTA                       0                      0  ...   \n",
       "\n",
       "                  fragments_per_molecule  \\\n",
       "AAACCCAAGAAACACT                1.000000   \n",
       "AAACCCAAGAAACCAT                1.000000   \n",
       "AAACCCAAGAAACTAC                2.000000   \n",
       "AAACCCAAGAAACTCA                1.066038   \n",
       "AAACCCAAGAAACTGT                1.000000   \n",
       "...                                  ...   \n",
       "TTTGTTGTCTTGGTCC                1.000000   \n",
       "TTTGTTGTCTTGTACC                1.000000   \n",
       "TTTGTTGTCTTTACAC                1.000000   \n",
       "TTTGTTGTCTTTGCGC                1.181818   \n",
       "TTTGTTGTCTTTGCTA                3.000000   \n",
       "\n",
       "                  cell_barcode_fraction_bases_above_30_mean  \\\n",
       "AAACCCAAGAAACACT                                   0.937500   \n",
       "AAACCCAAGAAACCAT                                   1.000000   \n",
       "AAACCCAAGAAACTAC                                   1.000000   \n",
       "AAACCCAAGAAACTCA                                   0.953646   \n",
       "AAACCCAAGAAACTGT                                   0.958333   \n",
       "...                                                     ...   \n",
       "TTTGTTGTCTTGGTCC                                   0.937500   \n",
       "TTTGTTGTCTTGTACC                                   0.562500   \n",
       "TTTGTTGTCTTTACAC                                   0.937500   \n",
       "TTTGTTGTCTTTGCGC                                   0.888221   \n",
       "TTTGTTGTCTTTGCTA                                   0.854167   \n",
       "\n",
       "                  cell_barcode_fraction_bases_above_30_variance  \\\n",
       "AAACCCAAGAAACACT                                            NaN   \n",
       "AAACCCAAGAAACCAT                                            NaN   \n",
       "AAACCCAAGAAACTAC                                       0.000000   \n",
       "AAACCCAAGAAACTCA                                       0.004956   \n",
       "AAACCCAAGAAACTGT                                       0.005208   \n",
       "...                                                         ...   \n",
       "TTTGTTGTCTTGGTCC                                            NaN   \n",
       "TTTGTTGTCTTGTACC                                            NaN   \n",
       "TTTGTTGTCTTTACAC                                            NaN   \n",
       "TTTGTTGTCTTTGCGC                                       0.020885   \n",
       "TTTGTTGTCTTTGCTA                                       0.005208   \n",
       "\n",
       "                  n_mitochondrial_genes  n_mitochondrial_molecules  \\\n",
       "AAACCCAAGAAACACT                      0                          0   \n",
       "AAACCCAAGAAACCAT                      0                          0   \n",
       "AAACCCAAGAAACTAC                      0                          0   \n",
       "AAACCCAAGAAACTCA                      3                          4   \n",
       "AAACCCAAGAAACTGT                      0                          0   \n",
       "...                                 ...                        ...   \n",
       "TTTGTTGTCTTGGTCC                      0                          0   \n",
       "TTTGTTGTCTTGTACC                      0                          0   \n",
       "TTTGTTGTCTTTACAC                      0                          0   \n",
       "TTTGTTGTCTTTGCGC                      3                          3   \n",
       "TTTGTTGTCTTTGCTA                      0                          0   \n",
       "\n",
       "                  pct_mitochondrial_molecules  emptydrops_LogProb  \\\n",
       "AAACCCAAGAAACACT                     0.000000                 NaN   \n",
       "AAACCCAAGAAACCAT                     0.000000                 NaN   \n",
       "AAACCCAAGAAACTAC                     0.000000                 NaN   \n",
       "AAACCCAAGAAACTCA                     3.333333         -248.763872   \n",
       "AAACCCAAGAAACTGT                     0.000000                 NaN   \n",
       "...                                       ...                 ...   \n",
       "TTTGTTGTCTTGGTCC                     0.000000                 NaN   \n",
       "TTTGTTGTCTTGTACC                     0.000000                 NaN   \n",
       "TTTGTTGTCTTTACAC                     0.000000                 NaN   \n",
       "TTTGTTGTCTTTGCGC                     5.769231         -109.992657   \n",
       "TTTGTTGTCTTTGCTA                     0.000000                 NaN   \n",
       "\n",
       "                  emptydrops_PValue  emptydrops_FDR     input_id  \n",
       "AAACCCAAGAAACACT                NaN             NaN  10k_pbmc_v3  \n",
       "AAACCCAAGAAACCAT                NaN             NaN  10k_pbmc_v3  \n",
       "AAACCCAAGAAACTAC                NaN             NaN  10k_pbmc_v3  \n",
       "AAACCCAAGAAACTCA           0.524048        0.831353  10k_pbmc_v3  \n",
       "AAACCCAAGAAACTGT                NaN             NaN  10k_pbmc_v3  \n",
       "...                             ...             ...          ...  \n",
       "TTTGTTGTCTTGGTCC                NaN             NaN  10k_pbmc_v3  \n",
       "TTTGTTGTCTTGTACC                NaN             NaN  10k_pbmc_v3  \n",
       "TTTGTTGTCTTTACAC                NaN             NaN  10k_pbmc_v3  \n",
       "TTTGTTGTCTTTGCGC           0.145485        0.464155  10k_pbmc_v3  \n",
       "TTTGTTGTCTTTGCTA                NaN             NaN  10k_pbmc_v3  \n",
       "\n",
       "[1136912 rows x 45 columns]"
      ]
     },
     "metadata": {},
     "output_type": "display_data"
    },
    {
     "data": {
      "text/html": [
       "<div>\n",
       "<style scoped>\n",
       "    .dataframe tbody tr th:only-of-type {\n",
       "        vertical-align: middle;\n",
       "    }\n",
       "\n",
       "    .dataframe tbody tr th {\n",
       "        vertical-align: top;\n",
       "    }\n",
       "\n",
       "    .dataframe thead th {\n",
       "        text-align: right;\n",
       "    }\n",
       "</style>\n",
       "<table border=\"1\" class=\"dataframe\">\n",
       "  <thead>\n",
       "    <tr style=\"text-align: right;\">\n",
       "      <th></th>\n",
       "      <th>gene_names</th>\n",
       "      <th>ensembl_ids</th>\n",
       "      <th>Gene</th>\n",
       "      <th>n_reads</th>\n",
       "      <th>noise_reads</th>\n",
       "      <th>perfect_molecule_barcodes</th>\n",
       "      <th>reads_mapped_exonic</th>\n",
       "      <th>reads_mapped_exonic_as</th>\n",
       "      <th>reads_mapped_intronic</th>\n",
       "      <th>reads_mapped_intronic_as</th>\n",
       "      <th>...</th>\n",
       "      <th>genomic_read_quality_variance</th>\n",
       "      <th>n_molecules</th>\n",
       "      <th>n_fragments</th>\n",
       "      <th>reads_per_molecule</th>\n",
       "      <th>reads_per_fragment</th>\n",
       "      <th>fragments_per_molecule</th>\n",
       "      <th>fragments_with_single_read_evidence</th>\n",
       "      <th>molecules_with_single_read_evidence</th>\n",
       "      <th>number_cells_detected_multiple</th>\n",
       "      <th>number_cells_expressing</th>\n",
       "    </tr>\n",
       "  </thead>\n",
       "  <tbody>\n",
       "    <tr>\n",
       "      <th>DDX11L1</th>\n",
       "      <td>DDX11L1</td>\n",
       "      <td>ENSG00000223972.5</td>\n",
       "      <td>DDX11L1</td>\n",
       "      <td>NaN</td>\n",
       "      <td>NaN</td>\n",
       "      <td>NaN</td>\n",
       "      <td>NaN</td>\n",
       "      <td>NaN</td>\n",
       "      <td>NaN</td>\n",
       "      <td>NaN</td>\n",
       "      <td>...</td>\n",
       "      <td>NaN</td>\n",
       "      <td>NaN</td>\n",
       "      <td>NaN</td>\n",
       "      <td>NaN</td>\n",
       "      <td>NaN</td>\n",
       "      <td>NaN</td>\n",
       "      <td>NaN</td>\n",
       "      <td>NaN</td>\n",
       "      <td>NaN</td>\n",
       "      <td>NaN</td>\n",
       "    </tr>\n",
       "    <tr>\n",
       "      <th>WASH7P</th>\n",
       "      <td>WASH7P</td>\n",
       "      <td>ENSG00000227232.5</td>\n",
       "      <td>WASH7P</td>\n",
       "      <td>NaN</td>\n",
       "      <td>NaN</td>\n",
       "      <td>NaN</td>\n",
       "      <td>NaN</td>\n",
       "      <td>NaN</td>\n",
       "      <td>NaN</td>\n",
       "      <td>NaN</td>\n",
       "      <td>...</td>\n",
       "      <td>NaN</td>\n",
       "      <td>NaN</td>\n",
       "      <td>NaN</td>\n",
       "      <td>NaN</td>\n",
       "      <td>NaN</td>\n",
       "      <td>NaN</td>\n",
       "      <td>NaN</td>\n",
       "      <td>NaN</td>\n",
       "      <td>NaN</td>\n",
       "      <td>NaN</td>\n",
       "    </tr>\n",
       "    <tr>\n",
       "      <th>MIR6859-1</th>\n",
       "      <td>MIR6859-1</td>\n",
       "      <td>ENSG00000278267.1</td>\n",
       "      <td>MIR6859-1</td>\n",
       "      <td>NaN</td>\n",
       "      <td>NaN</td>\n",
       "      <td>NaN</td>\n",
       "      <td>NaN</td>\n",
       "      <td>NaN</td>\n",
       "      <td>NaN</td>\n",
       "      <td>NaN</td>\n",
       "      <td>...</td>\n",
       "      <td>NaN</td>\n",
       "      <td>NaN</td>\n",
       "      <td>NaN</td>\n",
       "      <td>NaN</td>\n",
       "      <td>NaN</td>\n",
       "      <td>NaN</td>\n",
       "      <td>NaN</td>\n",
       "      <td>NaN</td>\n",
       "      <td>NaN</td>\n",
       "      <td>NaN</td>\n",
       "    </tr>\n",
       "    <tr>\n",
       "      <th>MIR1302-2HG</th>\n",
       "      <td>MIR1302-2HG</td>\n",
       "      <td>ENSG00000243485.5</td>\n",
       "      <td>MIR1302-2HG</td>\n",
       "      <td>NaN</td>\n",
       "      <td>NaN</td>\n",
       "      <td>NaN</td>\n",
       "      <td>NaN</td>\n",
       "      <td>NaN</td>\n",
       "      <td>NaN</td>\n",
       "      <td>NaN</td>\n",
       "      <td>...</td>\n",
       "      <td>NaN</td>\n",
       "      <td>NaN</td>\n",
       "      <td>NaN</td>\n",
       "      <td>NaN</td>\n",
       "      <td>NaN</td>\n",
       "      <td>NaN</td>\n",
       "      <td>NaN</td>\n",
       "      <td>NaN</td>\n",
       "      <td>NaN</td>\n",
       "      <td>NaN</td>\n",
       "    </tr>\n",
       "    <tr>\n",
       "      <th>MIR1302-2</th>\n",
       "      <td>MIR1302-2</td>\n",
       "      <td>ENSG00000284332.1</td>\n",
       "      <td>MIR1302-2</td>\n",
       "      <td>NaN</td>\n",
       "      <td>NaN</td>\n",
       "      <td>NaN</td>\n",
       "      <td>NaN</td>\n",
       "      <td>NaN</td>\n",
       "      <td>NaN</td>\n",
       "      <td>NaN</td>\n",
       "      <td>...</td>\n",
       "      <td>NaN</td>\n",
       "      <td>NaN</td>\n",
       "      <td>NaN</td>\n",
       "      <td>NaN</td>\n",
       "      <td>NaN</td>\n",
       "      <td>NaN</td>\n",
       "      <td>NaN</td>\n",
       "      <td>NaN</td>\n",
       "      <td>NaN</td>\n",
       "      <td>NaN</td>\n",
       "    </tr>\n",
       "    <tr>\n",
       "      <th>...</th>\n",
       "      <td>...</td>\n",
       "      <td>...</td>\n",
       "      <td>...</td>\n",
       "      <td>...</td>\n",
       "      <td>...</td>\n",
       "      <td>...</td>\n",
       "      <td>...</td>\n",
       "      <td>...</td>\n",
       "      <td>...</td>\n",
       "      <td>...</td>\n",
       "      <td>...</td>\n",
       "      <td>...</td>\n",
       "      <td>...</td>\n",
       "      <td>...</td>\n",
       "      <td>...</td>\n",
       "      <td>...</td>\n",
       "      <td>...</td>\n",
       "      <td>...</td>\n",
       "      <td>...</td>\n",
       "      <td>...</td>\n",
       "      <td>...</td>\n",
       "    </tr>\n",
       "    <tr>\n",
       "      <th>AC007325.1</th>\n",
       "      <td>AC007325.1</td>\n",
       "      <td>ENSG00000276017.1</td>\n",
       "      <td>AC007325.1</td>\n",
       "      <td>NaN</td>\n",
       "      <td>NaN</td>\n",
       "      <td>NaN</td>\n",
       "      <td>NaN</td>\n",
       "      <td>NaN</td>\n",
       "      <td>NaN</td>\n",
       "      <td>NaN</td>\n",
       "      <td>...</td>\n",
       "      <td>NaN</td>\n",
       "      <td>NaN</td>\n",
       "      <td>NaN</td>\n",
       "      <td>NaN</td>\n",
       "      <td>NaN</td>\n",
       "      <td>NaN</td>\n",
       "      <td>NaN</td>\n",
       "      <td>NaN</td>\n",
       "      <td>NaN</td>\n",
       "      <td>NaN</td>\n",
       "    </tr>\n",
       "    <tr>\n",
       "      <th>AC007325.4</th>\n",
       "      <td>AC007325.4</td>\n",
       "      <td>ENSG00000278817.1</td>\n",
       "      <td>AC007325.4</td>\n",
       "      <td>512.0</td>\n",
       "      <td>0.0</td>\n",
       "      <td>493.0</td>\n",
       "      <td>512.0</td>\n",
       "      <td>0.0</td>\n",
       "      <td>0.0</td>\n",
       "      <td>0.0</td>\n",
       "      <td>...</td>\n",
       "      <td>3.157284</td>\n",
       "      <td>270.0</td>\n",
       "      <td>405.0</td>\n",
       "      <td>1.896296</td>\n",
       "      <td>1.264198</td>\n",
       "      <td>1.5</td>\n",
       "      <td>317.0</td>\n",
       "      <td>142.0</td>\n",
       "      <td>127.0</td>\n",
       "      <td>263.0</td>\n",
       "    </tr>\n",
       "    <tr>\n",
       "      <th>AC007325.2</th>\n",
       "      <td>AC007325.2</td>\n",
       "      <td>ENSG00000277196.4</td>\n",
       "      <td>AC007325.2</td>\n",
       "      <td>2.0</td>\n",
       "      <td>0.0</td>\n",
       "      <td>2.0</td>\n",
       "      <td>2.0</td>\n",
       "      <td>0.0</td>\n",
       "      <td>0.0</td>\n",
       "      <td>0.0</td>\n",
       "      <td>...</td>\n",
       "      <td>0.034768</td>\n",
       "      <td>1.0</td>\n",
       "      <td>2.0</td>\n",
       "      <td>2.000000</td>\n",
       "      <td>1.000000</td>\n",
       "      <td>2.0</td>\n",
       "      <td>2.0</td>\n",
       "      <td>0.0</td>\n",
       "      <td>1.0</td>\n",
       "      <td>1.0</td>\n",
       "    </tr>\n",
       "    <tr>\n",
       "      <th>U6</th>\n",
       "      <td>U6</td>\n",
       "      <td>ENSG00000278625.1</td>\n",
       "      <td>U6</td>\n",
       "      <td>NaN</td>\n",
       "      <td>NaN</td>\n",
       "      <td>NaN</td>\n",
       "      <td>NaN</td>\n",
       "      <td>NaN</td>\n",
       "      <td>NaN</td>\n",
       "      <td>NaN</td>\n",
       "      <td>...</td>\n",
       "      <td>NaN</td>\n",
       "      <td>NaN</td>\n",
       "      <td>NaN</td>\n",
       "      <td>NaN</td>\n",
       "      <td>NaN</td>\n",
       "      <td>NaN</td>\n",
       "      <td>NaN</td>\n",
       "      <td>NaN</td>\n",
       "      <td>NaN</td>\n",
       "      <td>NaN</td>\n",
       "    </tr>\n",
       "    <tr>\n",
       "      <th>U1</th>\n",
       "      <td>U1</td>\n",
       "      <td>ENSG00000277374.1</td>\n",
       "      <td>U1</td>\n",
       "      <td>NaN</td>\n",
       "      <td>NaN</td>\n",
       "      <td>NaN</td>\n",
       "      <td>NaN</td>\n",
       "      <td>NaN</td>\n",
       "      <td>NaN</td>\n",
       "      <td>NaN</td>\n",
       "      <td>...</td>\n",
       "      <td>NaN</td>\n",
       "      <td>NaN</td>\n",
       "      <td>NaN</td>\n",
       "      <td>NaN</td>\n",
       "      <td>NaN</td>\n",
       "      <td>NaN</td>\n",
       "      <td>NaN</td>\n",
       "      <td>NaN</td>\n",
       "      <td>NaN</td>\n",
       "      <td>NaN</td>\n",
       "    </tr>\n",
       "  </tbody>\n",
       "</table>\n",
       "<p>58347 rows × 30 columns</p>\n",
       "</div>"
      ],
      "text/plain": [
       "              gene_names        ensembl_ids         Gene  n_reads  \\\n",
       "DDX11L1          DDX11L1  ENSG00000223972.5      DDX11L1      NaN   \n",
       "WASH7P            WASH7P  ENSG00000227232.5       WASH7P      NaN   \n",
       "MIR6859-1      MIR6859-1  ENSG00000278267.1    MIR6859-1      NaN   \n",
       "MIR1302-2HG  MIR1302-2HG  ENSG00000243485.5  MIR1302-2HG      NaN   \n",
       "MIR1302-2      MIR1302-2  ENSG00000284332.1    MIR1302-2      NaN   \n",
       "...                  ...                ...          ...      ...   \n",
       "AC007325.1    AC007325.1  ENSG00000276017.1   AC007325.1      NaN   \n",
       "AC007325.4    AC007325.4  ENSG00000278817.1   AC007325.4    512.0   \n",
       "AC007325.2    AC007325.2  ENSG00000277196.4   AC007325.2      2.0   \n",
       "U6                    U6  ENSG00000278625.1           U6      NaN   \n",
       "U1                    U1  ENSG00000277374.1           U1      NaN   \n",
       "\n",
       "             noise_reads  perfect_molecule_barcodes  reads_mapped_exonic  \\\n",
       "DDX11L1              NaN                        NaN                  NaN   \n",
       "WASH7P               NaN                        NaN                  NaN   \n",
       "MIR6859-1            NaN                        NaN                  NaN   \n",
       "MIR1302-2HG          NaN                        NaN                  NaN   \n",
       "MIR1302-2            NaN                        NaN                  NaN   \n",
       "...                  ...                        ...                  ...   \n",
       "AC007325.1           NaN                        NaN                  NaN   \n",
       "AC007325.4           0.0                      493.0                512.0   \n",
       "AC007325.2           0.0                        2.0                  2.0   \n",
       "U6                   NaN                        NaN                  NaN   \n",
       "U1                   NaN                        NaN                  NaN   \n",
       "\n",
       "             reads_mapped_exonic_as  reads_mapped_intronic  \\\n",
       "DDX11L1                         NaN                    NaN   \n",
       "WASH7P                          NaN                    NaN   \n",
       "MIR6859-1                       NaN                    NaN   \n",
       "MIR1302-2HG                     NaN                    NaN   \n",
       "MIR1302-2                       NaN                    NaN   \n",
       "...                             ...                    ...   \n",
       "AC007325.1                      NaN                    NaN   \n",
       "AC007325.4                      0.0                    0.0   \n",
       "AC007325.2                      0.0                    0.0   \n",
       "U6                              NaN                    NaN   \n",
       "U1                              NaN                    NaN   \n",
       "\n",
       "             reads_mapped_intronic_as  ...  genomic_read_quality_variance  \\\n",
       "DDX11L1                           NaN  ...                            NaN   \n",
       "WASH7P                            NaN  ...                            NaN   \n",
       "MIR6859-1                         NaN  ...                            NaN   \n",
       "MIR1302-2HG                       NaN  ...                            NaN   \n",
       "MIR1302-2                         NaN  ...                            NaN   \n",
       "...                               ...  ...                            ...   \n",
       "AC007325.1                        NaN  ...                            NaN   \n",
       "AC007325.4                        0.0  ...                       3.157284   \n",
       "AC007325.2                        0.0  ...                       0.034768   \n",
       "U6                                NaN  ...                            NaN   \n",
       "U1                                NaN  ...                            NaN   \n",
       "\n",
       "             n_molecules  n_fragments  reads_per_molecule  reads_per_fragment  \\\n",
       "DDX11L1              NaN          NaN                 NaN                 NaN   \n",
       "WASH7P               NaN          NaN                 NaN                 NaN   \n",
       "MIR6859-1            NaN          NaN                 NaN                 NaN   \n",
       "MIR1302-2HG          NaN          NaN                 NaN                 NaN   \n",
       "MIR1302-2            NaN          NaN                 NaN                 NaN   \n",
       "...                  ...          ...                 ...                 ...   \n",
       "AC007325.1           NaN          NaN                 NaN                 NaN   \n",
       "AC007325.4         270.0        405.0            1.896296            1.264198   \n",
       "AC007325.2           1.0          2.0            2.000000            1.000000   \n",
       "U6                   NaN          NaN                 NaN                 NaN   \n",
       "U1                   NaN          NaN                 NaN                 NaN   \n",
       "\n",
       "             fragments_per_molecule  fragments_with_single_read_evidence  \\\n",
       "DDX11L1                         NaN                                  NaN   \n",
       "WASH7P                          NaN                                  NaN   \n",
       "MIR6859-1                       NaN                                  NaN   \n",
       "MIR1302-2HG                     NaN                                  NaN   \n",
       "MIR1302-2                       NaN                                  NaN   \n",
       "...                             ...                                  ...   \n",
       "AC007325.1                      NaN                                  NaN   \n",
       "AC007325.4                      1.5                                317.0   \n",
       "AC007325.2                      2.0                                  2.0   \n",
       "U6                              NaN                                  NaN   \n",
       "U1                              NaN                                  NaN   \n",
       "\n",
       "             molecules_with_single_read_evidence  \\\n",
       "DDX11L1                                      NaN   \n",
       "WASH7P                                       NaN   \n",
       "MIR6859-1                                    NaN   \n",
       "MIR1302-2HG                                  NaN   \n",
       "MIR1302-2                                    NaN   \n",
       "...                                          ...   \n",
       "AC007325.1                                   NaN   \n",
       "AC007325.4                                 142.0   \n",
       "AC007325.2                                   0.0   \n",
       "U6                                           NaN   \n",
       "U1                                           NaN   \n",
       "\n",
       "             number_cells_detected_multiple  number_cells_expressing  \n",
       "DDX11L1                                 NaN                      NaN  \n",
       "WASH7P                                  NaN                      NaN  \n",
       "MIR6859-1                               NaN                      NaN  \n",
       "MIR1302-2HG                             NaN                      NaN  \n",
       "MIR1302-2                               NaN                      NaN  \n",
       "...                                     ...                      ...  \n",
       "AC007325.1                              NaN                      NaN  \n",
       "AC007325.4                            127.0                    263.0  \n",
       "AC007325.2                              1.0                      1.0  \n",
       "U6                                      NaN                      NaN  \n",
       "U1                                      NaN                      NaN  \n",
       "\n",
       "[58347 rows x 30 columns]"
      ]
     },
     "metadata": {},
     "output_type": "display_data"
    }
   ],
   "source": [
    "display(wlg_adata.obs)\n",
    "display(wlg_adata.var)"
   ]
  },
  {
   "cell_type": "markdown",
   "metadata": {},
   "source": [
    "##### 3.3. Differences between the two pipelines"
   ]
  },
  {
   "cell_type": "code",
   "execution_count": 13,
   "metadata": {},
   "outputs": [
    {
     "name": "stdout",
     "output_type": "stream",
     "text": [
      "Elements in hca_duplicates that are not in wlg_duplicates: []\n",
      "Elements in wlg_duplicates that are not in hca_duplicates: []\n"
     ]
    }
   ],
   "source": [
    "# Find elements in hca_duplicates that are not in wlg_duplicates\n",
    "difference1 = [item for item in hca_duplicates if item not in wlg_duplicates]\n",
    "\n",
    "# Find elements in wlg_duplicates that are not in hca_duplicates\n",
    "difference2 = [item for item in wlg_duplicates if item not in hca_duplicates]\n",
    "\n",
    "# Print the differences\n",
    "print(\"Elements in hca_duplicates that are not in wlg_duplicates:\", difference1)\n",
    "print(\"Elements in wlg_duplicates that are not in hca_duplicates:\", difference2)"
   ]
  },
  {
   "cell_type": "code",
   "execution_count": 18,
   "metadata": {},
   "outputs": [
    {
     "name": "stdout",
     "output_type": "stream",
     "text": [
      "All differences between index1 and index2: Index(['duplicate_reads', 'reads_mapped_exonic', 'reads_mapped_exonic_as',\n",
      "       'reads_mapped_intronic', 'reads_mapped_intronic_as'],\n",
      "      dtype='object')\n"
     ]
    }
   ],
   "source": [
    "index1 = wlg_adata.var.columns\n",
    "index2 = hca_adata.var.columns\n",
    "\n",
    "# Find all differences between index1 and index2\n",
    "all_differences = index1.symmetric_difference(index2)\n",
    "\n",
    "# Print all differences\n",
    "print(\"All differences between index1 and index2:\", all_differences)"
   ]
  },
  {
   "cell_type": "code",
   "execution_count": 20,
   "metadata": {},
   "outputs": [
    {
     "name": "stdout",
     "output_type": "stream",
     "text": [
      "All differences between index1 and index2: Index(['duplicate_reads', 'reads_mapped_exonic', 'reads_mapped_exonic_as',\n",
      "       'reads_mapped_intergenic', 'reads_mapped_intronic',\n",
      "       'reads_mapped_intronic_as', 'reads_per_molecule', 'reads_unmapped'],\n",
      "      dtype='object')\n"
     ]
    }
   ],
   "source": [
    "index1 = wlg_adata.obs.columns\n",
    "index2 = hca_adata.obs.columns\n",
    "\n",
    "all_differences = index1.symmetric_difference(index2)\n",
    "print(\"All differences between index1 and index2:\", all_differences)"
   ]
  },
  {
   "cell_type": "code",
   "execution_count": 21,
   "metadata": {},
   "outputs": [
    {
     "name": "stderr",
     "output_type": "stream",
     "text": [
      "/opt/homebrew/Caskroom/miniconda/base/envs/bulk/lib/python3.9/site-packages/anndata/utils.py:111: UserWarning: Suffix used (-[0-9]+) to deduplicate index values may make index values difficult to interpret. There values with a similar suffixes in the index. Consider using a different delimiter by passing `join={delimiter}`Example key collisions generated by the make_index_unique algorithm: ['SNORD116-1', 'SNORD116-2', 'SNORD116-3', 'SNORD116-4', 'SNORD116-5']\n",
      "  warnings.warn(\n"
     ]
    }
   ],
   "source": [
    "wlg_adata.var_names_make_unique()"
   ]
  },
  {
   "cell_type": "markdown",
   "metadata": {},
   "source": [
    "#### 4. Filtering low quality reads"
   ]
  },
  {
   "cell_type": "markdown",
   "metadata": {},
   "source": [
    "##### 4.1. HCA pipeline"
   ]
  },
  {
   "cell_type": "code",
   "execution_count": 204,
   "metadata": {},
   "outputs": [
    {
     "name": "stdout",
     "output_type": "stream",
     "text": [
      "mouse mt number 0\n"
     ]
    }
   ],
   "source": [
    "# mitochondrial genes: MT- for human data, mt- for mouse data\n",
    "hca_adata.var[\"mt\"] = hca_adata.var_names.str.startswith(\"MT-\")\n",
    "# check if have mouse mt genes\n",
    "#todo: see alix function\n",
    "count_true = (hca_adata.var_names.str.startswith(\"mt-\")).sum()\n",
    "print(\"mouse mt number\", count_true)\n",
    "\n",
    "# ribosomal genes\n",
    "hca_adata.var[\"ribo\"] = hca_adata.var_names.str.startswith((\"RPS\", \"RPL\"))\n",
    "# hemoglobin genes\n",
    "hca_adata.var[\"hb\"] = hca_adata.var_names.str.contains((\"^HB[^(P)]\"))"
   ]
  },
  {
   "cell_type": "code",
   "execution_count": 205,
   "metadata": {},
   "outputs": [
    {
     "data": {
      "text/plain": [
       "AnnData object with n_obs × n_vars = 45397 × 58347\n",
       "    obs: 'cell_names', 'CellID', 'emptydrops_Limited', 'emptydrops_IsCell', 'n_reads', 'noise_reads', 'perfect_molecule_barcodes', 'reads_mapped_uniquely', 'reads_mapped_multiple', 'spliced_reads', 'antisense_reads', 'n_molecules', 'n_fragments', 'fragments_with_single_read_evidence', 'molecules_with_single_read_evidence', 'perfect_cell_barcodes', 'reads_mapped_too_many_loci', 'n_genes', 'genes_detected_multiple_observations', 'emptydrops_Total', 'molecule_barcode_fraction_bases_above_30_mean', 'molecule_barcode_fraction_bases_above_30_variance', 'genomic_reads_fraction_bases_quality_above_30_mean', 'genomic_reads_fraction_bases_quality_above_30_variance', 'genomic_read_quality_mean', 'genomic_read_quality_variance', 'reads_per_fragment', 'fragments_per_molecule', 'cell_barcode_fraction_bases_above_30_mean', 'cell_barcode_fraction_bases_above_30_variance', 'n_mitochondrial_genes', 'n_mitochondrial_molecules', 'pct_mitochondrial_molecules', 'emptydrops_LogProb', 'emptydrops_PValue', 'emptydrops_FDR', 'input_id', 'n_genes_by_counts', 'log1p_n_genes_by_counts', 'total_counts', 'log1p_total_counts', 'pct_counts_in_top_20_genes', 'total_counts_mt', 'log1p_total_counts_mt', 'pct_counts_mt', 'total_counts_ribo', 'log1p_total_counts_ribo', 'pct_counts_ribo', 'total_counts_hb', 'log1p_total_counts_hb', 'pct_counts_hb'\n",
       "    var: 'gene_names', 'ensembl_ids', 'Gene', 'n_reads', 'noise_reads', 'perfect_molecule_barcodes', 'reads_mapped_uniquely', 'reads_mapped_multiple', 'spliced_reads', 'antisense_reads', 'molecule_barcode_fraction_bases_above_30_mean', 'molecule_barcode_fraction_bases_above_30_variance', 'genomic_reads_fraction_bases_quality_above_30_mean', 'genomic_reads_fraction_bases_quality_above_30_variance', 'genomic_read_quality_mean', 'genomic_read_quality_variance', 'n_molecules', 'n_fragments', 'reads_per_molecule', 'reads_per_fragment', 'fragments_per_molecule', 'fragments_with_single_read_evidence', 'molecules_with_single_read_evidence', 'number_cells_detected_multiple', 'number_cells_expressing', 'mt', 'ribo', 'hb', 'n_cells_by_counts', 'mean_counts', 'log1p_mean_counts', 'pct_dropout_by_counts', 'total_counts', 'log1p_total_counts'\n",
       "    uns: 'expression_data_type', 'input_id', 'optimus_output_schema_version', 'pipeline_version'"
      ]
     },
     "execution_count": 205,
     "metadata": {},
     "output_type": "execute_result"
    }
   ],
   "source": [
    "# add qc metric to obs\n",
    "sc.pp.calculate_qc_metrics(\n",
    "    hca_adata, qc_vars=[\"mt\", \"ribo\", \"hb\"], inplace=True, percent_top=[20], log1p=True\n",
    ")\n",
    "hca_adata"
   ]
  },
  {
   "cell_type": "code",
   "execution_count": 206,
   "metadata": {},
   "outputs": [
    {
     "data": {
      "image/png": "[encoded data removed]",
      "text/plain": [
       "<Figure size 500x500 with 1 Axes>"
      ]
     },
     "metadata": {},
     "output_type": "display_data"
    },
    {
     "data": {
      "image/png": "[encoded data removed]",
      "text/plain": [
       "<Figure size 804.6x480 with 1 Axes>"
      ]
     },
     "metadata": {},
     "output_type": "display_data"
    },
    {
     "data": {
      "image/png": "[encoded data removed]",
      "text/plain": [
       "<Figure size 810.02x480 with 2 Axes>"
      ]
     },
     "metadata": {},
     "output_type": "display_data"
    }
   ],
   "source": [
    "p1 = sns.displot(hca_adata.obs[\"total_counts\"], bins=100, kde=False)\n",
    "# sc.pl.violin(adata, 'total_counts')\n",
    "p2 = sc.pl.violin(hca_adata, \"pct_counts_mt\")\n",
    "p3 = sc.pl.scatter(hca_adata, \"total_counts\", \"n_genes_by_counts\", color=\"pct_counts_mt\")"
   ]
  },
  {
   "cell_type": "code",
   "execution_count": 207,
   "metadata": {},
   "outputs": [
    {
     "data": {
      "text/plain": [
       "View of AnnData object with n_obs × n_vars = 0 × 58347\n",
       "    obs: 'cell_names', 'CellID', 'emptydrops_Limited', 'emptydrops_IsCell', 'n_reads', 'noise_reads', 'perfect_molecule_barcodes', 'reads_mapped_uniquely', 'reads_mapped_multiple', 'spliced_reads', 'antisense_reads', 'n_molecules', 'n_fragments', 'fragments_with_single_read_evidence', 'molecules_with_single_read_evidence', 'perfect_cell_barcodes', 'reads_mapped_too_many_loci', 'n_genes', 'genes_detected_multiple_observations', 'emptydrops_Total', 'molecule_barcode_fraction_bases_above_30_mean', 'molecule_barcode_fraction_bases_above_30_variance', 'genomic_reads_fraction_bases_quality_above_30_mean', 'genomic_reads_fraction_bases_quality_above_30_variance', 'genomic_read_quality_mean', 'genomic_read_quality_variance', 'reads_per_fragment', 'fragments_per_molecule', 'cell_barcode_fraction_bases_above_30_mean', 'cell_barcode_fraction_bases_above_30_variance', 'n_mitochondrial_genes', 'n_mitochondrial_molecules', 'pct_mitochondrial_molecules', 'emptydrops_LogProb', 'emptydrops_PValue', 'emptydrops_FDR', 'input_id', 'n_genes_by_counts', 'log1p_n_genes_by_counts', 'total_counts', 'log1p_total_counts', 'pct_counts_in_top_20_genes', 'total_counts_mt', 'log1p_total_counts_mt', 'pct_counts_mt', 'total_counts_ribo', 'log1p_total_counts_ribo', 'pct_counts_ribo', 'total_counts_hb', 'log1p_total_counts_hb', 'pct_counts_hb'\n",
       "    var: 'gene_names', 'ensembl_ids', 'Gene', 'n_reads', 'noise_reads', 'perfect_molecule_barcodes', 'reads_mapped_uniquely', 'reads_mapped_multiple', 'spliced_reads', 'antisense_reads', 'molecule_barcode_fraction_bases_above_30_mean', 'molecule_barcode_fraction_bases_above_30_variance', 'genomic_reads_fraction_bases_quality_above_30_mean', 'genomic_reads_fraction_bases_quality_above_30_variance', 'genomic_read_quality_mean', 'genomic_read_quality_variance', 'n_molecules', 'n_fragments', 'reads_per_molecule', 'reads_per_fragment', 'fragments_per_molecule', 'fragments_with_single_read_evidence', 'molecules_with_single_read_evidence', 'number_cells_detected_multiple', 'number_cells_expressing', 'mt', 'ribo', 'hb', 'n_cells_by_counts', 'mean_counts', 'log1p_mean_counts', 'pct_dropout_by_counts', 'total_counts', 'log1p_total_counts'\n",
       "    uns: 'expression_data_type', 'input_id', 'optimus_output_schema_version', 'pipeline_version'"
      ]
     },
     "execution_count": 207,
     "metadata": {},
     "output_type": "execute_result"
    }
   ],
   "source": [
    "# have too much 0 for library size\n",
    "hca_barcodes_to_keep, _ = sc.pp.filter_cells(hca_adata, min_counts=500, inplace = False)\n",
    "# by default inplace = True, so adata is modified directly\n",
    "hca_adata = hca_adata[hca_barcodes_to_keep, :]\n",
    "hca_adata"
   ]
  },
  {
   "cell_type": "code",
   "execution_count": 208,
   "metadata": {},
   "outputs": [
    {
     "name": "stdout",
     "output_type": "stream",
     "text": [
      "mouse mt number 0\n"
     ]
    },
    {
     "name": "stderr",
     "output_type": "stream",
     "text": [
      "/var/folders/1h/vw_l9z3s1f131f4qs27kksgw0000gp/T/ipykernel_69970/1504952266.py:2: ImplicitModificationWarning: Trying to modify attribute `.var` of view, initializing view as actual.\n",
      "  hca_adata.var[\"mt\"] = hca_adata.var_names.str.startswith(\"MT-\")\n"
     ]
    }
   ],
   "source": [
    "# mitochondrial genes: MT- for human data, mt- for mouse data\n",
    "hca_adata.var[\"mt\"] = hca_adata.var_names.str.startswith(\"MT-\")\n",
    "# check if have mouse mt genes\n",
    "#todo: see alix function\n",
    "count_true = (hca_adata.var_names.str.startswith(\"mt-\")).sum()\n",
    "print(\"mouse mt number\", count_true)\n",
    "\n",
    "# ribosomal genes\n",
    "hca_adata.var[\"ribo\"] = hca_adata.var_names.str.startswith((\"RPS\", \"RPL\"))\n",
    "# hemoglobin genes\n",
    "hca_adata.var[\"hb\"] = hca_adata.var_names.str.contains((\"^HB[^(P)]\"))"
   ]
  },
  {
   "cell_type": "code",
   "execution_count": null,
   "metadata": {},
   "outputs": [],
   "source": [
    "p1 = sns.displot(hca_adata.obs[\"total_counts\"], bins=100, kde=False)\n",
    "# sc.pl.violin(adata, 'total_counts')\n",
    "p2 = sc.pl.violin(hca_adata, \"pct_counts_mt\")\n",
    "p3 = sc.pl.scatter(hca_adata, \"total_counts\", \"n_genes_by_counts\", color=\"pct_counts_mt\")"
   ]
  },
  {
   "cell_type": "markdown",
   "metadata": {},
   "source": [
    "##### 4.2. WLG pipeline"
   ]
  },
  {
   "cell_type": "code",
   "execution_count": 22,
   "metadata": {},
   "outputs": [
    {
     "name": "stdout",
     "output_type": "stream",
     "text": [
      "mouse mt number 0\n"
     ]
    }
   ],
   "source": [
    "# mitochondrial genes: MT- for human data, mt- for mouse data\n",
    "wlg_adata.var[\"mt\"] = wlg_adata.var_names.str.startswith(\"MT-\")\n",
    "# check if have mouse mt genes\n",
    "#todo: see alix function\n",
    "count_true = (wlg_adata.var_names.str.startswith(\"mt-\")).sum()\n",
    "print(\"mouse mt number\", count_true)\n",
    "\n",
    "# ribosomal genes\n",
    "wlg_adata.var[\"ribo\"] = wlg_adata.var_names.str.startswith((\"RPS\", \"RPL\"))\n",
    "# hemoglobin genes\n",
    "wlg_adata.var[\"hb\"] = wlg_adata.var_names.str.contains((\"^HB[^(P)]\"))"
   ]
  },
  {
   "cell_type": "code",
   "execution_count": 23,
   "metadata": {},
   "outputs": [
    {
     "data": {
      "text/plain": [
       "AnnData object with n_obs × n_vars = 1136912 × 58347\n",
       "    obs: 'cell_names', 'CellID', 'emptydrops_Limited', 'emptydrops_IsCell', 'n_reads', 'noise_reads', 'perfect_molecule_barcodes', 'reads_mapped_exonic', 'reads_mapped_exonic_as', 'reads_mapped_intronic', 'reads_mapped_intronic_as', 'reads_mapped_uniquely', 'reads_mapped_multiple', 'duplicate_reads', 'spliced_reads', 'antisense_reads', 'n_molecules', 'n_fragments', 'fragments_with_single_read_evidence', 'molecules_with_single_read_evidence', 'perfect_cell_barcodes', 'reads_mapped_intergenic', 'reads_unmapped', 'reads_mapped_too_many_loci', 'n_genes', 'genes_detected_multiple_observations', 'emptydrops_Total', 'molecule_barcode_fraction_bases_above_30_mean', 'molecule_barcode_fraction_bases_above_30_variance', 'genomic_reads_fraction_bases_quality_above_30_mean', 'genomic_reads_fraction_bases_quality_above_30_variance', 'genomic_read_quality_mean', 'genomic_read_quality_variance', 'reads_per_molecule', 'reads_per_fragment', 'fragments_per_molecule', 'cell_barcode_fraction_bases_above_30_mean', 'cell_barcode_fraction_bases_above_30_variance', 'n_mitochondrial_genes', 'n_mitochondrial_molecules', 'pct_mitochondrial_molecules', 'emptydrops_LogProb', 'emptydrops_PValue', 'emptydrops_FDR', 'input_id', 'n_genes_by_counts', 'log1p_n_genes_by_counts', 'total_counts', 'log1p_total_counts', 'pct_counts_in_top_20_genes', 'total_counts_mt', 'log1p_total_counts_mt', 'pct_counts_mt', 'total_counts_ribo', 'log1p_total_counts_ribo', 'pct_counts_ribo', 'total_counts_hb', 'log1p_total_counts_hb', 'pct_counts_hb'\n",
       "    var: 'gene_names', 'ensembl_ids', 'Gene', 'n_reads', 'noise_reads', 'perfect_molecule_barcodes', 'reads_mapped_exonic', 'reads_mapped_exonic_as', 'reads_mapped_intronic', 'reads_mapped_intronic_as', 'reads_mapped_uniquely', 'reads_mapped_multiple', 'duplicate_reads', 'spliced_reads', 'antisense_reads', 'molecule_barcode_fraction_bases_above_30_mean', 'molecule_barcode_fraction_bases_above_30_variance', 'genomic_reads_fraction_bases_quality_above_30_mean', 'genomic_reads_fraction_bases_quality_above_30_variance', 'genomic_read_quality_mean', 'genomic_read_quality_variance', 'n_molecules', 'n_fragments', 'reads_per_molecule', 'reads_per_fragment', 'fragments_per_molecule', 'fragments_with_single_read_evidence', 'molecules_with_single_read_evidence', 'number_cells_detected_multiple', 'number_cells_expressing', 'mt', 'ribo', 'hb', 'n_cells_by_counts', 'mean_counts', 'log1p_mean_counts', 'pct_dropout_by_counts', 'total_counts', 'log1p_total_counts'\n",
       "    uns: 'expression_data_type', 'input_id', 'optimus_output_schema_version', 'pipeline_version'"
      ]
     },
     "execution_count": 23,
     "metadata": {},
     "output_type": "execute_result"
    }
   ],
   "source": [
    "# add qc metric to obs\n",
    "sc.pp.calculate_qc_metrics(\n",
    "    wlg_adata, qc_vars=[\"mt\", \"ribo\", \"hb\"], inplace=True, percent_top=[20], log1p=True\n",
    ")\n",
    "wlg_adata"
   ]
  },
  {
   "cell_type": "code",
   "execution_count": null,
   "metadata": {},
   "outputs": [],
   "source": [
    "p1 = sns.displot(wlg_adata.obs[\"total_counts\"], bins=100, kde=False)\n",
    "#sc.pl.violin(wlg_adata, 'total_counts')\n",
    "p2 = sc.pl.violin(wlg_adata, \"pct_counts_mt\")\n",
    "p3 = sc.pl.scatter(wlg_adata, \"total_counts\", \"n_genes_by_counts\", color=\"pct_counts_mt\")"
   ]
  },
  {
   "cell_type": "code",
   "execution_count": 26,
   "metadata": {},
   "outputs": [
    {
     "data": {
      "text/plain": [
       "View of AnnData object with n_obs × n_vars = 12283 × 58347\n",
       "    obs: 'cell_names', 'CellID', 'emptydrops_Limited', 'emptydrops_IsCell', 'n_reads', 'noise_reads', 'perfect_molecule_barcodes', 'reads_mapped_exonic', 'reads_mapped_exonic_as', 'reads_mapped_intronic', 'reads_mapped_intronic_as', 'reads_mapped_uniquely', 'reads_mapped_multiple', 'duplicate_reads', 'spliced_reads', 'antisense_reads', 'n_molecules', 'n_fragments', 'fragments_with_single_read_evidence', 'molecules_with_single_read_evidence', 'perfect_cell_barcodes', 'reads_mapped_intergenic', 'reads_unmapped', 'reads_mapped_too_many_loci', 'n_genes', 'genes_detected_multiple_observations', 'emptydrops_Total', 'molecule_barcode_fraction_bases_above_30_mean', 'molecule_barcode_fraction_bases_above_30_variance', 'genomic_reads_fraction_bases_quality_above_30_mean', 'genomic_reads_fraction_bases_quality_above_30_variance', 'genomic_read_quality_mean', 'genomic_read_quality_variance', 'reads_per_molecule', 'reads_per_fragment', 'fragments_per_molecule', 'cell_barcode_fraction_bases_above_30_mean', 'cell_barcode_fraction_bases_above_30_variance', 'n_mitochondrial_genes', 'n_mitochondrial_molecules', 'pct_mitochondrial_molecules', 'emptydrops_LogProb', 'emptydrops_PValue', 'emptydrops_FDR', 'input_id', 'n_genes_by_counts', 'log1p_n_genes_by_counts', 'total_counts', 'log1p_total_counts', 'pct_counts_in_top_20_genes', 'total_counts_mt', 'log1p_total_counts_mt', 'pct_counts_mt', 'total_counts_ribo', 'log1p_total_counts_ribo', 'pct_counts_ribo', 'total_counts_hb', 'log1p_total_counts_hb', 'pct_counts_hb'\n",
       "    var: 'gene_names', 'ensembl_ids', 'Gene', 'n_reads', 'noise_reads', 'perfect_molecule_barcodes', 'reads_mapped_exonic', 'reads_mapped_exonic_as', 'reads_mapped_intronic', 'reads_mapped_intronic_as', 'reads_mapped_uniquely', 'reads_mapped_multiple', 'duplicate_reads', 'spliced_reads', 'antisense_reads', 'molecule_barcode_fraction_bases_above_30_mean', 'molecule_barcode_fraction_bases_above_30_variance', 'genomic_reads_fraction_bases_quality_above_30_mean', 'genomic_reads_fraction_bases_quality_above_30_variance', 'genomic_read_quality_mean', 'genomic_read_quality_variance', 'n_molecules', 'n_fragments', 'reads_per_molecule', 'reads_per_fragment', 'fragments_per_molecule', 'fragments_with_single_read_evidence', 'molecules_with_single_read_evidence', 'number_cells_detected_multiple', 'number_cells_expressing', 'mt', 'ribo', 'hb', 'n_cells_by_counts', 'mean_counts', 'log1p_mean_counts', 'pct_dropout_by_counts', 'total_counts', 'log1p_total_counts'\n",
       "    uns: 'expression_data_type', 'input_id', 'optimus_output_schema_version', 'pipeline_version'"
      ]
     },
     "execution_count": 26,
     "metadata": {},
     "output_type": "execute_result"
    }
   ],
   "source": [
    "wlg_barcodes_to_keep, _ = sc.pp.filter_cells(wlg_adata, min_counts=500, inplace = False)\n",
    "wlg_adata = wlg_adata[wlg_barcodes_to_keep, :]\n",
    "wlg_adata"
   ]
  },
  {
   "cell_type": "code",
   "execution_count": 30,
   "metadata": {},
   "outputs": [
    {
     "data": {
      "image/png": "[encoded data removed]",
      "text/plain": [
       "<Figure size 500x500 with 1 Axes>"
      ]
     },
     "metadata": {},
     "output_type": "display_data"
    },
    {
     "data": {
      "image/png": "[encoded data removed]",
      "text/plain": [
       "<Figure size 804.6x480 with 1 Axes>"
      ]
     },
     "metadata": {},
     "output_type": "display_data"
    },
    {
     "data": {
      "image/png": "[encoded data removed]",
      "text/plain": [
       "<Figure size 810.02x480 with 2 Axes>"
      ]
     },
     "metadata": {},
     "output_type": "display_data"
    }
   ],
   "source": [
    "p1 = sns.displot(wlg_adata.obs[\"total_counts\"], bins=100, kde=False)\n",
    "# sc.pl.violin(adata, 'total_counts')\n",
    "p2 = sc.pl.violin(wlg_adata, \"pct_counts_mt\")\n",
    "p3 = sc.pl.scatter(wlg_adata, \"total_counts\", \"n_genes_by_counts\", color=\"pct_counts_mt\")"
   ]
  }
 ],
 "metadata": {
  "kernelspec": {
   "display_name": "bulk",
   "language": "python",
   "name": "python3"
  },
  "language_info": {
   "codemirror_mode": {
    "name": "ipython",
    "version": 3
   },
   "file_extension": ".py",
   "mimetype": "text/x-python",
   "name": "python",
   "nbconvert_exporter": "python",
   "pygments_lexer": "ipython3",
   "version": "3.9.17"
  },
  "orig_nbformat": 4
 },
 "nbformat": 4,
 "nbformat_minor": 2
}
