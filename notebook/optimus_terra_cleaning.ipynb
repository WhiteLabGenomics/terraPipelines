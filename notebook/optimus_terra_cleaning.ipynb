{
 "cells": [
  {
   "attachments": {},
   "cell_type": "markdown",
   "id": "65800599",
   "metadata": {},
   "source": [
    "### Data removing from Terra.bio"
   ]
  },
  {
   "attachments": {},
   "cell_type": "markdown",
   "id": "e9517c87",
   "metadata": {},
   "source": [
    "#### Library lording and function definition"
   ]
  },
  {
   "cell_type": "code",
   "execution_count": 1,
   "id": "d8105fe5",
   "metadata": {},
   "outputs": [],
   "source": [
    "### autoreload ### \n",
    "%load_ext autoreload\n",
    "%autoreload 2"
   ]
  },
  {
   "cell_type": "code",
   "execution_count": 2,
   "id": "9a9f5ca5",
   "metadata": {},
   "outputs": [],
   "source": [
    "### Load necessary libraries ###\n",
    "from genepy import terra\n",
    "import dalmatian as dm\n",
    "import pandas as pd"
   ]
  },
  {
   "cell_type": "code",
   "execution_count": 3,
   "id": "9e37a975",
   "metadata": {},
   "outputs": [],
   "source": [
    "# removing things from old failed workflows\n",
    "def removeFromFailedWorkflows(\n",
    "    workspaceid: str,\n",
    "    maxtime: str=\"2020-06-10\",\n",
    "    force_remove: list=[],\n",
    "    dryrun: bool=True\n",
    ") -> None:\n",
    "    \"\"\"\n",
    "    Lists all files from all jobs that have failed and deletes them.\n",
    "\n",
    "    Can be very long\n",
    "\n",
    "    parameters\n",
    "    ----------\n",
    "    workspaceid: str\n",
    "        str the workspace name\n",
    "\n",
    "    maxtime: str\n",
    "        str date format (eg. 2020-06-10) does not delete files generated past this date\n",
    "\n",
    "    force_remove: list\n",
    "        list[str of submissionId] removes from these workflows even if not failed\n",
    "\n",
    "    dryrun: bool\n",
    "        bool whether or not to execute or just print commands\n",
    "\n",
    "    Returns\n",
    "    -------\n",
    "    None\n",
    "    \"\"\"\n",
    "    wm = dm.WorkspaceManager(workspaceid)\n",
    "    for val in wm.list_submissions():\n",
    "        if (\n",
    "            val[\"workflowStatuses\"][list(val[\"workflowStatuses\"].keys())[0]] > 0 or val[\"submissionId\"] in force_remove\n",
    "        ) and (pd.to_datetime(val['submissionDate']).tz_localize(None)) > pd.to_datetime(maxtime):\n",
    "            for w in wm.get_submission(val[\"submissionId\"])[\"workflows\"]:\n",
    "                #if w[\"status\"] == \"Failed\" or val[\"methodConfigurationName\"] in force_remove:\n",
    "                if w[\"status\"] in [\"Failed\", \"Aborted\"] or val[\"submissionId\"] in force_remove:\n",
    "                    print(w[\"status\"], val['submissionId'])\n",
    "                    try:\n",
    "                        a = w[\"workflowId\"]\n",
    "                        terra.deleteJob(workspaceid, \"submissions/\" + val[\"submissionId\"], a, dryrun=dryrun)\n",
    "                    # else it was not even run\n",
    "                    except Exception as e:\n",
    "                        if str(e) == \"b'CommandException: One or more URLs matched no objects.\\\\n'\":\n",
    "                            continue\n",
    "                        else:\n",
    "                            print(e)"
   ]
  },
  {
   "cell_type": "markdown",
   "metadata": {},
   "source": [
    "#### Workspace cleaning"
   ]
  },
  {
   "cell_type": "code",
   "execution_count": 4,
   "metadata": {},
   "outputs": [],
   "source": [
    "# defining the workspace\n",
    "TERRA_WS = 'whitelabgx/scRNAseq'"
   ]
  },
  {
   "cell_type": "code",
   "execution_count": 5,
   "metadata": {},
   "outputs": [
    {
     "name": "stdout",
     "output_type": "stream",
     "text": [
      "18\n",
      "3\n",
      "15\n"
     ]
    },
    {
     "data": {
      "text/plain": [
       "['07e6d89b-3db8-436e-bc50-fef6b40cdd04',\n",
       " '0edaa628-d5d3-4dda-a90b-3d70d4905e7a',\n",
       " '14b2f1b8-bf97-4b54-8532-777ffde081a3',\n",
       " '389ad7c2-08e1-474e-81af-a7a4071d9db1',\n",
       " '3c5c277d-7eac-4bd3-9048-e8828cfd3298',\n",
       " '5cc00e94-52c6-48fd-944c-95b436f54326',\n",
       " '61221564-5447-4d63-bf1b-88554f3ac12a',\n",
       " '743031a3-2a24-4f4c-b310-65220830572a',\n",
       " '77d5d348-4681-4060-80c9-b4bda1d3325f',\n",
       " '8ae81f38-3e77-4db7-84b2-8d9efb1371ea',\n",
       " '96ae8c73-2b91-4a30-b188-2a25a341a459',\n",
       " 'b0bd6787-8365-4e1c-beba-f341c3d84955',\n",
       " 'ca3a5a8d-3a78-4a10-8ea6-4f4f8eb26c5d',\n",
       " 'e716946f-7ace-4411-8937-41df3f461bda',\n",
       " 'ebf17150-a6b7-4c73-8f6a-f61a7cecf9ac']"
      ]
     },
     "execution_count": 5,
     "metadata": {},
     "output_type": "execute_result"
    }
   ],
   "source": [
    "# Fetching the submission ids which we want to remove\n",
    "submission_ids_all = [submission['submissionId'] for submission in dm.WorkspaceManager(TERRA_WS).list_submissions()]\n",
    "print(len(submission_ids_all))\n",
    "\n",
    "submission_ids_keep = ['c9f1ae21-46d0-4349-a049-0b9987dea21b', '4e3d5584-ac31-456a-b046-4c8554108b7d', '896f092c-853d-4481-8a9c-63aaafe4f0e4']\n",
    "print(len(submission_ids_keep))\n",
    "\n",
    "submission_ids_remove = [i for i in submission_ids_all if i not in submission_ids_keep]\n",
    "print(len(submission_ids_remove))\n",
    "submission_ids_remove"
   ]
  },
  {
   "cell_type": "code",
   "execution_count": 7,
   "id": "5c728429",
   "metadata": {},
   "outputs": [
    {
     "name": "stdout",
     "output_type": "stream",
     "text": [
      "Succeeded 07e6d89b-3db8-436e-bc50-fef6b40cdd04\n",
      "Succeeded 0edaa628-d5d3-4dda-a90b-3d70d4905e7a\n",
      "Succeeded 14b2f1b8-bf97-4b54-8532-777ffde081a3\n",
      "Failed 389ad7c2-08e1-474e-81af-a7a4071d9db1\n",
      "Succeeded 3c5c277d-7eac-4bd3-9048-e8828cfd3298\n",
      "Failed 5cc00e94-52c6-48fd-944c-95b436f54326\n",
      "Failed 61221564-5447-4d63-bf1b-88554f3ac12a\n",
      "Failed 743031a3-2a24-4f4c-b310-65220830572a\n",
      "Failed 77d5d348-4681-4060-80c9-b4bda1d3325f\n",
      "Failed 8ae81f38-3e77-4db7-84b2-8d9efb1371ea\n",
      "Succeeded 96ae8c73-2b91-4a30-b188-2a25a341a459\n",
      "Failed b0bd6787-8365-4e1c-beba-f341c3d84955\n",
      "Succeeded ca3a5a8d-3a78-4a10-8ea6-4f4f8eb26c5d\n",
      "Succeeded e716946f-7ace-4411-8937-41df3f461bda\n",
      "Failed ebf17150-a6b7-4c73-8f6a-f61a7cecf9ac\n"
     ]
    }
   ],
   "source": [
    "# removing jobs from workspace\n",
    "#removeFromFailedWorkflows(TERRA_WS, maxtime=\"2023-04-19\", force_remove=submission_ids_remove)\n",
    "removeFromFailedWorkflows(TERRA_WS, maxtime=\"2023-04-19\", force_remove=submission_ids_remove, dryrun=False)"
   ]
  }
 ],
 "metadata": {
  "kernelspec": {
   "display_name": "bulk",
   "language": "python",
   "name": "bulk"
  },
  "language_info": {
   "codemirror_mode": {
    "name": "ipython",
    "version": 3
   },
   "file_extension": ".py",
   "mimetype": "text/x-python",
   "name": "python",
   "nbconvert_exporter": "python",
   "pygments_lexer": "ipython3",
   "version": "3.9.17"
  }
 },
 "nbformat": 4,
 "nbformat_minor": 5
}
