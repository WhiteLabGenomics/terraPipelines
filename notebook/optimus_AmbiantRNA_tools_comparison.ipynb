{
 "cells": [
  {
   "cell_type": "markdown",
   "metadata": {},
   "source": [
    "### Analyses of output files from the pipeline optimus v6.0.0\n",
    "##### Aim of this part of analysis is to compare 3 methods for Ambient RNA detection: hard thresholding, EmptyDrop and CellBender"
   ]
  },
  {
   "cell_type": "markdown",
   "metadata": {},
   "source": [
    "#### Load necessary libraries"
   ]
  },
  {
   "cell_type": "code",
   "execution_count": 1,
   "metadata": {},
   "outputs": [],
   "source": [
    "import scanpy as sc\n",
    "from cellbender.remove_background.downstream import anndata_from_h5\n",
    "from upsetplot import from_contents\n",
    "from upsetplot import UpSet\n",
    "import dalmatian as dm"
   ]
  },
  {
   "cell_type": "markdown",
   "metadata": {},
   "source": [
    "#### Data Loading"
   ]
  },
  {
   "cell_type": "markdown",
   "metadata": {},
   "source": [
    "In this analysis, we load the data from the output file of job (submission ID 94e3d5584-ac31-456a-b046-4c8554108b7d)"
   ]
  },
  {
   "cell_type": "code",
   "execution_count": 2,
   "metadata": {},
   "outputs": [
    {
     "data": {
      "text/html": [
       "<div>\n",
       "<style scoped>\n",
       "    .dataframe tbody tr th:only-of-type {\n",
       "        vertical-align: middle;\n",
       "    }\n",
       "\n",
       "    .dataframe tbody tr th {\n",
       "        vertical-align: top;\n",
       "    }\n",
       "\n",
       "    .dataframe thead th {\n",
       "        text-align: right;\n",
       "    }\n",
       "</style>\n",
       "<table border=\"1\" class=\"dataframe\">\n",
       "  <thead>\n",
       "    <tr style=\"text-align: right;\">\n",
       "      <th></th>\n",
       "      <th>cell_metrics</th>\n",
       "      <th>cellbender_html_report_array</th>\n",
       "      <th>samples</th>\n",
       "      <th>matrix</th>\n",
       "      <th>cellbender_metrics_csv_array</th>\n",
       "      <th>gene_metrics</th>\n",
       "      <th>genomic_reference_version</th>\n",
       "      <th>cellbender_cell_barcodes_csv</th>\n",
       "      <th>aligner_metrics</th>\n",
       "      <th>matrix_row_index</th>\n",
       "      <th>bam</th>\n",
       "      <th>matrix_col_index</th>\n",
       "      <th>h5ad_output_file</th>\n",
       "      <th>cell_calls</th>\n",
       "      <th>cellbender_h5_array</th>\n",
       "      <th>cellbender_summary_pdf</th>\n",
       "    </tr>\n",
       "    <tr>\n",
       "      <th>sample_set_id</th>\n",
       "      <th></th>\n",
       "      <th></th>\n",
       "      <th></th>\n",
       "      <th></th>\n",
       "      <th></th>\n",
       "      <th></th>\n",
       "      <th></th>\n",
       "      <th></th>\n",
       "      <th></th>\n",
       "      <th></th>\n",
       "      <th></th>\n",
       "      <th></th>\n",
       "      <th></th>\n",
       "      <th></th>\n",
       "      <th></th>\n",
       "      <th></th>\n",
       "    </tr>\n",
       "  </thead>\n",
       "  <tbody>\n",
       "    <tr>\n",
       "      <th>optimus_workflow_2023-10-27</th>\n",
       "      <td>gs://fc-447aee29-8362-4c0b-b8d0-b3b10eb9e2a6/s...</td>\n",
       "      <td>[gs://fc-447aee29-8362-4c0b-b8d0-b3b10eb9e2a6/...</td>\n",
       "      <td>[pbmc_10k_v3_S1_L001, pbmc_10k_v3_S1_L002]</td>\n",
       "      <td>gs://fc-447aee29-8362-4c0b-b8d0-b3b10eb9e2a6/s...</td>\n",
       "      <td>[gs://fc-447aee29-8362-4c0b-b8d0-b3b10eb9e2a6/...</td>\n",
       "      <td>gs://fc-447aee29-8362-4c0b-b8d0-b3b10eb9e2a6/s...</td>\n",
       "      <td>gs://fc-447aee29-8362-4c0b-b8d0-b3b10eb9e2a6/s...</td>\n",
       "      <td>gs://fc-447aee29-8362-4c0b-b8d0-b3b10eb9e2a6/s...</td>\n",
       "      <td>gs://fc-447aee29-8362-4c0b-b8d0-b3b10eb9e2a6/s...</td>\n",
       "      <td>gs://fc-447aee29-8362-4c0b-b8d0-b3b10eb9e2a6/s...</td>\n",
       "      <td>gs://fc-447aee29-8362-4c0b-b8d0-b3b10eb9e2a6/s...</td>\n",
       "      <td>gs://fc-447aee29-8362-4c0b-b8d0-b3b10eb9e2a6/s...</td>\n",
       "      <td>gs://fc-447aee29-8362-4c0b-b8d0-b3b10eb9e2a6/s...</td>\n",
       "      <td>gs://fc-447aee29-8362-4c0b-b8d0-b3b10eb9e2a6/s...</td>\n",
       "      <td>[gs://fc-447aee29-8362-4c0b-b8d0-b3b10eb9e2a6/...</td>\n",
       "      <td>gs://fc-447aee29-8362-4c0b-b8d0-b3b10eb9e2a6/s...</td>\n",
       "    </tr>\n",
       "    <tr>\n",
       "      <th>optimus_workflow_2023-11-08</th>\n",
       "      <td>gs://fc-447aee29-8362-4c0b-b8d0-b3b10eb9e2a6/s...</td>\n",
       "      <td>[gs://fc-447aee29-8362-4c0b-b8d0-b3b10eb9e2a6/...</td>\n",
       "      <td>[pbmc_10k_v3_S1_L001, pbmc_10k_v3_S1_L002]</td>\n",
       "      <td>gs://fc-447aee29-8362-4c0b-b8d0-b3b10eb9e2a6/s...</td>\n",
       "      <td>[gs://fc-447aee29-8362-4c0b-b8d0-b3b10eb9e2a6/...</td>\n",
       "      <td>gs://fc-447aee29-8362-4c0b-b8d0-b3b10eb9e2a6/s...</td>\n",
       "      <td>NaN</td>\n",
       "      <td>gs://fc-447aee29-8362-4c0b-b8d0-b3b10eb9e2a6/s...</td>\n",
       "      <td>gs://fc-447aee29-8362-4c0b-b8d0-b3b10eb9e2a6/s...</td>\n",
       "      <td>gs://fc-447aee29-8362-4c0b-b8d0-b3b10eb9e2a6/s...</td>\n",
       "      <td>gs://fc-447aee29-8362-4c0b-b8d0-b3b10eb9e2a6/s...</td>\n",
       "      <td>gs://fc-447aee29-8362-4c0b-b8d0-b3b10eb9e2a6/s...</td>\n",
       "      <td>gs://fc-447aee29-8362-4c0b-b8d0-b3b10eb9e2a6/s...</td>\n",
       "      <td>gs://fc-447aee29-8362-4c0b-b8d0-b3b10eb9e2a6/s...</td>\n",
       "      <td>[gs://fc-447aee29-8362-4c0b-b8d0-b3b10eb9e2a6/...</td>\n",
       "      <td>gs://fc-447aee29-8362-4c0b-b8d0-b3b10eb9e2a6/s...</td>\n",
       "    </tr>\n",
       "  </tbody>\n",
       "</table>\n",
       "</div>"
      ],
      "text/plain": [
       "                                                                  cell_metrics  \\\n",
       "sample_set_id                                                                    \n",
       "optimus_workflow_2023-10-27  gs://fc-447aee29-8362-4c0b-b8d0-b3b10eb9e2a6/s...   \n",
       "optimus_workflow_2023-11-08  gs://fc-447aee29-8362-4c0b-b8d0-b3b10eb9e2a6/s...   \n",
       "\n",
       "                                                  cellbender_html_report_array  \\\n",
       "sample_set_id                                                                    \n",
       "optimus_workflow_2023-10-27  [gs://fc-447aee29-8362-4c0b-b8d0-b3b10eb9e2a6/...   \n",
       "optimus_workflow_2023-11-08  [gs://fc-447aee29-8362-4c0b-b8d0-b3b10eb9e2a6/...   \n",
       "\n",
       "                                                                samples  \\\n",
       "sample_set_id                                                             \n",
       "optimus_workflow_2023-10-27  [pbmc_10k_v3_S1_L001, pbmc_10k_v3_S1_L002]   \n",
       "optimus_workflow_2023-11-08  [pbmc_10k_v3_S1_L001, pbmc_10k_v3_S1_L002]   \n",
       "\n",
       "                                                                        matrix  \\\n",
       "sample_set_id                                                                    \n",
       "optimus_workflow_2023-10-27  gs://fc-447aee29-8362-4c0b-b8d0-b3b10eb9e2a6/s...   \n",
       "optimus_workflow_2023-11-08  gs://fc-447aee29-8362-4c0b-b8d0-b3b10eb9e2a6/s...   \n",
       "\n",
       "                                                  cellbender_metrics_csv_array  \\\n",
       "sample_set_id                                                                    \n",
       "optimus_workflow_2023-10-27  [gs://fc-447aee29-8362-4c0b-b8d0-b3b10eb9e2a6/...   \n",
       "optimus_workflow_2023-11-08  [gs://fc-447aee29-8362-4c0b-b8d0-b3b10eb9e2a6/...   \n",
       "\n",
       "                                                                  gene_metrics  \\\n",
       "sample_set_id                                                                    \n",
       "optimus_workflow_2023-10-27  gs://fc-447aee29-8362-4c0b-b8d0-b3b10eb9e2a6/s...   \n",
       "optimus_workflow_2023-11-08  gs://fc-447aee29-8362-4c0b-b8d0-b3b10eb9e2a6/s...   \n",
       "\n",
       "                                                     genomic_reference_version  \\\n",
       "sample_set_id                                                                    \n",
       "optimus_workflow_2023-10-27  gs://fc-447aee29-8362-4c0b-b8d0-b3b10eb9e2a6/s...   \n",
       "optimus_workflow_2023-11-08                                                NaN   \n",
       "\n",
       "                                                  cellbender_cell_barcodes_csv  \\\n",
       "sample_set_id                                                                    \n",
       "optimus_workflow_2023-10-27  gs://fc-447aee29-8362-4c0b-b8d0-b3b10eb9e2a6/s...   \n",
       "optimus_workflow_2023-11-08  gs://fc-447aee29-8362-4c0b-b8d0-b3b10eb9e2a6/s...   \n",
       "\n",
       "                                                               aligner_metrics  \\\n",
       "sample_set_id                                                                    \n",
       "optimus_workflow_2023-10-27  gs://fc-447aee29-8362-4c0b-b8d0-b3b10eb9e2a6/s...   \n",
       "optimus_workflow_2023-11-08  gs://fc-447aee29-8362-4c0b-b8d0-b3b10eb9e2a6/s...   \n",
       "\n",
       "                                                              matrix_row_index  \\\n",
       "sample_set_id                                                                    \n",
       "optimus_workflow_2023-10-27  gs://fc-447aee29-8362-4c0b-b8d0-b3b10eb9e2a6/s...   \n",
       "optimus_workflow_2023-11-08  gs://fc-447aee29-8362-4c0b-b8d0-b3b10eb9e2a6/s...   \n",
       "\n",
       "                                                                           bam  \\\n",
       "sample_set_id                                                                    \n",
       "optimus_workflow_2023-10-27  gs://fc-447aee29-8362-4c0b-b8d0-b3b10eb9e2a6/s...   \n",
       "optimus_workflow_2023-11-08  gs://fc-447aee29-8362-4c0b-b8d0-b3b10eb9e2a6/s...   \n",
       "\n",
       "                                                              matrix_col_index  \\\n",
       "sample_set_id                                                                    \n",
       "optimus_workflow_2023-10-27  gs://fc-447aee29-8362-4c0b-b8d0-b3b10eb9e2a6/s...   \n",
       "optimus_workflow_2023-11-08  gs://fc-447aee29-8362-4c0b-b8d0-b3b10eb9e2a6/s...   \n",
       "\n",
       "                                                              h5ad_output_file  \\\n",
       "sample_set_id                                                                    \n",
       "optimus_workflow_2023-10-27  gs://fc-447aee29-8362-4c0b-b8d0-b3b10eb9e2a6/s...   \n",
       "optimus_workflow_2023-11-08  gs://fc-447aee29-8362-4c0b-b8d0-b3b10eb9e2a6/s...   \n",
       "\n",
       "                                                                    cell_calls  \\\n",
       "sample_set_id                                                                    \n",
       "optimus_workflow_2023-10-27  gs://fc-447aee29-8362-4c0b-b8d0-b3b10eb9e2a6/s...   \n",
       "optimus_workflow_2023-11-08  gs://fc-447aee29-8362-4c0b-b8d0-b3b10eb9e2a6/s...   \n",
       "\n",
       "                                                           cellbender_h5_array  \\\n",
       "sample_set_id                                                                    \n",
       "optimus_workflow_2023-10-27  [gs://fc-447aee29-8362-4c0b-b8d0-b3b10eb9e2a6/...   \n",
       "optimus_workflow_2023-11-08  [gs://fc-447aee29-8362-4c0b-b8d0-b3b10eb9e2a6/...   \n",
       "\n",
       "                                                        cellbender_summary_pdf  \n",
       "sample_set_id                                                                   \n",
       "optimus_workflow_2023-10-27  gs://fc-447aee29-8362-4c0b-b8d0-b3b10eb9e2a6/s...  \n",
       "optimus_workflow_2023-11-08  gs://fc-447aee29-8362-4c0b-b8d0-b3b10eb9e2a6/s...  "
      ]
     },
     "metadata": {},
     "output_type": "display_data"
    },
    {
     "data": {
      "text/plain": [
       "Index(['cell_metrics', 'cellbender_html_report_array', 'samples', 'matrix',\n",
       "       'cellbender_metrics_csv_array', 'gene_metrics',\n",
       "       'genomic_reference_version', 'cellbender_cell_barcodes_csv',\n",
       "       'aligner_metrics', 'matrix_row_index', 'bam', 'matrix_col_index',\n",
       "       'h5ad_output_file', 'cell_calls', 'cellbender_h5_array',\n",
       "       'cellbender_summary_pdf'],\n",
       "      dtype='object')"
      ]
     },
     "metadata": {},
     "output_type": "display_data"
    }
   ],
   "source": [
    "TERRA_WS = \"whitelabgx/scRNAseq\"\n",
    "wm = dm.WorkspaceManager(TERRA_WS)\n",
    "output_df = wm.get_sample_sets()\n",
    "display(output_df)\n",
    "display(output_df.columns)"
   ]
  },
  {
   "cell_type": "markdown",
   "metadata": {},
   "source": [
    "h5ad file of optimus (without cellbender correction)"
   ]
  },
  {
   "cell_type": "code",
   "execution_count": 6,
   "metadata": {},
   "outputs": [
    {
     "name": "stderr",
     "output_type": "stream",
     "text": [
      "/opt/homebrew/Caskroom/miniconda/base/envs/bulk/lib/python3.9/site-packages/anndata/_core/anndata.py:1899: UserWarning: Variable names are not unique. To make them unique, call `.var_names_make_unique`.\n",
      "  utils.warn_names_duplicates(\"var\")\n"
     ]
    }
   ],
   "source": [
    "### Load the data locally, more quickly\n",
    "input_h5ad = \"../scAtlas/tmp/10k_pbmc_v3.h5ad\"\n",
    "adata = sc.read_h5ad(input_h5ad)"
   ]
  },
  {
   "cell_type": "code",
   "execution_count": 4,
   "metadata": {},
   "outputs": [
    {
     "data": {
      "text/plain": [
       "AnnData object with n_obs × n_vars = 1136912 × 58347\n",
       "    obs: 'cell_names', 'CellID', 'emptydrops_Limited', 'emptydrops_IsCell', 'n_reads', 'noise_reads', 'perfect_molecule_barcodes', 'reads_mapped_exonic', 'reads_mapped_exonic_as', 'reads_mapped_intronic', 'reads_mapped_intronic_as', 'reads_mapped_uniquely', 'reads_mapped_multiple', 'duplicate_reads', 'spliced_reads', 'antisense_reads', 'n_molecules', 'n_fragments', 'fragments_with_single_read_evidence', 'molecules_with_single_read_evidence', 'perfect_cell_barcodes', 'reads_mapped_intergenic', 'reads_unmapped', 'reads_mapped_too_many_loci', 'n_genes', 'genes_detected_multiple_observations', 'emptydrops_Total', 'molecule_barcode_fraction_bases_above_30_mean', 'molecule_barcode_fraction_bases_above_30_variance', 'genomic_reads_fraction_bases_quality_above_30_mean', 'genomic_reads_fraction_bases_quality_above_30_variance', 'genomic_read_quality_mean', 'genomic_read_quality_variance', 'reads_per_molecule', 'reads_per_fragment', 'fragments_per_molecule', 'cell_barcode_fraction_bases_above_30_mean', 'cell_barcode_fraction_bases_above_30_variance', 'n_mitochondrial_genes', 'n_mitochondrial_molecules', 'pct_mitochondrial_molecules', 'emptydrops_LogProb', 'emptydrops_PValue', 'emptydrops_FDR', 'input_id'\n",
       "    var: 'gene_names', 'ensembl_ids', 'Gene', 'n_reads', 'noise_reads', 'perfect_molecule_barcodes', 'reads_mapped_exonic', 'reads_mapped_exonic_as', 'reads_mapped_intronic', 'reads_mapped_intronic_as', 'reads_mapped_uniquely', 'reads_mapped_multiple', 'duplicate_reads', 'spliced_reads', 'antisense_reads', 'molecule_barcode_fraction_bases_above_30_mean', 'molecule_barcode_fraction_bases_above_30_variance', 'genomic_reads_fraction_bases_quality_above_30_mean', 'genomic_reads_fraction_bases_quality_above_30_variance', 'genomic_read_quality_mean', 'genomic_read_quality_variance', 'n_molecules', 'n_fragments', 'reads_per_molecule', 'reads_per_fragment', 'fragments_per_molecule', 'fragments_with_single_read_evidence', 'molecules_with_single_read_evidence', 'number_cells_detected_multiple', 'number_cells_expressing'\n",
       "    uns: 'expression_data_type', 'input_id', 'optimus_output_schema_version', 'pipeline_version'"
      ]
     },
     "execution_count": 4,
     "metadata": {},
     "output_type": "execute_result"
    }
   ],
   "source": [
    "adata"
   ]
  },
  {
   "cell_type": "markdown",
   "metadata": {},
   "source": [
    "###### Not all variable names are unique: This indicates that some variables (=genes) appear more than once which can lead to errors or unintended behavior for downstream analysis tasks. We execute the proposed function var_names_make_unique() which makes the variable name unique by appending a number string to each duplicate index element: ‘1’, ‘2’, etc."
   ]
  },
  {
   "cell_type": "code",
   "execution_count": 7,
   "metadata": {},
   "outputs": [
    {
     "name": "stderr",
     "output_type": "stream",
     "text": [
      "/opt/homebrew/Caskroom/miniconda/base/envs/bulk/lib/python3.9/site-packages/anndata/utils.py:260: UserWarning: Suffix used (-[0-9]+) to deduplicate index values may make index values difficult to interpret. There values with a similar suffixes in the index. Consider using a different delimiter by passing `join={delimiter}`Example key collisions generated by the make_index_unique algorithm: ['SNORD116-1', 'SNORD116-2', 'SNORD116-3', 'SNORD116-4', 'SNORD116-5']\n",
      "  warnings.warn(\n"
     ]
    }
   ],
   "source": [
    "### Variable names are not unique. To make them unique\n",
    "adata.var_names_make_unique()"
   ]
  },
  {
   "cell_type": "markdown",
   "metadata": {},
   "source": [
    "#### Ambient RNA detection comparison"
   ]
  },
  {
   "cell_type": "markdown",
   "metadata": {},
   "source": [
    "EmptyDrop results and filtering"
   ]
  },
  {
   "cell_type": "code",
   "execution_count": 8,
   "metadata": {},
   "outputs": [],
   "source": [
    "# Fetch the total number of barcodes\n",
    "total_nb_barcodes = adata.n_obs"
   ]
  },
  {
   "cell_type": "code",
   "execution_count": 9,
   "metadata": {},
   "outputs": [
    {
     "name": "stdout",
     "output_type": "stream",
     "text": [
      "11031 barcodes are identified as cells by emptydrops with FDR < 0.01\n",
      "10710 barcodes are identified as cells by emptydrops with FDR < 0.001\n"
     ]
    }
   ],
   "source": [
    "### fetch the rows where the column emptydrops_IsCell is True\n",
    "emptydrops_IsCell_true = adata.obs.loc[adata.obs.emptydrops_IsCell, :]\n",
    "#emptydrops_IsCell_true= adata.obs[adata.obs['emptydrops_IsCell'] == True]\n",
    "emptydrops_IsCell_true_FDR001 = emptydrops_IsCell_true.loc[emptydrops_IsCell_true.emptydrops_FDR < 0.001, :]\n",
    "\n",
    "print(f\"{emptydrops_IsCell_true.shape[0]} barcodes are identified as cells by emptydrops with FDR < 0.01\")\n",
    "print(f\"{emptydrops_IsCell_true_FDR001.shape[0]} barcodes are identified as cells by emptydrops with FDR < 0.001\")"
   ]
  },
  {
   "cell_type": "code",
   "execution_count": 10,
   "metadata": {},
   "outputs": [
    {
     "name": "stdout",
     "output_type": "stream",
     "text": [
      "0.97 % of barcodes survived after emptydrops filtering with FDR < 0.01\n"
     ]
    }
   ],
   "source": [
    "# Calculate the barcode surviving pct\n",
    "cell_contain_cb_pct = emptydrops_IsCell_true.shape[0] * 100 / total_nb_barcodes\n",
    "print(f\"{cell_contain_cb_pct:.2f} % of barcodes survived after emptydrops filtering with FDR < 0.01\")\n"
   ]
  },
  {
   "cell_type": "markdown",
   "metadata": {},
   "source": [
    "Hard thresholding and emptyDrops comparison"
   ]
  },
  {
   "cell_type": "code",
   "execution_count": 11,
   "metadata": {},
   "outputs": [
    {
     "name": "stdout",
     "output_type": "stream",
     "text": [
      "1136912 barcodes in this dataset\n",
      "12283 barcodes have at least 500 reads\n",
      "10757 barcodes have at least 500 reads and identified as cells by emptydrops with FDR < 0.01\n",
      "10590 barcodes have at least 500 reads and identified as cells by emptydrops with FDR < 0.001\n"
     ]
    }
   ],
   "source": [
    "barcodes_sup500, _ = sc.pp.filter_cells(adata, min_counts=500, inplace=False)\n",
    "adata_BCsup500 = adata[barcodes_sup500, :]\n",
    "\n",
    "adata_BCsup500_emptydrops_IsCell_true = adata_BCsup500 .obs.loc[adata_BCsup500.obs.emptydrops_IsCell, :]\n",
    "\n",
    "adata_BCsup500_emptydrops_IsCell_true_FDR001 = adata_BCsup500_emptydrops_IsCell_true.loc[\n",
    "    adata_BCsup500_emptydrops_IsCell_true.emptydrops_FDR < 0.001, :\n",
    "    ]\n",
    "\n",
    "print(f\"{total_nb_barcodes} barcodes in this dataset\")\n",
    "print(f\"{adata_BCsup500.shape[0]} barcodes have at least 500 reads\")\n",
    "print(f\"{adata_BCsup500_emptydrops_IsCell_true.shape[0]} barcodes have at least 500 reads and identified as cells by emptydrops with FDR < 0.01\")\n",
    "print(f\"{adata_BCsup500_emptydrops_IsCell_true_FDR001.shape[0]} barcodes have at least 500 reads and identified as cells by emptydrops with FDR < 0.001\")"
   ]
  },
  {
   "cell_type": "markdown",
   "metadata": {},
   "source": [
    "Cellbender results"
   ]
  },
  {
   "cell_type": "code",
   "execution_count": 13,
   "metadata": {},
   "outputs": [
    {
     "data": {
      "text/plain": [
       "['gs://fc-447aee29-8362-4c0b-b8d0-b3b10eb9e2a6/submissions/4e3d5584-ac31-456a-b046-4c8554108b7d/Optimus/61a7a407-6620-4a45-b7e9-25f5c2a9bf21/call-cellbender_remove_background/cacheCopy/glob-a06ff40aeb9faf0d800aaf11b27f640c/10k_pbmc_v3_out.h5',\n",
       " 'gs://fc-447aee29-8362-4c0b-b8d0-b3b10eb9e2a6/submissions/4e3d5584-ac31-456a-b046-4c8554108b7d/Optimus/61a7a407-6620-4a45-b7e9-25f5c2a9bf21/call-cellbender_remove_background/cacheCopy/glob-a06ff40aeb9faf0d800aaf11b27f640c/10k_pbmc_v3_out_filtered.h5',\n",
       " 'gs://fc-447aee29-8362-4c0b-b8d0-b3b10eb9e2a6/submissions/4e3d5584-ac31-456a-b046-4c8554108b7d/Optimus/61a7a407-6620-4a45-b7e9-25f5c2a9bf21/call-cellbender_remove_background/cacheCopy/glob-a06ff40aeb9faf0d800aaf11b27f640c/10k_pbmc_v3_out_posterior.h5']"
      ]
     },
     "execution_count": 13,
     "metadata": {},
     "output_type": "execute_result"
    }
   ],
   "source": [
    "### Fetch the links of CellBender h5 files from Terra\n",
    "h5_url = output_df.loc[output_df.index[0], 'cellbender_h5_array']\n",
    "h5_url"
   ]
  },
  {
   "cell_type": "code",
   "execution_count": 4,
   "metadata": {},
   "outputs": [
    {
     "name": "stdout",
     "output_type": "stream",
     "text": [
      "Assuming we are loading a \"filtered\" file that contains only cells.\n"
     ]
    },
    {
     "name": "stderr",
     "output_type": "stream",
     "text": [
      "/opt/homebrew/Caskroom/miniconda/base/envs/bulk/lib/python3.9/site-packages/anndata/_core/anndata.py:522: FutureWarning: The dtype argument is deprecated and will be removed in late 2024.\n",
      "  warnings.warn(\n",
      "/opt/homebrew/Caskroom/miniconda/base/envs/bulk/lib/python3.9/site-packages/anndata/_core/anndata.py:522: FutureWarning: The dtype argument is deprecated and will be removed in late 2024.\n",
      "  warnings.warn(\n"
     ]
    },
    {
     "name": "stdout",
     "output_type": "stream",
     "text": [
      "Assuming we are loading a \"filtered\" file that contains only cells.\n"
     ]
    },
    {
     "name": "stderr",
     "output_type": "stream",
     "text": [
      "/opt/homebrew/Caskroom/miniconda/base/envs/bulk/lib/python3.9/site-packages/anndata/_core/anndata.py:522: FutureWarning: The dtype argument is deprecated and will be removed in late 2024.\n",
      "  warnings.warn(\n"
     ]
    },
    {
     "data": {
      "text/plain": [
       "AnnData object with n_obs × n_vars = 3605 × 58347\n",
       "    obs: 'background_fraction', 'cell_probability', 'cell_size', 'droplet_efficiency'\n",
       "    var: 'ambient_expression', 'feature_type', 'genome', 'gene_id', 'cellbender_analyzed'\n",
       "    uns: 'barcode_indices_for_latents', 'cell_size_lognormal_std', 'empty_droplet_size_lognormal_loc', 'empty_droplet_size_lognormal_scale', 'swapping_fraction_dist_params', 'barcodes_analyzed', 'barcodes_analyzed_inds', 'estimator', 'features_analyzed_inds', 'fraction_data_used_for_testing', 'learning_curve_learning_rate_epoch', 'learning_curve_learning_rate_value', 'learning_curve_test_elbo', 'learning_curve_test_epoch', 'learning_curve_train_elbo', 'learning_curve_train_epoch', 'target_false_positive_rate'\n",
       "    obsm: 'gene_expression_encoding'"
      ]
     },
     "metadata": {},
     "output_type": "display_data"
    },
    {
     "data": {
      "text/plain": [
       "AnnData object with n_obs × n_vars = 4118 × 58347\n",
       "    obs: 'background_fraction', 'cell_probability', 'cell_size', 'droplet_efficiency'\n",
       "    var: 'ambient_expression', 'feature_type', 'genome', 'gene_id', 'cellbender_analyzed'\n",
       "    uns: 'cell_size_lognormal_std', 'empty_droplet_size_lognormal_loc', 'empty_droplet_size_lognormal_scale', 'swapping_fraction_dist_params', 'estimator', 'features_analyzed_inds', 'fraction_data_used_for_testing', 'learning_curve_learning_rate_epoch', 'learning_curve_learning_rate_value', 'learning_curve_test_elbo', 'learning_curve_test_epoch', 'learning_curve_train_elbo', 'learning_curve_train_epoch', 'target_false_positive_rate'\n",
       "    obsm: 'gene_expression_encoding'"
      ]
     },
     "metadata": {},
     "output_type": "display_data"
    },
    {
     "data": {
      "text/plain": [
       "AnnData object with n_obs × n_vars = 12561 × 58347\n",
       "    obs: 'background_fraction', 'cell_probability', 'cell_size', 'droplet_efficiency'\n",
       "    var: 'ambient_expression', 'feature_type', 'genome', 'gene_id', 'cellbender_analyzed'\n",
       "    uns: 'barcode_indices_for_latents', 'cell_size_lognormal_std', 'empty_droplet_size_lognormal_loc', 'empty_droplet_size_lognormal_scale', 'swapping_fraction_dist_params', 'barcodes_analyzed', 'barcodes_analyzed_inds', 'estimator', 'features_analyzed_inds', 'fraction_data_used_for_testing', 'learning_curve_learning_rate_epoch', 'learning_curve_learning_rate_value', 'learning_curve_test_elbo', 'learning_curve_test_epoch', 'learning_curve_train_elbo', 'learning_curve_train_epoch', 'target_false_positive_rate'\n",
       "    obsm: 'gene_expression_encoding'"
      ]
     },
     "metadata": {},
     "output_type": "display_data"
    }
   ],
   "source": [
    "# Load data\n",
    "adata_cellbender_out_filtered = anndata_from_h5('/Users/xiliu/Documents/analysis/terraPipelines/scAtlas/tmp/10k_pbmc_v3_out_filtered.h5')\n",
    "adata_cellbender_out = anndata_from_h5('/Users/xiliu/Documents/analysis/terraPipelines/scAtlas/tmp/10k_pbmc_v3_out.h5')\n",
    "adata_cellbender_out_filtered_defaultParameter = anndata_from_h5('/Users/xiliu/Documents/analysis/terraPipelines/scAtlas/tmp/10k_pbmc_v3_out_filtered_cellbenderDefault.h5')\n",
    "\n",
    "display(adata_cellbender_out_filtered)\n",
    "display(adata_cellbender_out)\n",
    "display(adata_cellbender_out_filtered_defaultParameter)\n"
   ]
  },
  {
   "cell_type": "code",
   "execution_count": 16,
   "metadata": {},
   "outputs": [
    {
     "data": {
      "text/html": [
       "<div>\n",
       "<style scoped>\n",
       "    .dataframe tbody tr th:only-of-type {\n",
       "        vertical-align: middle;\n",
       "    }\n",
       "\n",
       "    .dataframe tbody tr th {\n",
       "        vertical-align: top;\n",
       "    }\n",
       "\n",
       "    .dataframe thead th {\n",
       "        text-align: right;\n",
       "    }\n",
       "</style>\n",
       "<table border=\"1\" class=\"dataframe\">\n",
       "  <thead>\n",
       "    <tr style=\"text-align: right;\">\n",
       "      <th></th>\n",
       "      <th>ambient_expression</th>\n",
       "      <th>feature_type</th>\n",
       "      <th>genome</th>\n",
       "      <th>gene_id</th>\n",
       "      <th>cellbender_analyzed</th>\n",
       "    </tr>\n",
       "    <tr>\n",
       "      <th>gene_name</th>\n",
       "      <th></th>\n",
       "      <th></th>\n",
       "      <th></th>\n",
       "      <th></th>\n",
       "      <th></th>\n",
       "    </tr>\n",
       "  </thead>\n",
       "  <tbody>\n",
       "    <tr>\n",
       "      <th>DDX11L1</th>\n",
       "      <td>0.000000</td>\n",
       "      <td>NA</td>\n",
       "      <td>NA</td>\n",
       "      <td>ENSG00000223972.5</td>\n",
       "      <td>False</td>\n",
       "    </tr>\n",
       "    <tr>\n",
       "      <th>WASH7P</th>\n",
       "      <td>0.000000</td>\n",
       "      <td>NA</td>\n",
       "      <td>NA</td>\n",
       "      <td>ENSG00000227232.5</td>\n",
       "      <td>False</td>\n",
       "    </tr>\n",
       "    <tr>\n",
       "      <th>MIR6859-1</th>\n",
       "      <td>0.000000</td>\n",
       "      <td>NA</td>\n",
       "      <td>NA</td>\n",
       "      <td>ENSG00000278267.1</td>\n",
       "      <td>False</td>\n",
       "    </tr>\n",
       "    <tr>\n",
       "      <th>MIR1302-2HG</th>\n",
       "      <td>0.000000</td>\n",
       "      <td>NA</td>\n",
       "      <td>NA</td>\n",
       "      <td>ENSG00000243485.5</td>\n",
       "      <td>False</td>\n",
       "    </tr>\n",
       "    <tr>\n",
       "      <th>MIR1302-2</th>\n",
       "      <td>0.000000</td>\n",
       "      <td>NA</td>\n",
       "      <td>NA</td>\n",
       "      <td>ENSG00000284332.1</td>\n",
       "      <td>False</td>\n",
       "    </tr>\n",
       "    <tr>\n",
       "      <th>...</th>\n",
       "      <td>...</td>\n",
       "      <td>...</td>\n",
       "      <td>...</td>\n",
       "      <td>...</td>\n",
       "      <td>...</td>\n",
       "    </tr>\n",
       "    <tr>\n",
       "      <th>AC007325.1</th>\n",
       "      <td>0.000000</td>\n",
       "      <td>NA</td>\n",
       "      <td>NA</td>\n",
       "      <td>ENSG00000276017.1</td>\n",
       "      <td>False</td>\n",
       "    </tr>\n",
       "    <tr>\n",
       "      <th>AC007325.4</th>\n",
       "      <td>0.000002</td>\n",
       "      <td>NA</td>\n",
       "      <td>NA</td>\n",
       "      <td>ENSG00000278817.1</td>\n",
       "      <td>True</td>\n",
       "    </tr>\n",
       "    <tr>\n",
       "      <th>AC007325.2</th>\n",
       "      <td>0.000000</td>\n",
       "      <td>NA</td>\n",
       "      <td>NA</td>\n",
       "      <td>ENSG00000277196.4</td>\n",
       "      <td>False</td>\n",
       "    </tr>\n",
       "    <tr>\n",
       "      <th>U6</th>\n",
       "      <td>0.000000</td>\n",
       "      <td>NA</td>\n",
       "      <td>NA</td>\n",
       "      <td>ENSG00000278625.1</td>\n",
       "      <td>False</td>\n",
       "    </tr>\n",
       "    <tr>\n",
       "      <th>U1</th>\n",
       "      <td>0.000000</td>\n",
       "      <td>NA</td>\n",
       "      <td>NA</td>\n",
       "      <td>ENSG00000277374.1</td>\n",
       "      <td>False</td>\n",
       "    </tr>\n",
       "  </tbody>\n",
       "</table>\n",
       "<p>58347 rows × 5 columns</p>\n",
       "</div>"
      ],
      "text/plain": [
       "             ambient_expression feature_type genome            gene_id  \\\n",
       "gene_name                                                                \n",
       "DDX11L1                0.000000           NA     NA  ENSG00000223972.5   \n",
       "WASH7P                 0.000000           NA     NA  ENSG00000227232.5   \n",
       "MIR6859-1              0.000000           NA     NA  ENSG00000278267.1   \n",
       "MIR1302-2HG            0.000000           NA     NA  ENSG00000243485.5   \n",
       "MIR1302-2              0.000000           NA     NA  ENSG00000284332.1   \n",
       "...                         ...          ...    ...                ...   \n",
       "AC007325.1             0.000000           NA     NA  ENSG00000276017.1   \n",
       "AC007325.4             0.000002           NA     NA  ENSG00000278817.1   \n",
       "AC007325.2             0.000000           NA     NA  ENSG00000277196.4   \n",
       "U6                     0.000000           NA     NA  ENSG00000278625.1   \n",
       "U1                     0.000000           NA     NA  ENSG00000277374.1   \n",
       "\n",
       "             cellbender_analyzed  \n",
       "gene_name                         \n",
       "DDX11L1                    False  \n",
       "WASH7P                     False  \n",
       "MIR6859-1                  False  \n",
       "MIR1302-2HG                False  \n",
       "MIR1302-2                  False  \n",
       "...                          ...  \n",
       "AC007325.1                 False  \n",
       "AC007325.4                  True  \n",
       "AC007325.2                 False  \n",
       "U6                         False  \n",
       "U1                         False  \n",
       "\n",
       "[58347 rows x 5 columns]"
      ]
     },
     "execution_count": 16,
     "metadata": {},
     "output_type": "execute_result"
    }
   ],
   "source": [
    "adata_cellbender_out.var"
   ]
  },
  {
   "cell_type": "code",
   "execution_count": 17,
   "metadata": {},
   "outputs": [
    {
     "data": {
      "text/html": [
       "<div>\n",
       "<style scoped>\n",
       "    .dataframe tbody tr th:only-of-type {\n",
       "        vertical-align: middle;\n",
       "    }\n",
       "\n",
       "    .dataframe tbody tr th {\n",
       "        vertical-align: top;\n",
       "    }\n",
       "\n",
       "    .dataframe thead th {\n",
       "        text-align: right;\n",
       "    }\n",
       "</style>\n",
       "<table border=\"1\" class=\"dataframe\">\n",
       "  <thead>\n",
       "    <tr style=\"text-align: right;\">\n",
       "      <th></th>\n",
       "      <th>background_fraction</th>\n",
       "      <th>cell_probability</th>\n",
       "      <th>cell_size</th>\n",
       "      <th>droplet_efficiency</th>\n",
       "    </tr>\n",
       "    <tr>\n",
       "      <th>barcode</th>\n",
       "      <th></th>\n",
       "      <th></th>\n",
       "      <th></th>\n",
       "      <th></th>\n",
       "    </tr>\n",
       "  </thead>\n",
       "  <tbody>\n",
       "    <tr>\n",
       "      <th>TGCTTGCTCTAAGCCA</th>\n",
       "      <td>0.066727</td>\n",
       "      <td>0.999955</td>\n",
       "      <td>36923.042969</td>\n",
       "      <td>2.498647</td>\n",
       "    </tr>\n",
       "    <tr>\n",
       "      <th>AATCACGTCCCGATCT</th>\n",
       "      <td>0.130501</td>\n",
       "      <td>0.999955</td>\n",
       "      <td>26296.291016</td>\n",
       "      <td>2.491069</td>\n",
       "    </tr>\n",
       "    <tr>\n",
       "      <th>TTCCTTCAGTCTCCTC</th>\n",
       "      <td>0.109683</td>\n",
       "      <td>0.999955</td>\n",
       "      <td>25463.599609</td>\n",
       "      <td>2.469484</td>\n",
       "    </tr>\n",
       "    <tr>\n",
       "      <th>CTTGAGATCCATGCAA</th>\n",
       "      <td>0.115368</td>\n",
       "      <td>0.999955</td>\n",
       "      <td>25576.208984</td>\n",
       "      <td>2.452932</td>\n",
       "    </tr>\n",
       "    <tr>\n",
       "      <th>TCATTACCAGCTCATA</th>\n",
       "      <td>0.134150</td>\n",
       "      <td>0.999955</td>\n",
       "      <td>22964.462891</td>\n",
       "      <td>2.399945</td>\n",
       "    </tr>\n",
       "    <tr>\n",
       "      <th>...</th>\n",
       "      <td>...</td>\n",
       "      <td>...</td>\n",
       "      <td>...</td>\n",
       "      <td>...</td>\n",
       "    </tr>\n",
       "    <tr>\n",
       "      <th>CTGATCCCAGTCAGCC</th>\n",
       "      <td>0.000000</td>\n",
       "      <td>0.012916</td>\n",
       "      <td>11271.076172</td>\n",
       "      <td>1.048951</td>\n",
       "    </tr>\n",
       "    <tr>\n",
       "      <th>GGTGTCGAGCGGGTTA</th>\n",
       "      <td>0.701669</td>\n",
       "      <td>0.992517</td>\n",
       "      <td>17560.492188</td>\n",
       "      <td>0.568851</td>\n",
       "    </tr>\n",
       "    <tr>\n",
       "      <th>CTCAAGACAGTGCCTG</th>\n",
       "      <td>0.000000</td>\n",
       "      <td>0.028803</td>\n",
       "      <td>10847.955078</td>\n",
       "      <td>1.148832</td>\n",
       "    </tr>\n",
       "    <tr>\n",
       "      <th>ATTTCTGAGGGTACAC</th>\n",
       "      <td>0.679003</td>\n",
       "      <td>0.991908</td>\n",
       "      <td>17556.357422</td>\n",
       "      <td>0.568808</td>\n",
       "    </tr>\n",
       "    <tr>\n",
       "      <th>GAGGCAATCAGCTGTA</th>\n",
       "      <td>0.000000</td>\n",
       "      <td>0.004743</td>\n",
       "      <td>11107.812500</td>\n",
       "      <td>1.071578</td>\n",
       "    </tr>\n",
       "  </tbody>\n",
       "</table>\n",
       "<p>4118 rows × 4 columns</p>\n",
       "</div>"
      ],
      "text/plain": [
       "                  background_fraction  cell_probability     cell_size  \\\n",
       "barcode                                                                 \n",
       "TGCTTGCTCTAAGCCA             0.066727          0.999955  36923.042969   \n",
       "AATCACGTCCCGATCT             0.130501          0.999955  26296.291016   \n",
       "TTCCTTCAGTCTCCTC             0.109683          0.999955  25463.599609   \n",
       "CTTGAGATCCATGCAA             0.115368          0.999955  25576.208984   \n",
       "TCATTACCAGCTCATA             0.134150          0.999955  22964.462891   \n",
       "...                               ...               ...           ...   \n",
       "CTGATCCCAGTCAGCC             0.000000          0.012916  11271.076172   \n",
       "GGTGTCGAGCGGGTTA             0.701669          0.992517  17560.492188   \n",
       "CTCAAGACAGTGCCTG             0.000000          0.028803  10847.955078   \n",
       "ATTTCTGAGGGTACAC             0.679003          0.991908  17556.357422   \n",
       "GAGGCAATCAGCTGTA             0.000000          0.004743  11107.812500   \n",
       "\n",
       "                  droplet_efficiency  \n",
       "barcode                               \n",
       "TGCTTGCTCTAAGCCA            2.498647  \n",
       "AATCACGTCCCGATCT            2.491069  \n",
       "TTCCTTCAGTCTCCTC            2.469484  \n",
       "CTTGAGATCCATGCAA            2.452932  \n",
       "TCATTACCAGCTCATA            2.399945  \n",
       "...                              ...  \n",
       "CTGATCCCAGTCAGCC            1.048951  \n",
       "GGTGTCGAGCGGGTTA            0.568851  \n",
       "CTCAAGACAGTGCCTG            1.148832  \n",
       "ATTTCTGAGGGTACAC            0.568808  \n",
       "GAGGCAATCAGCTGTA            1.071578  \n",
       "\n",
       "[4118 rows x 4 columns]"
      ]
     },
     "execution_count": 17,
     "metadata": {},
     "output_type": "execute_result"
    }
   ],
   "source": [
    "adata_cellbender_out.obs"
   ]
  },
  {
   "cell_type": "markdown",
   "metadata": {},
   "source": [
    "comparison between 3 methods and their 5 results"
   ]
  },
  {
   "cell_type": "markdown",
   "metadata": {},
   "source": [
    "###### expected cells parameter of Cellbender at 500"
   ]
  },
  {
   "cell_type": "code",
   "execution_count": 18,
   "metadata": {},
   "outputs": [
    {
     "data": {
      "text/plain": [
       "{'matrix': <Axes: >,\n",
       " 'shading': <Axes: >,\n",
       " 'totals': <Axes: >,\n",
       " 'intersections': <Axes: ylabel='Intersection size'>}"
      ]
     },
     "execution_count": 18,
     "metadata": {},
     "output_type": "execute_result"
    },
    {
     "data": {
      "image/png": "[encoded data removed]",
      "text/plain": [
       "<Figure size 622.222x488.889 with 4 Axes>"
      ]
     },
     "metadata": {},
     "output_type": "display_data"
    }
   ],
   "source": [
    "emptydrops_FDR01 = emptydrops_IsCell_true.index.to_list()\n",
    "emptydrops_FDR001 = emptydrops_IsCell_true_FDR001.index.to_list()\n",
    "cellSize_sup500 = adata_BCsup500.obs.index.to_list()\n",
    "cellbender = adata_cellbender_out.obs.index.to_list()\n",
    "cellbender_postProb = adata_cellbender_out_filtered.obs.index.to_list()\n",
    "(emptydrops_FDR01, emptydrops_FDR001, cellSize_sup500, cellbender, cellbender_postProb)\n",
    "\n",
    "\n",
    "IsCell = from_contents({'emptydrops_FDR01': emptydrops_FDR01,\n",
    "                             'emptydrops_FDR001': emptydrops_FDR001,\n",
    "                             'cellSize_sup500': cellSize_sup500,\n",
    "                             'cellbender': cellbender,\n",
    "                             'cellbender_postProb': cellbender_postProb})\n",
    "\n",
    "UpSet(IsCell, subset_size='count', show_counts=True).plot()"
   ]
  },
  {
   "cell_type": "code",
   "execution_count": 19,
   "metadata": {},
   "outputs": [
    {
     "data": {
      "text/plain": [
       "{'matrix': <Axes: >,\n",
       " 'shading': <Axes: >,\n",
       " 'totals': <Axes: >,\n",
       " 'intersections': <Axes: ylabel='Intersection size'>}"
      ]
     },
     "execution_count": 19,
     "metadata": {},
     "output_type": "execute_result"
    },
    {
     "data": {
      "image/png": "[encoded data removed]",
      "text/plain": [
       "<Figure size 488.889x400 with 4 Axes>"
      ]
     },
     "metadata": {},
     "output_type": "display_data"
    }
   ],
   "source": [
    "emptydrops_FDR01 = emptydrops_IsCell_true.index.to_list()\n",
    "cellSize_sup500 = adata_BCsup500.obs.index.to_list()\n",
    "cellbender = adata_cellbender_out.obs.index.to_list()\n",
    "(emptydrops_FDR01, cellSize_sup500, cellbender,)\n",
    "\n",
    "\n",
    "IsCell_lax = from_contents({'emptydrops_FDR01': emptydrops_FDR01,\n",
    "                             'cellSize_sup500': cellSize_sup500,\n",
    "                             'cellbender': cellbender,})\n",
    "\n",
    "UpSet(IsCell_lax, subset_size='count', show_counts=True).plot()"
   ]
  },
  {
   "cell_type": "markdown",
   "metadata": {},
   "source": [
    "###### expected cells parameter of Cellbender by default: result in optimus_workflow_2023-11-08\n",
    "###### gs://fc-447aee29-8362-4c0b-b8d0-b3b10eb9e2a6/submissions/c9f1ae21-46d0-4349-a049-0b9987dea21b/Optimus/b5d3da5c-d93a-4323-a3b3-774742c89460/call-cellbender_remove_background/attempt-2/glob-a06ff40aeb9faf0d800aaf11b27f640c/10k_pbmc_v3_out_filtered.h5"
   ]
  },
  {
   "cell_type": "code",
   "execution_count": 15,
   "metadata": {},
   "outputs": [
    {
     "data": {
      "text/plain": [
       "{'matrix': <Axes: >,\n",
       " 'shading': <Axes: >,\n",
       " 'totals': <Axes: >,\n",
       " 'intersections': <Axes: ylabel='Intersection size'>}"
      ]
     },
     "execution_count": 15,
     "metadata": {},
     "output_type": "execute_result"
    },
    {
     "data": {
      "image/png": "[encoded data removed]",
      "text/plain": [
       "<Figure size 622.222x400 with 4 Axes>"
      ]
     },
     "metadata": {},
     "output_type": "display_data"
    }
   ],
   "source": [
    "emptydrops_FDR01 = emptydrops_IsCell_true.index.to_list()\n",
    "cellSize_sup500 = adata_BCsup500.obs.index.to_list()\n",
    "cellbender_filtered_defaultParameter = adata_cellbender_out_filtered_defaultParameter.obs.index.to_list()\n",
    "(emptydrops_FDR01, cellSize_sup500, cellbender_filtered_defaultParameter)\n",
    "\n",
    "\n",
    "IsCell_lax = from_contents({'emptydrops_FDR01': emptydrops_FDR01,\n",
    "                             'cellSize_sup500': cellSize_sup500,\n",
    "                             'cellbender': cellbender_filtered_defaultParameter,})\n",
    "\n",
    "UpSet(IsCell_lax, subset_size='count', show_counts=True).plot()"
   ]
  }
 ],
 "metadata": {
  "kernelspec": {
   "display_name": "bulk",
   "language": "python",
   "name": "python3"
  },
  "language_info": {
   "codemirror_mode": {
    "name": "ipython",
    "version": 3
   },
   "file_extension": ".py",
   "mimetype": "text/x-python",
   "name": "python",
   "nbconvert_exporter": "python",
   "pygments_lexer": "ipython3",
   "version": "3.9.17"
  },
  "orig_nbformat": 4
 },
 "nbformat": 4,
 "nbformat_minor": 2
}
