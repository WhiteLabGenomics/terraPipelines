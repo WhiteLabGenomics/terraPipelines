{
 "cells": [
  {
   "cell_type": "markdown",
   "metadata": {},
   "source": [
    "### Analyses of output files from the pipeline optimus v6.0.0\n",
    "##### In this part of analysis, some issues from the orginal pipeline were found."
   ]
  },
  {
   "cell_type": "markdown",
   "metadata": {},
   "source": [
    "#### Load necessary libraries"
   ]
  },
  {
   "cell_type": "code",
   "execution_count": 84,
   "metadata": {},
   "outputs": [],
   "source": [
    "import scanpy as sc\n",
    "import dalmatian as dm"
   ]
  },
  {
   "cell_type": "markdown",
   "metadata": {},
   "source": [
    "#### Data Loading"
   ]
  },
  {
   "cell_type": "markdown",
   "metadata": {},
   "source": [
    "In this analysis, we load the data from the output file of job (submission ID 94e3d5584-ac31-456a-b046-4c8554108b7d)"
   ]
  },
  {
   "cell_type": "code",
   "execution_count": 7,
   "metadata": {},
   "outputs": [
    {
     "data": {
      "text/html": [
       "<div>\n",
       "<style scoped>\n",
       "    .dataframe tbody tr th:only-of-type {\n",
       "        vertical-align: middle;\n",
       "    }\n",
       "\n",
       "    .dataframe tbody tr th {\n",
       "        vertical-align: top;\n",
       "    }\n",
       "\n",
       "    .dataframe thead th {\n",
       "        text-align: right;\n",
       "    }\n",
       "</style>\n",
       "<table border=\"1\" class=\"dataframe\">\n",
       "  <thead>\n",
       "    <tr style=\"text-align: right;\">\n",
       "      <th></th>\n",
       "      <th>aligner_metrics</th>\n",
       "      <th>bam</th>\n",
       "      <th>cell_calls</th>\n",
       "      <th>cell_metrics</th>\n",
       "      <th>cellbender_cell_barcodes_csv</th>\n",
       "      <th>cellbender_h5_array</th>\n",
       "      <th>cellbender_html_report_array</th>\n",
       "      <th>cellbender_metrics_csv_array</th>\n",
       "      <th>cellbender_summary_pdf</th>\n",
       "      <th>gene_metrics</th>\n",
       "      <th>genomic_reference_version</th>\n",
       "      <th>h5ad_output_file</th>\n",
       "      <th>matrix</th>\n",
       "      <th>matrix_col_index</th>\n",
       "      <th>matrix_row_index</th>\n",
       "      <th>samples</th>\n",
       "    </tr>\n",
       "    <tr>\n",
       "      <th>sample_set_id</th>\n",
       "      <th></th>\n",
       "      <th></th>\n",
       "      <th></th>\n",
       "      <th></th>\n",
       "      <th></th>\n",
       "      <th></th>\n",
       "      <th></th>\n",
       "      <th></th>\n",
       "      <th></th>\n",
       "      <th></th>\n",
       "      <th></th>\n",
       "      <th></th>\n",
       "      <th></th>\n",
       "      <th></th>\n",
       "      <th></th>\n",
       "      <th></th>\n",
       "    </tr>\n",
       "  </thead>\n",
       "  <tbody>\n",
       "    <tr>\n",
       "      <th>optimus_workflow_2023-10-27</th>\n",
       "      <td>gs://fc-447aee29-8362-4c0b-b8d0-b3b10eb9e2a6/s...</td>\n",
       "      <td>gs://fc-447aee29-8362-4c0b-b8d0-b3b10eb9e2a6/s...</td>\n",
       "      <td>gs://fc-447aee29-8362-4c0b-b8d0-b3b10eb9e2a6/s...</td>\n",
       "      <td>gs://fc-447aee29-8362-4c0b-b8d0-b3b10eb9e2a6/s...</td>\n",
       "      <td>gs://fc-447aee29-8362-4c0b-b8d0-b3b10eb9e2a6/s...</td>\n",
       "      <td>[gs://fc-447aee29-8362-4c0b-b8d0-b3b10eb9e2a6/...</td>\n",
       "      <td>[gs://fc-447aee29-8362-4c0b-b8d0-b3b10eb9e2a6/...</td>\n",
       "      <td>[gs://fc-447aee29-8362-4c0b-b8d0-b3b10eb9e2a6/...</td>\n",
       "      <td>gs://fc-447aee29-8362-4c0b-b8d0-b3b10eb9e2a6/s...</td>\n",
       "      <td>gs://fc-447aee29-8362-4c0b-b8d0-b3b10eb9e2a6/s...</td>\n",
       "      <td>gs://fc-447aee29-8362-4c0b-b8d0-b3b10eb9e2a6/s...</td>\n",
       "      <td>gs://fc-447aee29-8362-4c0b-b8d0-b3b10eb9e2a6/s...</td>\n",
       "      <td>gs://fc-447aee29-8362-4c0b-b8d0-b3b10eb9e2a6/s...</td>\n",
       "      <td>gs://fc-447aee29-8362-4c0b-b8d0-b3b10eb9e2a6/s...</td>\n",
       "      <td>gs://fc-447aee29-8362-4c0b-b8d0-b3b10eb9e2a6/s...</td>\n",
       "      <td>[pbmc_10k_v3_S1_L001, pbmc_10k_v3_S1_L002]</td>\n",
       "    </tr>\n",
       "  </tbody>\n",
       "</table>\n",
       "</div>"
      ],
      "text/plain": [
       "                                                               aligner_metrics  \\\n",
       "sample_set_id                                                                    \n",
       "optimus_workflow_2023-10-27  gs://fc-447aee29-8362-4c0b-b8d0-b3b10eb9e2a6/s...   \n",
       "\n",
       "                                                                           bam  \\\n",
       "sample_set_id                                                                    \n",
       "optimus_workflow_2023-10-27  gs://fc-447aee29-8362-4c0b-b8d0-b3b10eb9e2a6/s...   \n",
       "\n",
       "                                                                    cell_calls  \\\n",
       "sample_set_id                                                                    \n",
       "optimus_workflow_2023-10-27  gs://fc-447aee29-8362-4c0b-b8d0-b3b10eb9e2a6/s...   \n",
       "\n",
       "                                                                  cell_metrics  \\\n",
       "sample_set_id                                                                    \n",
       "optimus_workflow_2023-10-27  gs://fc-447aee29-8362-4c0b-b8d0-b3b10eb9e2a6/s...   \n",
       "\n",
       "                                                  cellbender_cell_barcodes_csv  \\\n",
       "sample_set_id                                                                    \n",
       "optimus_workflow_2023-10-27  gs://fc-447aee29-8362-4c0b-b8d0-b3b10eb9e2a6/s...   \n",
       "\n",
       "                                                           cellbender_h5_array  \\\n",
       "sample_set_id                                                                    \n",
       "optimus_workflow_2023-10-27  [gs://fc-447aee29-8362-4c0b-b8d0-b3b10eb9e2a6/...   \n",
       "\n",
       "                                                  cellbender_html_report_array  \\\n",
       "sample_set_id                                                                    \n",
       "optimus_workflow_2023-10-27  [gs://fc-447aee29-8362-4c0b-b8d0-b3b10eb9e2a6/...   \n",
       "\n",
       "                                                  cellbender_metrics_csv_array  \\\n",
       "sample_set_id                                                                    \n",
       "optimus_workflow_2023-10-27  [gs://fc-447aee29-8362-4c0b-b8d0-b3b10eb9e2a6/...   \n",
       "\n",
       "                                                        cellbender_summary_pdf  \\\n",
       "sample_set_id                                                                    \n",
       "optimus_workflow_2023-10-27  gs://fc-447aee29-8362-4c0b-b8d0-b3b10eb9e2a6/s...   \n",
       "\n",
       "                                                                  gene_metrics  \\\n",
       "sample_set_id                                                                    \n",
       "optimus_workflow_2023-10-27  gs://fc-447aee29-8362-4c0b-b8d0-b3b10eb9e2a6/s...   \n",
       "\n",
       "                                                     genomic_reference_version  \\\n",
       "sample_set_id                                                                    \n",
       "optimus_workflow_2023-10-27  gs://fc-447aee29-8362-4c0b-b8d0-b3b10eb9e2a6/s...   \n",
       "\n",
       "                                                              h5ad_output_file  \\\n",
       "sample_set_id                                                                    \n",
       "optimus_workflow_2023-10-27  gs://fc-447aee29-8362-4c0b-b8d0-b3b10eb9e2a6/s...   \n",
       "\n",
       "                                                                        matrix  \\\n",
       "sample_set_id                                                                    \n",
       "optimus_workflow_2023-10-27  gs://fc-447aee29-8362-4c0b-b8d0-b3b10eb9e2a6/s...   \n",
       "\n",
       "                                                              matrix_col_index  \\\n",
       "sample_set_id                                                                    \n",
       "optimus_workflow_2023-10-27  gs://fc-447aee29-8362-4c0b-b8d0-b3b10eb9e2a6/s...   \n",
       "\n",
       "                                                              matrix_row_index  \\\n",
       "sample_set_id                                                                    \n",
       "optimus_workflow_2023-10-27  gs://fc-447aee29-8362-4c0b-b8d0-b3b10eb9e2a6/s...   \n",
       "\n",
       "                                                                samples  \n",
       "sample_set_id                                                            \n",
       "optimus_workflow_2023-10-27  [pbmc_10k_v3_S1_L001, pbmc_10k_v3_S1_L002]  "
      ]
     },
     "metadata": {},
     "output_type": "display_data"
    },
    {
     "data": {
      "text/plain": [
       "Index(['aligner_metrics', 'bam', 'cell_calls', 'cell_metrics',\n",
       "       'cellbender_cell_barcodes_csv', 'cellbender_h5_array',\n",
       "       'cellbender_html_report_array', 'cellbender_metrics_csv_array',\n",
       "       'cellbender_summary_pdf', 'gene_metrics', 'genomic_reference_version',\n",
       "       'h5ad_output_file', 'matrix', 'matrix_col_index', 'matrix_row_index',\n",
       "       'samples'],\n",
       "      dtype='object')"
      ]
     },
     "metadata": {},
     "output_type": "display_data"
    }
   ],
   "source": [
    "TERRA_WS = \"whitelabgx/scRNAseq\"\n",
    "wm = dm.WorkspaceManager(TERRA_WS)\n",
    "output_df = wm.get_sample_sets()\n",
    "display(output_df)\n",
    "display(output_df.columns)"
   ]
  },
  {
   "cell_type": "markdown",
   "metadata": {},
   "source": [
    "h5ad file of optimus (without cellbender correction)"
   ]
  },
  {
   "cell_type": "code",
   "execution_count": 8,
   "metadata": {},
   "outputs": [
    {
     "name": "stderr",
     "output_type": "stream",
     "text": [
      "/opt/homebrew/Caskroom/miniconda/base/envs/bulk/lib/python3.9/site-packages/anndata/_core/anndata.py:1899: UserWarning: Variable names are not unique. To make them unique, call `.var_names_make_unique`.\n",
      "  utils.warn_names_duplicates(\"var\")\n"
     ]
    }
   ],
   "source": [
    "### Load the data locally, more quickly\n",
    "input_h5ad = \"../scAtlas/tmp/10k_pbmc_v3.h5ad\"\n",
    "adata = sc.read_h5ad(input_h5ad)"
   ]
  },
  {
   "cell_type": "code",
   "execution_count": 9,
   "metadata": {},
   "outputs": [
    {
     "data": {
      "text/plain": [
       "AnnData object with n_obs × n_vars = 1136912 × 58347\n",
       "    obs: 'cell_names', 'CellID', 'emptydrops_Limited', 'emptydrops_IsCell', 'n_reads', 'noise_reads', 'perfect_molecule_barcodes', 'reads_mapped_exonic', 'reads_mapped_exonic_as', 'reads_mapped_intronic', 'reads_mapped_intronic_as', 'reads_mapped_uniquely', 'reads_mapped_multiple', 'duplicate_reads', 'spliced_reads', 'antisense_reads', 'n_molecules', 'n_fragments', 'fragments_with_single_read_evidence', 'molecules_with_single_read_evidence', 'perfect_cell_barcodes', 'reads_mapped_intergenic', 'reads_unmapped', 'reads_mapped_too_many_loci', 'n_genes', 'genes_detected_multiple_observations', 'emptydrops_Total', 'molecule_barcode_fraction_bases_above_30_mean', 'molecule_barcode_fraction_bases_above_30_variance', 'genomic_reads_fraction_bases_quality_above_30_mean', 'genomic_reads_fraction_bases_quality_above_30_variance', 'genomic_read_quality_mean', 'genomic_read_quality_variance', 'reads_per_molecule', 'reads_per_fragment', 'fragments_per_molecule', 'cell_barcode_fraction_bases_above_30_mean', 'cell_barcode_fraction_bases_above_30_variance', 'n_mitochondrial_genes', 'n_mitochondrial_molecules', 'pct_mitochondrial_molecules', 'emptydrops_LogProb', 'emptydrops_PValue', 'emptydrops_FDR', 'input_id'\n",
       "    var: 'gene_names', 'ensembl_ids', 'Gene', 'n_reads', 'noise_reads', 'perfect_molecule_barcodes', 'reads_mapped_exonic', 'reads_mapped_exonic_as', 'reads_mapped_intronic', 'reads_mapped_intronic_as', 'reads_mapped_uniquely', 'reads_mapped_multiple', 'duplicate_reads', 'spliced_reads', 'antisense_reads', 'molecule_barcode_fraction_bases_above_30_mean', 'molecule_barcode_fraction_bases_above_30_variance', 'genomic_reads_fraction_bases_quality_above_30_mean', 'genomic_reads_fraction_bases_quality_above_30_variance', 'genomic_read_quality_mean', 'genomic_read_quality_variance', 'n_molecules', 'n_fragments', 'reads_per_molecule', 'reads_per_fragment', 'fragments_per_molecule', 'fragments_with_single_read_evidence', 'molecules_with_single_read_evidence', 'number_cells_detected_multiple', 'number_cells_expressing'\n",
       "    uns: 'expression_data_type', 'input_id', 'optimus_output_schema_version', 'pipeline_version'"
      ]
     },
     "execution_count": 9,
     "metadata": {},
     "output_type": "execute_result"
    }
   ],
   "source": [
    "adata"
   ]
  },
  {
   "cell_type": "markdown",
   "metadata": {},
   "source": [
    "###### Not all variable names are unique: This indicates that some variables (=genes) appear more than once which can lead to errors or unintended behavior for downstream analysis tasks. We execute the proposed function var_names_make_unique() which makes the variable name unique by appending a number string to each duplicate index element: ‘1’, ‘2’, etc."
   ]
  },
  {
   "cell_type": "code",
   "execution_count": 13,
   "metadata": {},
   "outputs": [
    {
     "name": "stderr",
     "output_type": "stream",
     "text": [
      "/opt/homebrew/Caskroom/miniconda/base/envs/bulk/lib/python3.9/site-packages/anndata/utils.py:260: UserWarning: Suffix used (-[0-9]+) to deduplicate index values may make index values difficult to interpret. There values with a similar suffixes in the index. Consider using a different delimiter by passing `join={delimiter}`Example key collisions generated by the make_index_unique algorithm: ['SNORD116-1', 'SNORD116-2', 'SNORD116-3', 'SNORD116-4', 'SNORD116-5']\n",
      "  warnings.warn(\n"
     ]
    }
   ],
   "source": [
    "### Variable names are not unique. To make them unique\n",
    "adata.var_names_make_unique()"
   ]
  },
  {
   "cell_type": "markdown",
   "metadata": {},
   "source": [
    "Duplicate reads is zero for each cell: Optimus dev team will investigate that issue and create a GitHub issue for it."
   ]
  },
  {
   "cell_type": "code",
   "execution_count": 14,
   "metadata": {},
   "outputs": [
    {
     "data": {
      "text/plain": [
       "0"
      ]
     },
     "metadata": {},
     "output_type": "display_data"
    }
   ],
   "source": [
    "display(adata.obs['duplicate_reads'].sum())"
   ]
  },
  {
   "cell_type": "markdown",
   "metadata": {},
   "source": [
    "The following metrics are zero for each cell: check in bam file"
   ]
  },
  {
   "cell_type": "code",
   "execution_count": 38,
   "metadata": {},
   "outputs": [
    {
     "data": {
      "text/plain": [
       "0"
      ]
     },
     "metadata": {},
     "output_type": "display_data"
    },
    {
     "data": {
      "text/plain": [
       "0"
      ]
     },
     "metadata": {},
     "output_type": "display_data"
    },
    {
     "data": {
      "text/plain": [
       "0"
      ]
     },
     "metadata": {},
     "output_type": "display_data"
    },
    {
     "data": {
      "text/plain": [
       "0"
      ]
     },
     "metadata": {},
     "output_type": "display_data"
    },
    {
     "data": {
      "text/plain": [
       "0"
      ]
     },
     "metadata": {},
     "output_type": "display_data"
    },
    {
     "data": {
      "text/plain": [
       "0"
      ]
     },
     "metadata": {},
     "output_type": "display_data"
    },
    {
     "data": {
      "text/plain": [
       "AAACCCAAGAAACACT     1\n",
       "AAACCCAAGAAACCAT     1\n",
       "AAACCCAAGAAACTAC     3\n",
       "AAACCCAAGAAACTCA    76\n",
       "AAACCCAAGAAACTGT     2\n",
       "                    ..\n",
       "TTTGTTGTCTTGGTCC     1\n",
       "TTTGTTGTCTTGTACC     1\n",
       "TTTGTTGTCTTTACAC     1\n",
       "TTTGTTGTCTTTGCGC    27\n",
       "TTTGTTGTCTTTGCTA     3\n",
       "Name: reads_mapped_exonic, Length: 1136912, dtype: int64"
      ]
     },
     "metadata": {},
     "output_type": "display_data"
    }
   ],
   "source": [
    "#display(adata.obs['reads_mapped_exonic_as'].describe())\n",
    "display(adata.obs['reads_mapped_intronic'].sum())\n",
    "display(adata.obs['reads_mapped_intronic_as'].sum())\n",
    "display(adata.obs['reads_mapped_exonic_as'].sum())\n",
    "display(adata.obs['noise_reads'].sum())\n",
    "display(adata.obs['antisense_reads'].sum())\n",
    "display(adata.obs['reads_mapped_intergenic'].sum())\n",
    "\n",
    "display(adata.obs['reads_mapped_exonic'])"
   ]
  },
  {
   "cell_type": "code",
   "execution_count": null,
   "metadata": {
    "vscode": {
     "languageId": "shellscript"
    }
   },
   "outputs": [],
   "source": [
    "# ! brew install samtools"
   ]
  },
  {
   "cell_type": "markdown",
   "metadata": {},
   "source": [
    "###### Check the sF tag to understand why the metrics in above is zero"
   ]
  },
  {
   "cell_type": "code",
   "execution_count": 37,
   "metadata": {
    "vscode": {
     "languageId": "shellscript"
    }
   },
   "outputs": [
    {
     "name": "stdout",
     "output_type": "stream",
     "text": [
      "sF:B:i,-1,-1\n",
      "sF:B:i,0,0\n",
      "sF:B:i,1,1\n",
      "sF:B:i,1,10\n",
      "sF:B:i,1,11\n",
      "sF:B:i,1,12\n",
      "sF:B:i,1,2\n",
      "sF:B:i,1,22\n",
      "sF:B:i,1,3\n",
      "sF:B:i,1,4\n",
      "sF:B:i,1,5\n",
      "sF:B:i,1,6\n",
      "sF:B:i,1,7\n",
      "sF:B:i,1,8\n",
      "sF:B:i,1,9\n"
     ]
    }
   ],
   "source": [
    "# ! samtools view -h /Users/xiliu/Documents/analysis/terraPipelines/scAtlas/tmp/Optimus_MergeBam_10k_pbmc_v3.bam | grep \"sF:\" | cut -f 19 | sort | uniq "
   ]
  }
 ],
 "metadata": {
  "kernelspec": {
   "display_name": "bulk",
   "language": "python",
   "name": "python3"
  },
  "language_info": {
   "codemirror_mode": {
    "name": "ipython",
    "version": 3
   },
   "file_extension": ".py",
   "mimetype": "text/x-python",
   "name": "python",
   "nbconvert_exporter": "python",
   "pygments_lexer": "ipython3",
   "version": "3.9.17"
  },
  "orig_nbformat": 4
 },
 "nbformat": 4,
 "nbformat_minor": 2
}
