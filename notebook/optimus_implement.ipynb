{
 "cells": [
  {
   "cell_type": "markdown",
   "metadata": {},
   "source": [
    "###  Implement of Optimus pipeline\n",
    "#### Pipeline version v6.3.3 (01.05.2024)"
   ]
  },
  {
   "cell_type": "markdown",
   "metadata": {},
   "source": [
    "###### Update information\n",
    "###### The pipeline version 5.7.4 is in branch sc-pip\n",
    "###### The pipeline version 6.0.0 is in branch sc-pip-v2\n",
    "###### The pipeline version 6.3.3 is in branch sc-pip-optimus_v6.3.3"
   ]
  },
  {
   "cell_type": "markdown",
   "metadata": {},
   "source": [
    "#### Pipeline validation"
   ]
  },
  {
   "cell_type": "code",
   "execution_count": 1,
   "metadata": {
    "vscode": {
     "languageId": "shellscript"
    }
   },
   "outputs": [
    {
     "name": "stdout",
     "output_type": "stream",
     "text": [
      "Success!\n",
      "List of Workflow dependencies is:\n",
      "/Users/xiliu/Documents/analysis/terraPipelines/scAtlas/tasks/CheckInputs.wdl\n",
      "/Users/xiliu/Documents/analysis/terraPipelines/scAtlas/tasks/FastqProcessing.wdl\n",
      "/Users/xiliu/Documents/analysis/terraPipelines/scAtlas/tasks/RunEmptyDrops.wdl\n",
      "/Users/xiliu/Documents/analysis/terraPipelines/scAtlas/tasks/cellbender_remove_background.wdl\n",
      "/Users/xiliu/Documents/analysis/terraPipelines/scAtlas/tasks/StarAlign.wdl\n",
      "/Users/xiliu/Documents/analysis/terraPipelines/scAtlas/tasks/H5adUtils.wdl\n",
      "/Users/xiliu/Documents/analysis/terraPipelines/scAtlas/tasks/MergeSortBam.wdl\n",
      "/Users/xiliu/Documents/analysis/terraPipelines/scAtlas/tasks/Metrics.wdl\n"
     ]
    }
   ],
   "source": [
    "### Syntex validation ###\n",
    "!java -jar ../../womtool/womtool-85.jar validate -l ../scAtlas/optimus/Optimus.wdl"
   ]
  }
 ],
 "metadata": {
  "kernelspec": {
   "display_name": "bulk",
   "language": "python",
   "name": "python3"
  },
  "language_info": {
   "codemirror_mode": {
    "name": "ipython",
    "version": 3
   },
   "file_extension": ".py",
   "mimetype": "text/x-python",
   "name": "python",
   "nbconvert_exporter": "python",
   "pygments_lexer": "ipython3",
   "version": "3.9.17"
  },
  "orig_nbformat": 4
 },
 "nbformat": 4,
 "nbformat_minor": 2
}
