{
 "cells": [
  {
   "cell_type": "markdown",
   "metadata": {},
   "source": [
    "### Analyses of output files from the pipeline optimus v6.0.0+\n",
    "#### Aim of this part of analysis is predict the cell cycle"
   ]
  },
  {
   "cell_type": "markdown",
   "metadata": {},
   "source": [
    "#### Load necessary libraries and useful functions"
   ]
  },
  {
   "cell_type": "code",
   "execution_count": 1,
   "metadata": {},
   "outputs": [],
   "source": [
    "%load_ext autoreload\n",
    "%autoreload 2"
   ]
  },
  {
   "cell_type": "code",
   "execution_count": 2,
   "metadata": {},
   "outputs": [],
   "source": [
    "from typing import Union\n",
    "import pandas as pd\n",
    "import scanpy as sc\n",
    "import numpy as np\n",
    "import collections"
   ]
  },
  {
   "cell_type": "code",
   "execution_count": 3,
   "metadata": {},
   "outputs": [],
   "source": [
    "import warnings\n",
    "warnings.filterwarnings(\"ignore\") "
   ]
  },
  {
   "cell_type": "markdown",
   "metadata": {},
   "source": [
    "#### Data Loading"
   ]
  },
  {
   "cell_type": "code",
   "execution_count": 9,
   "metadata": {},
   "outputs": [
    {
     "name": "stdout",
     "output_type": "stream",
     "text": [
      "Assuming we are loading a \"filtered\" file that contains only cells.\n"
     ]
    }
   ],
   "source": [
    "input_h5ad = \"../scAtlas/tmp/10k_pbmc_v3_out_filtered_cellbenderDefault_lowQcell_scDblFinder.h5ad\"\n",
    "adata = sc.read_h5ad(input_h5ad_raw)"
   ]
  },
  {
   "cell_type": "code",
   "execution_count": 10,
   "metadata": {},
   "outputs": [
    {
     "data": {
      "text/plain": [
       "AnnData object with n_obs × n_vars = 1136912 × 58347\n",
       "    obs: 'cell_names', 'CellID', 'emptydrops_Limited', 'emptydrops_IsCell', 'n_reads', 'noise_reads', 'perfect_molecule_barcodes', 'reads_mapped_exonic', 'reads_mapped_exonic_as', 'reads_mapped_intronic', 'reads_mapped_intronic_as', 'reads_mapped_uniquely', 'reads_mapped_multiple', 'duplicate_reads', 'spliced_reads', 'antisense_reads', 'n_molecules', 'n_fragments', 'fragments_with_single_read_evidence', 'molecules_with_single_read_evidence', 'perfect_cell_barcodes', 'reads_mapped_intergenic', 'reads_unmapped', 'reads_mapped_too_many_loci', 'n_genes', 'genes_detected_multiple_observations', 'emptydrops_Total', 'molecule_barcode_fraction_bases_above_30_mean', 'molecule_barcode_fraction_bases_above_30_variance', 'genomic_reads_fraction_bases_quality_above_30_mean', 'genomic_reads_fraction_bases_quality_above_30_variance', 'genomic_read_quality_mean', 'genomic_read_quality_variance', 'reads_per_molecule', 'reads_per_fragment', 'fragments_per_molecule', 'cell_barcode_fraction_bases_above_30_mean', 'cell_barcode_fraction_bases_above_30_variance', 'n_mitochondrial_genes', 'n_mitochondrial_molecules', 'pct_mitochondrial_molecules', 'emptydrops_LogProb', 'emptydrops_PValue', 'emptydrops_FDR', 'input_id'\n",
       "    var: 'gene_names', 'ensembl_ids', 'Gene', 'n_reads', 'noise_reads', 'perfect_molecule_barcodes', 'reads_mapped_exonic', 'reads_mapped_exonic_as', 'reads_mapped_intronic', 'reads_mapped_intronic_as', 'reads_mapped_uniquely', 'reads_mapped_multiple', 'duplicate_reads', 'spliced_reads', 'antisense_reads', 'molecule_barcode_fraction_bases_above_30_mean', 'molecule_barcode_fraction_bases_above_30_variance', 'genomic_reads_fraction_bases_quality_above_30_mean', 'genomic_reads_fraction_bases_quality_above_30_variance', 'genomic_read_quality_mean', 'genomic_read_quality_variance', 'n_molecules', 'n_fragments', 'reads_per_molecule', 'reads_per_fragment', 'fragments_per_molecule', 'fragments_with_single_read_evidence', 'molecules_with_single_read_evidence', 'number_cells_detected_multiple', 'number_cells_expressing'\n",
       "    uns: 'expression_data_type', 'input_id', 'optimus_output_schema_version', 'pipeline_version'"
      ]
     },
     "metadata": {},
     "output_type": "display_data"
    },
    {
     "data": {
      "text/plain": [
       "AnnData object with n_obs × n_vars = 12561 × 58347\n",
       "    obs: 'background_fraction', 'cell_probability', 'cell_size', 'droplet_efficiency'\n",
       "    var: 'ambient_expression', 'feature_type', 'genome', 'gene_id', 'cellbender_analyzed'\n",
       "    uns: 'barcode_indices_for_latents', 'cell_size_lognormal_std', 'empty_droplet_size_lognormal_loc', 'empty_droplet_size_lognormal_scale', 'swapping_fraction_dist_params', 'barcodes_analyzed', 'barcodes_analyzed_inds', 'estimator', 'features_analyzed_inds', 'fraction_data_used_for_testing', 'learning_curve_learning_rate_epoch', 'learning_curve_learning_rate_value', 'learning_curve_test_elbo', 'learning_curve_test_epoch', 'learning_curve_train_elbo', 'learning_curve_train_epoch', 'target_false_positive_rate'\n",
       "    obsm: 'gene_expression_encoding'"
      ]
     },
     "metadata": {},
     "output_type": "display_data"
    }
   ],
   "source": [
    "display(adata)"
   ]
  },
  {
   "cell_type": "markdown",
   "metadata": {},
   "source": [
    "###### check barcode and gene names"
   ]
  },
  {
   "cell_type": "code",
   "execution_count": 11,
   "metadata": {},
   "outputs": [
    {
     "data": {
      "text/plain": [
       "Index(['DDX11L1', 'WASH7P', 'MIR6859-1', 'MIR1302-2HG', 'MIR1302-2', 'FAM138A',\n",
       "       'AL627309.6', 'OR4G11P', 'OR4F5', 'AL627309.1',\n",
       "       ...\n",
       "       'pRNA', 'RNA5-8S5', 'pRNA', 'RNA5-8SN2', 'AC007325.3', 'AC007325.1',\n",
       "       'AC007325.4', 'AC007325.2', 'U6', 'U1'],\n",
       "      dtype='object', length=58347)"
      ]
     },
     "metadata": {},
     "output_type": "display_data"
    },
    {
     "data": {
      "text/plain": [
       "Index(['DDX11L1', 'WASH7P', 'MIR6859-1', 'MIR1302-2HG', 'MIR1302-2', 'FAM138A',\n",
       "       'AL627309.6', 'OR4G11P', 'OR4F5', 'AL627309.1',\n",
       "       ...\n",
       "       'pRNA', 'RNA5-8S5', 'pRNA', 'RNA5-8SN2', 'AC007325.3', 'AC007325.1',\n",
       "       'AC007325.4', 'AC007325.2', 'U6', 'U1'],\n",
       "      dtype='object', name='gene_name', length=58347)"
      ]
     },
     "metadata": {},
     "output_type": "display_data"
    },
    {
     "data": {
      "text/plain": [
       "Index(['AAACCCAAGAAACACT', 'AAACCCAAGAAACCAT', 'AAACCCAAGAAACTAC',\n",
       "       'AAACCCAAGAAACTCA', 'AAACCCAAGAAACTGT', 'AAACCCAAGAAAGCGA',\n",
       "       'AAACCCAAGAAAGTCT', 'AAACCCAAGAAATCCA', 'AAACCCAAGAACGCGT',\n",
       "       'AAACCCAAGAAGCCAC',\n",
       "       ...\n",
       "       'TTTGTTGTCTTCTAAC', 'TTTGTTGTCTTCTCTT', 'TTTGTTGTCTTCTTCC',\n",
       "       'TTTGTTGTCTTGATTC', 'TTTGTTGTCTTGCGCT', 'TTTGTTGTCTTGGTCC',\n",
       "       'TTTGTTGTCTTGTACC', 'TTTGTTGTCTTTACAC', 'TTTGTTGTCTTTGCGC',\n",
       "       'TTTGTTGTCTTTGCTA'],\n",
       "      dtype='object', length=1136912)"
      ]
     },
     "metadata": {},
     "output_type": "display_data"
    },
    {
     "data": {
      "text/plain": [
       "Index(['TGCTTGCTCTAAGCCA', 'AATCACGTCCCGATCT', 'CTTGAGATCCATGCAA',\n",
       "       'TTCCTTCAGTCTCCTC', 'TCATTACCAGCTCATA', 'TAATCTCAGCACCCAC',\n",
       "       'TGAATGCGTCGCACGT', 'CTGAATGTCCTAGCTC', 'CAGAGCCTCTTCGATT',\n",
       "       'TACATTCTCCGTAGTA',\n",
       "       ...\n",
       "       'ATTCTACGTGTCCAAT', 'TATCAGGAGAACCGCA', 'GAAGGGTGTACTAGCT',\n",
       "       'GATGACTGTACAGTAA', 'AGAGAGCGTCCAGTTA', 'AGTACCAAGCGGGTAT',\n",
       "       'CGTTCTGTCAAGCCGC', 'CGTAATGCAGCGTACC', 'CTCAGTCGTTATCTTC',\n",
       "       'TATCAGGTCACTTGTC'],\n",
       "      dtype='object', name='barcode', length=12561)"
      ]
     },
     "metadata": {},
     "output_type": "display_data"
    }
   ],
   "source": [
    "display(adata.var_names)\n",
    "display(adata.obs_names)"
   ]
  },
  {
   "cell_type": "markdown",
   "metadata": {},
   "source": [
    "Find duplicate variable (gene) names"
   ]
  },
  {
   "cell_type": "code",
   "execution_count": 13,
   "metadata": {},
   "outputs": [
    {
     "name": "stdout",
     "output_type": "stream",
     "text": [
      "Duplicate variable names: ['U6', 'TP73-AS1', 'Y_RNA', 'SNORA77', 'SCARNA16', 'SNORA70', 'SCARNA11', 'SCARNA17', 'SCARNA18', 'snoU13', 'SNORA44', 'SNORA16A', 'SCARNA24', 'Metazoa_SRP', 'uc_338', 'SNORA62', 'SNORA63', 'SNORD46', 'SNORD38B', 'SNORA26', 'SNORA58', 'DLEU2_6', 'DLEU2_5', 'DLEU2_4', 'DLEU2_3', 'DLEU2_2', 'DLEU2_1', 'SNORA31', 'SNORA2', 'SNORD81', 'SNORA51', 'SNORA25', 'SNORA42', 'U3', 'SNORA40', '7SK', 'U1', 'U2', '5S_rRNA', 'U6atac', 'U4', 'SNORD59', 'SCARNA4', 'SNORD64', 'ACA64', 'RGS5', 'SCARNA20', 'U7', 'SNORA67', 'SNORA72', 'SNORD60', 'SNORD116', 'U8', 'LINC01115', 'SNORD18', 'SCARNA21', 'SNORA36', 'SNORD75', 'TMEM247', 'STPG4', 'SNORA75', 'SNORA12', 'SNORD78', 'ACA59', 'SNORA74', 'snoU109', 'SNORA19', 'ACTR3BP2', 'DAOA-AS1_2', 'SCARNA15', 'SNORA48', 'SNORD56', 'PDE11A', 'SNORA43', 'SNORA17', 'PCGEM1', 'SNORA4', 'SNORD70', 'SNORD11', 'SNORA1', 'Vault', 'SNORD51', 'SCARNA6', 'SNORD39', 'LINC01238', 'GHRLOS', 'SNORD5', 'SNORA64', 'SNORD77', 'PRSS50', 'CYB561D2', 'SNORD19B', 'SNORD19', 'SNORD63', 'PRICKLE2-AS1', 'Clostridiales-1', 'TUSC7', 'LINC00901', 'TXNRD3NB', 'SNORA24', 'SNORA33', 'PISRT1', 'CLRN1-AS1', 'SNORA18', 'SNORA81', 'SNORD66', 'SNORD2', 'SNORD74', 'SNORA3', 'SNORD50', 'SNORD42', 'snoU2_19', 'SNORA11', 'SNORD65', 'SNORA57', 'SNORA76', 'SNORA50D', 'ARL14EPL', 'snoZ6', 'MATR3', 'SNORD45', 'SNORA27', 'SNORA68', 'SNORD95', 'HULC', 'HIST1H3D', 'ZNRD1-AS1_2', 'SNORA38', 'SNORA8', 'SNORA73', 'SOGA3', 'HYMAI', 'RAET1E-AS1', 'SNORA20', 'POLR2J4', 'SNORA9', 'SNORA15', 'SNORA22', 'RABGEF1', 'POLR2J2', 'KBTBD11-OT1', 'SNORD38', 'SNORD112', 'pRNA', 'SNORA7', 'MAL2', 'SNORA32', 'LYNX1', 'RMRP', 'LINC00484', 'LINC01505', 'MIR219A2', 'SNORA17B', 'SNORD115', 'CTSLP2', 'DNAJC9-AS1', 'BMS1P4', 'SNORA71', 'FAS-AS1', 'H19_1', 'H19_2', 'snoMBII-202', 'SNORD67', 'SNORD22', 'SNORD30', 'SNORD27', 'mascRNA-menRNA', 'MALAT1', 'ALG1L9P', 'H19_3', 'snoU2-30', 'SDHD', 'ITFG2-AS1', 'EMG1', 'OR7E47P', 'LINC01598', 'LINC01481', 'snoMe28S-Am2634', 'SPATA13', 'SNORA16', 'SNORD37', '5_8S_rRNA', 'LINC01297', 'SNORD41', 'SFTA3', 'SNORA46', 'SNORD113', 'GOLGA8M', 'GABARAPL3', 'SNORA30', 'SNORA50A', 'COG8', 'SNORD111', 'SNORD33', 'SNORA69', 'SNORD3D', 'SNORD23', 'UCA1', 'HAR1A', 'RNA5-8SN5', 'DUXAP8', 'DGCR5', 'MIR130B', 'LINC01422', 'RFPL3-AS1_1', 'SNORA50B', 'ELFN2', 'SCO2', 'AL954722.1', 'PLCXD1', 'GTPBP6', 'LINC00685', 'PPP2R3B', 'AL732314.6', 'AL732314.4', 'FABP5P13', 'KRT18P53', 'SHOX', 'AL672277.1', 'RPL14P5', 'CRLF2', 'CSF2RA', 'MIR3690', 'RNA5SP498', 'IL3RA', 'SLC25A6', 'LINC00106', 'ASMTL-AS1', 'ASMTL', 'P2RY8', 'AKAP17A', 'ASMT', 'AL683807.1', 'AL683807.2', 'DHRSX', 'DHRSX-IT1', 'ZBED1', 'MIR6089', 'CD99P1', 'LINC00102', 'CD99', 'SNORD3E', 'TMSB15B', 'SNORA35', 'CDR1', 'SPRY3', 'AMD1P2', 'DPH3P2', 'VAMP7', 'ELOCP24', 'TRPC6P', 'IL9R', 'AJ271736.1', 'WASIR1', 'WASH6P', 'DDX11L16']\n",
      "Number of duplicate variable: 256\n"
     ]
    }
   ],
   "source": [
    "var_names = adata.var_names\n",
    "duplicates = [item for item, count in collections.Counter(var_names).items() if count > 1]\n",
    "print(\"Duplicate variable names:\", duplicates)\n",
    "print(\"Number of duplicate variable:\", len(duplicates))"
   ]
  },
  {
   "cell_type": "markdown",
   "metadata": {},
   "source": [
    "Make variable names unique"
   ]
  },
  {
   "cell_type": "markdown",
   "metadata": {},
   "source": [
    "###### Not all variable names are unique: This indicates that some variables (=genes) appear more than once which can lead to errors or unintended behavior for downstream analysis tasks. We execute the proposed function var_names_make_unique() which makes the variable name unique by appending a number string to each duplicate index element: ‘1’, ‘2’, etc."
   ]
  },
  {
   "cell_type": "code",
   "execution_count": 14,
   "metadata": {},
   "outputs": [],
   "source": [
    "adata.var_names_make_unique()"
   ]
  },
  {
   "cell_type": "markdown",
   "metadata": {},
   "source": [
    "#### Cell cycle prediction"
   ]
  },
  {
   "cell_type": "code",
   "execution_count": null,
   "metadata": {},
   "outputs": [],
   "source": [
    "cell_cycle_genes = pd.read_csv(\n",
    "    \"https://raw.githubusercontent.com/hbc/tinyatlas/master/cell_cycle/Homo_sapiens.csv\"\n",
    ")  # This is the same source as the automated Seurat function\n",
    "cell_cycle_genes\n",
    "\n",
    "sc.tl.score_genes_cell_cycle(\n",
    "    adata_cellbender,\n",
    "    s_genes=cell_cycle_genes[cell_cycle_genes.phase == \"S\"].geneID.unique(),\n",
    "    g2m_genes=cell_cycle_genes[cell_cycle_genes.phase == \"G2/M\"].geneID.unique(),\n",
    ")\n",
    "#TODO better for filtered cell or all cell"
   ]
  },
  {
   "cell_type": "code",
   "execution_count": null,
   "metadata": {},
   "outputs": [],
   "source": [
    "adata.layers[\"log_transformed\"] = np.log1p(adata.X)\n",
    "adata.to_df(layer=\"log_transformed\")\n"
   ]
  }
 ],
 "metadata": {
  "kernelspec": {
   "display_name": "bulk",
   "language": "python",
   "name": "bulk"
  },
  "language_info": {
   "codemirror_mode": {
    "name": "ipython",
    "version": 3
   },
   "file_extension": ".py",
   "mimetype": "text/x-python",
   "name": "python",
   "nbconvert_exporter": "python",
   "pygments_lexer": "ipython3",
   "version": "3.9.17"
  },
  "orig_nbformat": 4
 },
 "nbformat": 4,
 "nbformat_minor": 2
}
