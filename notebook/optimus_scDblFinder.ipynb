{
 "cells": [
  {
   "cell_type": "markdown",
   "metadata": {},
   "source": [
    "### Analyses of output files from the pipeline optimus v6.0.0+\n",
    "##### Aim of this part of analysis is to detect doublets in the data using scDblFinder"
   ]
  },
  {
   "cell_type": "markdown",
   "metadata": {},
   "source": [
    "NB: You need to install scDblFinder in a Unix environment"
   ]
  },
  {
   "cell_type": "markdown",
   "metadata": {},
   "source": [
    "#### Load necessary libraries"
   ]
  },
  {
   "cell_type": "code",
   "execution_count": 1,
   "metadata": {},
   "outputs": [],
   "source": [
    "from cellbender.remove_background.downstream import anndata_from_h5\n",
    "import scanpy as sc"
   ]
  },
  {
   "cell_type": "code",
   "execution_count": 2,
   "metadata": {},
   "outputs": [],
   "source": [
    "%load_ext rpy2.ipython"
   ]
  },
  {
   "cell_type": "code",
   "execution_count": 3,
   "metadata": {},
   "outputs": [
    {
     "name": "stdout",
     "output_type": "stream",
     "text": [
      "\n",
      "    WARNING: The R package \"reticulate\" only fixed recently\n",
      "    an issue that caused a segfault when used with rpy2:\n",
      "    https://github.com/rstudio/reticulate/pull/1188\n",
      "    Make sure that you use a version of that package that includes\n",
      "    the fix.\n",
      "    "
     ]
    },
    {
     "data": {
      "text/plain": [
       "Loading required package: SingleCellExperiment\n",
       "Loading required package: SummarizedExperiment\n",
       "Loading required package: MatrixGenerics\n",
       "Loading required package: matrixStats\n",
       "\n",
       "Attaching package: ‘MatrixGenerics’\n",
       "\n",
       "The following objects are masked from ‘package:matrixStats’:\n",
       "\n",
       "    colAlls, colAnyNAs, colAnys, colAvgsPerRowSet, colCollapse,\n",
       "    colCounts, colCummaxs, colCummins, colCumprods, colCumsums,\n",
       "    colDiffs, colIQRDiffs, colIQRs, colLogSumExps, colMadDiffs,\n",
       "    colMads, colMaxs, colMeans2, colMedians, colMins, colOrderStats,\n",
       "    colProds, colQuantiles, colRanges, colRanks, colSdDiffs, colSds,\n",
       "    colSums2, colTabulates, colVarDiffs, colVars, colWeightedMads,\n",
       "    colWeightedMeans, colWeightedMedians, colWeightedSds,\n",
       "    colWeightedVars, rowAlls, rowAnyNAs, rowAnys, rowAvgsPerColSet,\n",
       "    rowCollapse, rowCounts, rowCummaxs, rowCummins, rowCumprods,\n",
       "    rowCumsums, rowDiffs, rowIQRDiffs, rowIQRs, rowLogSumExps,\n",
       "    rowMadDiffs, rowMads, rowMaxs, rowMeans2, rowMedians, rowMins,\n",
       "    rowOrderStats, rowProds, rowQuantiles, rowRanges, rowRanks,\n",
       "    rowSdDiffs, rowSds, rowSums2, rowTabulates, rowVarDiffs, rowVars,\n",
       "    rowWeightedMads, rowWeightedMeans, rowWeightedMedians,\n",
       "    rowWeightedSds, rowWeightedVars\n",
       "\n",
       "Loading required package: GenomicRanges\n",
       "Loading required package: stats4\n",
       "Loading required package: BiocGenerics\n",
       "\n",
       "Attaching package: ‘BiocGenerics’\n",
       "\n",
       "The following objects are masked from ‘package:stats’:\n",
       "\n",
       "    IQR, mad, sd, var, xtabs\n",
       "\n",
       "The following objects are masked from ‘package:base’:\n",
       "\n",
       "    anyDuplicated, aperm, append, as.data.frame, basename, cbind,\n",
       "    colnames, dirname, do.call, duplicated, eval, evalq, Filter, Find,\n",
       "    get, grep, grepl, intersect, is.unsorted, lapply, Map, mapply,\n",
       "    match, mget, order, paste, pmax, pmax.int, pmin, pmin.int,\n",
       "    Position, rank, rbind, Reduce, rownames, sapply, setdiff, sort,\n",
       "    table, tapply, union, unique, unsplit, which.max, which.min\n",
       "\n",
       "Loading required package: S4Vectors\n",
       "\n",
       "Attaching package: ‘S4Vectors’\n",
       "\n",
       "The following object is masked from ‘package:utils’:\n",
       "\n",
       "    findMatches\n",
       "\n",
       "The following objects are masked from ‘package:base’:\n",
       "\n",
       "    expand.grid, I, unname\n",
       "\n",
       "Loading required package: IRanges\n",
       "Loading required package: GenomeInfoDb\n",
       "Loading required package: Biobase\n",
       "Welcome to Bioconductor\n",
       "\n",
       "    Vignettes contain introductory material; view with\n",
       "    'browseVignettes()'. To cite Bioconductor, see\n",
       "    'citation(\"Biobase\")', and for packages 'citation(\"pkgname\")'.\n",
       "\n",
       "\n",
       "Attaching package: ‘Biobase’\n",
       "\n",
       "The following object is masked from ‘package:MatrixGenerics’:\n",
       "\n",
       "    rowMedians\n",
       "\n",
       "The following objects are masked from ‘package:matrixStats’:\n",
       "\n",
       "    anyMissing, rowMedians\n",
       "\n",
       "Loading required package: scuttle\n",
       "Loading required package: ggplot2\n",
       "Attaching SeuratObject\n",
       "Seurat v4 was just loaded with SeuratObject v5; disabling v5 assays and\n",
       "validation routines, and ensuring assays work in strict v3/v4\n",
       "compatibility mode\n",
       "\n",
       "Attaching package: ‘Seurat’\n",
       "\n",
       "The following object is masked from ‘package:SummarizedExperiment’:\n",
       "\n",
       "    Assays\n",
       "\n",
       "In addition: Warning message:\n",
       "package ‘matrixStats’ was built under R version 4.3.2 \n"
      ]
     },
     "metadata": {},
     "output_type": "display_data"
    }
   ],
   "source": [
    "%%R\n",
    "library(scater)\n",
    "library(BiocParallel)\n",
    "library(scDblFinder)\n",
    "library(Seurat)"
   ]
  },
  {
   "cell_type": "markdown",
   "metadata": {},
   "source": [
    "WARNING: \n",
    "###### 1. The R package \"reticulate\" only fixed recently an issue that caused a segfault when used with rpy2:\n",
    "###### https://github.com/rstudio/reticulate/pull/1188 : This issue is fixed in reticulate 1.25 (We use the version 1.24.0)\n",
    "###### 2. the last release of r-seurat is 4.4.0, the installed version for this project"
   ]
  },
  {
   "cell_type": "code",
   "execution_count": 4,
   "metadata": {
    "vscode": {
     "languageId": "shellscript"
    }
   },
   "outputs": [
    {
     "name": "stdout",
     "output_type": "stream",
     "text": [
      "R version 4.3.1 (2023-06-16) -- \"Beagle Scouts\"\n",
      "Copyright (C) 2023 The R Foundation for Statistical Computing\n",
      "Platform: x86_64-conda-linux-gnu (64-bit)\n",
      "\n",
      "R is free software and comes with ABSOLUTELY NO WARRANTY.\n",
      "You are welcome to redistribute it under the terms of the\n",
      "GNU General Public License versions 2 or 3.\n",
      "For more information about these matters see\n",
      "https://www.gnu.org/licenses/.\n",
      "\n"
     ]
    }
   ],
   "source": [
    "! R --version"
   ]
  },
  {
   "cell_type": "code",
   "execution_count": 5,
   "metadata": {},
   "outputs": [
    {
     "name": "stdout",
     "output_type": "stream",
     "text": [
      "R version 4.3.1 (2023-06-16)\n",
      "Platform: x86_64-conda-linux-gnu (64-bit)\n",
      "Running under: Debian GNU/Linux 11 (bullseye)\n",
      "\n",
      "Matrix products: default\n",
      "BLAS/LAPACK: /home/xiliu/.conda/envs/optimus/lib/libopenblasp-r0.3.24.so;  LAPACK version 3.11.0\n",
      "\n",
      "locale:\n",
      " [1] LC_CTYPE=C.UTF-8       LC_NUMERIC=C           LC_TIME=C.UTF-8       \n",
      " [4] LC_COLLATE=C.UTF-8     LC_MONETARY=C.UTF-8    LC_MESSAGES=C.UTF-8   \n",
      " [7] LC_PAPER=C.UTF-8       LC_NAME=C              LC_ADDRESS=C          \n",
      "[10] LC_TELEPHONE=C         LC_MEASUREMENT=C.UTF-8 LC_IDENTIFICATION=C   \n",
      "\n",
      "time zone: Etc/UTC\n",
      "tzcode source: system (glibc)\n",
      "\n",
      "attached base packages:\n",
      "[1] stats4    tools     stats     graphics  grDevices utils     datasets \n",
      "[8] methods   base     \n",
      "\n",
      "other attached packages:\n",
      " [1] SeuratObject_5.0.0          Seurat_4.4.0               \n",
      " [3] scDblFinder_1.14.0          BiocParallel_1.34.2        \n",
      " [5] scater_1.28.0               ggplot2_3.4.4              \n",
      " [7] scuttle_1.10.1              SingleCellExperiment_1.22.0\n",
      " [9] SummarizedExperiment_1.30.2 Biobase_2.60.0             \n",
      "[11] GenomicRanges_1.52.0        GenomeInfoDb_1.36.1        \n",
      "[13] IRanges_2.34.1              S4Vectors_0.38.1           \n",
      "[15] BiocGenerics_0.46.0         MatrixGenerics_1.12.2      \n",
      "[17] matrixStats_1.1.0          \n",
      "\n",
      "loaded via a namespace (and not attached):\n",
      "  [1] RcppAnnoy_0.0.21          splines_4.3.1            \n",
      "  [3] later_1.3.1               BiocIO_1.10.0            \n",
      "  [5] bitops_1.0-7              tibble_3.2.1             \n",
      "  [7] polyclip_1.10-6           XML_3.99-0.15            \n",
      "  [9] lifecycle_1.0.4           edgeR_3.42.4             \n",
      " [11] globals_0.16.2            lattice_0.22-5           \n",
      " [13] MASS_7.3-60               magrittr_2.0.3           \n",
      " [15] limma_3.56.2              plotly_4.10.3            \n",
      " [17] yaml_2.3.7                metapod_1.8.0            \n",
      " [19] httpuv_1.6.12             sctransform_0.4.1        \n",
      " [21] spam_2.10-0               sp_2.1-1                 \n",
      " [23] spatstat.sparse_3.0-3     reticulate_1.34.0        \n",
      " [25] cowplot_1.1.1             pbapply_1.7-2            \n",
      " [27] RColorBrewer_1.1-3        abind_1.4-5              \n",
      " [29] zlibbioc_1.46.0           Rtsne_0.16               \n",
      " [31] purrr_1.0.2               RCurl_1.98-1.13          \n",
      " [33] GenomeInfoDbData_1.2.10   ggrepel_0.9.4            \n",
      " [35] irlba_2.3.5.1             listenv_0.9.0            \n",
      " [37] spatstat.utils_3.0-4      goftest_1.2-3            \n",
      " [39] spatstat.random_3.2-1     dqrng_0.3.1              \n",
      " [41] fitdistrplus_1.1-11       parallelly_1.36.0        \n",
      " [43] DelayedMatrixStats_1.22.1 leiden_0.4.3.1           \n",
      " [45] codetools_0.2-19          DelayedArray_0.26.6      \n",
      " [47] tidyselect_1.2.0          ScaledMatrix_1.8.1       \n",
      " [49] viridis_0.6.4             spatstat.explore_3.2-5   \n",
      " [51] GenomicAlignments_1.36.0  jsonlite_1.8.7           \n",
      " [53] BiocNeighbors_1.18.0      ellipsis_0.3.2           \n",
      " [55] progressr_0.14.0          ggridges_0.5.4           \n",
      " [57] survival_3.5-7            ica_1.0-3                \n",
      " [59] Rcpp_1.0.11               glue_1.6.2               \n",
      " [61] gridExtra_2.3             dplyr_1.1.4              \n",
      " [63] withr_2.5.2               fastmap_1.1.1            \n",
      " [65] bluster_1.10.0            fansi_1.0.5              \n",
      " [67] digest_0.6.33             rsvd_1.0.5               \n",
      " [69] R6_2.5.1                  mime_0.12                \n",
      " [71] colorspace_2.1-0          scattermore_1.2          \n",
      " [73] tensor_1.5                spatstat.data_3.0-3      \n",
      " [75] utf8_1.2.4                tidyr_1.3.0              \n",
      " [77] generics_0.1.3            data.table_1.14.8        \n",
      " [79] rtracklayer_1.60.0        httr_1.4.7               \n",
      " [81] htmlwidgets_1.6.2         S4Arrays_1.0.4           \n",
      " [83] uwot_0.1.16               pkgconfig_2.0.3          \n",
      " [85] gtable_0.3.4              lmtest_0.9-40            \n",
      " [87] XVector_0.40.0            htmltools_0.5.7          \n",
      " [89] dotCall64_1.1-0           scales_1.2.1             \n",
      " [91] png_0.1-8                 scran_1.28.1             \n",
      " [93] reshape2_1.4.4            rjson_0.2.21             \n",
      " [95] nlme_3.1-163              zoo_1.8-12               \n",
      " [97] stringr_1.5.1             KernSmooth_2.23-22       \n",
      " [99] parallel_4.3.1            miniUI_0.1.1.1           \n",
      "[101] vipor_0.4.5               restfulr_0.0.15          \n",
      "[103] pillar_1.9.0              grid_4.3.1               \n",
      "[105] vctrs_0.6.4               RANN_2.6.1               \n",
      "[107] promises_1.2.1            BiocSingular_1.16.0      \n",
      "[109] beachmat_2.16.0           xtable_1.8-4             \n",
      "[111] cluster_2.1.4             beeswarm_0.4.0           \n",
      "[113] cli_3.6.1                 locfit_1.5-9.8           \n",
      "[115] compiler_4.3.1            Rsamtools_2.16.0         \n",
      "[117] rlang_1.1.2               crayon_1.5.2             \n",
      "[119] future.apply_1.11.0       plyr_1.8.9               \n",
      "[121] ggbeeswarm_0.7.2          stringi_1.8.1            \n",
      "[123] deldir_1.0-9              viridisLite_0.4.2        \n",
      "[125] munsell_0.5.0             Biostrings_2.68.1        \n",
      "[127] lazyeval_0.2.2            spatstat.geom_3.2-7      \n",
      "[129] Matrix_1.6-1.1            patchwork_1.1.3          \n",
      "[131] sparseMatrixStats_1.12.2  future_1.33.0            \n",
      "[133] statmod_1.5.0             shiny_1.8.0              \n",
      "[135] ROCR_1.0-11               igraph_1.5.1             \n",
      "[137] xgboost_1.7.6.1          \n"
     ]
    }
   ],
   "source": [
    "%%R\n",
    "sessionInfo()"
   ]
  },
  {
   "cell_type": "markdown",
   "metadata": {},
   "source": [
    "#### Using empty drop removal adata: according cellbender (filtered output)"
   ]
  },
  {
   "cell_type": "markdown",
   "metadata": {},
   "source": [
    "cellbender output"
   ]
  },
  {
   "cell_type": "code",
   "execution_count": 20,
   "metadata": {},
   "outputs": [
    {
     "name": "stdout",
     "output_type": "stream",
     "text": [
      "Assuming we are loading a \"filtered\" file that contains only cells.\n"
     ]
    },
    {
     "name": "stderr",
     "output_type": "stream",
     "text": [
      "/home/xiliu/.conda/envs/optimus/lib/python3.9/site-packages/anndata/_core/anndata.py:522: FutureWarning: The dtype argument is deprecated and will be removed in late 2024.\n",
      "  warnings.warn(\n"
     ]
    }
   ],
   "source": [
    "adata = anndata_from_h5('/home/xiliu/terraPipelines/scAtlas/tmp/10k_pbmc_v3_out_filtered_cellbenderDefault.h5')"
   ]
  },
  {
   "cell_type": "code",
   "execution_count": 21,
   "metadata": {},
   "outputs": [],
   "source": [
    "data_mat = adata.X.T"
   ]
  },
  {
   "cell_type": "code",
   "execution_count": 22,
   "metadata": {},
   "outputs": [],
   "source": [
    "# Conversion 'py2rpy' not defined for objects of type '<class 'scipy.sparse._csc.csc_matrix'>'\n",
    "data_dense_matrix = data_mat.toarray()"
   ]
  },
  {
   "cell_type": "code",
   "execution_count": 23,
   "metadata": {},
   "outputs": [
    {
     "data": {
      "text/plain": [
       "Creating ~10049 artificial doublets...\n",
       "Dimensional reduction\n",
       "Evaluating kNN...\n",
       "Training model...\n",
       "iter=0, 2376 cells excluded from training.\n",
       "iter=1, 2215 cells excluded from training.\n",
       "iter=2, 2107 cells excluded from training.\n",
       "Threshold found:0.423\n",
       "929 (7.4%) doublets called\n",
       "In addition: Warning message:\n",
       "In .checkSCE(sce) :\n",
       "  Some cells in `sce` have an extremely low read counts; note that these could trigger errors and might best be filtered out\n"
      ]
     },
     "metadata": {},
     "output_type": "display_data"
    }
   ],
   "source": [
    "%%R -i data_dense_matrix -o doublet_score -o doublet_class\n",
    "\n",
    "set.seed(123)\n",
    "sce = scDblFinder(\n",
    "    SingleCellExperiment(\n",
    "        list(counts=data_dense_matrix),\n",
    "    ) \n",
    ")\n",
    "doublet_score = sce$scDblFinder.score\n",
    "doublet_class = sce$scDblFinder.class"
   ]
  },
  {
   "cell_type": "markdown",
   "metadata": {},
   "source": [
    "###### Stability check: seed = 10 => 1025 (8,2%) doublets, seed = 50 => 910 (7.2%) doublets"
   ]
  },
  {
   "cell_type": "markdown",
   "metadata": {},
   "source": [
    "Add doublet detection results to AnnData object in .obs"
   ]
  },
  {
   "cell_type": "code",
   "execution_count": 24,
   "metadata": {},
   "outputs": [
    {
     "data": {
      "text/plain": [
       "scDblFinder_class\n",
       "singlet    11632\n",
       "doublet      929\n",
       "Name: count, dtype: int64"
      ]
     },
     "execution_count": 24,
     "metadata": {},
     "output_type": "execute_result"
    }
   ],
   "source": [
    "adata.obs[\"scDblFinder_score\"] = doublet_score\n",
    "adata.obs[\"scDblFinder_class\"] = doublet_class\n",
    "adata.obs.scDblFinder_class.value_counts()"
   ]
  },
  {
   "cell_type": "code",
   "execution_count": 25,
   "metadata": {},
   "outputs": [],
   "source": [
    "PATH_TO_OUTPUT_CELLBENDER = \"/home/xiliu/terraPipelines/scAtlas/tmp/10k_pbmc_v3_out_filtered_cellbenderDefault_scDblFinder.h5ad\"\n",
    "adata.write_h5ad(PATH_TO_OUTPUT_CELLBENDER)"
   ]
  },
  {
   "cell_type": "markdown",
   "metadata": {},
   "source": [
    "Using empty drop removal adata: EmptyDrop"
   ]
  },
  {
   "cell_type": "code",
   "execution_count": 4,
   "metadata": {},
   "outputs": [
    {
     "name": "stderr",
     "output_type": "stream",
     "text": [
      "/home/xiliu/.conda/envs/optimus/lib/python3.9/site-packages/anndata/_core/anndata.py:1899: UserWarning: Variable names are not unique. To make them unique, call `.var_names_make_unique`.\n",
      "  utils.warn_names_duplicates(\"var\")\n"
     ]
    }
   ],
   "source": [
    "input_h5ad = \"/home/xiliu/terraPipelines/scAtlas/tmp/10k_pbmc_v3.h5ad\"\n",
    "adata_optimus = sc.read_h5ad(input_h5ad)"
   ]
  },
  {
   "cell_type": "code",
   "execution_count": 5,
   "metadata": {},
   "outputs": [
    {
     "name": "stdout",
     "output_type": "stream",
     "text": [
      "11031\n"
     ]
    }
   ],
   "source": [
    "adata_emptydrops = adata_optimus[adata_optimus.obs.emptydrops_IsCell, :]\n",
    "print(adata_emptydrops.obs.shape[0])"
   ]
  },
  {
   "cell_type": "code",
   "execution_count": 6,
   "metadata": {},
   "outputs": [],
   "source": [
    "data_mat_emptydrops = adata_emptydrops.X.T\n",
    "data_dense_matrix_emptydrops = data_mat_emptydrops.toarray()"
   ]
  },
  {
   "cell_type": "code",
   "execution_count": 7,
   "metadata": {},
   "outputs": [
    {
     "data": {
      "text/plain": [
       "Creating ~8825 artificial doublets...\n",
       "Dimensional reduction\n",
       "Evaluating kNN...\n",
       "Training model...\n",
       "iter=0, 1651 cells excluded from training.\n",
       "iter=1, 1608 cells excluded from training.\n",
       "iter=2, 1534 cells excluded from training.\n",
       "Threshold found:0.366\n",
       "927 (8.4%) doublets called\n",
       "In addition: Warning message:\n",
       "In .checkSCE(sce) :\n",
       "  Some cells in `sce` have an extremely low read counts; note that these could trigger errors and might best be filtered out\n"
      ]
     },
     "metadata": {},
     "output_type": "display_data"
    }
   ],
   "source": [
    "%%R -i data_dense_matrix_emptydrops -o doublet_score_emptydrops -o doublet_class_emptydrops\n",
    "\n",
    "set.seed(123)\n",
    "sce_emptydrops = scDblFinder(\n",
    "    SingleCellExperiment(\n",
    "        list(counts=data_dense_matrix_emptydrops),\n",
    "    ) \n",
    ")\n",
    "doublet_score_emptydrops = sce_emptydrops$scDblFinder.score\n",
    "doublet_class_emptydrops = sce_emptydrops$scDblFinder.class"
   ]
  },
  {
   "cell_type": "code",
   "execution_count": 8,
   "metadata": {},
   "outputs": [
    {
     "name": "stderr",
     "output_type": "stream",
     "text": [
      "/tmp/ipykernel_20078/2921475152.py:1: ImplicitModificationWarning: Trying to modify attribute `.obs` of view, initializing view as actual.\n",
      "  adata_emptydrops.obs[\"scDblFinder_score\"] = doublet_score_emptydrops\n",
      "/home/xiliu/.conda/envs/optimus/lib/python3.9/site-packages/anndata/_core/anndata.py:1899: UserWarning: Variable names are not unique. To make them unique, call `.var_names_make_unique`.\n",
      "  utils.warn_names_duplicates(\"var\")\n"
     ]
    },
    {
     "data": {
      "text/plain": [
       "scDblFinder_class\n",
       "singlet    10104\n",
       "doublet      927\n",
       "Name: count, dtype: int64"
      ]
     },
     "execution_count": 8,
     "metadata": {},
     "output_type": "execute_result"
    }
   ],
   "source": [
    "adata_emptydrops.obs[\"scDblFinder_score\"] = doublet_score_emptydrops\n",
    "adata_emptydrops.obs[\"scDblFinder_class\"] = doublet_class_emptydrops\n",
    "adata_emptydrops.obs.scDblFinder_class.value_counts()"
   ]
  },
  {
   "cell_type": "code",
   "execution_count": 9,
   "metadata": {},
   "outputs": [],
   "source": [
    "PATH_TO_OUTPUT_EMPTYDROP = \"/home/xiliu/terraPipelines/scAtlas/tmp/10k_pbmc_v3_emptydrop_scDblFinder.h5ad\"\n",
    "adata_emptydrops.write_h5ad(PATH_TO_OUTPUT_EMPTYDROP)"
   ]
  },
  {
   "cell_type": "markdown",
   "metadata": {},
   "source": [
    "#### Overlap between doublets detected using CellBender and EmptyDrop's empty droplets removal"
   ]
  },
  {
   "cell_type": "code",
   "execution_count": 26,
   "metadata": {},
   "outputs": [
    {
     "name": "stdout",
     "output_type": "stream",
     "text": [
      "12561\n",
      "929\n"
     ]
    },
    {
     "name": "stderr",
     "output_type": "stream",
     "text": [
      "/home/xiliu/.conda/envs/optimus/lib/python3.9/site-packages/anndata/_core/anndata.py:1899: UserWarning: Variable names are not unique. To make them unique, call `.var_names_make_unique`.\n",
      "  utils.warn_names_duplicates(\"var\")\n"
     ]
    }
   ],
   "source": [
    "adata_cellbender = sc.read_h5ad(PATH_TO_OUTPUT_CELLBENDER)\n",
    "cellbender_BC = adata_cellbender.obs.index.to_list()\n",
    "cellbender_BC_doublet = adata_cellbender.obs[adata_cellbender.obs[\"scDblFinder_class\"] == \"doublet\"].index.to_list()\n",
    "print(len(cellbender_BC))\n",
    "print(len(cellbender_BC_doublet))"
   ]
  },
  {
   "cell_type": "code",
   "execution_count": 30,
   "metadata": {},
   "outputs": [
    {
     "name": "stdout",
     "output_type": "stream",
     "text": [
      "11031\n",
      "927\n"
     ]
    },
    {
     "name": "stderr",
     "output_type": "stream",
     "text": [
      "/home/xiliu/.conda/envs/optimus/lib/python3.9/site-packages/anndata/_core/anndata.py:1899: UserWarning: Variable names are not unique. To make them unique, call `.var_names_make_unique`.\n",
      "  utils.warn_names_duplicates(\"var\")\n"
     ]
    }
   ],
   "source": [
    "adata_emptydrops = sc.read_h5ad(PATH_TO_OUTPUT_EMPTYDROP)\n",
    "emptydrops_BC = adata_emptydrops.obs.index.to_list()\n",
    "emptydrops_BC_doublet = adata_emptydrops.obs[adata_emptydrops.obs[\"scDblFinder_class\"] == \"doublet\"].index.to_list()\n",
    "print(len(emptydrops_BC))\n",
    "print(len(emptydrops_BC_doublet))"
   ]
  },
  {
   "cell_type": "code",
   "execution_count": 28,
   "metadata": {},
   "outputs": [
    {
     "name": "stdout",
     "output_type": "stream",
     "text": [
      "10772\n"
     ]
    }
   ],
   "source": [
    "# Common barcodes between cellbender and emptyDrops cell calling\n",
    "cellbender_emptydrops_BC = set(cellbender_BC).intersection(emptydrops_BC)\n",
    "print(len(cellbender_emptydrops_BC))"
   ]
  },
  {
   "cell_type": "code",
   "execution_count": 29,
   "metadata": {},
   "outputs": [
    {
     "name": "stdout",
     "output_type": "stream",
     "text": [
      "the common doublets identified from both cellbender and emptydrops cell calling: 815\n"
     ]
    }
   ],
   "source": [
    "# doublet overlapping of the common barcodes\n",
    "common_cellbender_BC_doublet = [i for i in cellbender_BC_doublet if i in cellbender_emptydrops_BC]\n",
    "common_emptydrops_BC_doublet = [i for i in emptydrops_BC_doublet if i in cellbender_emptydrops_BC]\n",
    "common_doublet = set(common_cellbender_BC_doublet).intersection(common_emptydrops_BC_doublet)\n",
    "print(f'the common doublets identified from both cellbender and emptydrops cell calling: {len(common_doublet)}')"
   ]
  }
 ],
 "metadata": {
  "kernelspec": {
   "display_name": "bulk",
   "language": "python",
   "name": "python3"
  },
  "language_info": {
   "codemirror_mode": {
    "name": "ipython",
    "version": 3
   },
   "file_extension": ".py",
   "mimetype": "text/x-python",
   "name": "python",
   "nbconvert_exporter": "python",
   "pygments_lexer": "ipython3",
   "version": "3.9.17"
  },
  "orig_nbformat": 4
 },
 "nbformat": 4,
 "nbformat_minor": 2
}
