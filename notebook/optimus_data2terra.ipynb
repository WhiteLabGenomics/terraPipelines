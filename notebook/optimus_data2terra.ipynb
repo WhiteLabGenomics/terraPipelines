{
 "cells": [
  {
   "cell_type": "markdown",
   "metadata": {},
   "source": [
    "### Uploading input to terra"
   ]
  },
  {
   "cell_type": "code",
   "execution_count": 3,
   "metadata": {},
   "outputs": [],
   "source": [
    "%load_ext autoreload\n",
    "%autoreload 2"
   ]
  },
  {
   "cell_type": "code",
   "execution_count": 2,
   "metadata": {},
   "outputs": [],
   "source": [
    "from basicAtlas import terra"
   ]
  },
  {
   "cell_type": "code",
   "execution_count": 1,
   "metadata": {},
   "outputs": [],
   "source": [
    "# Variables definition\n",
    "GCP_BUCKET=\"gs://whitelabgx-references\"\n",
    "GCP_FOLDER_NAME=\"resources/pbmc_10k_10X_v3\"\n",
    "TERRA_WS = 'whitelabgx/scRNAseq'\n",
    "PROJECT=\"optimus_V6.0.0_wlg\""
   ]
  },
  {
   "cell_type": "markdown",
   "metadata": {},
   "source": [
    "> To use this function, you need to:\n",
    "> 1. Create an account on the [terra.bio](http://terra.bio/) platform.\n",
    "> 2. Set up a GCP (Google Cloud Platform) project and bucket.\n",
    "> 3. Grant user permissions (The email used for the Terra.bio account) on the GCP.\n",
    "> 4. Authenticate with the gcloud CLI before calling the function. You can use the following command line: gcloud auth application-default login for reauthentication.\n",
    ">\n",
    "> In this function, dm.WorkspaceManager(workspace) manages the access flow between the user's Terra email and GCP. Therefore, the login credentials are based on GCP authentication."
   ]
  },
  {
   "cell_type": "code",
   "execution_count": 6,
   "metadata": {},
   "outputs": [
    {
     "name": "stdout",
     "output_type": "stream",
     "text": [
      "please be sure you gave access to your terra email account access to this bucket\n"
     ]
    },
    {
     "data": {
      "text/html": [
       "<div>\n",
       "<style scoped>\n",
       "    .dataframe tbody tr th:only-of-type {\n",
       "        vertical-align: middle;\n",
       "    }\n",
       "\n",
       "    .dataframe tbody tr th {\n",
       "        vertical-align: top;\n",
       "    }\n",
       "\n",
       "    .dataframe thead th {\n",
       "        text-align: right;\n",
       "    }\n",
       "</style>\n",
       "<table border=\"1\" class=\"dataframe\">\n",
       "  <thead>\n",
       "    <tr style=\"text-align: right;\">\n",
       "      <th></th>\n",
       "      <th>r1_fastq</th>\n",
       "      <th>r2_fastq</th>\n",
       "      <th>i1_fastq</th>\n",
       "      <th>Source</th>\n",
       "      <th>participant</th>\n",
       "    </tr>\n",
       "    <tr>\n",
       "      <th>sample_id</th>\n",
       "      <th></th>\n",
       "      <th></th>\n",
       "      <th></th>\n",
       "      <th></th>\n",
       "      <th></th>\n",
       "    </tr>\n",
       "  </thead>\n",
       "  <tbody>\n",
       "    <tr>\n",
       "      <th>pbmc_10k_v3_S1_L001</th>\n",
       "      <td>gs://whitelabgx-references/resources/pbmc_10k_...</td>\n",
       "      <td>gs://whitelabgx-references/resources/pbmc_10k_...</td>\n",
       "      <td>gs://whitelabgx-references/resources/pbmc_10k_...</td>\n",
       "      <td>U</td>\n",
       "      <td>pbmc_10k_v3_S1</td>\n",
       "    </tr>\n",
       "    <tr>\n",
       "      <th>pbmc_10k_v3_S1_L002</th>\n",
       "      <td>gs://whitelabgx-references/resources/pbmc_10k_...</td>\n",
       "      <td>gs://whitelabgx-references/resources/pbmc_10k_...</td>\n",
       "      <td>gs://whitelabgx-references/resources/pbmc_10k_...</td>\n",
       "      <td>U</td>\n",
       "      <td>pbmc_10k_v3_S1</td>\n",
       "    </tr>\n",
       "  </tbody>\n",
       "</table>\n",
       "</div>"
      ],
      "text/plain": [
       "                                                              r1_fastq  \\\n",
       "sample_id                                                                \n",
       "pbmc_10k_v3_S1_L001  gs://whitelabgx-references/resources/pbmc_10k_...   \n",
       "pbmc_10k_v3_S1_L002  gs://whitelabgx-references/resources/pbmc_10k_...   \n",
       "\n",
       "                                                              r2_fastq  \\\n",
       "sample_id                                                                \n",
       "pbmc_10k_v3_S1_L001  gs://whitelabgx-references/resources/pbmc_10k_...   \n",
       "pbmc_10k_v3_S1_L002  gs://whitelabgx-references/resources/pbmc_10k_...   \n",
       "\n",
       "                                                              i1_fastq Source  \\\n",
       "sample_id                                                                       \n",
       "pbmc_10k_v3_S1_L001  gs://whitelabgx-references/resources/pbmc_10k_...      U   \n",
       "pbmc_10k_v3_S1_L002  gs://whitelabgx-references/resources/pbmc_10k_...      U   \n",
       "\n",
       "                        participant  \n",
       "sample_id                            \n",
       "pbmc_10k_v3_S1_L001  pbmc_10k_v3_S1  \n",
       "pbmc_10k_v3_S1_L002  pbmc_10k_v3_S1  "
      ]
     },
     "execution_count": 6,
     "metadata": {},
     "output_type": "execute_result"
    }
   ],
   "source": [
    "# Uploaded samples in google bucket associated with terra workspace\n",
    "terra.uploadFromFolder_10x(GCP_BUCKET + '/' + GCP_FOLDER_NAME + '/',\n",
    "                           TERRA_WS,\n",
    "                           samplesetname=PROJECT,\n",
    "                           fformat=\"fastqR1R2\",\n",
    "                           sep='_00|_00',\n",
    "                           loc =0,\n",
    "                           test=True) # test=True to test the function after upload successfully of the files to terra"
   ]
  }
 ],
 "metadata": {
  "kernelspec": {
   "display_name": "bulk",
   "language": "python",
   "name": "bulk"
  },
  "language_info": {
   "codemirror_mode": {
    "name": "ipython",
    "version": 3
   },
   "file_extension": ".py",
   "mimetype": "text/x-python",
   "name": "python",
   "nbconvert_exporter": "python",
   "pygments_lexer": "ipython3",
   "version": "3.9.17"
  },
  "orig_nbformat": 4
 },
 "nbformat": 4,
 "nbformat_minor": 2
}
